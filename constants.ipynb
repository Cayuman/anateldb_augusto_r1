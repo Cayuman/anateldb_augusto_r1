{
 "cells": [
  {
   "cell_type": "code",
   "execution_count": null,
   "id": "16ba531c",
   "metadata": {},
   "outputs": [],
   "source": [
    "#default_exp constants"
   ]
  },
  {
   "cell_type": "markdown",
   "id": "63408a0a",
   "metadata": {},
   "source": [
    "# Constants\n",
    "> Este módulo somente armazena as várias constantes utilizadas nos demais módulos"
   ]
  },
  {
   "cell_type": "code",
   "execution_count": null,
   "id": "00bf0e03",
   "metadata": {},
   "outputs": [],
   "source": [
    "#export\n",
    "from rich.console import Console\n",
    "\n",
    "console = Console()"
   ]
  },
  {
   "cell_type": "markdown",
   "id": "03b87531",
   "metadata": {},
   "source": [
    "## Banco de Dados"
   ]
  },
  {
   "cell_type": "code",
   "execution_count": null,
   "id": "ff102e0d",
   "metadata": {},
   "outputs": [],
   "source": [
    "#export\n",
    "ESTADOS = [\n",
    "    \"AC\",\n",
    "    \"AL\",\n",
    "    \"AP\",\n",
    "    \"AM\",\n",
    "    \"BA\",\n",
    "    \"CE\",\n",
    "    \"ES\",\n",
    "    \"GO\",\n",
    "    \"MA\",\n",
    "    \"MT\",\n",
    "    \"MS\",\n",
    "    \"MG\",\n",
    "    \"PA\",\n",
    "    \"PB\",\n",
    "    \"PR\",\n",
    "    \"PE\",\n",
    "    \"PI\",\n",
    "    \"RJ\",\n",
    "    \"RN\",\n",
    "    \"RS\",\n",
    "    \"RO\",\n",
    "    \"RR\",\n",
    "    \"SC\",\n",
    "    \"SP\",\n",
    "    \"SE\",\n",
    "    \"TO\",\n",
    "    \"DF\",\n",
    "]\n",
    "\n",
    "SIGLAS = {\n",
    "    \"Acre\": \"AC\",\n",
    "    \"Alagoas\": \"AL\",\n",
    "    \"Amapá\": \"AP\",\n",
    "    \"Amazonas\": \"AM\",\n",
    "    \"Bahia\": \"BA\",\n",
    "    \"Ceará\": \"CE\",\n",
    "    \"Espírito Santo\": \"ES\",\n",
    "    \"Goiás\": \"GO\",\n",
    "    \"Maranhão\": \"MA\",\n",
    "    \"Mato Grosso\": \"MT\",\n",
    "    \"Mato Grosso do Sul\": \"MS\",\n",
    "    \"Minas Gerais\": \"MG\",\n",
    "    \"Pará\": \"PA\",\n",
    "    \"Paraíba\": \"PB\",\n",
    "    \"Paraná\": \"PR\",\n",
    "    \"Pernambuco\": \"PE\",\n",
    "    \"Piauí\": \"PI\",\n",
    "    \"Rio de Janeiro\": \"RJ\",\n",
    "    \"Rio Grande do Norte\": \"RN\",\n",
    "    \"Rio Grande do Sul\": \"RS\",\n",
    "    \"Rondônia\": \"RO\",\n",
    "    \"Roraima\": \"RR\",\n",
    "    \"Santa Catarina\": \"SC\",\n",
    "    \"São Paulo\": \"SP\",\n",
    "    \"Sergipe\": \"SE\",\n",
    "    \"Tocantins\": \"TO\",\n",
    "    \"Distrito Federal\": \"DF\",\n",
    "}\n",
    "\n",
    "REGEX_ESTADOS = f'({\"|\".join(ESTADOS)})'"
   ]
  },
  {
   "cell_type": "code",
   "execution_count": null,
   "id": "7385116c",
   "metadata": {},
   "outputs": [
    {
     "name": "stdout",
     "output_type": "stream",
     "text": [
      "Converted constants.ipynb.\n",
      "Converted filter.ipynb.\n",
      "Converted index.ipynb.\n",
      "Converted queries.ipynb.\n"
     ]
    }
   ],
   "source": [
    "from nbdev.export import notebook2script\n",
    "notebook2script()"
   ]
  }
 ],
 "metadata": {
  "kernelspec": {
   "display_name": "Python [conda env:anateldb]",
   "language": "python",
   "name": "conda-env-anateldb-py"
  }
 },
 "nbformat": 4,
 "nbformat_minor": 5
}
