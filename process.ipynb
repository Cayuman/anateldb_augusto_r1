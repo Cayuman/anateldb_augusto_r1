{
 "cells": [
  {
   "cell_type": "code",
   "execution_count": null,
   "metadata": {},
   "outputs": [],
   "source": [
    "import pandas as pd"
   ]
  }
 ],
 "metadata": {
  "kernelspec": {
   "display_name": "Python [conda env:scraping]",
   "language": "python",
   "name": "conda-env-scraping-py"
  }
 },
 "nbformat": 4,
 "nbformat_minor": 4
}
