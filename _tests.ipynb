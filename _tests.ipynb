{
 "cells": [
  {
   "cell_type": "code",
   "execution_count": null,
   "id": "2b1b3bd9",
   "metadata": {},
   "outputs": [],
   "source": [
    "#default_exp tests\n",
    "%load_ext autoreload\n",
    "%autoreload 2"
   ]
  },
  {
   "cell_type": "markdown",
   "id": "10ca0ea7",
   "metadata": {},
   "source": [
    "# Tests\n",
    "> Rotinas para testes simples da biblioteca"
   ]
  },
  {
   "cell_type": "code",
   "execution_count": null,
   "id": "df25e08a",
   "metadata": {},
   "outputs": [],
   "source": [
    "#export\n",
    "from anateldb.query import *\n",
    "from anateldb.parser import *\n",
    "from anateldb.filter import *\n",
    "from anateldb.redmine import *\n",
    "from pathlib import Path"
   ]
  },
  {
   "cell_type": "code",
   "execution_count": null,
   "id": "71c8b3d4",
   "metadata": {},
   "outputs": [],
   "source": [
    "filter_database(Path.cwd())"
   ]
  },
  {
   "cell_type": "code",
   "execution_count": null,
   "id": "34d416f7",
   "metadata": {},
   "outputs": [
    {
     "name": "stdin",
     "output_type": "stream",
     "text": [
      " ··········\n"
     ]
    }
   ],
   "source": [
    "#local\n",
    "import getpass\n",
    "USR = getpass.getuser()\n",
    "PWD = getpass.getpass()"
   ]
  },
  {
   "cell_type": "code",
   "execution_count": null,
   "id": "82c7b711",
   "metadata": {},
   "outputs": [],
   "source": [
    "fiscaliza = auth_user(USR, PWD)"
   ]
  },
  {
   "cell_type": "code",
   "execution_count": null,
   "id": "833fbaa5",
   "metadata": {},
   "outputs": [],
   "source": [
    "validate_datadict('data.json', '52919', fiscaliza)"
   ]
  },
  {
   "cell_type": "code",
   "execution_count": null,
   "id": "47b49442",
   "metadata": {},
   "outputs": [
    {
     "data": {
      "text/html": [
       "<pre style=\"white-space:pre;overflow-x:auto;line-height:normal;font-family:Menlo,'DejaVu Sans Mono',consolas,'Courier New',monospace\"><span style=\"color: #008000; text-decoration-color: #008000; font-weight: bold\">Usuário Autenticado com Sucesso 👍</span>\n",
       "</pre>\n"
      ],
      "text/plain": [
       "\u001b[1;32mUsuário Autenticado com Sucesso 👍\u001b[0m\n"
      ]
     },
     "metadata": {},
     "output_type": "display_data"
    },
    {
     "data": {
      "text/html": [
       "<pre style=\"white-space:pre;overflow-x:auto;line-height:normal;font-family:Menlo,'DejaVu Sans Mono',consolas,'Courier New',monospace\">❗ O número de inspeção inserido <span style=\"color: #008080; text-decoration-color: #008080; font-weight: bold\">52876</span> corresponde a uma <span style=\"color: #800000; text-decoration-color: #800000; font-weight: bold\">Ação</span> ❗\n",
       "</pre>\n"
      ],
      "text/plain": [
       "❗ O número de inspeção inserido \u001b[1;36m52876\u001b[0m corresponde a uma \u001b[1;31mAção\u001b[0m ❗\n"
      ]
     },
     "metadata": {},
     "output_type": "display_data"
    }
   ],
   "source": [
    "relatar_inspecao(USR, PWD, '52919', d)"
   ]
  },
  {
   "cell_type": "markdown",
   "id": "e1f4c3e1",
   "metadata": {},
   "source": [
    "## Testes"
   ]
  },
  {
   "cell_type": "code",
   "execution_count": null,
   "id": "232f3dea",
   "metadata": {},
   "outputs": [],
   "source": [
    "d = defaultdict(str)\n",
    "f = partialler(validate_datadict, d)\n",
    "test_eq(f(), d)"
   ]
  },
  {
   "cell_type": "code",
   "execution_count": null,
   "id": "928b1153",
   "metadata": {},
   "outputs": [],
   "source": [
    "d = [('Servidor', 'Ronaldo')]\n",
    "with ExceptionExpected(ex=AssertionError, regex='É esperado um dicionário'):\n",
    "    validate_datadict(d)"
   ]
  },
  {
   "cell_type": "code",
   "execution_count": null,
   "id": "8dce11e0",
   "metadata": {},
   "outputs": [],
   "source": [
    "d = {}\n",
    "d['Servidor'] = 'Ronaldo'\n",
    "with ExceptionExpected(ex=ValueError, regex='As chaves seguintes são desconhecidas'):\n",
    "    validate_datadict(d)"
   ]
  },
  {
   "cell_type": "code",
   "execution_count": null,
   "id": "74a4729c",
   "metadata": {},
   "outputs": [],
   "source": [
    "with ExceptionExpected(ex=ValueError):\n",
    "    validate_datadict({'Classe da Inspeção': 'Outorga'})"
   ]
  },
  {
   "cell_type": "code",
   "execution_count": null,
   "id": "7d332257",
   "metadata": {},
   "outputs": [],
   "source": [
    "with ExceptionExpected(ex=TypeError):\n",
    "    validate_datadict({'Classe da Inspeção': ['Técnica']})\n",
    "    validate_datadict({'Classe da Inspeção': 12})"
   ]
  },
  {
   "cell_type": "markdown",
   "id": "14398701",
   "metadata": {},
   "source": [
    "### Mostrar resumo da Ação à partir da Inspeção"
   ]
  },
  {
   "cell_type": "code",
   "execution_count": null,
   "id": "f7734198",
   "metadata": {},
   "outputs": [],
   "source": [
    "#hide\n",
    "insp2acao(INSP, fiscaliza)"
   ]
  },
  {
   "cell_type": "code",
   "execution_count": null,
   "id": "5af8bbce",
   "metadata": {},
   "outputs": [],
   "source": [
    "detalhar_inspecao(INSP, fiscaliza)"
   ]
  },
  {
   "cell_type": "code",
   "execution_count": null,
   "id": "0c80258f",
   "metadata": {},
   "outputs": [],
   "source": []
  }
 ],
 "metadata": {
  "kernelspec": {
   "display_name": "Python [conda env:anateldb]",
   "language": "python",
   "name": "conda-env-anateldb-py"
  }
 },
 "nbformat": 4,
 "nbformat_minor": 5
}
