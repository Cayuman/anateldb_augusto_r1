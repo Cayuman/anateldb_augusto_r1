{
 "cells": [
  {
   "cell_type": "code",
   "execution_count": null,
   "id": "93197008",
   "metadata": {},
   "outputs": [],
   "source": [
    "%load_ext autoreload\n",
    "%autoreload 2"
   ]
  },
  {
   "cell_type": "code",
   "execution_count": null,
   "id": "5ea2f221",
   "metadata": {},
   "outputs": [],
   "source": [
    "from datetime import datetime\n",
    "from pathlib import Path\n",
    "import pandas as pd\n",
    "import pandas_read_xml as pdx\n",
    "from pandas_profiling import ProfileReport\n",
    "from anateldb.parser import *\n",
    "from anateldb.query import *"
   ]
  },
  {
   "cell_type": "code",
   "execution_count": null,
   "id": "473c9fa7",
   "metadata": {},
   "outputs": [],
   "source": [
    "SIGLAS = {\"Acre\" : \"AC\",\n",
    "          \"Alagoas\" : \"AL\",\n",
    "          \"Amapá\": \"AP\",\n",
    "          \"Amazonas\":\"AM\",\n",
    "          \"Bahia\":\"BA\",\n",
    "          \"Ceará\":\"CE\",\n",
    "          \"Espírito Santo\":\"ES\",\n",
    "          \"Goiás\":\"GO\",\n",
    "          \"Maranhão\":\"MA\",\n",
    "          \"Mato Grosso\":\"MT\",\n",
    "          \"Mato Grosso do Sul\":\"MS\",\n",
    "          \"Minas Gerais\": \"MG\",\n",
    "          \"Pará\": \"PA\",\n",
    "          \"Paraíba\":\"PB\",\n",
    "          \"Paraná\":\"PR\",\n",
    "          \"Pernambuco\":\"PE\",\n",
    "          \"Piauí\":\"PI\",\n",
    "          \"Rio de Janeiro\":\"RJ\",\n",
    "          \"Rio Grande do Norte\":\"RN\",\n",
    "          \"Rio Grande do Sul\":\"RS\",\n",
    "          \"Rondônia\":\"RO\",\n",
    "          \"Roraima\":\"RR\",\n",
    "          \"Santa Catarina\":\"SC\",\n",
    "          \"São Paulo\":\"SP\",\n",
    "          \"Sergipe\":\"SE\",\n",
    "          \"Tocantins\":\"TO\",\n",
    "          \"Distrito Federal\":\"DF\"}"
   ]
  },
  {
   "cell_type": "code",
   "execution_count": null,
   "id": "690ea64c",
   "metadata": {},
   "outputs": [
    {
     "data": {
      "text/html": [
       "<div>\n",
       "<style scoped>\n",
       "    .dataframe tbody tr th:only-of-type {\n",
       "        vertical-align: middle;\n",
       "    }\n",
       "\n",
       "    .dataframe tbody tr th {\n",
       "        vertical-align: top;\n",
       "    }\n",
       "\n",
       "    .dataframe thead th {\n",
       "        text-align: right;\n",
       "    }\n",
       "</style>\n",
       "<table border=\"1\" class=\"dataframe\">\n",
       "  <thead>\n",
       "    <tr style=\"text-align: right;\">\n",
       "      <th></th>\n",
       "      <th>Serviço</th>\n",
       "      <th>Status</th>\n",
       "      <th>Entidade</th>\n",
       "      <th>Fistel</th>\n",
       "      <th>Município</th>\n",
       "      <th>UF</th>\n",
       "      <th>Id</th>\n",
       "      <th>CNPJ</th>\n",
       "      <th>Frequência</th>\n",
       "      <th>Classe</th>\n",
       "      <th>Latitude</th>\n",
       "      <th>Longitude</th>\n",
       "      <th>Canal</th>\n",
       "      <th>País</th>\n",
       "    </tr>\n",
       "  </thead>\n",
       "  <tbody>\n",
       "    <tr>\n",
       "      <th>79895</th>\n",
       "      <td>RTVD</td>\n",
       "      <td>TV-L9</td>\n",
       "      <td>TELEVISAO CENTRO AMERICA LTDA</td>\n",
       "      <td>50415260361</td>\n",
       "      <td>Barra do Garças</td>\n",
       "      <td>MT</td>\n",
       "      <td>60788db82eb35</td>\n",
       "      <td>03476876000105</td>\n",
       "      <td>605</td>\n",
       "      <td>C</td>\n",
       "      <td>-15,8804</td>\n",
       "      <td>-52,264</td>\n",
       "      <td>36</td>\n",
       "      <td>BRA</td>\n",
       "    </tr>\n",
       "    <tr>\n",
       "      <th>79896</th>\n",
       "      <td>RTVD</td>\n",
       "      <td>TV-L21</td>\n",
       "      <td>RADIO E TV PORTOVISÃO LTDA</td>\n",
       "      <td>50416192394</td>\n",
       "      <td>Garibaldi</td>\n",
       "      <td>RS</td>\n",
       "      <td>60788dc532c1b</td>\n",
       "      <td>87209250000114</td>\n",
       "      <td>581</td>\n",
       "      <td>C</td>\n",
       "      <td>-29,259</td>\n",
       "      <td>-51,5352</td>\n",
       "      <td>32</td>\n",
       "      <td>BRA</td>\n",
       "    </tr>\n",
       "    <tr>\n",
       "      <th>79897</th>\n",
       "      <td>RTV</td>\n",
       "      <td>TV-L21</td>\n",
       "      <td>TV NEWS - CANAL BRASILEIRO DE COMUNICACAO LTDA</td>\n",
       "      <td>50411694545</td>\n",
       "      <td>Montes Claros</td>\n",
       "      <td>MG</td>\n",
       "      <td>60789444f10ea</td>\n",
       "      <td>17962660000156</td>\n",
       "      <td>689</td>\n",
       "      <td>C</td>\n",
       "      <td>-16,73667</td>\n",
       "      <td>-43,85056</td>\n",
       "      <td>50</td>\n",
       "      <td>BRA</td>\n",
       "    </tr>\n",
       "    <tr>\n",
       "      <th>79898</th>\n",
       "      <td>RTV</td>\n",
       "      <td>TV-L21</td>\n",
       "      <td>TELEVISAO SOCIEDADE LIMITADA</td>\n",
       "      <td>50411667068</td>\n",
       "      <td>Abaeté</td>\n",
       "      <td>MG</td>\n",
       "      <td>6078b2257cc75</td>\n",
       "      <td>25288333000199</td>\n",
       "      <td>189</td>\n",
       "      <td>C</td>\n",
       "      <td>-19,16</td>\n",
       "      <td>-45,445833333333</td>\n",
       "      <td>9</td>\n",
       "      <td>BRA</td>\n",
       "    </tr>\n",
       "    <tr>\n",
       "      <th>79899</th>\n",
       "      <td>RTV</td>\n",
       "      <td>TV-L12</td>\n",
       "      <td>TELEVISAO CACHOEIRA DO SUL LTDA</td>\n",
       "      <td>50400813750</td>\n",
       "      <td>Ouro Fino</td>\n",
       "      <td>MG</td>\n",
       "      <td>6078ddfa7fce5</td>\n",
       "      <td>89784037000161</td>\n",
       "      <td>57</td>\n",
       "      <td>C</td>\n",
       "      <td>&lt;NA&gt;</td>\n",
       "      <td>&lt;NA&gt;</td>\n",
       "      <td>2</td>\n",
       "      <td>BRA</td>\n",
       "    </tr>\n",
       "  </tbody>\n",
       "</table>\n",
       "</div>"
      ],
      "text/plain": [
       "      Serviço  Status                                          Entidade  \\\n",
       "79895    RTVD   TV-L9                     TELEVISAO CENTRO AMERICA LTDA   \n",
       "79896    RTVD  TV-L21                        RADIO E TV PORTOVISÃO LTDA   \n",
       "79897     RTV  TV-L21  TV NEWS - CANAL BRASILEIRO DE COMUNICACAO LTDA     \n",
       "79898     RTV  TV-L21                      TELEVISAO SOCIEDADE LIMITADA   \n",
       "79899     RTV  TV-L12                   TELEVISAO CACHOEIRA DO SUL LTDA   \n",
       "\n",
       "            Fistel        Município  UF             Id            CNPJ  \\\n",
       "79895  50415260361  Barra do Garças  MT  60788db82eb35  03476876000105   \n",
       "79896  50416192394        Garibaldi  RS  60788dc532c1b  87209250000114   \n",
       "79897  50411694545    Montes Claros  MG  60789444f10ea  17962660000156   \n",
       "79898  50411667068           Abaeté  MG  6078b2257cc75  25288333000199   \n",
       "79899  50400813750        Ouro Fino  MG  6078ddfa7fce5  89784037000161   \n",
       "\n",
       "      Frequência Classe   Latitude         Longitude Canal País  \n",
       "79895        605      C   -15,8804           -52,264    36  BRA  \n",
       "79896        581      C    -29,259          -51,5352    32  BRA  \n",
       "79897        689      C  -16,73667         -43,85056    50  BRA  \n",
       "79898        189      C     -19,16  -45,445833333333     9  BRA  \n",
       "79899         57      C       <NA>              <NA>     2  BRA  "
      ]
     },
     "execution_count": null,
     "metadata": {},
     "output_type": "execute_result"
    }
   ],
   "source": [
    "pb = read_plano_basico('D:\\OneDrive - ANATEL\\GR01FI3\\BaseDados\\plano_basico.zip')\n",
    "pb.tail()"
   ]
  },
  {
   "cell_type": "code",
   "execution_count": null,
   "id": "51b7d347",
   "metadata": {},
   "outputs": [],
   "source": [
    "# pb_profile = ProfileReport(pb, minimal=True, dark_mode=True, title='Perfil Plano Básico - Mosaico')\n",
    "# pb_profile"
   ]
  },
  {
   "cell_type": "code",
   "execution_count": null,
   "id": "4115315a",
   "metadata": {},
   "outputs": [
    {
     "data": {
      "text/html": [
       "<div>\n",
       "<style scoped>\n",
       "    .dataframe tbody tr th:only-of-type {\n",
       "        vertical-align: middle;\n",
       "    }\n",
       "\n",
       "    .dataframe tbody tr th {\n",
       "        vertical-align: top;\n",
       "    }\n",
       "\n",
       "    .dataframe thead th {\n",
       "        text-align: right;\n",
       "    }\n",
       "</style>\n",
       "<table border=\"1\" class=\"dataframe\">\n",
       "  <thead>\n",
       "    <tr style=\"text-align: right;\">\n",
       "      <th></th>\n",
       "      <th>Serviço</th>\n",
       "      <th>Status</th>\n",
       "      <th>Entidade</th>\n",
       "      <th>Fistel</th>\n",
       "      <th>Município</th>\n",
       "      <th>UF</th>\n",
       "      <th>Id</th>\n",
       "      <th>Número da Estação</th>\n",
       "      <th>CNPJ</th>\n",
       "    </tr>\n",
       "  </thead>\n",
       "  <tbody>\n",
       "    <tr>\n",
       "      <th>28048</th>\n",
       "      <td>RTVD</td>\n",
       "      <td>TV-C2</td>\n",
       "      <td>FUNDACAO EDUCACIONAL E CULTURAL DE IPANEMA</td>\n",
       "      <td>50433856696</td>\n",
       "      <td>Sabará</td>\n",
       "      <td>MG</td>\n",
       "      <td>5f32c1c918e6b</td>\n",
       "      <td></td>\n",
       "      <td>04608796000110</td>\n",
       "    </tr>\n",
       "    <tr>\n",
       "      <th>28049</th>\n",
       "      <td>FM</td>\n",
       "      <td>FM-C2</td>\n",
       "      <td>EMPRESA PAULISTA DE RADIODIFUSAO LTDA</td>\n",
       "      <td>50437944611</td>\n",
       "      <td>Regente Feijó</td>\n",
       "      <td>SP</td>\n",
       "      <td>5f36a03433642</td>\n",
       "      <td></td>\n",
       "      <td>44872109000194</td>\n",
       "    </tr>\n",
       "    <tr>\n",
       "      <th>28050</th>\n",
       "      <td>FM</td>\n",
       "      <td>FM-C2</td>\n",
       "      <td>RADIO ITAPIRANGA LTDA</td>\n",
       "      <td>50433860456</td>\n",
       "      <td>Itapiranga</td>\n",
       "      <td>SC</td>\n",
       "      <td>5f68d432841a5</td>\n",
       "      <td></td>\n",
       "      <td>84375872000124</td>\n",
       "    </tr>\n",
       "    <tr>\n",
       "      <th>28051</th>\n",
       "      <td>FM</td>\n",
       "      <td>FM-C1</td>\n",
       "      <td>EMISSORAS SUL BRASILEIRAS LTDA</td>\n",
       "      <td>50433937009</td>\n",
       "      <td>Horizontina</td>\n",
       "      <td>RS</td>\n",
       "      <td>5f8dcc96f23f9</td>\n",
       "      <td></td>\n",
       "      <td>95818506000119</td>\n",
       "    </tr>\n",
       "    <tr>\n",
       "      <th>28052</th>\n",
       "      <td>FM</td>\n",
       "      <td>FM-C4</td>\n",
       "      <td>VIP RADIO E TELEVISAO LTDA</td>\n",
       "      <td>02030455644</td>\n",
       "      <td>Itanhaém</td>\n",
       "      <td>SP</td>\n",
       "      <td>6094de98db4d9</td>\n",
       "      <td>9156232</td>\n",
       "      <td>67751495000161</td>\n",
       "    </tr>\n",
       "  </tbody>\n",
       "</table>\n",
       "</div>"
      ],
      "text/plain": [
       "      Serviço Status                                    Entidade       Fistel  \\\n",
       "28048    RTVD  TV-C2  FUNDACAO EDUCACIONAL E CULTURAL DE IPANEMA  50433856696   \n",
       "28049      FM  FM-C2       EMPRESA PAULISTA DE RADIODIFUSAO LTDA  50437944611   \n",
       "28050      FM  FM-C2                       RADIO ITAPIRANGA LTDA  50433860456   \n",
       "28051      FM  FM-C1              EMISSORAS SUL BRASILEIRAS LTDA  50433937009   \n",
       "28052      FM  FM-C4                  VIP RADIO E TELEVISAO LTDA  02030455644   \n",
       "\n",
       "           Município  UF             Id Número da Estação            CNPJ  \n",
       "28048         Sabará  MG  5f32c1c918e6b                    04608796000110  \n",
       "28049  Regente Feijó  SP  5f36a03433642                    44872109000194  \n",
       "28050     Itapiranga  SC  5f68d432841a5                    84375872000124  \n",
       "28051    Horizontina  RS  5f8dcc96f23f9                    95818506000119  \n",
       "28052       Itanhaém  SP  6094de98db4d9           9156232  67751495000161  "
      ]
     },
     "execution_count": null,
     "metadata": {},
     "output_type": "execute_result"
    }
   ],
   "source": [
    "es = read_estações('D:\\OneDrive - ANATEL\\GR01FI3\\BaseDados\\estações.zip')\n",
    "es.tail()"
   ]
  },
  {
   "cell_type": "code",
   "execution_count": null,
   "id": "f08527a1",
   "metadata": {},
   "outputs": [],
   "source": [
    "# es_profile = ProfileReport(es, minimal=True, dark_mode=True, title='Perfil Estações - Mosaico')\n",
    "# es_profile"
   ]
  },
  {
   "cell_type": "code",
   "execution_count": null,
   "id": "518bce86",
   "metadata": {},
   "outputs": [
    {
     "data": {
      "text/plain": [
       "(82539, 22)"
      ]
     },
     "execution_count": null,
     "metadata": {},
     "output_type": "execute_result"
    }
   ],
   "source": [
    "RIGHT = ['@id', '@fistel', '@SiglaServico', '@state']\n",
    "LEFT = ['@id', '@Fistel', '@Servico', '@Status']\n",
    "ON = ['Id', 'Fistel', 'Serviço', 'Status']\n",
    "df = pb.merge(es, on='Id', how='outer') #.drop(RIGHT, axis=1)\n",
    "df.shape"
   ]
  },
  {
   "cell_type": "code",
   "execution_count": null,
   "id": "9bd1fa19",
   "metadata": {},
   "outputs": [],
   "source": [
    "COLS = ['Serviço', 'Status', 'Entidade', 'Fistel', 'Município', 'UF', 'CNPJ']\n",
    "for col in COLS:\n",
    "    col_x = col + '_x'\n",
    "    col_y = col + '_y'\n",
    "    if df[col_x].count() > df[col_y].count():\n",
    "        a,b = col_x, col_y\n",
    "    else:\n",
    "        a,b = col_y, col_x\n",
    "        \n",
    "    df.loc[df[a].isna(), a] = df.loc[df[a].isna(), b]\n",
    "    df.drop(b, axis=1, inplace=True)\n",
    "    df.rename({a: a[:-2]}, axis=1, inplace=True)\n",
    "df = df[df.Frequência.notna()].reset_index(drop=True)\n"
   ]
  },
  {
   "cell_type": "code",
   "execution_count": null,
   "id": "5c457096",
   "metadata": {},
   "outputs": [],
   "source": [
    "m = pd.read_excel('D:\\OneDrive - ANATEL\\GR01FI3\\BaseDados\\municípios.xlsx')"
   ]
  },
  {
   "cell_type": "code",
   "execution_count": null,
   "id": "19559f46",
   "metadata": {},
   "outputs": [],
   "source": [
    "df['Coordenadas_do_Município'] = False"
   ]
  },
  {
   "cell_type": "code",
   "execution_count": null,
   "id": "0bf9bcdc",
   "metadata": {},
   "outputs": [
    {
     "ename": "UnicodeEncodeError",
     "evalue": "'ascii' codec can't encode character '\\xe3' in position 1: ordinal not in range(128)",
     "output_type": "error",
     "traceback": [
      "\u001b[1;31m---------------------------------------------------------------------------\u001b[0m",
      "\u001b[1;31mUnicodeEncodeError\u001b[0m                        Traceback (most recent call last)",
      "\u001b[1;32m<ipython-input-11-6a5d95c7ddc7>\u001b[0m in \u001b[0;36m<module>\u001b[1;34m\u001b[0m\n\u001b[1;32m----> 1\u001b[1;33m \u001b[1;34m\"São Paulo\"\u001b[0m\u001b[1;33m.\u001b[0m\u001b[0mencode\u001b[0m\u001b[1;33m(\u001b[0m\u001b[1;34m'ascii'\u001b[0m\u001b[1;33m)\u001b[0m\u001b[1;33m\u001b[0m\u001b[1;33m\u001b[0m\u001b[0m\n\u001b[0m",
      "\u001b[1;31mUnicodeEncodeError\u001b[0m: 'ascii' codec can't encode character '\\xe3' in position 1: ordinal not in range(128)"
     ]
    }
   ],
   "source": [
    "\"São Paulo\".encode('ascii')"
   ]
  },
  {
   "cell_type": "code",
   "execution_count": null,
   "id": "4027b2a3",
   "metadata": {},
   "outputs": [],
   "source": [
    "df = df[df.País == 'BRA'].reset_index(drop=True)\n",
    "df['Latitude'] = df.Latitude.str.replace(',', '.')\n",
    "df['Longitude'] = df.Longitude.str.replace(',', '.')\n",
    "df['Frequência'] = df.Frequência.str.replace(',', '.')"
   ]
  },
  {
   "cell_type": "code",
   "execution_count": null,
   "id": "a795b94f",
   "metadata": {},
   "outputs": [],
   "source": [
    "m['Município'] = m.Município.apply(lambda x: ''.join(e for e in x if e.isalnum()))"
   ]
  },
  {
   "cell_type": "code",
   "execution_count": null,
   "id": "9f78474a",
   "metadata": {},
   "outputs": [
    {
     "data": {
      "application/vnd.jupyter.widget-view+json": {
       "model_id": "99596cc8e54d44d2be956335593c402b",
       "version_major": 2,
       "version_minor": 0
      },
      "text/plain": [
       "0it [00:00, ?it/s]"
      ]
     },
     "metadata": {},
     "output_type": "display_data"
    }
   ],
   "source": [
    "from tqdm.auto import tqdm\n",
    "for row in tqdm(df[df.Latitude.isna()].itertuples()):\n",
    "    left = ''.join(e for e in row.Município if e.isalnum())\n",
    "    df.loc[row.Index, ['Latitude', 'Longitude']] = m.loc[(m.Município == left) & (m.UF == row.UF), ['Latitude', 'Longitude']].values.flatten().tolist()    \n",
    "    df.loc[row.Index, 'Coordenadas_do_Município'] = True\n",
    "df['Latitude'] = df.Latitude.astype('float')\n",
    "df['Longitude'] = df.Longitude.astype('float')\n",
    "df['Frequência'] = df.Frequência.astype('float')"
   ]
  },
  {
   "cell_type": "code",
   "execution_count": null,
   "id": "81f78480",
   "metadata": {},
   "outputs": [
    {
     "data": {
      "text/plain": [
       "'Olho d Água das Cunhãs'"
      ]
     },
     "execution_count": null,
     "metadata": {},
     "output_type": "execute_result"
    }
   ],
   "source": [
    "row.Município"
   ]
  },
  {
   "cell_type": "code",
   "execution_count": null,
   "id": "b038e7b7",
   "metadata": {},
   "outputs": [],
   "source": [
    "m.loc[(m.Município == row.Município) & (m.UF == row.UF), ['Latitude', 'Longitude']].values.flatten().tolist()"
   ]
  },
  {
   "cell_type": "code",
   "execution_count": null,
   "id": "78c334fd",
   "metadata": {},
   "outputs": [],
   "source": [
    "m[m.Município.str.contains('Cunhãs')]"
   ]
  },
  {
   "cell_type": "code",
   "execution_count": null,
   "id": "91195a6b",
   "metadata": {},
   "outputs": [],
   "source": [
    "# from geopy.geocoders import Nominatim\n",
    "# from geopy import *\n",
    "# geolocator = Nominatim(user_agent='anateldb')\n",
    "\n",
    "# for row in tqdm(df[df.Município.isna()].itertuples()):\n",
    "#     loc = geolocator.reverse((row.Latitude,row.Longitude))\n",
    "#     df.loc[row.Index, 'UF'] = SIGLAS[loc.raw.get('address').get('state')]\n",
    "#     df.loc[row.Index, 'Município'] = loc.raw.get('address').get('town')\n",
    "    \n",
    "#     elif not loc:\n",
    "#         df.loc[row.Index, 'UF'] = row.País\n",
    "#         df.loc[row.Index, 'Município'] = row.País            \n",
    "#     else:\n",
    "#         if (address := loc.raw.get('address')):\n",
    "#             if uf := address.get('state'):\n",
    "#                 df.loc[row.Index, 'UF'] = uf\n",
    "#             else:\n",
    "#                 df.loc[row.Index, 'UF'] = row.País\n",
    "#             if cidade := address.get('city'):\n",
    "#                 df.loc[row.Index, 'Município'] = cidade\n",
    "#             else:\n",
    "#                 df.loc[row.Index, 'Município'] = row.País            "
   ]
  },
  {
   "cell_type": "code",
   "execution_count": null,
   "id": "9a57d227",
   "metadata": {},
   "outputs": [],
   "source": [
    "# merge_profile = ProfileReport(df, minimal=True, dark_mode=True, title='Perfil Estações + Plano Básico - Mosaico')\n",
    "# merge_profile"
   ]
  },
  {
   "cell_type": "code",
   "execution_count": null,
   "id": "538fdab6",
   "metadata": {},
   "outputs": [],
   "source": [
    "df.to_feather('D:\\OneDrive - ANATEL\\GR01FI3\\BaseDados\\mosaico.fth')"
   ]
  },
  {
   "cell_type": "code",
   "execution_count": null,
   "id": "b7e85158",
   "metadata": {},
   "outputs": [],
   "source": [
    "df = pd.read_feather('D:\\OneDrive - ANATEL\\GR01FI3\\BaseDados\\mosaico.fth')"
   ]
  },
  {
   "cell_type": "code",
   "execution_count": null,
   "id": "6e6625f7",
   "metadata": {},
   "outputs": [],
   "source": [
    "df.Serviço.unique()"
   ]
  },
  {
   "cell_type": "code",
   "execution_count": null,
   "id": "115ae72d",
   "metadata": {},
   "outputs": [],
   "source": [
    "# profile = ProfileReport(df, minimal=True, dark_mode=True, title='Perfil Mosaico')\n",
    "# profile"
   ]
  },
  {
   "cell_type": "code",
   "execution_count": null,
   "id": "3dbc0380",
   "metadata": {},
   "outputs": [],
   "source": [
    "radcom = read_radcom('D:\\OneDrive - ANATEL\\GR01FI3\\BaseDados')"
   ]
  },
  {
   "cell_type": "code",
   "execution_count": null,
   "id": "90aa7198",
   "metadata": {},
   "outputs": [],
   "source": [
    "radcom.head()"
   ]
  },
  {
   "cell_type": "code",
   "execution_count": null,
   "id": "1563803f",
   "metadata": {},
   "outputs": [],
   "source": [
    "radcom['Serviço'] = '231'\n",
    "radcom['Status'] = 'RADCOM'\n",
    "radcom['Classe'] = radcom.Fase.str.strip() + '-' + radcom.Situação.str.strip()\n",
    "radcom['Entidade'] = radcom.Entidade.str.rstrip().str.lstrip()"
   ]
  },
  {
   "cell_type": "code",
   "execution_count": null,
   "id": "4be0d340",
   "metadata": {},
   "outputs": [],
   "source": [
    "rd = df.append(radcom).sort_values(\"Frequência\").reset_index(drop=True) ; rd.tail()"
   ]
  },
  {
   "cell_type": "code",
   "execution_count": null,
   "id": "c9e771f1",
   "metadata": {},
   "outputs": [],
   "source": [
    "rd.loc[rd.Status.str.contains('AM'), 'Frequência'] = rd.loc[rd.Status.str.contains('AM'), 'Frequência'] / 1000 ; rd.loc[rd.Status.str.contains('AM'), 'Frequência'].head()"
   ]
  },
  {
   "cell_type": "code",
   "execution_count": null,
   "id": "580ed45c",
   "metadata": {},
   "outputs": [],
   "source": [
    "rd = rd.fillna('-') ; rd.tail()"
   ]
  },
  {
   "cell_type": "code",
   "execution_count": null,
   "id": "0b48c8c1",
   "metadata": {},
   "outputs": [],
   "source": [
    "rd.shape"
   ]
  },
  {
   "cell_type": "code",
   "execution_count": null,
   "id": "1a1b70c6",
   "metadata": {},
   "outputs": [],
   "source": [
    "df = pd.DataFrame(columns=rd.columns)\n",
    "for s in ['C1', 'C2', 'C3', 'C4', 'C7', 'RADCOM']:\n",
    "    df = df.append(rd[rd.Status.str.contains(s)])\n",
    "df = df.reset_index(drop=True); df.shape"
   ]
  },
  {
   "cell_type": "code",
   "execution_count": null,
   "id": "1ca07f81",
   "metadata": {},
   "outputs": [],
   "source": [
    "rd = df"
   ]
  },
  {
   "cell_type": "code",
   "execution_count": null,
   "id": "6cbfbd40",
   "metadata": {},
   "outputs": [],
   "source": [
    "rd['Description'] = rd.Status + ', ' + rd.Classe + ', ' + rd.Entidade.str.title() + ' (' + \\\n",
    "                                rd.Fistel.astype('str') + ', ' + rd['Número da Estação'].astype('str') + '), ' + rd.Município + '/' + \\\n",
    "                                rd.UF"
   ]
  },
  {
   "cell_type": "code",
   "execution_count": null,
   "id": "64c9732b",
   "metadata": {},
   "outputs": [],
   "source": [
    "rd.loc[rd.Coordenadas_do_Município == True, 'Description'] = rd.loc[rd.Coordenadas_do_Município == True, 'Description'] + '*'"
   ]
  },
  {
   "cell_type": "code",
   "execution_count": null,
   "id": "bfb0ac84",
   "metadata": {},
   "outputs": [],
   "source": [
    "rd.head()"
   ]
  },
  {
   "cell_type": "code",
   "execution_count": null,
   "id": "5322741b",
   "metadata": {},
   "outputs": [],
   "source": [
    "exp = rd[['Frequência', 'Latitude', 'Longitude', 'Description']].copy()\n",
    "exp.columns = ['Frequency', 'Latitude', 'Longitude', 'Description']"
   ]
  },
  {
   "cell_type": "code",
   "execution_count": null,
   "id": "3e1e0915",
   "metadata": {},
   "outputs": [],
   "source": [
    "stel = read_stel('D:\\OneDrive - ANATEL\\GR01FI3\\BaseDados').sort_values('Frequência').loc[:, TELECOM]"
   ]
  },
  {
   "cell_type": "code",
   "execution_count": null,
   "id": "1a6da1bf",
   "metadata": {},
   "outputs": [],
   "source": [
    "stel.Serviço.unique()"
   ]
  },
  {
   "cell_type": "code",
   "execution_count": null,
   "id": "da856e7b",
   "metadata": {},
   "outputs": [],
   "source": [
    "slma = (stel.Frequência >= 108) & (stel.Frequência <= 137)\n",
    "telecom = stel[~slma].reset_index(drop=True)\n",
    "slma = stel[slma].reset_index(drop=True)"
   ]
  },
  {
   "cell_type": "code",
   "execution_count": null,
   "id": "13a3111f",
   "metadata": {},
   "outputs": [],
   "source": [
    "slma['Description'] = slma.Serviço + ', ' + slma.Entidade.str.title() + ' (' + slma.Fistel.astype('str') + ', ' +  slma['Número da Estação'].astype('str') + '), ' + \\\n",
    "                        slma['Município'] + '/' + slma.UF\n",
    "telecom['Description'] = telecom.Serviço + ', ' + telecom.Entidade.str.title() + ' (' + telecom.Fistel.astype('str') + ', ' + telecom['Número da Estação'].astype('str') + '), ' + \\\n",
    "                           telecom['Município'] + '/' + telecom.UF"
   ]
  },
  {
   "cell_type": "code",
   "execution_count": null,
   "id": "5d6034cc",
   "metadata": {},
   "outputs": [],
   "source": [
    "slma = slma[['Frequência', 'Latitude', 'Longitude', 'Description']]\n",
    "slma.columns = ['Frequency', 'Latitude', 'Longitude', 'Description']"
   ]
  },
  {
   "cell_type": "code",
   "execution_count": null,
   "id": "22999d7d",
   "metadata": {},
   "outputs": [],
   "source": [
    "telecom = telecom[['Frequência', 'Latitude', 'Longitude', 'Description']]\n",
    "telecom.columns = ['Frequency', 'Latitude', 'Longitude', 'Description']"
   ]
  },
  {
   "cell_type": "code",
   "execution_count": null,
   "id": "09ce6a8e",
   "metadata": {},
   "outputs": [],
   "source": [
    "exp = exp.sort_values('Frequency')"
   ]
  },
  {
   "cell_type": "code",
   "execution_count": null,
   "id": "2b647e9b",
   "metadata": {},
   "outputs": [],
   "source": [
    "sub = {' Da ': ' da ', ' De ': ' de ', ' Do ': ' do ',\n",
    "       ' Das ': ' das ', ' Dos ': ' dos ', ' E ': ' e '}"
   ]
  },
  {
   "cell_type": "code",
   "execution_count": null,
   "id": "ad7beedb",
   "metadata": {},
   "outputs": [],
   "source": [
    "for k,v in sub.items():\n",
    "    exp['Description'] = exp.Description.str.replace(k,v)\n",
    "    slma['Description'] = slma.Description.str.replace(k,v)\n",
    "    telecom['Description'] = telecom.Description.str.replace(k,v)\n",
    "    "
   ]
  },
  {
   "cell_type": "code",
   "execution_count": null,
   "id": "1f33a98c",
   "metadata": {},
   "outputs": [],
   "source": [
    "exp['Description'] = exp.Description.str.replace('\\s{2,}', ' ', regex=True)\n",
    "slma['Description'] = slma.Description.str.replace('\\s{2,}', ' ', regex=True)\n",
    "telecom['Description'] = telecom.Description.str.replace('\\s{2,}', ' ', regex=True)    "
   ]
  },
  {
   "cell_type": "code",
   "execution_count": null,
   "id": "763f93d0",
   "metadata": {},
   "outputs": [],
   "source": [
    "dest = r'D:\\OneDrive - ANATEL\\GR01FI3\\BaseDados\\FiltroAppAnalise'\n",
    "\n",
    "for p in Path(dest).iterdir():\n",
    "    p.unlink()\n",
    "\n",
    "time = datetime.today().strftime(\"%Y%m%d_T%H%M%S\")\n",
    "\n",
    "with pd.ExcelWriter(f'{dest}/AnatelDB_{time}.xlsx') as workbook:\n",
    "    exp.to_excel(workbook, sheet_name='Sheet1', index=False)\n",
    "    slma.to_excel(workbook, sheet_name='Sheet2', index=False)\n",
    "    telecom.to_excel(workbook, sheet_name='Sheet3', index=False)"
   ]
  },
  {
   "cell_type": "code",
   "execution_count": null,
   "id": "a7d3c3dc",
   "metadata": {},
   "outputs": [],
   "source": [
    "rd.groupby('Status').count()['Serviço'].sort_values(ascending=False)"
   ]
  },
  {
   "cell_type": "code",
   "execution_count": null,
   "id": "7c9f92f4",
   "metadata": {},
   "outputs": [],
   "source": [
    "# from tqdm.notebook import tqdm\n",
    "# geolocator = Nominatim(user_agent='anateldb')\n",
    "\n",
    "# from geopy.extra.rate_limiter import RateLimiter\n",
    "# geocode = RateLimiter(geolocator.reverse, min_delay_seconds=1)\n",
    "\n",
    "# def info_from_coord(row):\n",
    "#     loc = geocode((row.Latitude,row.Longitude))\n",
    "#     if not hasattr(loc, 'raw'):\n",
    "#         return row.País, row.País\n",
    "#     if (address := loc.raw.get('address')):\n",
    "#         if not (uf := address.get('state')): \n",
    "#             uf = row.País             \n",
    "#         if not (cidade := address.get('city')):\n",
    "#             if not (cidade := address.get('town')):\n",
    "#                 cidade = row.País\n",
    "#         return cidade, uf\n",
    "#     return row.País, row.País"
   ]
  }
 ],
 "metadata": {
  "kernelspec": {
   "display_name": "Python [conda env:anateldb]",
   "language": "python",
   "name": "conda-env-anateldb-py"
  }
 },
 "nbformat": 4,
 "nbformat_minor": 5
}
