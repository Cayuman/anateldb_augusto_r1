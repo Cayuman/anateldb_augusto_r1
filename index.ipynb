{
 "cells": [
  {
   "cell_type": "code",
   "execution_count": null,
   "metadata": {},
   "outputs": [],
   "source": [
    "#hide\n",
    "%load_ext autoreload\n",
    "%autoreload 2"
   ]
  },
  {
   "cell_type": "markdown",
   "metadata": {},
   "source": [
    "# Anatel - Consulta e Processamento do Banco de Dados\n",
    "\n",
    "> Este repositório concentra um conjunto de scripts para navegar e baixar informações dos principais bancos de dados da Anatel. Cujo dados serão utilizados em tarefas fiscalizatórias. O público alvo são os servidores do órgão, uma vez que a maioria dos sistemas utilizados aqui necessitam de autenticação cujo acesso é restrito aos servidores da ANATEL."
   ]
  },
  {
   "cell_type": "markdown",
   "metadata": {},
   "source": [
    "## Instalação"
   ]
  },
  {
   "cell_type": "markdown",
   "metadata": {},
   "source": [
    "`pip install anateldb`"
   ]
  },
  {
   "cell_type": "markdown",
   "metadata": {},
   "source": [
    "## Como utilizar"
   ]
  },
  {
   "cell_type": "markdown",
   "metadata": {},
   "source": [
    "### Métodos para baixar / atualizar os arquivos das bases de dados"
   ]
  },
  {
   "cell_type": "code",
   "execution_count": null,
   "metadata": {},
   "outputs": [],
   "source": [
    "from anateldb.query import update_mosaico, update_radcom, update_stel"
   ]
  },
  {
   "cell_type": "markdown",
   "metadata": {},
   "source": [
    "A função seguinta baixa os dados diretamente da interface pública online do [Spectrum E](http://sistemas.anatel.gov.br/se/public/view/b/srd.php) "
   ]
  },
  {
   "cell_type": "code",
   "execution_count": null,
   "metadata": {},
   "outputs": [
    {
     "name": "stdout",
     "output_type": "stream",
     "text": [
      "Baixando as Estações do Mosaico...\n",
      "Baixando o Plano Básico das Estações...\n",
      "Baixando o Histórico de Atualizações...\n",
      "Kbô\n",
      "Wall time: 8.12 s\n"
     ]
    }
   ],
   "source": [
    "%%time\n",
    "update_mosaico(pasta='D:\\OneDrive - ANATEL\\GR01FI3\\BaseDados')"
   ]
  },
  {
   "cell_type": "code",
   "execution_count": null,
   "metadata": {},
   "outputs": [
    {
     "name": "stdout",
     "output_type": "stream",
     "text": [
      "Lendo o Banco de Dados de Radcom\n",
      "Wall time: 1 s\n"
     ]
    }
   ],
   "source": [
    "%%time\n",
    "update_radcom('D:\\OneDrive - ANATEL\\GR01FI3\\BaseDados')"
   ]
  },
  {
   "cell_type": "markdown",
   "metadata": {},
   "source": [
    "A função `update_stel` é bem mais lenta que as demais, dado que o banco de dados do STEL é antigo e abarca todos os registros de outorga de serviços de telecomunicações da ANATEL, com mais de **400.000** registros ativos. Esse banco de dados é atualizado 1 vez ao dia à meia-noite e remete ao estado do dia anterior, portanto não faz sentido atualizá-lo mais de 1 vez por dia."
   ]
  },
  {
   "cell_type": "code",
   "execution_count": null,
   "metadata": {},
   "outputs": [
    {
     "name": "stdout",
     "output_type": "stream",
     "text": [
      "Lendo o Banco de Dados do STEL. Processo Lento, aguarde...\n",
      "Wall time: 38.5 s\n"
     ]
    }
   ],
   "source": [
    "%%time\n",
    "update_stel('D:\\OneDrive - ANATEL\\GR01FI3\\BaseDados')"
   ]
  },
  {
   "cell_type": "markdown",
   "metadata": {},
   "source": [
    "### Métodos para ler as Bases de Dados"
   ]
  },
  {
   "cell_type": "code",
   "execution_count": null,
   "metadata": {},
   "outputs": [
    {
     "data": {
      "text/html": [
       "<div>\n",
       "<style scoped>\n",
       "    .dataframe tbody tr th:only-of-type {\n",
       "        vertical-align: middle;\n",
       "    }\n",
       "\n",
       "    .dataframe tbody tr th {\n",
       "        vertical-align: top;\n",
       "    }\n",
       "\n",
       "    .dataframe thead th {\n",
       "        text-align: right;\n",
       "    }\n",
       "</style>\n",
       "<table border=\"1\" class=\"dataframe\">\n",
       "  <thead>\n",
       "    <tr style=\"text-align: right;\">\n",
       "      <th></th>\n",
       "      <th>Frequência</th>\n",
       "      <th>Unidade</th>\n",
       "      <th>Latitude</th>\n",
       "      <th>Longitude</th>\n",
       "      <th>Fase</th>\n",
       "      <th>Situação</th>\n",
       "      <th>Numero da Estação</th>\n",
       "      <th>CNPJ</th>\n",
       "      <th>Fistel</th>\n",
       "      <th>Entidade</th>\n",
       "      <th>Município</th>\n",
       "      <th>UF</th>\n",
       "    </tr>\n",
       "  </thead>\n",
       "  <tbody>\n",
       "    <tr>\n",
       "      <th>0</th>\n",
       "      <td>104.9</td>\n",
       "      <td>MHz</td>\n",
       "      <td>-24.861389</td>\n",
       "      <td>-54.334722</td>\n",
       "      <td>3</td>\n",
       "      <td>A</td>\n",
       "      <td>641168764</td>\n",
       "      <td>00104477000117</td>\n",
       "      <td>50011685115</td>\n",
       "      <td>ACADEMIA CULTURAL DE SANTA HELENA - ACULT - ST...</td>\n",
       "      <td>Santa Helena</td>\n",
       "      <td>PR</td>\n",
       "    </tr>\n",
       "    <tr>\n",
       "      <th>1</th>\n",
       "      <td>87.9</td>\n",
       "      <td>MHz</td>\n",
       "      <td>-7.074444</td>\n",
       "      <td>-36.731111</td>\n",
       "      <td>3</td>\n",
       "      <td>M</td>\n",
       "      <td>682699349</td>\n",
       "      <td>00284576000128</td>\n",
       "      <td>50012524409</td>\n",
       "      <td>ASSOCIACAO DOS MORADORES E PRODUT. RURAIS DE A...</td>\n",
       "      <td>Assunção</td>\n",
       "      <td>PB</td>\n",
       "    </tr>\n",
       "    <tr>\n",
       "      <th>2</th>\n",
       "      <td>87.9</td>\n",
       "      <td>MHz</td>\n",
       "      <td>-20.323611</td>\n",
       "      <td>-44.246944</td>\n",
       "      <td>3</td>\n",
       "      <td>H</td>\n",
       "      <td>659028590</td>\n",
       "      <td>00575697000129</td>\n",
       "      <td>50011824689</td>\n",
       "      <td>ASSOCIACAO BONFIM ESPERANCA- ABESPE</td>\n",
       "      <td>Bonfim</td>\n",
       "      <td>MG</td>\n",
       "    </tr>\n",
       "    <tr>\n",
       "      <th>3</th>\n",
       "      <td>104.9</td>\n",
       "      <td>MHz</td>\n",
       "      <td>-18.843611</td>\n",
       "      <td>-46.792778</td>\n",
       "      <td>3</td>\n",
       "      <td>B</td>\n",
       "      <td>631410937</td>\n",
       "      <td>00792795000118</td>\n",
       "      <td>50011398132</td>\n",
       "      <td>ASSOCIACAO DOS TRABALHADORES DE GUIMARANIA (ATG)</td>\n",
       "      <td>Guimarânia</td>\n",
       "      <td>MG</td>\n",
       "    </tr>\n",
       "    <tr>\n",
       "      <th>4</th>\n",
       "      <td>87.9</td>\n",
       "      <td>MHz</td>\n",
       "      <td>-19.466667</td>\n",
       "      <td>-45.600000</td>\n",
       "      <td>3</td>\n",
       "      <td>M</td>\n",
       "      <td>631412301</td>\n",
       "      <td>00794510000188</td>\n",
       "      <td>50011398990</td>\n",
       "      <td>FUNDACAO ASSISTENCIAL LAR DA PAZ - FALP</td>\n",
       "      <td>Dores do Indaiá</td>\n",
       "      <td>MG</td>\n",
       "    </tr>\n",
       "  </tbody>\n",
       "</table>\n",
       "</div>"
      ],
      "text/plain": [
       "   Frequência Unidade   Latitude  Longitude Fase Situação  Numero da Estação  \\\n",
       "0       104.9     MHz -24.861389 -54.334722   3         A          641168764   \n",
       "1        87.9     MHz  -7.074444 -36.731111   3         M          682699349   \n",
       "2        87.9     MHz -20.323611 -44.246944   3         H          659028590   \n",
       "3       104.9     MHz -18.843611 -46.792778   3         B          631410937   \n",
       "4        87.9     MHz -19.466667 -45.600000   3         M          631412301   \n",
       "\n",
       "             CNPJ       Fistel  \\\n",
       "0  00104477000117  50011685115   \n",
       "1  00284576000128  50012524409   \n",
       "2  00575697000129  50011824689   \n",
       "3  00792795000118  50011398132   \n",
       "4  00794510000188  50011398990   \n",
       "\n",
       "                                            Entidade        Município  UF  \n",
       "0  ACADEMIA CULTURAL DE SANTA HELENA - ACULT - ST...     Santa Helena  PR  \n",
       "1  ASSOCIACAO DOS MORADORES E PRODUT. RURAIS DE A...         Assunção  PB  \n",
       "2                ASSOCIACAO BONFIM ESPERANCA- ABESPE           Bonfim  MG  \n",
       "3   ASSOCIACAO DOS TRABALHADORES DE GUIMARANIA (ATG)       Guimarânia  MG  \n",
       "4            FUNDACAO ASSISTENCIAL LAR DA PAZ - FALP  Dores do Indaiá  MG  "
      ]
     },
     "execution_count": null,
     "metadata": {},
     "output_type": "execute_result"
    }
   ],
   "source": [
    "from anateldb.parser import read_radcom, read_stel, read_mosaico\n",
    "radcom = read_radcom(pasta='D:\\OneDrive - ANATEL\\GR01FI3\\BaseDados') ; radcom.head()"
   ]
  },
  {
   "cell_type": "markdown",
   "metadata": {},
   "source": [
    "Se o argumento `update=True` for fornecido ou arquivo local não existir, a base de dados é atualizada por meio da função `update_radcom`. \n",
    "> Warning: A função `update_radcom` somente irá funcionar caso o PC estiver plugado na rede interna cabeada da Anatel."
   ]
  },
  {
   "cell_type": "code",
   "execution_count": null,
   "metadata": {},
   "outputs": [
    {
     "name": "stdout",
     "output_type": "stream",
     "text": [
      "Lendo o Banco de Dados de Radcom\n"
     ]
    },
    {
     "data": {
      "text/html": [
       "<div>\n",
       "<style scoped>\n",
       "    .dataframe tbody tr th:only-of-type {\n",
       "        vertical-align: middle;\n",
       "    }\n",
       "\n",
       "    .dataframe tbody tr th {\n",
       "        vertical-align: top;\n",
       "    }\n",
       "\n",
       "    .dataframe thead th {\n",
       "        text-align: right;\n",
       "    }\n",
       "</style>\n",
       "<table border=\"1\" class=\"dataframe\">\n",
       "  <thead>\n",
       "    <tr style=\"text-align: right;\">\n",
       "      <th></th>\n",
       "      <th>Frequência</th>\n",
       "      <th>Unidade</th>\n",
       "      <th>Latitude</th>\n",
       "      <th>Longitude</th>\n",
       "      <th>Fase</th>\n",
       "      <th>Situação</th>\n",
       "      <th>Numero da Estação</th>\n",
       "      <th>CNPJ</th>\n",
       "      <th>Fistel</th>\n",
       "      <th>Entidade</th>\n",
       "      <th>Município</th>\n",
       "      <th>UF</th>\n",
       "    </tr>\n",
       "  </thead>\n",
       "  <tbody>\n",
       "    <tr>\n",
       "      <th>4639</th>\n",
       "      <td>87.9</td>\n",
       "      <td>MHz</td>\n",
       "      <td>-10.311667</td>\n",
       "      <td>-48.162222</td>\n",
       "      <td>1</td>\n",
       "      <td>K</td>\n",
       "      <td>1011036964</td>\n",
       "      <td>08931976000190</td>\n",
       "      <td>50411347829</td>\n",
       "      <td>ASSOCIACAO AMIGOS DA CULTURA E DO MEIO AMBIENT...</td>\n",
       "      <td>Palmas</td>\n",
       "      <td>TO</td>\n",
       "    </tr>\n",
       "    <tr>\n",
       "      <th>4640</th>\n",
       "      <td>104.9</td>\n",
       "      <td>MHz</td>\n",
       "      <td>-10.005000</td>\n",
       "      <td>-48.988889</td>\n",
       "      <td>1</td>\n",
       "      <td>A</td>\n",
       "      <td>1011037472</td>\n",
       "      <td>19001721000144</td>\n",
       "      <td>50416345301</td>\n",
       "      <td>ASSOCIACAO RADIO COMUNITARIA MONTE SANTO FM</td>\n",
       "      <td>Monte Santo do Tocantins</td>\n",
       "      <td>TO</td>\n",
       "    </tr>\n",
       "    <tr>\n",
       "      <th>4641</th>\n",
       "      <td>104.9</td>\n",
       "      <td>MHz</td>\n",
       "      <td>-5.586389</td>\n",
       "      <td>-48.061111</td>\n",
       "      <td>P</td>\n",
       "      <td>M</td>\n",
       "      <td>1011044797</td>\n",
       "      <td>19332116000156</td>\n",
       "      <td>50416480004</td>\n",
       "      <td>ASSOCIACAO RADIO COMUNITARIA TOP FM</td>\n",
       "      <td>Araguatins</td>\n",
       "      <td>TO</td>\n",
       "    </tr>\n",
       "    <tr>\n",
       "      <th>4642</th>\n",
       "      <td>98.3</td>\n",
       "      <td>MHz</td>\n",
       "      <td>-28.682222</td>\n",
       "      <td>-53.610278</td>\n",
       "      <td>2</td>\n",
       "      <td>K</td>\n",
       "      <td>1011044940</td>\n",
       "      <td>97538346000180</td>\n",
       "      <td>50416390609</td>\n",
       "      <td>ASSOCIACAO DE RADIODIFUSAO CIDADE DE CRUZ ALTA</td>\n",
       "      <td>Cruz Alta</td>\n",
       "      <td>RS</td>\n",
       "    </tr>\n",
       "    <tr>\n",
       "      <th>4643</th>\n",
       "      <td>104.9</td>\n",
       "      <td>MHz</td>\n",
       "      <td>-6.594722</td>\n",
       "      <td>-35.055278</td>\n",
       "      <td>1</td>\n",
       "      <td>K</td>\n",
       "      <td>1011110250</td>\n",
       "      <td>10877144000184</td>\n",
       "      <td>50411382063</td>\n",
       "      <td>ASSOCIAÇÃO DE DESENVOLVIMENTO CULTURAL DA RÁDI...</td>\n",
       "      <td>Mataraca</td>\n",
       "      <td>PB</td>\n",
       "    </tr>\n",
       "  </tbody>\n",
       "</table>\n",
       "</div>"
      ],
      "text/plain": [
       "      Frequência Unidade   Latitude  Longitude Fase Situação  \\\n",
       "4639        87.9     MHz -10.311667 -48.162222   1         K   \n",
       "4640       104.9     MHz -10.005000 -48.988889   1         A   \n",
       "4641       104.9     MHz  -5.586389 -48.061111   P         M   \n",
       "4642        98.3     MHz -28.682222 -53.610278   2         K   \n",
       "4643       104.9     MHz  -6.594722 -35.055278   1         K   \n",
       "\n",
       "      Numero da Estação            CNPJ       Fistel  \\\n",
       "4639         1011036964  08931976000190  50411347829   \n",
       "4640         1011037472  19001721000144  50416345301   \n",
       "4641         1011044797  19332116000156  50416480004   \n",
       "4642         1011044940  97538346000180  50416390609   \n",
       "4643         1011110250  10877144000184  50411382063   \n",
       "\n",
       "                                               Entidade  \\\n",
       "4639  ASSOCIACAO AMIGOS DA CULTURA E DO MEIO AMBIENT...   \n",
       "4640        ASSOCIACAO RADIO COMUNITARIA MONTE SANTO FM   \n",
       "4641                ASSOCIACAO RADIO COMUNITARIA TOP FM   \n",
       "4642     ASSOCIACAO DE RADIODIFUSAO CIDADE DE CRUZ ALTA   \n",
       "4643  ASSOCIAÇÃO DE DESENVOLVIMENTO CULTURAL DA RÁDI...   \n",
       "\n",
       "                     Município  UF  \n",
       "4639                    Palmas  TO  \n",
       "4640  Monte Santo do Tocantins  TO  \n",
       "4641                Araguatins  TO  \n",
       "4642                 Cruz Alta  RS  \n",
       "4643                  Mataraca  PB  "
      ]
     },
     "execution_count": null,
     "metadata": {},
     "output_type": "execute_result"
    }
   ],
   "source": [
    "radcom = read_radcom(pasta='D:\\OneDrive - ANATEL\\GR01FI3\\BaseDados', update=True) ; radcom.tail()"
   ]
  },
  {
   "cell_type": "code",
   "execution_count": null,
   "metadata": {},
   "outputs": [],
   "source": [
    "stel = read_stel(pasta='D:\\OneDrive - ANATEL\\GR01FI3\\BaseDados', update=True)"
   ]
  },
  {
   "cell_type": "markdown",
   "metadata": {},
   "source": [
    "**Os dados do Stel não serão ilustrados aqui por se tratar de dados de telecomunicação privados, os demais dados de radiodifusão são públicos e disponíveis para qualquer interessado consultar**"
   ]
  },
  {
   "cell_type": "markdown",
   "metadata": {},
   "source": [
    "Se o argumento `update=True` for fornecido ou arquivo local não existir, a base de dados é atualizada por meio da função `update_stel`. \n",
    "> Warning: A função `update_stel` somente irá funcionar caso o PC estiver plugado na rede interna cabeada da Anatel."
   ]
  },
  {
   "cell_type": "code",
   "execution_count": null,
   "metadata": {},
   "outputs": [
    {
     "name": "stdout",
     "output_type": "stream",
     "text": [
      "Baixando as Estações do Mosaico...\n",
      "Baixando o Plano Básico das Estações...\n",
      "Baixando o Histórico de Atualizações...\n",
      "Kbô\n"
     ]
    },
    {
     "data": {
      "text/html": [
       "<div>\n",
       "<style scoped>\n",
       "    .dataframe tbody tr th:only-of-type {\n",
       "        vertical-align: middle;\n",
       "    }\n",
       "\n",
       "    .dataframe tbody tr th {\n",
       "        vertical-align: top;\n",
       "    }\n",
       "\n",
       "    .dataframe thead th {\n",
       "        text-align: right;\n",
       "    }\n",
       "</style>\n",
       "<table border=\"1\" class=\"dataframe\">\n",
       "  <thead>\n",
       "    <tr style=\"text-align: right;\">\n",
       "      <th></th>\n",
       "      <th>Serviço</th>\n",
       "      <th>Situação</th>\n",
       "      <th>Entidade</th>\n",
       "      <th>Fistel</th>\n",
       "      <th>CNPJ</th>\n",
       "      <th>Município</th>\n",
       "      <th>UF</th>\n",
       "      <th>Id</th>\n",
       "      <th>Número da Estação</th>\n",
       "      <th>Classe</th>\n",
       "      <th>Frequência</th>\n",
       "      <th>Latitude</th>\n",
       "      <th>Longitude</th>\n",
       "      <th>Num_Ato</th>\n",
       "      <th>Órgao</th>\n",
       "      <th>Data_Ato</th>\n",
       "    </tr>\n",
       "  </thead>\n",
       "  <tbody>\n",
       "    <tr>\n",
       "      <th>21146</th>\n",
       "      <td>RTVD</td>\n",
       "      <td>TV-C2</td>\n",
       "      <td>M. V. L - COMMUNICARE TELECOMUNICACOES LTDA</td>\n",
       "      <td>50419656170</td>\n",
       "      <td>12071310000186</td>\n",
       "      <td>Parauapebas</td>\n",
       "      <td>PA</td>\n",
       "      <td>5f2068e65ace5</td>\n",
       "      <td></td>\n",
       "      <td>C</td>\n",
       "      <td>503</td>\n",
       "      <td>-6,0678</td>\n",
       "      <td>-49,9037</td>\n",
       "      <td>7588</td>\n",
       "      <td>ORLE</td>\n",
       "      <td>2020-12-10 18:21:09</td>\n",
       "    </tr>\n",
       "    <tr>\n",
       "      <th>21147</th>\n",
       "      <td>RTVD</td>\n",
       "      <td>TV-C1</td>\n",
       "      <td>MERCES COMUNICACOES LTDA</td>\n",
       "      <td>50419663118</td>\n",
       "      <td>11322505000199</td>\n",
       "      <td>Delmiro Gouveia</td>\n",
       "      <td>AL</td>\n",
       "      <td>5f218fcfb0d84</td>\n",
       "      <td></td>\n",
       "      <td>C</td>\n",
       "      <td>545</td>\n",
       "      <td>-9,3853</td>\n",
       "      <td>-37,9987</td>\n",
       "      <td>9430</td>\n",
       "      <td>ORLE</td>\n",
       "      <td>2017-06-09 00:00:00</td>\n",
       "    </tr>\n",
       "    <tr>\n",
       "      <th>21148</th>\n",
       "      <td>RTVD</td>\n",
       "      <td>TV-C1</td>\n",
       "      <td>FUNDACAO EDUCACIONAL E CULTURAL DE IPANEMA</td>\n",
       "      <td>50433856696</td>\n",
       "      <td>04608796000110</td>\n",
       "      <td>Sabará</td>\n",
       "      <td>MG</td>\n",
       "      <td>5f32c1c918e6b</td>\n",
       "      <td></td>\n",
       "      <td>C</td>\n",
       "      <td>207</td>\n",
       "      <td>-19,89667</td>\n",
       "      <td>-43,80722</td>\n",
       "      <td>3301</td>\n",
       "      <td>ORLE</td>\n",
       "      <td>2020-06-23 00:00:00</td>\n",
       "    </tr>\n",
       "    <tr>\n",
       "      <th>21149</th>\n",
       "      <td>FM</td>\n",
       "      <td>FM-C2</td>\n",
       "      <td>RADIO ITAPIRANGA LTDA</td>\n",
       "      <td>50433860456</td>\n",
       "      <td>84375872000124</td>\n",
       "      <td>Itapiranga</td>\n",
       "      <td>SC</td>\n",
       "      <td>5f68d432841a5</td>\n",
       "      <td></td>\n",
       "      <td>B1</td>\n",
       "      <td>105,1</td>\n",
       "      <td>-27,15778</td>\n",
       "      <td>-53,69583</td>\n",
       "      <td>567</td>\n",
       "      <td>ORLE</td>\n",
       "      <td>2021-01-26 17:20:30</td>\n",
       "    </tr>\n",
       "    <tr>\n",
       "      <th>21150</th>\n",
       "      <td>FM</td>\n",
       "      <td>FM-C1</td>\n",
       "      <td>EMISSORAS SUL BRASILEIRAS LTDA</td>\n",
       "      <td>50433937009</td>\n",
       "      <td>95818506000119</td>\n",
       "      <td>Horizontina</td>\n",
       "      <td>RS</td>\n",
       "      <td>5f8dcc96f23f9</td>\n",
       "      <td></td>\n",
       "      <td>B1</td>\n",
       "      <td>100,3</td>\n",
       "      <td>-27,62833</td>\n",
       "      <td>-54,30528</td>\n",
       "      <td>3166</td>\n",
       "      <td>ORLE</td>\n",
       "      <td>2020-06-13 00:00:00</td>\n",
       "    </tr>\n",
       "  </tbody>\n",
       "</table>\n",
       "</div>"
      ],
      "text/plain": [
       "      Serviço Situação                                     Entidade  \\\n",
       "21146    RTVD    TV-C2  M. V. L - COMMUNICARE TELECOMUNICACOES LTDA   \n",
       "21147    RTVD    TV-C1                     MERCES COMUNICACOES LTDA   \n",
       "21148    RTVD    TV-C1   FUNDACAO EDUCACIONAL E CULTURAL DE IPANEMA   \n",
       "21149      FM    FM-C2                        RADIO ITAPIRANGA LTDA   \n",
       "21150      FM    FM-C1               EMISSORAS SUL BRASILEIRAS LTDA   \n",
       "\n",
       "            Fistel            CNPJ        Município  UF             Id  \\\n",
       "21146  50419656170  12071310000186      Parauapebas  PA  5f2068e65ace5   \n",
       "21147  50419663118  11322505000199  Delmiro Gouveia  AL  5f218fcfb0d84   \n",
       "21148  50433856696  04608796000110           Sabará  MG  5f32c1c918e6b   \n",
       "21149  50433860456  84375872000124       Itapiranga  SC  5f68d432841a5   \n",
       "21150  50433937009  95818506000119      Horizontina  RS  5f8dcc96f23f9   \n",
       "\n",
       "      Número da Estação Classe Frequência   Latitude  Longitude Num_Ato Órgao  \\\n",
       "21146                        C        503    -6,0678   -49,9037    7588  ORLE   \n",
       "21147                        C        545    -9,3853   -37,9987    9430  ORLE   \n",
       "21148                        C        207  -19,89667  -43,80722    3301  ORLE   \n",
       "21149                       B1      105,1  -27,15778  -53,69583     567  ORLE   \n",
       "21150                       B1      100,3  -27,62833  -54,30528    3166  ORLE   \n",
       "\n",
       "                 Data_Ato  \n",
       "21146 2020-12-10 18:21:09  \n",
       "21147 2017-06-09 00:00:00  \n",
       "21148 2020-06-23 00:00:00  \n",
       "21149 2021-01-26 17:20:30  \n",
       "21150 2020-06-13 00:00:00  "
      ]
     },
     "execution_count": null,
     "metadata": {},
     "output_type": "execute_result"
    }
   ],
   "source": [
    "mosaico = read_mosaico(pasta='D:\\OneDrive - ANATEL\\GR01FI3\\BaseDados') ; mosaico.tail()"
   ]
  },
  {
   "cell_type": "markdown",
   "metadata": {},
   "source": [
    "Se o argumento `update=True` for fornecido ou o arquivo local não existir, a base de dados é atualizada por meio da função `update_mosaico`. \n",
    "> Tip: A função `update_mosaico` usa a base de dados Pública do Spectrum E, portanto basta ter conexão com a internet ."
   ]
  },
  {
   "cell_type": "code",
   "execution_count": null,
   "metadata": {},
   "outputs": [],
   "source": []
  }
 ],
 "metadata": {
  "kernelspec": {
   "display_name": "Python [conda env:scraping]",
   "language": "python",
   "name": "conda-env-scraping-py"
  }
 },
 "nbformat": 4,
 "nbformat_minor": 4
}
