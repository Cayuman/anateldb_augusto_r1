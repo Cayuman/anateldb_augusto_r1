{
 "cells": [
  {
   "cell_type": "code",
   "execution_count": null,
   "id": "62301834",
   "metadata": {},
   "outputs": [],
   "source": [
    "#default_exp redmine"
   ]
  },
  {
   "cell_type": "code",
   "execution_count": null,
   "id": "2442605a",
   "metadata": {},
   "outputs": [],
   "source": [
    "%load_ext autoreload\n",
    "%autoreload 2"
   ]
  },
  {
   "cell_type": "code",
   "execution_count": null,
   "id": "c262f092",
   "metadata": {},
   "outputs": [],
   "source": [
    "#export\n",
    "import getpass\n",
    "import re\n",
    "import logging\n",
    "from pathlib import Path\n",
    "from typing import Iterable, Union\n",
    "from collections import defaultdict\n",
    "from redminelib import Redmine\n",
    "import pandas as pd\n",
    "from fastcore.test import *\n",
    "from fastcore.basics import partialler, listify\n",
    "from anateldb.constants import *"
   ]
  },
  {
   "cell_type": "markdown",
   "id": "d8e7d36a",
   "metadata": {},
   "source": [
    "# Redmine\n",
    "\n",
    "> Scripts para baixar informações sobre inspeções no Fiscaliza e atualizá-las."
   ]
  },
  {
   "cell_type": "code",
   "execution_count": null,
   "id": "cafbad28",
   "metadata": {},
   "outputs": [],
   "source": [
    "#hide\n",
    "USR = getpass.getuser()\n",
    "PWD = 'Th!nkAh3@d' #getpass.getpass()\n",
    "PROJ = 'gr01'\n",
    "INSP = '40852'\n",
    "logging.basicConfig(filename='fiscaliza.log', level=logging.INFO)"
   ]
  },
  {
   "cell_type": "markdown",
   "id": "ccf139aa",
   "metadata": {},
   "source": [
    "## Exemplo de Definições\n",
    "```python\n",
    "d['Classe da Inspeção'] = 'Técnica' #string\n",
    "\n",
    "d['Tipo de inspeção'] = 'Uso do Espectro - Monitoração' #string\n",
    "\n",
    "d['Descrição da Inspeção'] = '''Atendimento da Denúncia AC202010213075425 (6104512), \n",
    "verificação da Potência e Intensidade de Campo Elétrico da Frequência 105.1MHz e seus harmônicos, \n",
    "além da checagem de Intermodulação e Espúrios nas frequências 450.3MHz e 750MHz.''' #string de 1 ou várias linhas\n",
    "\n",
    "d['Fiscal responsável '] = 'Ronaldo da Silva Alves Batista' #string\n",
    "\n",
    "d['Fiscais '] = 'Ronaldo da Silva Alves Batista' | ['Ronaldo da Silva Alves Batista', 'Paulo Diogo Costa', 'Mario Augusto Volpini'] #string ou lista de strings\n",
    "\n",
    "# A string sem o 'r' ( raw ) antes tende a ser interpretada incorretamente pelo Windows\n",
    "d['Html'] = r'D:\\Processos\\Report_2021.02.18_T23.49.55.html' | '/d/Processos/Report_2021.02.18_T23.49.55.html' # Esse formato é preferível porque não precisa ser antecedido de 'r' # string nesses formatos\n",
    "\n",
    "d[' Gerar Relatório '] = 1 # int 0 ou 1\n",
    "\n",
    "d['Frequência inicial']  = 54 #int ou float\n",
    "\n",
    "d['Unidade da frequência inicial'] = 'MHz' #string\n",
    "\n",
    "d['Frequência final'] = 700 #int ou float\n",
    "\n",
    "d['Unidade da frequência final'] = 'MHz' #string\n",
    "\n",
    "d['Data de início'] = '2021-03-19' #YYYY-MM-DD #string nesse formato\n",
    "\n",
    "d['Data limite'] = '2021-12-31'  #YYYY-MM-DD #string nesse formato\n",
    "\n",
    "d['UF/Município'] = \"SP/São Paulo\" | [\"SP/São Paulo\", \"SP/Sorocaba\"] # String ou Lista de Strings\n",
    "\n",
    "d['Serviços da Inspeção'] = '230' | ['230', '231', '800'] # String ou Lista de Strings\n",
    "\n",
    "d['Qnt. de emissões na faixa'] = 12 # int\n",
    "\n",
    "d['Emissões não autorizadas/desc'] = 70 # int\n",
    "\n",
    "d['Horas de Preparação'] = 2 # int\n",
    "\n",
    "d['Horas de Deslocamento'] = 0 # int\n",
    "\n",
    "d['Horas de Execução'] = 32 # int\n",
    "\n",
    "d['Horas de conclusão'] = 6 # int\n",
    "\n",
    "d['Latitude (coordenadas)'] = -22.94694 # float\n",
    "\n",
    "d['Longitude (coordenadas)'] = -43.21944 # float\n",
    "\n",
    "d['Uso de PF'] = 'Não se aplica PF - uso apenas de formulários' # string\n",
    "\n",
    "d['Ação de risco à vida criada?'] = 'Não' # string Sim | Não\n",
    "\n",
    "d['Impossibilidade acesso online?'] = '0' # string '0' | '1'\n",
    "\n",
    "d['notes'] = \"Não foi constatada irregularidade no Período monitorado\" # string\n",
    "\n",
    "# No caso de uma tabela \n",
    "\n",
    "d['notes'] = \"\"\"Faixa, Classe Especial, \\Classe A, Classe B, Classe C\n",
    "                VHF-L,0,5,7,5\n",
    "                VHF-H,0,12,1,0\n",
    "                UHF,1,1,2,4\n",
    "                FM,5,1,0,0\n",
    "                RADCOM,0,0,0,0\n",
    "                Outorgadas com indícios de irregularidades,1,2,3,4 #string multilinhas com a primeira coluna como título e as demais como valores, O número de valores deve ser igual ao número de colunas para todas as linhas.\n",
    "            \"\"\"\n",
    "```"
   ]
  },
  {
   "cell_type": "markdown",
   "id": "a44231a9",
   "metadata": {},
   "source": [
    "## Funções Auxiliares e Informações de Inspeção / Ação"
   ]
  },
  {
   "cell_type": "code",
   "execution_count": null,
   "id": "94ca8a94",
   "metadata": {},
   "outputs": [],
   "source": [
    "#export\n",
    "def value_text_string(input_value):\n",
    "    return '{' + '\"valor\":\"{0}\",\"texto\":\"{0}\"'.format(input_value) + '}'\n",
    "\n",
    "def auth_user(username, password, teste=True, verify=True):\n",
    "    url = URLHM if teste else URL\n",
    "    fiscaliza = Redmine(url, username=username, password=password, requests={'verify': verify})\n",
    "    fiscaliza.auth()\n",
    "    return fiscaliza\n",
    "\n",
    "def valida_fiscaliza(fiscaliza_obj: Redmine)->None:\n",
    "    if not isinstance(fiscaliza_obj, Redmine):\n",
    "        raise TypeError(f\"O Objeto Fiscaliza deve ser uma instância autenticada \"\\\n",
    "        \"(logada) da classe Redmine, o typo do objeto fornecido é {type(fiscaliza_obj)}\")\n",
    "\n",
    "def issue2users(fiscaliza: Redmine, issue: str)-> dict:\n",
    "    \"\"\"Recebe objeto Redmine e string issue com o número da issue e retorna um dicionário com os usuários do grupo Inspeção-Execução\"\"\"\n",
    "    valida_fiscaliza(fiscaliza)\n",
    "    proj = fiscaliza.issue.get(issue).project.name.lower()\n",
    "    members = fiscaliza.project_membership.filter(project_id=proj)\n",
    "    id2name = {}\n",
    "    name2id = {}\n",
    "    names = []\n",
    "    for member in members:\n",
    "        if roles := getattr(member, 'roles', []):\n",
    "            for role in roles:\n",
    "                if str(role) == 'Inspeção-Execução':\n",
    "                    if user := getattr(member, 'user', None):\n",
    "                        if (id_ := getattr(user, 'id', None)) and (name := getattr(user, 'name', None)):\n",
    "                            names.append((id_, name))\n",
    "                            \n",
    "    names.sort(key=lambda x: x[1])\n",
    "    id2name = dict(names)\n",
    "    name2id = {v:k for k,v in id2name.items()}\n",
    "    return id2name, name2id\n",
    "\n",
    "def insp2acao(insp: str, fiscaliza: Redmine)->dict:        \n",
    "    \"\"\"Recebe o objeto `fiscaliza` e a string referente à inspeção `insp` e retorna um dicionário resumo da Ação atrelada à inspeção\n",
    "\n",
    "    Args:\n",
    "        redmineObj (Redmine): Objeto Redmine autenticado\n",
    "        insp (str): string com o número da inspeção\n",
    "\n",
    "    Returns:\n",
    "        dict: Dicionário com o id, nome e descrição da Ação associada à inspeção\n",
    "    >>>fiscaliza = Redmine(URL, username=USR, password=PWD)\n",
    "       fiscaliza.auth()\n",
    "       detalhar_inspecao(fiscaliza, '51804')\n",
    "    {'id': 51803,\n",
    "    'name': 'ACAO_GR01_2021_0456',\n",
    "    'description': 'Atendimento à Denúncia AC202010213075425 (6104512)'}\n",
    "    \"\"\"\n",
    "    valida_fiscaliza(fiscaliza)\n",
    "    issue = fiscaliza.issue.get(insp, include=['relations', 'attachments'])\n",
    "    if relations := getattr(issue, 'relations', []):\n",
    "        if relations := getattr(relations, 'values', []):\n",
    "            relations = relations()\n",
    "    for relation in relations:\n",
    "        if (issue_to_id := relation.get('issue_to_id', None)):\n",
    "            if (issue_to_id := fiscaliza.issue.get(issue_to_id)):\n",
    "                if 'ACAO' in str(issue_to_id) or ((tracker := getattr(issue_to_id, 'tracker', None)) and (getattr(tracker, 'id', None) == 2)):\n",
    "                    if (description := getattr(issue_to_id, 'custom_fields', None)) is not None:\n",
    "                        if description := description.get(ACAO_DESCRIPTION, None):\n",
    "                            description = getattr(description, 'value', '')\n",
    "                        else:\n",
    "                            description = ''\n",
    "                    else:\n",
    "                        description = ''\n",
    "                    return {'id': getattr(issue_to_id, 'id', ''), 'name': str(issue_to_id), 'description': description}\n",
    "    else:\n",
    "        return {'id': '', 'name': '', 'description': ''}\n",
    "\n",
    "\n",
    "def detalhar_inspecao(insp: str, fiscaliza: Redmine=None)->dict:\n",
    "    valida_fiscaliza(fiscaliza)\n",
    "    result = {k:'' for k in FIELDS}\n",
    "    issue = fiscaliza.issue.get(insp, include=['relations', 'attachments'])\n",
    "    result.update({k: str(getattr(issue,k, '')) for k in FIELDS})\n",
    "    if custom_fields := getattr(issue, 'custom_fields', None):\n",
    "        custom_fields = list(custom_fields)\n",
    "        for field in custom_fields:\n",
    "            key = field.id\n",
    "            if key in CUSTOM_IDS:\n",
    "                value = getattr(field, 'value', '')\n",
    "                result[ID2FIELD[key]] = value\n",
    "    return result\n",
    "\n",
    "def rascunho2aguardando(insp, fields, fiscaliza):\n",
    "    valida_fiscaliza(fiscaliza)    \n",
    "    issue = fiscaliza.issue.get(insp, include=['relations', 'attachments'])\n",
    "    status = str(getattr(issue, 'status', ''))\n",
    "    if status != 'Rascunho':\n",
    "        logging.info(f\"Editando 'Rascunho' mas o status atual da Inspeção {status} é diferente de 'Rascunho'\")\n",
    "    status = list(STATUS.keys())[0]\n",
    "    custom_fields = []\n",
    "    for field in STATUS[status]:\n",
    "        if not (updated_val := fields.get(field, None)):\n",
    "                continue\n",
    "        if field not in ('Fiscal responsável ', 'Fiscais '):\n",
    "            if field in ('Classe da Inspeção', 'Tipo de inspeção'):\n",
    "                #updated_val = fields.get(field)\n",
    "                updated_val = value_text_string(updated_val)\n",
    "            custom_fields.append({'id': FIELD2ID[field], 'value': updated_val})\n",
    "    issue_id = issue.id\n",
    "    _, name2id = issue2users(fiscaliza, issue_id)\n",
    "    if responsavel := fields.get('Fiscal responsável ', None):\n",
    "        custom_fields.append({'id': FIELD2ID['Fiscal responsável '], 'value': name2id[responsavel]})\n",
    "    if fiscais := fields.get('Fiscais ', None):\n",
    "        if type(fiscais) not in (tuple, list):\n",
    "            fiscais = [fiscais]\n",
    "        custom_fields.append({'id': FIELD2ID['Fiscais '], 'value': [name2id[f] for f in fiscais]})\n",
    "    status = SITUACAO[status]\n",
    "    return fiscaliza.issue.update(issue_id, status_id=status, custom_fields=custom_fields)"
   ]
  },
  {
   "cell_type": "markdown",
   "id": "1bfb34c5",
   "metadata": {},
   "source": [
    "## Validação de Informações e Atualização de Inspeção "
   ]
  },
  {
   "cell_type": "code",
   "execution_count": null,
   "id": "b11f0d11",
   "metadata": {},
   "outputs": [],
   "source": [
    "#export\n",
    "def journal2table(journal):\n",
    "    table = [[r.strip() for r in j.split(',')] for j in journal.split('\\n') if j]\n",
    "    assert len(set([len(t) for t in table])) == 1, 'A tabela não possui todas as linhas com o mesmo número de colunas'\n",
    "    df = pd.DataFrame(table[1:], columns=table[0])\n",
    "    return df.to_markdown(index=False, tablefmt='textile')\n",
    "\n",
    "\n",
    "def check_update(field: str, value , dtype, values_set: Iterable=None, val_text_string: bool = False):    \n",
    "    if not isinstance(value, dtype):\n",
    "        raise TypeError(f\"É esperado que o campo {value} seja do tipo {str}, o fornecido foi {type(value)}\")\n",
    "    \n",
    "    if values_set is not None and not set(listify(value)).issubset(set(values_set)):\n",
    "        raise ValueError(f\"O valor para {field} : {value} deve pertencer ao conjunto: {values_set}\")\n",
    "        \n",
    "    if val_text_string:\n",
    "        value = value_text_string(value)\n",
    "        \n",
    "    return {'id': FIELD2ID[field], 'value': value}\n",
    "        \n",
    "def validate_datadict(data_dict: dict, insp: str, fiscaliza: Redmine)->dict:\n",
    "    \n",
    "    assert isinstance(data_dict, dict), f\"É esperado um dicionário como entrada, {data_dict} é do tipo: {type(data_dict)}\" \n",
    "    \n",
    "    if not set(data_dict.keys()).issubset(DICT_FIELDS):\n",
    "        raise ValueError(f'As chaves seguintes são desconhecidas ou estão com o nome diferente do esperado: \\\n",
    "                         {set(data_dict.keys()).difference(DICT_FIELDS)}')\n",
    "        \n",
    "    assert isinstance(fiscaliza, Redmine), f\"Uma instância do tipo Redmine é esperada, foi retornado objeto fiscaliza {type(fiscaliza)}\"\n",
    "        \n",
    "    valida_fiscaliza(fiscaliza)    \n",
    "    issue = fiscaliza.issue.get(insp, include=['relations', 'attachments'])\n",
    "    issue_id = issue.id\n",
    "    \n",
    "    date_pattern = '([2]\\d{3})-(0[1-9]|1[0-2])-(0[1-9]|[12]\\d|3[01])'\n",
    "    \n",
    "    d = data_dict.copy()\n",
    "\n",
    "    key = DICT_FIELDS[0]\n",
    "    if (classe := d.get(key)):\n",
    "        d[key] = check_update(key, classe, str, CLASSE, True)\n",
    "        \n",
    "    key = DICT_FIELDS[1]\n",
    "    if (tipo := d.get(key)):\n",
    "        d[key] = check_update(key, tipo, str, TIPO, True)\n",
    "        \n",
    "    key = DICT_FIELDS[2]\n",
    "    if (description := d.get(key)):\n",
    "        d[key] = check_update(key, description, str)\n",
    "    \n",
    "    key = DICT_FIELDS[3]\n",
    "    if (fiscal := d.get(key)):\n",
    "        _, name2id = issue2users(fiscaliza, issue_id)\n",
    "        d[key] = check_update(key, fiscal, str, name2id.keys())\n",
    "        \n",
    "    key = DICT_FIELDS[4]\n",
    "    if (fiscais := d.get(key)):\n",
    "        _, name2id = issue2users(fiscaliza, issue_id)\n",
    "        fiscais = listify(fiscais)\n",
    "        d[key] = check_update(key, fiscais, list, name2id.keys())\n",
    "        \n",
    "    key = DICT_FIELDS[5]\n",
    "    if (html := d.get(key)):\n",
    "        html = Path(html)\n",
    "        assert html.exists() and html.is_file(), f\"O caminho para o arquivo html informado não existe ou não é um arquivo: {html}\"\n",
    "        d[key] = check_update(key, html.read_text(), str)\n",
    "        key = DICT_FIELDS[6]\n",
    "        if (relatorio := d.get(key, None)):\n",
    "            d[key] = check_update(key, relatorio, int, (0,1))\n",
    "    \n",
    "    key = DICT_FIELDS[7]\n",
    "    if (freq_init := d.get(key)):\n",
    "        d[key] = check_update(key, freq_init, (int,float))\n",
    "    \n",
    "    key = DICT_FIELDS[8]\n",
    "    if (init_unit := d.get(key)):\n",
    "        d[key] = check_update(key, init_unit, str, ('kHz', 'MHz', 'GHz'))\n",
    "    \n",
    "    key = DICT_FIELDS[9]\n",
    "    if (freq_final := d.get(key)):\n",
    "        d[key] = check_update(key, freq_final, (int,float))\n",
    "    \n",
    "    key = DICT_FIELDS[10]\n",
    "    if (final_unit := d.get(key)):\n",
    "        d[key] = check_update(key, final_unit, str, ('kHz', 'MHz', 'GHz'))\n",
    "        \n",
    "    key = DICT_FIELDS[11]\n",
    "    if (start_date := d.get(key)):\n",
    "        assert re.match(date_pattern, start_date), f'A data informada é inválida {start_date}, informe o formato yyyy-mm-dd'\n",
    "        d[key] = start_date\n",
    "    else:\n",
    "        raise ValueError(f'O campo \"Data de início\" não pode ficar vazio!')\n",
    "    \n",
    "    key = DICT_FIELDS[12]\n",
    "    if (due_date := d.get(key)):\n",
    "        assert re.match(date_pattern, due_date), f'A data informada é inválida {due_date}, informe o formato yyyy-mm-dd'\n",
    "        d[key] = due_date\n",
    "    else:\n",
    "        raise ValueError(f'O campo \"Data limite\" não poder ficar vazio!')        \n",
    "    \n",
    "    key = DICT_FIELDS[13]\n",
    "    if (municipio := d.get(key)):\n",
    "        municipios = pd.read_pickle('municipios.pkl')\n",
    "        municipio = listify(municipio)\n",
    "        lista_municipios = []\n",
    "        for m in municipio:\n",
    "            match =  re.match(f'({\"|\".join(ESTADOS)})/(\\w+[\\s|\\w]+)', m)\n",
    "            if not match:\n",
    "                raise ValueError(f'Verifique o formato da string UF/Município: {m}')                    \n",
    "            lista_municipios.append(check_update(key, m, str, municipios))        \n",
    "        d[key] = lista_municipios\n",
    "        del municipios\n",
    "        \n",
    "    key = DICT_FIELDS[14]\n",
    "    if (servicos := d.get(key)):\n",
    "        servicos = listify(servicos)\n",
    "        lista_servicos = []\n",
    "        for s in servicos:\n",
    "            s = SERVICOS[s]\n",
    "            lista_servicos.append(check_update(key, s, str, SERVICOS.values(), True))\n",
    "        d[key] = lista_servicos\n",
    "        \n",
    "    key = DICT_FIELDS[15]\n",
    "    if (qnt := d.get(key)):\n",
    "        d[key] = check_update(key, qnt, int)\n",
    "    \n",
    "    key = DICT_FIELDS[16]\n",
    "    if (nauto := d.get(key, 0)):\n",
    "        d[key] = check_update(key, nauto, int)\n",
    "        \n",
    "    key = DICT_FIELDS[17]\n",
    "    if (hprep := d.get(key)):\n",
    "        d[key] = check_update(key, hprep, int)\n",
    "        \n",
    "    key = DICT_FIELDS[18]\n",
    "    if (hdesl := d.get(key)):\n",
    "        d[key] = check_update(key, hdesl, int)\n",
    "        \n",
    "    key = DICT_FIELDS[19]\n",
    "    if (hexec := d.get(key)):\n",
    "        d[key] = check_update(key, hexec, int)\n",
    "        \n",
    "    key = DICT_FIELDS[20]\n",
    "    if (hconc := d.get(key)):\n",
    "        d[key] = check_update(key, hconc, int)\n",
    "     \n",
    "    key = DICT_FIELDS[21]\n",
    "    if (lat := d.get(key)):\n",
    "        max_lat = 5.2666664 # Monte Caburaí RR\n",
    "        min_lat = -33.7017531 # Arroio Chuy RS\n",
    "        if not min_lat <= lat <= max_lat:\n",
    "            raise ValueError(f'O valor de latitude inserido está fora dos extremos do Brasil: ({min_lat}, {max_lat})')\n",
    "        d[key] = check_update(key, lat, float)\n",
    "        \n",
    "    key = DICT_FIELDS[22]\n",
    "    if (long := d.get(key)):\n",
    "        min_long = -75.3709938\n",
    "        max_long = -32.423786\n",
    "        if not min_long <= long <= max_long:\n",
    "            raise ValueError(f'O valor de longitude inserido está fora dos extremos do Brasil: ({min_long}, {max_long})')\n",
    "        d[key] = check_update(key, long, float)\n",
    "    \n",
    "    key = DICT_FIELDS[23]\n",
    "    if (pf := d.get(key)):\n",
    "        d[key] = check_update(key, pf, str, PF)\n",
    "        \n",
    "    key = DICT_FIELDS[24]\n",
    "    if (risco := d.get(key)):\n",
    "        d[key] = check_update(key, risco, str, ('Sim', 'Não'))\n",
    "        \n",
    "    key = DICT_FIELDS[25]\n",
    "    if (online := d.get(key)):\n",
    "        d[key] = check_update(key, online, str, ('0', '1'))\n",
    "            \n",
    "    return d"
   ]
  },
  {
   "cell_type": "code",
   "execution_count": null,
   "id": "4d73196e",
   "metadata": {},
   "outputs": [
    {
     "data": {
      "text/plain": [
       "{'id': 40802,\n",
       " 'name': 'ACAO_GR01_2020_0782',\n",
       " 'description': 'Verificar denúncia de interferência registrada pela operadora CLARO (Anatel Consumidor 202006174039077) na faixa de 2500 MHz, no município de Itapetininga/SP. Conforme relatório encaminhado pela operadora, a fonte interferente seria proveniente de uma empresa localizada na Rodovia Raposo Tavares, 620, Km 168. Foi encaminhado ofício à entidade, mas operadora informou que o problema persiste. Verificar a necessidade de acompanhamento de responsável técnico, conforme previsto no item 7.4 do Procedimento de Tratamento de Interferência no SMP, aprovado pela Portaria nº 825, de 09 de junho de 2020.\\u200b Consultar documentação do processo para subsidiar os trabalhos.\\u200b'}"
      ]
     },
     "execution_count": null,
     "metadata": {},
     "output_type": "execute_result"
    }
   ],
   "source": [
    "#hide\n",
    "fiscaliza = auth_user(USR, PWD)\n",
    "insp2acao(INSP, fiscaliza)"
   ]
  },
  {
   "cell_type": "code",
   "execution_count": null,
   "id": "046498af",
   "metadata": {},
   "outputs": [
    {
     "data": {
      "text/plain": [
       "{'id': '40852',\n",
       " 'subject': 'INSP_GR01_2020_0668',\n",
       " 'status': 'Rascunho',\n",
       " 'priority': 'Normal',\n",
       " 'start_date': '',\n",
       " 'due_date': '',\n",
       " 'Classe da Inspeção': '',\n",
       " 'Tipo de inspeção': '',\n",
       " 'Descrição da Inspeção': '',\n",
       " 'Fiscal responsável ': '',\n",
       " 'Fiscais ': [],\n",
       " 'UF/Município': [],\n",
       " 'Serviços da Inspeção': [],\n",
       " 'Horas de Preparação': '',\n",
       " 'Horas de Deslocamento': '',\n",
       " 'Horas de Execução': '',\n",
       " 'Horas de conclusão': ''}"
      ]
     },
     "execution_count": null,
     "metadata": {},
     "output_type": "execute_result"
    }
   ],
   "source": [
    "detalhar_inspecao(INSP, fiscaliza)"
   ]
  },
  {
   "cell_type": "code",
   "execution_count": null,
   "id": "884cb408",
   "metadata": {},
   "outputs": [],
   "source": [
    "d = {}\n",
    "\n",
    "d['Classe da Inspeção'] = 'Técnica'\n",
    "\n",
    "d['Tipo de inspeção'] = 'Uso do Espectro - Monitoração'\n",
    "\n",
    "d['Descrição da Inspeção'] = '''Atendimento da Denúncia AC202010213075425 (6104512), \n",
    "verificação da Potência e Intensidade de Campo Elétrico da Frequência 105.1MHz e seus harmônicos, \n",
    "além da checagem de Intermodulação e Espúrios nas frequências 450.3MHz e 750MHz.'''\n",
    "\n",
    "d['Fiscal responsável '] = 'Ronaldo da Silva Alves Batista'\n",
    "\n",
    "d['Fiscais '] = ['Ronaldo da Silva Alves Batista', 'Paulo Diogo Costa', 'Mario Augusto Volpini'] #string ou lista de strings\n",
    "\n",
    "# A string sem o 'r' ( raw ) antes tende a ser interpretada incorretamente pelo Windows\n",
    "#d['Html'] = 'D:\\\\OneDrive - ANATEL\\\\Monitoramento\\\\Processos\\\\53504.0005432021-55\\\\Guarulhos.html'\n",
    "           #r'D:\\OneDrive - ANATEL\\Monitoramento\\Processos\\53504.0005432021-55\\Guarulhos.html'\n",
    "           #'/d/OneDrive - ANATEL/Monitoramento/53504.0005432021-55/Guarulhos.html' \n",
    "            \n",
    "d[' Gerar Relatório '] = 1 # int 0 ou 1\n",
    "\n",
    "d['Frequência inicial']  = 54 #int ou float\n",
    "\n",
    "d['Unidade da frequência inicial'] = 'MHz' #string\n",
    "\n",
    "d['Frequência final'] = 700 #int ou float\n",
    "\n",
    "d['Unidade da frequência final'] = 'MHz' #string\n",
    "\n",
    "d['Data de início'] = '2021-03-19' #YYYY-MM-DD #string nesse formato\n",
    "\n",
    "d['Data limite'] = '2021-12-31'  #YYYY-MM-DD #string nesse formato\n",
    "\n",
    "d['UF/Município'] = \"SP/São Paulo\" #| [\"SP/São Paulo\", \"SP/Sorocaba\"] # String ou Lista de Strings\n",
    "\n",
    "d['Serviços da Inspeção'] = ['230', '231', '800'] # String ou Lista de Strings\n",
    "\n",
    "d['Qnt. de emissões na faixa'] = 12 # int\n",
    "\n",
    "d['Emissões não autorizadas/desc'] = 70 # int\n",
    "\n",
    "d['Horas de Preparação'] = 2 # int\n",
    "\n",
    "d['Horas de Deslocamento'] = 0 # int\n",
    "\n",
    "d['Horas de Execução'] = 32 # int\n",
    "\n",
    "d['Horas de conclusão'] = 6 # int\n",
    "\n",
    "d['Latitude (coordenadas)'] = -22.94694 # float\n",
    "\n",
    "d['Longitude (coordenadas)'] = -43.21944 # float\n",
    "\n",
    "d['Uso de PF'] = 'Não se aplica PF - uso apenas de formulários' # string\n",
    "\n",
    "d['Ação de risco à vida criada?'] = 'Não' # string Sim | Não\n",
    "\n",
    "d['Impossibilidade acesso online?'] = '0' # string '0' | '1'\n",
    "\n",
    "d['notes'] = \"Não foi constatada irregularidade no Período monitorado\" # string\n",
    "\n",
    "# No caso de uma tabela \n",
    "\n",
    "d['notes'] = \"\"\"Faixa, Classe Especial, Classe A, Classe B, Classe C\n",
    "                VHF-L,0,5,7,5\n",
    "                VHF-H,0,12,1,0\n",
    "                UHF,1,1,2,4\n",
    "                FM,5,1,0,0\n",
    "                RADCOM,0,0,0,0\n",
    "                Outorgadas com indícios de irregularidades,1,2,3,4 #string multilinhas com a primeira coluna como título e as demais como valores, O número de valores deve ser igual ao número de colunas para todas as linhas.\n",
    "            \"\"\""
   ]
  },
  {
   "cell_type": "code",
   "execution_count": null,
   "id": "ac63a512",
   "metadata": {},
   "outputs": [
    {
     "data": {
      "text/plain": [
       "{'Classe da Inspeção': {'id': 89,\n",
       "  'value': '{\"valor\":\"Técnica\",\"texto\":\"Técnica\"}'},\n",
       " 'Tipo de inspeção': {'id': 2,\n",
       "  'value': '{\"valor\":\"Uso do Espectro - Monitoração\",\"texto\":\"Uso do Espectro - Monitoração\"}'},\n",
       " 'Descrição da Inspeção': {'id': 22,\n",
       "  'value': 'Atendimento da Denúncia AC202010213075425 (6104512), \\nverificação da Potência e Intensidade de Campo Elétrico da Frequência 105.1MHz e seus harmônicos, \\nalém da checagem de Intermodulação e Espúrios nas frequências 450.3MHz e 750MHz.'},\n",
       " 'Fiscal responsável ': {'id': 25, 'value': 'Ronaldo da Silva Alves Batista'},\n",
       " 'Fiscais ': {'id': 26,\n",
       "  'value': ['Ronaldo da Silva Alves Batista',\n",
       "   'Paulo Diogo Costa',\n",
       "   'Mario Augusto Volpini']},\n",
       " ' Gerar Relatório ': 1,\n",
       " 'Frequência inicial': {'id': 156, 'value': 54},\n",
       " 'Unidade da frequência inicial': {'id': 157, 'value': 'MHz'},\n",
       " 'Frequência final': {'id': 158, 'value': 700},\n",
       " 'Unidade da frequência final': {'id': 159, 'value': 'MHz'},\n",
       " 'Data de início': '2021-03-19',\n",
       " 'Data limite': '2021-12-31',\n",
       " 'UF/Município': [{'id': 31, 'value': 'SP/São Paulo'}],\n",
       " 'Serviços da Inspeção': [{'id': 57,\n",
       "   'value': '{\"valor\":\"230 - COLETIVO - RADIODIFUSÃO SONORA EM FREQÜÊNCIA MODULADA\",\"texto\":\"230 - COLETIVO - RADIODIFUSÃO SONORA EM FREQÜÊNCIA MODULADA\"}'},\n",
       "  {'id': 57,\n",
       "   'value': '{\"valor\":\"231 - COLETIVO - RADIODIFUSÃO COMUNITÁRIA\",\"texto\":\"231 - COLETIVO - RADIODIFUSÃO COMUNITÁRIA\"}'},\n",
       "  {'id': 57,\n",
       "   'value': '{\"valor\":\"800 - COLETIVO - RETRANSMISSAO DE T.V.\",\"texto\":\"800 - COLETIVO - RETRANSMISSAO DE T.V.\"}'}],\n",
       " 'Qnt. de emissões na faixa': {'id': 69, 'value': 12},\n",
       " 'Emissões não autorizadas/desc': {'id': 70, 'value': 70},\n",
       " 'Horas de Preparação': {'id': 91, 'value': 2},\n",
       " 'Horas de Deslocamento': 0,\n",
       " 'Horas de Execução': {'id': 93, 'value': 32},\n",
       " 'Horas de conclusão': {'id': 94, 'value': 6},\n",
       " 'Latitude (coordenadas)': {'id': 170, 'value': -22.94694},\n",
       " 'Longitude (coordenadas)': {'id': 171, 'value': -43.21944},\n",
       " 'Uso de PF': {'id': 151,\n",
       "  'value': 'Não se aplica PF - uso apenas de formulários'},\n",
       " 'Ação de risco à vida criada?': {'id': 154, 'value': 'Não'},\n",
       " 'Impossibilidade acesso online?': {'id': 450, 'value': '0'},\n",
       " 'notes': 'Faixa, Classe Especial, Classe A, Classe B, Classe C\\n                VHF-L,0,5,7,5\\n                VHF-H,0,12,1,0\\n                UHF,1,1,2,4\\n                FM,5,1,0,0\\n                RADCOM,0,0,0,0\\n                Outorgadas com indícios de irregularidades,1,2,3,4 #string multilinhas com a primeira coluna como título e as demais como valores, O número de valores deve ser igual ao número de colunas para todas as linhas.\\n            '}"
      ]
     },
     "execution_count": null,
     "metadata": {},
     "output_type": "execute_result"
    }
   ],
   "source": [
    "validate_datadict(d, INSP, fiscaliza)"
   ]
  },
  {
   "cell_type": "code",
   "execution_count": null,
   "id": "1dd135d9",
   "metadata": {},
   "outputs": [],
   "source": [
    "d = defaultdict(str)\n",
    "f = partialler(validate_datadict, d)\n",
    "test_eq(f(), True)"
   ]
  },
  {
   "cell_type": "code",
   "execution_count": null,
   "id": "7d55d139",
   "metadata": {},
   "outputs": [],
   "source": [
    "d = [('Servidor', 'Ronaldo')]\n",
    "with ExceptionExpected(ex=AssertionError, regex='É esperado um dicionário'):\n",
    "    validate_datadict(d)"
   ]
  },
  {
   "cell_type": "code",
   "execution_count": null,
   "id": "4d2d923e",
   "metadata": {},
   "outputs": [],
   "source": [
    "d = {}\n",
    "d['Servidor'] = 'Ronaldo'\n",
    "with ExceptionExpected(ex=ValueError, regex='As chaves seguintes são desconhecidas'):\n",
    "    validate_datadict(d)"
   ]
  },
  {
   "cell_type": "code",
   "execution_count": null,
   "id": "5911bc1c",
   "metadata": {},
   "outputs": [],
   "source": [
    "with ExceptionExpected(ex=ValueError):\n",
    "    validate_datadict({'Classe da Inspeção': 'Outorga'})"
   ]
  },
  {
   "cell_type": "code",
   "execution_count": null,
   "id": "dcc75582",
   "metadata": {},
   "outputs": [],
   "source": [
    "with ExceptionExpected(ex=TypeError):\n",
    "    validate_datadict({'Classe da Inspeção': ['Técnica']})\n",
    "    validate_datadict({'Classe da Inspeção': 12})"
   ]
  },
  {
   "cell_type": "code",
   "execution_count": null,
   "id": "ac90a222",
   "metadata": {},
   "outputs": [],
   "source": [
    "#export\n",
    "def aguardando2andamento(insp, fields, fiscaliza=None):\n",
    "    if fiscaliza is None:\n",
    "        fiscaliza = auth_user()\n",
    "    issue = fiscaliza.issue.get(insp, include=['relations', 'attachments'])\n",
    "    status = str(getattr(issue, 'status', ''))\n",
    "    #assert status == 'Aguardando Execução', f\"O Status atual da Inspeção {status} é diferente de 'Aguardando Execução'\"        \n",
    "    status = list(STATUS.keys())[1]\n",
    "    custom_fields = []\n",
    "    relat, gerar = STATUS[status]\n",
    "    if relatorio := fields.get(relat, None):\n",
    "        #relatorio = relatorio.encode('unicode_escape').decode() #deals with Windows Paths\n",
    "        relatorio = Path(relatorio).read_text()\n",
    "        custom_fields.append({'id': FIELD2ID[relat], 'value': relatorio})\n",
    "        custom_fields.append({'id': FIELD2ID[gerar], 'value': '1'})\n",
    "    else:\n",
    "        custom_fields.append({'id': FIELD2ID[relat], 'value': ''})\n",
    "        custom_fields.append({'id': FIELD2ID[gerar], 'value': '0'})    \n",
    "\n",
    "    status = SITUACAO[status]\n",
    "    return fiscaliza.issue.update(issue.id, status_id=status, custom_fields=custom_fields)    \n",
    "\n",
    "def andamento2relatando(insp, fields, fiscaliza=None):\n",
    "    if fiscaliza is None:\n",
    "        fiscaliza = auth_user()\n",
    "    issue = fiscaliza.issue.get(insp, include=['relations', 'attachments'])\n",
    "    status = str(getattr(issue, 'status', ''))\n",
    "    if status != 'Em andamento':\n",
    "        print(f\"O Status atual da Inspeção {status} é diferente de 'Aguardando Execução'!!!!\")        \n",
    "    status = list(STATUS.keys())[2]\n",
    "    custom_fields = []\n",
    "    for field in STATUS[status]:\n",
    "        updated_val = fields.get(field, '')\n",
    "        custom_fields.append({'id': FIELD2ID[field], 'value': updated_val})\n",
    "    assert (start_date := fields.get('Data de início', None)), f'O campo \"Data de início\" não pode ficar vazio!'\n",
    "    assert (due_date := fields.get('Data limite', None)), f'O campo \"Data limite\" não poder ficar vazio!'\n",
    "    issue_id = issue.id\n",
    "    status = SITUACAO[status]\n",
    "    return fiscaliza.issue.update(issue_id, start_date=start_date, due_date=due_date, status_id=status, custom_fields=custom_fields)\n",
    "\n",
    "def relatando2relatado(insp, fields, fiscaliza=None, notes = None):\n",
    "    if fiscaliza is None:\n",
    "        fiscaliza = auth_user()\n",
    "    issue = fiscaliza.issue.get(insp, include=['relations', 'attachments'])\n",
    "    status = str(getattr(issue, 'status', ''))\n",
    "    if status != 'Relatando':\n",
    "        print(f\"O Status atual da Inspeção {status} é diferente de 'Relatando'!!!!\")        \n",
    "    status = list(STATUS.keys())[3]\n",
    "    custom_fields = []\n",
    "    for field in STATUS[status]:\n",
    "        updated_val = fields.get(field, '')\n",
    "        if field in ('UF/Município', 'Serviços da Inspeção'):\n",
    "            if type(updated_val) not in (tuple, list):\n",
    "                updated_val = [updated_val]\n",
    "            if field == 'Serviços da Inspeção':\n",
    "                updated_val = [SERVICOS[val] for val in updated_val]\n",
    "            updated_val = [value_text_string(val) for val in updated_val]\n",
    "        custom_fields.append({'id': FIELD2ID[field], 'value': updated_val})\n",
    "    issue_id = issue.id\n",
    "    status = SITUACAO[status]\n",
    "    return fiscaliza.issue.update(issue_id, status_id=status, notes=notes, custom_fields=custom_fields)"
   ]
  },
  {
   "cell_type": "markdown",
   "id": "7fbfed50",
   "metadata": {},
   "source": [
    "### Mostrar resumo da Ação à partir da Inspeção"
   ]
  },
  {
   "cell_type": "code",
   "execution_count": null,
   "id": "1cf396f0",
   "metadata": {},
   "outputs": [],
   "source": [
    "#hide\n",
    "fiscaliza = auth_user(USR, PWD)\n",
    "insp2acao(INSP, fiscaliza)"
   ]
  },
  {
   "cell_type": "code",
   "execution_count": null,
   "id": "9785f8d9",
   "metadata": {},
   "outputs": [],
   "source": [
    "detalhar_inspecao(INSP, fiscaliza)"
   ]
  },
  {
   "cell_type": "markdown",
   "id": "1aef8b28",
   "metadata": {},
   "source": [
    "## Rascunho -> Aguardando Execução"
   ]
  },
  {
   "cell_type": "markdown",
   "id": "09d96540",
   "metadata": {},
   "source": [
    "### Somente 1 Fiscal"
   ]
  },
  {
   "cell_type": "code",
   "execution_count": null,
   "id": "0061ece9",
   "metadata": {},
   "outputs": [
    {
     "data": {
      "text/plain": [
       "True"
      ]
     },
     "execution_count": null,
     "metadata": {},
     "output_type": "execute_result"
    }
   ],
   "source": [
    "#hide\n",
    "d = {}\n",
    "d['Classe da Inspeção'] = 'Técnica'\n",
    "d['Tipo de inspeção'] = 'Uso do Espectro - Monitoração'\n",
    "d['Descrição da Inspeção'] = '''Atendimento da Denúncia AC202010213075425 (6104512), \n",
    "  verificação da Potência e Intensidade de Campo Elétrico da Frequência 105.1MHz e seus harmônicos, \n",
    "  além da checagem de Intermodulação e Espúrios nas frequências 450.3MHz e 750MHz.'''\n",
    "d['Fiscal responsável '] = 'Ronaldo da Silva Alves Batista'\n",
    "d['Fiscais '] = 'Paulo Diogo Costa'\n",
    "rascunho2aguardando(INSP, d, fiscaliza)"
   ]
  },
  {
   "cell_type": "code",
   "execution_count": null,
   "id": "8ba5d74c",
   "metadata": {},
   "outputs": [
    {
     "data": {
      "text/plain": [
       "{'id': '40852',\n",
       " 'subject': 'INSP_GR01_2020_0668',\n",
       " 'status': 'Aguardando Execução',\n",
       " 'priority': 'Normal',\n",
       " 'start_date': '',\n",
       " 'due_date': '',\n",
       " 'Classe da Inspeção': '{\"valor\":\"Técnica\",\"texto\":\"Técnica\"}',\n",
       " 'Tipo de inspeção': '{\"valor\":\"Uso do Espectro - Monitoração\",\"texto\":\"Uso do Espectro - Monitoração\"}',\n",
       " 'Descrição da Inspeção': 'Atendimento da Denúncia AC202010213075425 (6104512), \\n  verificação da Potência e Intensidade de Campo Elétrico da Frequência 105.1MHz e seus harmônicos, \\n  além da checagem de Intermodulação e Espúrios nas frequências 450.3MHz e 750MHz.',\n",
       " 'Fiscal responsável ': '887',\n",
       " 'Fiscais ': ['607'],\n",
       " 'UF/Município': [],\n",
       " 'Serviços da Inspeção': [],\n",
       " 'Qnt. de emissões na faixa': '',\n",
       " 'Emissões não autorizadas/desc': '',\n",
       " 'Horas de Preparação': '',\n",
       " 'Horas de Deslocamento': '',\n",
       " 'Horas de Execução': '',\n",
       " 'Horas de conclusão': '',\n",
       " 'Latitude (coordenadas)': '',\n",
       " 'Longitude (coordenadas)': '',\n",
       " 'Frequência inicial': '',\n",
       " 'Unidade da frequência inicial': '',\n",
       " 'Frequência final': '',\n",
       " 'Unidade da frequência final': ''}"
      ]
     },
     "execution_count": null,
     "metadata": {},
     "output_type": "execute_result"
    }
   ],
   "source": [
    "detalhar_inspecao(INSP, fiscaliza)"
   ]
  },
  {
   "cell_type": "markdown",
   "id": "636e289e",
   "metadata": {},
   "source": [
    "### Múltiplos Fiscais"
   ]
  },
  {
   "cell_type": "code",
   "execution_count": null,
   "id": "ab0cedc2",
   "metadata": {},
   "outputs": [
    {
     "data": {
      "text/plain": [
       "True"
      ]
     },
     "execution_count": null,
     "metadata": {},
     "output_type": "execute_result"
    }
   ],
   "source": [
    "#hide\n",
    "d = {}\n",
    "d['Fiscais '] = ['Ronaldo da Silva Alves Batista', 'Paulo Diogo Costa', 'Mario Augusto Volpini']\n",
    "rascunho2aguardando(INSP, d, fiscaliza)"
   ]
  },
  {
   "cell_type": "markdown",
   "id": "fbf65612",
   "metadata": {},
   "source": [
    "## Aguardando Execução -> Andamento"
   ]
  },
  {
   "cell_type": "code",
   "execution_count": null,
   "id": "1340b7c9",
   "metadata": {},
   "outputs": [],
   "source": [
    "#hide\n",
    "d['Html'] = r'D:\\OneDrive - ANATEL\\Monitoramento\\Processos\\535040005152021-38\\Report_2021.02.18_T23.49.55.html'\n",
    "d[' Gerar Relatório '] = 1"
   ]
  },
  {
   "cell_type": "code",
   "execution_count": null,
   "id": "3f3b213d",
   "metadata": {},
   "outputs": [
    {
     "data": {
      "text/plain": [
       "True"
      ]
     },
     "execution_count": null,
     "metadata": {},
     "output_type": "execute_result"
    }
   ],
   "source": [
    "#hide\n",
    "aguardando2andamento(INSP, d, fiscaliza)"
   ]
  },
  {
   "cell_type": "code",
   "execution_count": null,
   "id": "3b8dd082",
   "metadata": {},
   "outputs": [
    {
     "data": {
      "text/plain": [
       "{'id': '40852',\n",
       " 'subject': 'INSP_GR01_2020_0668',\n",
       " 'status': 'Em andamento',\n",
       " 'priority': 'Normal',\n",
       " 'start_date': '',\n",
       " 'due_date': '',\n",
       " 'Classe da Inspeção': '{\"valor\":\"Técnica\",\"texto\":\"Técnica\"}',\n",
       " 'Tipo de inspeção': '{\"valor\":\"Uso do Espectro - Monitoração\",\"texto\":\"Uso do Espectro - Monitoração\"}',\n",
       " 'Descrição da Inspeção': 'Atendimento da Denúncia AC202010213075425 (6104512), \\n  verificação da Potência e Intensidade de Campo Elétrico da Frequência 105.1MHz e seus harmônicos, \\n  além da checagem de Intermodulação e Espúrios nas frequências 450.3MHz e 750MHz.',\n",
       " 'Fiscal responsável ': '887',\n",
       " 'Fiscais ': ['165', '607', '887'],\n",
       " 'UF/Município': [],\n",
       " 'Serviços da Inspeção': [],\n",
       " 'Qnt. de emissões na faixa': '',\n",
       " 'Emissões não autorizadas/desc': '',\n",
       " 'Horas de Preparação': '',\n",
       " 'Horas de Deslocamento': '',\n",
       " 'Horas de Execução': '',\n",
       " 'Horas de conclusão': '',\n",
       " 'Latitude (coordenadas)': '',\n",
       " 'Longitude (coordenadas)': '',\n",
       " 'Frequência inicial': '',\n",
       " 'Unidade da frequência inicial': '',\n",
       " 'Frequência final': '',\n",
       " 'Unidade da frequência final': ''}"
      ]
     },
     "execution_count": null,
     "metadata": {},
     "output_type": "execute_result"
    }
   ],
   "source": [
    "detalhar_inspecao(INSP, fiscaliza)"
   ]
  },
  {
   "cell_type": "markdown",
   "id": "88f31b70",
   "metadata": {},
   "source": [
    "## Andamento -> Relatando"
   ]
  },
  {
   "cell_type": "code",
   "execution_count": null,
   "id": "db27b84c",
   "metadata": {},
   "outputs": [],
   "source": [
    "#hide\n",
    "d = {}\n",
    "d['Frequência inicial']  = 54\n",
    "d['Unidade da frequência inicial'] = 'MHz'\n",
    "d['Frequência final'] = 700\n",
    "d['Unidade da frequência final'] = 'MHz'\n",
    "d['Data de início'] = '2021-03-19'\n",
    "d['Data limite'] = '2021-12-31'"
   ]
  },
  {
   "cell_type": "code",
   "execution_count": null,
   "id": "471a5360",
   "metadata": {},
   "outputs": [
    {
     "data": {
      "text/plain": [
       "True"
      ]
     },
     "execution_count": null,
     "metadata": {},
     "output_type": "execute_result"
    }
   ],
   "source": [
    "#hide\n",
    "andamento2relatando(INSP, d, fiscaliza)"
   ]
  },
  {
   "cell_type": "code",
   "execution_count": null,
   "id": "d0c65a74",
   "metadata": {},
   "outputs": [
    {
     "data": {
      "text/plain": [
       "{'id': '36964',\n",
       " 'subject': 'INSP_GR01_2020_0085',\n",
       " 'status': 'Relatando',\n",
       " 'priority': 'Normal',\n",
       " 'start_date': '2021-03-19',\n",
       " 'due_date': '2021-12-31',\n",
       " 'Classe da Inspeção': '{\"valor\":\"Técnica\",\"texto\":\"Técnica\"}',\n",
       " 'Tipo de inspeção': '{\"valor\":\"Uso do Espectro - Monitoração\",\"texto\":\"Uso do Espectro - Monitoração\"}',\n",
       " 'Descrição da Inspeção': 'Atendimento da Denúncia AC202010213075425 (6104512), \\n  verificação da Potência e Intensidade de Campo Elétrico da Frequência 105.1MHz e seus harmônicos, \\n  além da checagem de Intermodulação e Espúrios nas frequências 450.3MHz e 750MHz.',\n",
       " 'Fiscal responsável ': '887',\n",
       " 'Fiscais ': ['607', '887', '165'],\n",
       " 'UF/Município': [],\n",
       " 'Serviços da Inspeção': [],\n",
       " 'Qnt. de emissões na faixa': '',\n",
       " 'Emissões não autorizadas/desc': '',\n",
       " 'Horas de Preparação': '',\n",
       " 'Horas de Deslocamento': '',\n",
       " 'Horas de Execução': '',\n",
       " 'Horas de conclusão': '',\n",
       " 'Latitude (coordenadas)': '',\n",
       " 'Longitude (coordenadas)': '',\n",
       " 'Frequência inicial': '54',\n",
       " 'Unidade da frequência inicial': 'MHz',\n",
       " 'Frequência final': '700',\n",
       " 'Unidade da frequência final': 'MHz'}"
      ]
     },
     "execution_count": null,
     "metadata": {},
     "output_type": "execute_result"
    }
   ],
   "source": [
    "detalhar_inspecao(INSP, fiscaliza)"
   ]
  },
  {
   "cell_type": "markdown",
   "id": "22e92a6c",
   "metadata": {},
   "source": [
    "## Relatando -> Relatada\n",
    "O Relatório de Atividades Criado no SEI no passo anterior deve estar assinado."
   ]
  },
  {
   "cell_type": "markdown",
   "id": "5f40aeca",
   "metadata": {},
   "source": [
    "### 1 Município e 1 Serviço"
   ]
  },
  {
   "cell_type": "code",
   "execution_count": null,
   "id": "015bbe2e",
   "metadata": {},
   "outputs": [],
   "source": [
    "#hide\n",
    "d = {}\n",
    "d['UF/Município'] = \"SP/São Paulo\"\n",
    "d['Serviços da Inspeção'] = '230'\n",
    "d['Qnt. de emissões na faixa'] = 12\n",
    "d['Emissões não autorizadas/desc'] = 70\n",
    "d['Horas de Preparação'] = 2\n",
    "d['Horas de Deslocamento'] = 0\n",
    "d['Horas de Execução'] = 32\n",
    "d['Horas de conclusão'] = 6\n",
    "d['Latitude (coordenadas)'] = -22.94694\n",
    "d['Longitude (coordenadas)'] = -43.21944\n",
    "d['Uso de PF'] = 'Não se aplica PF - uso apenas de formulários'\n",
    "d['Ação de risco à vida criada?'] = 'Não'\n",
    "d['Impossibilidade acesso online?'] = '0'"
   ]
  },
  {
   "cell_type": "code",
   "execution_count": null,
   "id": "90d8b68d",
   "metadata": {},
   "outputs": [
    {
     "data": {
      "text/plain": [
       "True"
      ]
     },
     "execution_count": null,
     "metadata": {},
     "output_type": "execute_result"
    }
   ],
   "source": [
    "#hide\n",
    "relatando2relatado(INSP, d, fiscaliza)"
   ]
  },
  {
   "cell_type": "code",
   "execution_count": null,
   "id": "d94c28b0",
   "metadata": {},
   "outputs": [
    {
     "data": {
      "text/plain": [
       "{'id': '36964',\n",
       " 'subject': 'INSP_GR01_2020_0085',\n",
       " 'status': 'Relatada',\n",
       " 'priority': 'Normal',\n",
       " 'start_date': '2021-03-19',\n",
       " 'due_date': '2021-12-31',\n",
       " 'Classe da Inspeção': '{\"valor\":\"Técnica\",\"texto\":\"Técnica\"}',\n",
       " 'Tipo de inspeção': '{\"valor\":\"Uso do Espectro - Monitoração\",\"texto\":\"Uso do Espectro - Monitoração\"}',\n",
       " 'Descrição da Inspeção': 'Atendimento da Denúncia AC202010213075425 (6104512), \\n  verificação da Potência e Intensidade de Campo Elétrico da Frequência 105.1MHz e seus harmônicos, \\n  além da checagem de Intermodulação e Espúrios nas frequências 450.3MHz e 750MHz.',\n",
       " 'Fiscal responsável ': '887',\n",
       " 'Fiscais ': ['165', '887', '607'],\n",
       " 'UF/Município': ['{\"valor\":\"SP/São Paulo\",\"texto\":\"SP/São Paulo\"}'],\n",
       " 'Serviços da Inspeção': ['{\"valor\":\"230 - COLETIVO - RADIODIFUSÃO SONORA EM FREQÜÊNCIA MODULADA\",\"texto\":\"230 - COLETIVO - RADIODIFUSÃO SONORA EM FREQÜÊNCIA MODULADA\"}'],\n",
       " 'Qnt. de emissões na faixa': '12',\n",
       " 'Emissões não autorizadas/desc': '70',\n",
       " 'Horas de Preparação': '2',\n",
       " 'Horas de Deslocamento': '0',\n",
       " 'Horas de Execução': '32',\n",
       " 'Horas de conclusão': '6',\n",
       " 'Latitude (coordenadas)': '-22.94694',\n",
       " 'Longitude (coordenadas)': '-43.21944',\n",
       " 'Frequência inicial': '54',\n",
       " 'Unidade da frequência inicial': 'MHz',\n",
       " 'Frequência final': '700',\n",
       " 'Unidade da frequência final': 'MHz'}"
      ]
     },
     "execution_count": null,
     "metadata": {},
     "output_type": "execute_result"
    }
   ],
   "source": [
    "detalhar_inspecao(INSP, fiscaliza)"
   ]
  },
  {
   "cell_type": "markdown",
   "id": "35637662",
   "metadata": {},
   "source": [
    "### Adicionar uma tabela ao journal\n",
    "Primeira linha é o título da tabelas, separado por vírgula, demais linhas são os valores. "
   ]
  },
  {
   "cell_type": "code",
   "execution_count": null,
   "id": "13abd60b",
   "metadata": {},
   "outputs": [],
   "source": [
    "#hide\n",
    "journal = \"\"\"Faixa, Classe Especial, Classe A, Classe B, Classe C\n",
    "VHF-L,0,5,7,5\n",
    "VHF-H,0,12,1,0\n",
    "UHF,1,1,2,4\n",
    "FM,5,1,0,0\n",
    "RADCOM,0,0,0,0\n",
    "Outorgadas com indícios de irregularidades,1,2,3,4\n",
    "\"\"\""
   ]
  },
  {
   "cell_type": "code",
   "execution_count": null,
   "id": "93aae28d",
   "metadata": {},
   "outputs": [],
   "source": [
    "#hide\n",
    "def journal2table(journal):\n",
    "    table = [[r.strip() for r in j.split(',')] for j in journal.split('\\n') if j]\n",
    "    assert len(set([len(t) for t in table])) == 1, 'A tabela não possui todas as linhas com o mesmo número de colunas'\n",
    "    df = pd.DataFrame(table[1:], columns=table[0])\n",
    "    return df.to_markdown(index=False, tablefmt='textile')"
   ]
  },
  {
   "cell_type": "code",
   "execution_count": null,
   "id": "8c2d53ef",
   "metadata": {},
   "outputs": [
    {
     "ename": "TypeError",
     "evalue": "auth_user() missing 2 required positional arguments: 'username' and 'password'",
     "output_type": "error",
     "traceback": [
      "\u001b[1;31m---------------------------------------------------------------------------\u001b[0m",
      "\u001b[1;31mTypeError\u001b[0m                                 Traceback (most recent call last)",
      "\u001b[1;32m<ipython-input-71-75151d88ea3f>\u001b[0m in \u001b[0;36m<module>\u001b[1;34m\u001b[0m\n\u001b[0;32m      1\u001b[0m \u001b[1;31m#hide\u001b[0m\u001b[1;33m\u001b[0m\u001b[1;33m\u001b[0m\u001b[1;33m\u001b[0m\u001b[0m\n\u001b[0;32m      2\u001b[0m \u001b[0mnotes\u001b[0m \u001b[1;33m=\u001b[0m \u001b[0mjournal2table\u001b[0m\u001b[1;33m(\u001b[0m\u001b[0mjournal\u001b[0m\u001b[1;33m)\u001b[0m\u001b[1;33m\u001b[0m\u001b[1;33m\u001b[0m\u001b[0m\n\u001b[1;32m----> 3\u001b[1;33m \u001b[0mrelatando2relatado\u001b[0m\u001b[1;33m(\u001b[0m\u001b[0mINSP\u001b[0m\u001b[1;33m,\u001b[0m \u001b[0md\u001b[0m\u001b[1;33m,\u001b[0m \u001b[0mnotes\u001b[0m\u001b[1;33m=\u001b[0m\u001b[0mnotes\u001b[0m\u001b[1;33m)\u001b[0m\u001b[1;33m\u001b[0m\u001b[1;33m\u001b[0m\u001b[0m\n\u001b[0m",
      "\u001b[1;32m<ipython-input-26-721f71548e6e>\u001b[0m in \u001b[0;36mrelatando2relatado\u001b[1;34m(insp, fields, fiscaliza, notes)\u001b[0m\n\u001b[0;32m     41\u001b[0m \u001b[1;32mdef\u001b[0m \u001b[0mrelatando2relatado\u001b[0m\u001b[1;33m(\u001b[0m\u001b[0minsp\u001b[0m\u001b[1;33m,\u001b[0m \u001b[0mfields\u001b[0m\u001b[1;33m,\u001b[0m \u001b[0mfiscaliza\u001b[0m\u001b[1;33m=\u001b[0m\u001b[1;32mNone\u001b[0m\u001b[1;33m,\u001b[0m \u001b[0mnotes\u001b[0m \u001b[1;33m=\u001b[0m \u001b[1;32mNone\u001b[0m\u001b[1;33m)\u001b[0m\u001b[1;33m:\u001b[0m\u001b[1;33m\u001b[0m\u001b[1;33m\u001b[0m\u001b[0m\n\u001b[0;32m     42\u001b[0m     \u001b[1;32mif\u001b[0m \u001b[0mfiscaliza\u001b[0m \u001b[1;32mis\u001b[0m \u001b[1;32mNone\u001b[0m\u001b[1;33m:\u001b[0m\u001b[1;33m\u001b[0m\u001b[1;33m\u001b[0m\u001b[0m\n\u001b[1;32m---> 43\u001b[1;33m         \u001b[0mfiscaliza\u001b[0m \u001b[1;33m=\u001b[0m \u001b[0mauth_user\u001b[0m\u001b[1;33m(\u001b[0m\u001b[1;33m)\u001b[0m\u001b[1;33m\u001b[0m\u001b[1;33m\u001b[0m\u001b[0m\n\u001b[0m\u001b[0;32m     44\u001b[0m     \u001b[0missue\u001b[0m \u001b[1;33m=\u001b[0m \u001b[0mfiscaliza\u001b[0m\u001b[1;33m.\u001b[0m\u001b[0missue\u001b[0m\u001b[1;33m.\u001b[0m\u001b[0mget\u001b[0m\u001b[1;33m(\u001b[0m\u001b[0minsp\u001b[0m\u001b[1;33m,\u001b[0m \u001b[0minclude\u001b[0m\u001b[1;33m=\u001b[0m\u001b[1;33m[\u001b[0m\u001b[1;34m'relations'\u001b[0m\u001b[1;33m,\u001b[0m \u001b[1;34m'attachments'\u001b[0m\u001b[1;33m]\u001b[0m\u001b[1;33m)\u001b[0m\u001b[1;33m\u001b[0m\u001b[1;33m\u001b[0m\u001b[0m\n\u001b[0;32m     45\u001b[0m     \u001b[0mstatus\u001b[0m \u001b[1;33m=\u001b[0m \u001b[0mstr\u001b[0m\u001b[1;33m(\u001b[0m\u001b[0mgetattr\u001b[0m\u001b[1;33m(\u001b[0m\u001b[0missue\u001b[0m\u001b[1;33m,\u001b[0m \u001b[1;34m'status'\u001b[0m\u001b[1;33m,\u001b[0m \u001b[1;34m''\u001b[0m\u001b[1;33m)\u001b[0m\u001b[1;33m)\u001b[0m\u001b[1;33m\u001b[0m\u001b[1;33m\u001b[0m\u001b[0m\n",
      "\u001b[1;31mTypeError\u001b[0m: auth_user() missing 2 required positional arguments: 'username' and 'password'"
     ]
    }
   ],
   "source": [
    "#hide\n",
    "notes = journal2table(journal)\n",
    "relatando2relatado(INSP, d, notes=notes)"
   ]
  },
  {
   "cell_type": "code",
   "execution_count": null,
   "id": "a167dd3d",
   "metadata": {},
   "outputs": [],
   "source": [
    "#hide\n",
    "d = detalhar_inspecao(INSP) ; d"
   ]
  },
  {
   "cell_type": "code",
   "execution_count": null,
   "id": "d0452b99",
   "metadata": {},
   "outputs": [],
   "source": [
    "from nbdev.export import notebook2script\n",
    "notebook2script()"
   ]
  }
 ],
 "metadata": {
  "kernelspec": {
   "display_name": "Python [conda env:anateldb]",
   "language": "python",
   "name": "conda-env-anateldb-py"
  }
 },
 "nbformat": 4,
 "nbformat_minor": 5
}
