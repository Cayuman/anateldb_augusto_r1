{
 "cells": [
  {
   "cell_type": "code",
   "execution_count": null,
   "id": "645c9ef4",
   "metadata": {},
   "outputs": [],
   "source": [
    "#default_exp filter\n",
    "%load_ext autoreload\n",
    "%autoreload 2"
   ]
  },
  {
   "cell_type": "markdown",
   "id": "4e6fa396",
   "metadata": {},
   "source": [
    "# Filtragem\n",
    "> Este módulo concentra funções auxiliares específicas que filtram os dados do banco com campos e formatação de interesse para aplicações específicas como o [appAnalise](https://github.com/EricMagalhaesDelgado/appAnalise) por exemplo."
   ]
  },
  {
   "cell_type": "code",
   "execution_count": null,
   "id": "00ebac1d",
   "metadata": {},
   "outputs": [],
   "source": [
    "#export\n",
    "from pathlib import Path\n",
    "import pandas as pd\n",
    "from datetime import datetime\n",
    "from anateldb.query import *\n",
    "from anateldb.constants import console\n",
    "from unidecode import unidecode\n",
    "from fastcore.test import *\n",
    "from fastcore.script import call_parse, Param, store_true, bool_arg\n",
    "from pyarrow import ArrowInvalid"
   ]
  },
  {
   "cell_type": "code",
   "execution_count": null,
   "id": "709019b9",
   "metadata": {},
   "outputs": [],
   "source": [
    "#export\n",
    "@call_parse\n",
    "def formatar_db(\n",
    "    path: Param(\"Pasta onde salvar os arquivos\", str),\n",
    "    up_stel: Param(\"Atualizar a base do Stel\", bool_arg) = False, \n",
    "    up_radcom: Param(\"Atualizar a base do Radcom\", bool_arg) = False,\n",
    "    up_mosaico: Param(\"Atualizar a base do Mosaico\", bool_arg) = False,\n",
    ") -> None:\n",
    "    dest = Path(path)\n",
    "    dest.mkdir(parents=True, exist_ok=True)\n",
    "    time = datetime.today().strftime(\"%d/%m/%Y %H:%M:%S\")\n",
    "    console.print(\":scroll:[green]Lendo as bases de dados...\")\n",
    "    rd = read_base(path, up_stel, up_radcom, up_mosaico)\n",
    "    rd['Validade_RF'] = rd.Validade_RF.astype('string').fillna('')\n",
    "    rd['Data_Ato'] = rd.Data_Ato.astype('string').fillna('')\n",
    "    rd['Status'] = rd.Status.astype('string')\n",
    "    rd['Classe'] = rd.Classe.astype('string')\n",
    "    rd.loc[rd['Status'] != '', 'Status'] = rd.loc[rd['Status'] != '', 'Status'] + \", \" \\\n",
    "        + rd.loc[rd['Status'] != '', 'Classe']\n",
    "    rd.loc[rd['Status'].isna(), 'Status'] = rd.loc[rd['Status'].isna(), 'Num_Serviço'].astype('string')\n",
    "\n",
    "    rd[\"Descrição\"] = (\n",
    "        rd.Status\n",
    "        + \", \"\n",
    "        + rd.Entidade.astype('string').str.title()\n",
    "        + \" (\"\n",
    "        + rd.Fistel.astype('string')\n",
    "        + \", \"\n",
    "        + rd[\"Número_da_Estação\"].astype('string')\n",
    "        + \"), \"\n",
    "        + rd.Município.astype('string')\n",
    "        + \"/\"\n",
    "        + rd.UF.astype('string')\n",
    "    )\n",
    "\n",
    "    export_columns = [\n",
    "        \"Frequência\",\n",
    "        \"Latitude\",\n",
    "        \"Longitude\",\n",
    "        \"Descrição\",\n",
    "        \"Num_Serviço\",\n",
    "        \"Número_da_Estação\",\n",
    "        \"Num_Ato\",\n",
    "        \"Data_Ato\",\n",
    "        \"Validade_RF\",\n",
    "    ]\n",
    "    rd = rd.loc[:, export_columns]\n",
    "    rd.columns = APP_ANALISE\n",
    "    console.print(\":card_file_box:[green]Salvando os arquivos...\")\n",
    "    date = pd.DataFrame(columns=[time])\n",
    "    try:\n",
    "        rd.to_feather(f\"{dest}/AnatelDB.fth\")\n",
    "    except ArrowInvalid:\n",
    "        with pd.ExcelWriter(f\"{dest}/AnatelDB.xlsx\") as workbook:\n",
    "            date.to_excel(workbook, sheet_name=\"ExtractDate\", index=False)\n",
    "            rd.to_excel(workbook, sheet_name=\"DataBase\", index=False)\n",
    "    console.print(\"Sucesso :zap:\")"
   ]
  },
  {
   "cell_type": "code",
   "execution_count": null,
   "id": "e08f4e26-de85-4ba1-8f96-4ff342c0f2b0",
   "metadata": {},
   "outputs": [],
   "source": [
    "pasta = r'D:\\Code\\BaseDados'"
   ]
  },
  {
   "cell_type": "code",
   "execution_count": null,
   "id": "9dca7357",
   "metadata": {},
   "outputs": [
    {
     "data": {
      "text/html": [
       "<pre style=\"white-space:pre;overflow-x:auto;line-height:normal;font-family:Menlo,'DejaVu Sans Mono',consolas,'Courier New',monospace\">📜<span style=\"color: #008000; text-decoration-color: #008000\">Lendo as bases de dados...</span>\n",
       "</pre>\n"
      ],
      "text/plain": [
       "📜\u001b[32mLendo as bases de dados\u001b[0m\u001b[32m...\u001b[0m\n"
      ]
     },
     "metadata": {},
     "output_type": "display_data"
    },
    {
     "data": {
      "text/html": [
       "<pre style=\"white-space:pre;overflow-x:auto;line-height:normal;font-family:Menlo,'DejaVu Sans Mono',consolas,'Courier New',monospace\">🗃<span style=\"color: #008000; text-decoration-color: #008000\">Salvando os arquivos...</span>\n",
       "</pre>\n"
      ],
      "text/plain": [
       "🗃\u001b[32mSalvando os arquivos\u001b[0m\u001b[32m...\u001b[0m\n"
      ]
     },
     "metadata": {},
     "output_type": "display_data"
    },
    {
     "data": {
      "text/html": [
       "<pre style=\"white-space:pre;overflow-x:auto;line-height:normal;font-family:Menlo,'DejaVu Sans Mono',consolas,'Courier New',monospace\">Sucesso ⚡\n",
       "</pre>\n"
      ],
      "text/plain": [
       "Sucesso ⚡\n"
      ]
     },
     "metadata": {},
     "output_type": "display_data"
    }
   ],
   "source": [
    "formatar_db(pasta)"
   ]
  },
  {
   "cell_type": "code",
   "execution_count": null,
   "id": "df7c3102-debd-4e72-a43a-c80764da57de",
   "metadata": {},
   "outputs": [],
   "source": [
    "pasta = r'D:\\Code\\BaseDados'"
   ]
  },
  {
   "cell_type": "code",
   "execution_count": null,
   "id": "ce71dca4-9c5f-4d64-b262-6835dbc3339e",
   "metadata": {},
   "outputs": [],
   "source": [
    "#rd = read_base(path)"
   ]
  },
  {
   "cell_type": "code",
   "execution_count": null,
   "id": "309a234a",
   "metadata": {},
   "outputs": [
    {
     "name": "stdout",
     "output_type": "stream",
     "text": [
      "Converted constants.ipynb.\n",
      "Converted filter.ipynb.\n",
      "Converted index.ipynb.\n",
      "Converted queries.ipynb.\n"
     ]
    }
   ],
   "source": [
    "from nbdev.export import notebook2script; notebook2script()"
   ]
  }
 ],
 "metadata": {
  "kernelspec": {
   "display_name": "Python [conda env:anateldb]",
   "language": "python",
   "name": "conda-env-anateldb-py"
  }
 },
 "nbformat": 4,
 "nbformat_minor": 5
}
