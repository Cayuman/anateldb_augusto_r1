{
 "cells": [
  {
   "cell_type": "code",
   "execution_count": null,
   "id": "645c9ef4",
   "metadata": {},
   "outputs": [],
   "source": [
    "#default_exp filter\n",
    "%load_ext autoreload\n",
    "%autoreload 2"
   ]
  },
  {
   "cell_type": "markdown",
   "id": "4e6fa396",
   "metadata": {},
   "source": [
    "# Filtragem\n",
    "> Este módulo concentra funções auxiliares específicas que filtram os dados do banco com campos e formatação de interesse para aplicações específicas como o [appAnalise](https://github.com/EricMagalhaesDelgado/appAnalise) por exemplo."
   ]
  },
  {
   "cell_type": "code",
   "execution_count": null,
   "id": "00ebac1d",
   "metadata": {},
   "outputs": [],
   "source": [
    "#export\n",
    "from pathlib import Path\n",
    "import json\n",
    "import pandas as pd\n",
    "from datetime import datetime\n",
    "from anateldb.query import *\n",
    "from anateldb.constants import console, APP_ANALISE\n",
    "from unidecode import unidecode\n",
    "from fastcore.test import *\n",
    "from fastcore.script import call_parse, Param, store_true, bool_arg\n",
    "from pyarrow import ArrowInvalid\n",
    "from rich import print"
   ]
  },
  {
   "cell_type": "code",
   "execution_count": null,
   "id": "781effc9-f8bf-40e4-8942-859981b95335",
   "metadata": {},
   "outputs": [],
   "source": [
    "#export\n",
    "def bump_version(version, part=2):\n",
    "    version = version.split('.')\n",
    "    version[part] = str(int(version[part]) + 1)\n",
    "    for i in range(part+1, 3): version[i] = '0'\n",
    "    return '.'.join(version)"
   ]
  },
  {
   "cell_type": "code",
   "execution_count": null,
   "id": "709019b9",
   "metadata": {},
   "outputs": [],
   "source": [
    "#export\n",
    "@call_parse\n",
    "def formatar_db(\n",
    "    path: Param(\"Pasta onde salvar os arquivos\", str),\n",
    "    up_stel: Param(\"Atualizar a base do Stel\", store_true) = False, \n",
    "    up_radcom: Param(\"Atualizar a base do Radcom\", store_true) = False,\n",
    "    up_mosaico: Param(\"Atualizar a base do Mosaico\", store_true) = False,\n",
    ") -> None:\n",
    "    dest = Path(path)\n",
    "    dest.mkdir(parents=True, exist_ok=True)\n",
    "    time = datetime.today().strftime(\"%d/%m/%Y %H:%M:%S\")\n",
    "    console.print(\":scroll:[green]Lendo as bases de dados...\")\n",
    "    rd = read_base(path, up_stel, up_radcom, up_mosaico)\n",
    "    rd['Validade_RF'] = rd.Validade_RF.astype('string').fillna('')\n",
    "    rd['Data_Ato'] = rd.Data_Ato.astype('string').fillna('')\n",
    "    rd['Status'] = rd.Status.astype('string')\n",
    "    rd['Classe'] = rd.Classe.astype('string')\n",
    "    rd.loc[rd['Status'] != '', 'Status'] = rd.loc[rd['Status'] != '', 'Status'] + \", \" \\\n",
    "        + rd.loc[rd['Status'] != '', 'Classe']\n",
    "    rd.loc[rd['Status'].isna(), 'Status'] = rd.loc[rd['Status'].isna(), 'Num_Serviço'].astype('string')\n",
    "\n",
    "    rd[\"Descrição\"] = (\n",
    "        rd.Status\n",
    "        + \", \"\n",
    "        + rd.Entidade.astype('string').str.title()\n",
    "        + \" (\"\n",
    "        + rd.Fistel.astype('string')\n",
    "        + \", \"\n",
    "        + rd[\"Número_da_Estação\"].astype('string')\n",
    "        + \"), \"\n",
    "        + rd.Município.astype('string')\n",
    "        + \"/\"\n",
    "        + rd.UF.astype('string')\n",
    "    )\n",
    "\n",
    "    export_columns = [\n",
    "        \"Frequência\",\n",
    "        \"Latitude\",\n",
    "        \"Longitude\",\n",
    "        \"Descrição\",\n",
    "        \"Num_Serviço\",\n",
    "        \"Número_da_Estação\",\n",
    "        \"Classe_Emissão\",\n",
    "        \"Largura_Emissão\",\n",
    "        \"Num_Ato\",\n",
    "        \"Data_Ato\",\n",
    "        \"Validade_RF\",\n",
    "    ]\n",
    "    rd = rd.loc[:, export_columns]\n",
    "    df_optimize(rd, exclude=['Frequência'])\n",
    "    rd.columns = APP_ANALISE\n",
    "    console.print(\":card_file_box:[green]Salvando os arquivos...\")\n",
    "    d = json.loads((dest / 'VersionFile.json').read_text())\n",
    "    try:\n",
    "        cache = pd.read_feather(f\"{dest}/AnatelDB.fth\")\n",
    "    except (ArrowInvalid, FileNotFoundError):\n",
    "        cache = pd.DataFrame()\n",
    "    \n",
    "    if not rd.equals(cache):\n",
    "        console.print(\":new: [green] A base de dados mudou desde a última atualização! Salvando o novo arquivo e atualizando a versão\")\n",
    "        date = pd.DataFrame(columns=[time])\n",
    "        try:\n",
    "            rd.to_feather(Path(f\"{dest}/AnatelDB.fth\").open('bw'))\n",
    "        except ArrowInvalid:\n",
    "            Path(f\"{dest}/AnatelDB.fth\").unlink()\n",
    "        with pd.ExcelWriter(f\"{dest}/AnatelDB.xlsx\") as workbook:\n",
    "            date.to_excel(workbook, sheet_name=\"ExtractDate\", index=False)\n",
    "            rd.to_excel(workbook, sheet_name=\"DataBase\", index=False)\n",
    "        d['anateldb']['Version'] = bump_version(d['anateldb']['Version'])\n",
    "    else:\n",
    "        console.print(\":recycle: [green] A base de dados não mudou desde a última atualização, a versão não será atualizada, somente a data de verificação\")\n",
    "\n",
    "\n",
    "    console.print(\"Sucesso :zap:\")    \n",
    "    d['anateldb']['ReleaseDate'] = datetime.today().strftime('%d/%m/%Y')\n",
    "    json.dump(d, (dest / 'VersionFile.json').open('w'))"
   ]
  },
  {
   "cell_type": "code",
   "execution_count": null,
   "id": "e08f4e26-de85-4ba1-8f96-4ff342c0f2b0",
   "metadata": {},
   "outputs": [],
   "source": [
    "pasta = Path(r'G:\\Meu Drive\\repos\\Code\\AnatelDatabase')"
   ]
  },
  {
   "cell_type": "code",
   "execution_count": null,
   "id": "1425a8b2-604b-40b6-a1ab-56404f53bbb9",
   "metadata": {},
   "outputs": [],
   "source": [
    "if not pasta.exists():\n",
    "    import subprocess\n",
    "    result = subprocess.run(['git', 'clone', 'https://github.com/ronaldokun/AnatelDatabase.git'])\n",
    "    pasta = Path.cwd() / 'AnatelDatabase'"
   ]
  },
  {
   "cell_type": "code",
   "execution_count": null,
   "id": "5f6f8b9f-1556-48a3-8538-981e8ba19ce8",
   "metadata": {},
   "outputs": [
    {
     "data": {
      "text/html": [
       "<pre style=\"white-space:pre;overflow-x:auto;line-height:normal;font-family:Menlo,'DejaVu Sans Mono',consolas,'Courier New',monospace\"><span style=\"color: #008000; text-decoration-color: #008000\">🌕 </span> <span style=\"color: #800080; text-decoration-color: #800080\">Lendo o Banco de Dados do STEL. Processo Lento, aguarde...</span>\n",
       "</pre>\n"
      ],
      "text/plain": [
       "\u001b[32m🌕 \u001b[0m \u001b[35mLendo o Banco de Dados do STEL. Processo Lento, aguarde...\u001b[0m\n"
      ]
     },
     "metadata": {},
     "output_type": "display_data"
    },
    {
     "data": {
      "text/html": [
       "<pre style=\"white-space:pre;overflow-x:auto;line-height:normal;font-family:Menlo,'DejaVu Sans Mono',consolas,'Courier New',monospace\"></pre>\n"
      ],
      "text/plain": []
     },
     "metadata": {},
     "output_type": "display_data"
    },
    {
     "ename": "InterfaceError",
     "evalue": "('28000', '[28000] [Microsoft][ODBC Driver 17 for SQL Server][SQL Server]Login failed for user \\'ANATEL\\\\rsilva\\'. (18456) (SQLDriverConnect); [28000] [Microsoft][ODBC Driver 17 for SQL Server][SQL Server]Cannot open database \"SITARWEB\" requested by the login. The login failed. (4060); [28000] [Microsoft][ODBC Driver 17 for SQL Server]Atributo de cadeia de conexão inválido (0); [28000] [Microsoft][ODBC Driver 17 for SQL Server][SQL Server]Login failed for user \\'ANATEL\\\\rsilva\\'. (18456); [28000] [Microsoft][ODBC Driver 17 for SQL Server][SQL Server]Cannot open database \"SITARWEB\" requested by the login. The login failed. (4060); [28000] [Microsoft][ODBC Driver 17 for SQL Server]Atributo de cadeia de conexão inválido (0)')",
     "output_type": "error",
     "traceback": [
      "\u001b[1;31m---------------------------------------------------------------------------\u001b[0m",
      "\u001b[1;31mInterfaceError\u001b[0m                            Traceback (most recent call last)",
      "\u001b[1;32m~\\AppData\\Local\\Temp/ipykernel_4380/883569631.py\u001b[0m in \u001b[0;36m<module>\u001b[1;34m\u001b[0m\n\u001b[1;32m----> 1\u001b[1;33m \u001b[0mformatar_db\u001b[0m\u001b[1;33m(\u001b[0m\u001b[0mpasta\u001b[0m\u001b[1;33m,\u001b[0m \u001b[1;32mTrue\u001b[0m\u001b[1;33m,\u001b[0m \u001b[1;32mTrue\u001b[0m\u001b[1;33m,\u001b[0m \u001b[1;32mTrue\u001b[0m\u001b[1;33m)\u001b[0m\u001b[1;33m\u001b[0m\u001b[1;33m\u001b[0m\u001b[0m\n\u001b[0m",
      "\u001b[1;32m~\\AppData\\Local\\Temp/ipykernel_4380/3266498151.py\u001b[0m in \u001b[0;36mformatar_db\u001b[1;34m(path, up_stel, up_radcom, up_mosaico)\u001b[0m\n\u001b[0;32m     11\u001b[0m     \u001b[0mtime\u001b[0m \u001b[1;33m=\u001b[0m \u001b[0mdatetime\u001b[0m\u001b[1;33m.\u001b[0m\u001b[0mtoday\u001b[0m\u001b[1;33m(\u001b[0m\u001b[1;33m)\u001b[0m\u001b[1;33m.\u001b[0m\u001b[0mstrftime\u001b[0m\u001b[1;33m(\u001b[0m\u001b[1;34m\"%d/%m/%Y %H:%M:%S\"\u001b[0m\u001b[1;33m)\u001b[0m\u001b[1;33m\u001b[0m\u001b[1;33m\u001b[0m\u001b[0m\n\u001b[0;32m     12\u001b[0m     \u001b[0mconsole\u001b[0m\u001b[1;33m.\u001b[0m\u001b[0mprint\u001b[0m\u001b[1;33m(\u001b[0m\u001b[1;34m\":scroll:[green]Lendo as bases de dados...\"\u001b[0m\u001b[1;33m)\u001b[0m\u001b[1;33m\u001b[0m\u001b[1;33m\u001b[0m\u001b[0m\n\u001b[1;32m---> 13\u001b[1;33m     \u001b[0mrd\u001b[0m \u001b[1;33m=\u001b[0m \u001b[0mread_base\u001b[0m\u001b[1;33m(\u001b[0m\u001b[0mpath\u001b[0m\u001b[1;33m,\u001b[0m \u001b[0mup_stel\u001b[0m\u001b[1;33m,\u001b[0m \u001b[0mup_radcom\u001b[0m\u001b[1;33m,\u001b[0m \u001b[0mup_mosaico\u001b[0m\u001b[1;33m)\u001b[0m\u001b[1;33m\u001b[0m\u001b[1;33m\u001b[0m\u001b[0m\n\u001b[0m\u001b[0;32m     14\u001b[0m     \u001b[0mrd\u001b[0m\u001b[1;33m[\u001b[0m\u001b[1;34m'Validade_RF'\u001b[0m\u001b[1;33m]\u001b[0m \u001b[1;33m=\u001b[0m \u001b[0mrd\u001b[0m\u001b[1;33m.\u001b[0m\u001b[0mValidade_RF\u001b[0m\u001b[1;33m.\u001b[0m\u001b[0mastype\u001b[0m\u001b[1;33m(\u001b[0m\u001b[1;34m'string'\u001b[0m\u001b[1;33m)\u001b[0m\u001b[1;33m.\u001b[0m\u001b[0mfillna\u001b[0m\u001b[1;33m(\u001b[0m\u001b[1;34m''\u001b[0m\u001b[1;33m)\u001b[0m\u001b[1;33m\u001b[0m\u001b[1;33m\u001b[0m\u001b[0m\n\u001b[0;32m     15\u001b[0m     \u001b[0mrd\u001b[0m\u001b[1;33m[\u001b[0m\u001b[1;34m'Data_Ato'\u001b[0m\u001b[1;33m]\u001b[0m \u001b[1;33m=\u001b[0m \u001b[0mrd\u001b[0m\u001b[1;33m.\u001b[0m\u001b[0mData_Ato\u001b[0m\u001b[1;33m.\u001b[0m\u001b[0mastype\u001b[0m\u001b[1;33m(\u001b[0m\u001b[1;34m'string'\u001b[0m\u001b[1;33m)\u001b[0m\u001b[1;33m.\u001b[0m\u001b[0mfillna\u001b[0m\u001b[1;33m(\u001b[0m\u001b[1;34m''\u001b[0m\u001b[1;33m)\u001b[0m\u001b[1;33m\u001b[0m\u001b[1;33m\u001b[0m\u001b[0m\n",
      "\u001b[1;32mG:\\Meu Drive\\repos\\Code\\anateldb\\anateldb\\query.py\u001b[0m in \u001b[0;36mread_base\u001b[1;34m(pasta, up_stel, up_radcom, up_mosaico)\u001b[0m\n\u001b[0;32m    461\u001b[0m     \u001b[1;34m\"\"\"Wrapper que combina a chamada das três funções de leitura do banco e opcionalmente é possível atualizá-las antes da leitura\"\"\"\u001b[0m\u001b[1;33m\u001b[0m\u001b[1;33m\u001b[0m\u001b[0m\n\u001b[0;32m    462\u001b[0m     \u001b[1;32mif\u001b[0m \u001b[0many\u001b[0m\u001b[1;33m(\u001b[0m\u001b[1;33m[\u001b[0m\u001b[0mup_stel\u001b[0m\u001b[1;33m,\u001b[0m \u001b[0mup_radcom\u001b[0m\u001b[1;33m,\u001b[0m \u001b[0mup_mosaico\u001b[0m\u001b[1;33m]\u001b[0m\u001b[1;33m)\u001b[0m\u001b[1;33m:\u001b[0m\u001b[1;33m\u001b[0m\u001b[1;33m\u001b[0m\u001b[0m\n\u001b[1;32m--> 463\u001b[1;33m         \u001b[0mupdate_base\u001b[0m\u001b[1;33m(\u001b[0m\u001b[0mpasta\u001b[0m\u001b[1;33m,\u001b[0m \u001b[0mup_stel\u001b[0m\u001b[1;33m,\u001b[0m \u001b[0mup_radcom\u001b[0m\u001b[1;33m,\u001b[0m \u001b[0mup_mosaico\u001b[0m\u001b[1;33m)\u001b[0m\u001b[1;33m\u001b[0m\u001b[1;33m\u001b[0m\u001b[0m\n\u001b[0m\u001b[0;32m    464\u001b[0m     \u001b[0mfile\u001b[0m \u001b[1;33m=\u001b[0m \u001b[0mPath\u001b[0m\u001b[1;33m(\u001b[0m\u001b[1;34mf\"{pasta}/base.fth\"\u001b[0m\u001b[1;33m)\u001b[0m\u001b[1;33m\u001b[0m\u001b[1;33m\u001b[0m\u001b[0m\n\u001b[0;32m    465\u001b[0m     \u001b[1;32mtry\u001b[0m\u001b[1;33m:\u001b[0m\u001b[1;33m\u001b[0m\u001b[1;33m\u001b[0m\u001b[0m\n",
      "\u001b[1;32mG:\\Meu Drive\\repos\\Code\\anateldb\\anateldb\\query.py\u001b[0m in \u001b[0;36mupdate_base\u001b[1;34m(pasta, up_stel, up_radcom, up_mosaico)\u001b[0m\n\u001b[0;32m    370\u001b[0m \u001b[1;32mdef\u001b[0m \u001b[0mupdate_base\u001b[0m\u001b[1;33m(\u001b[0m\u001b[0mpasta\u001b[0m\u001b[1;33m,\u001b[0m \u001b[0mup_stel\u001b[0m\u001b[1;33m=\u001b[0m\u001b[1;32mFalse\u001b[0m\u001b[1;33m,\u001b[0m \u001b[0mup_radcom\u001b[0m\u001b[1;33m=\u001b[0m\u001b[1;32mFalse\u001b[0m\u001b[1;33m,\u001b[0m \u001b[0mup_mosaico\u001b[0m\u001b[1;33m=\u001b[0m\u001b[1;32mFalse\u001b[0m\u001b[1;33m)\u001b[0m\u001b[1;33m:\u001b[0m\u001b[1;33m\u001b[0m\u001b[1;33m\u001b[0m\u001b[0m\n\u001b[0;32m    371\u001b[0m     \u001b[1;34m\"\"\"Wrapper que atualiza opcionalmente lê e atualiza as três bases indicadas anteriormente, as combina e salva o arquivo consolidado na pasta `pasta`\"\"\"\u001b[0m\u001b[1;33m\u001b[0m\u001b[1;33m\u001b[0m\u001b[0m\n\u001b[1;32m--> 372\u001b[1;33m     \u001b[0mstel\u001b[0m \u001b[1;33m=\u001b[0m \u001b[0mread_stel\u001b[0m\u001b[1;33m(\u001b[0m\u001b[0mpasta\u001b[0m\u001b[1;33m,\u001b[0m \u001b[0mup_stel\u001b[0m\u001b[1;33m)\u001b[0m\u001b[1;33m.\u001b[0m\u001b[0mloc\u001b[0m\u001b[1;33m[\u001b[0m\u001b[1;33m:\u001b[0m\u001b[1;33m,\u001b[0m \u001b[0mTELECOM\u001b[0m\u001b[1;33m]\u001b[0m\u001b[1;33m\u001b[0m\u001b[1;33m\u001b[0m\u001b[0m\n\u001b[0m\u001b[0;32m    373\u001b[0m     \u001b[0mradcom\u001b[0m \u001b[1;33m=\u001b[0m \u001b[0mread_radcom\u001b[0m\u001b[1;33m(\u001b[0m\u001b[0mpasta\u001b[0m\u001b[1;33m,\u001b[0m \u001b[0mup_radcom\u001b[0m\u001b[1;33m)\u001b[0m\u001b[1;33m\u001b[0m\u001b[1;33m\u001b[0m\u001b[0m\n\u001b[0;32m    374\u001b[0m     \u001b[0mradcom\u001b[0m\u001b[1;33m.\u001b[0m\u001b[0mrename\u001b[0m\u001b[1;33m(\u001b[0m\u001b[0mcolumns\u001b[0m\u001b[1;33m=\u001b[0m\u001b[1;33m{\u001b[0m\u001b[1;34m\"Número da Estação\"\u001b[0m\u001b[1;33m:\u001b[0m \u001b[1;34m\"Número_da_Estação\"\u001b[0m\u001b[1;33m}\u001b[0m\u001b[1;33m,\u001b[0m \u001b[0minplace\u001b[0m\u001b[1;33m=\u001b[0m\u001b[1;32mTrue\u001b[0m\u001b[1;33m)\u001b[0m\u001b[1;33m\u001b[0m\u001b[1;33m\u001b[0m\u001b[0m\n",
      "\u001b[1;32mG:\\Meu Drive\\repos\\Code\\anateldb\\anateldb\\query.py\u001b[0m in \u001b[0;36mread_stel\u001b[1;34m(pasta, update)\u001b[0m\n\u001b[0;32m    412\u001b[0m     \u001b[1;34m\"\"\"Lê o banco de dados salvo localmente do STEL. Opcionalmente o atualiza pelo Banco de Dados ANATELBDRO01 caso `update = True` ou não exista o arquivo local\"\"\"\u001b[0m\u001b[1;33m\u001b[0m\u001b[1;33m\u001b[0m\u001b[0m\n\u001b[0;32m    413\u001b[0m     \u001b[1;32mif\u001b[0m \u001b[0mupdate\u001b[0m\u001b[1;33m:\u001b[0m\u001b[1;33m\u001b[0m\u001b[1;33m\u001b[0m\u001b[0m\n\u001b[1;32m--> 414\u001b[1;33m         \u001b[0mupdate_stel\u001b[0m\u001b[1;33m(\u001b[0m\u001b[0mpasta\u001b[0m\u001b[1;33m)\u001b[0m\u001b[1;33m\u001b[0m\u001b[1;33m\u001b[0m\u001b[0m\n\u001b[0m\u001b[0;32m    415\u001b[0m     \u001b[0mfile\u001b[0m \u001b[1;33m=\u001b[0m \u001b[0mPath\u001b[0m\u001b[1;33m(\u001b[0m\u001b[1;34mf\"{pasta}/stel.fth\"\u001b[0m\u001b[1;33m)\u001b[0m\u001b[1;33m\u001b[0m\u001b[1;33m\u001b[0m\u001b[0m\n\u001b[0;32m    416\u001b[0m     \u001b[1;32mtry\u001b[0m\u001b[1;33m:\u001b[0m\u001b[1;33m\u001b[0m\u001b[1;33m\u001b[0m\u001b[0m\n",
      "\u001b[1;32mG:\\Meu Drive\\repos\\Code\\anateldb\\anateldb\\query.py\u001b[0m in \u001b[0;36mupdate_stel\u001b[1;34m(pasta)\u001b[0m\n\u001b[0;32m    317\u001b[0m     ) as status:\n\u001b[0;32m    318\u001b[0m         \u001b[1;32mtry\u001b[0m\u001b[1;33m:\u001b[0m\u001b[1;33m\u001b[0m\u001b[1;33m\u001b[0m\u001b[0m\n\u001b[1;32m--> 319\u001b[1;33m             \u001b[0mconn\u001b[0m \u001b[1;33m=\u001b[0m \u001b[0mconnect_db\u001b[0m\u001b[1;33m(\u001b[0m\u001b[1;33m)\u001b[0m\u001b[1;33m\u001b[0m\u001b[1;33m\u001b[0m\u001b[0m\n\u001b[0m\u001b[0;32m    320\u001b[0m             \u001b[0mdf\u001b[0m \u001b[1;33m=\u001b[0m \u001b[0mpd\u001b[0m\u001b[1;33m.\u001b[0m\u001b[0mread_sql_query\u001b[0m\u001b[1;33m(\u001b[0m\u001b[0mSTEL\u001b[0m\u001b[1;33m,\u001b[0m \u001b[0mconn\u001b[0m\u001b[1;33m)\u001b[0m\u001b[1;33m\u001b[0m\u001b[1;33m\u001b[0m\u001b[0m\n\u001b[0;32m    321\u001b[0m             \u001b[0mdf\u001b[0m\u001b[1;33m[\u001b[0m\u001b[1;34m'Validade_RF'\u001b[0m\u001b[1;33m]\u001b[0m \u001b[1;33m=\u001b[0m \u001b[0mdf\u001b[0m\u001b[1;33m.\u001b[0m\u001b[0mValidade_RF\u001b[0m\u001b[1;33m.\u001b[0m\u001b[0mastype\u001b[0m\u001b[1;33m(\u001b[0m\u001b[1;34m'str'\u001b[0m\u001b[1;33m)\u001b[0m\u001b[1;33m.\u001b[0m\u001b[0mstr\u001b[0m\u001b[1;33m.\u001b[0m\u001b[0mslice\u001b[0m\u001b[1;33m(\u001b[0m\u001b[1;36m0\u001b[0m\u001b[1;33m,\u001b[0m\u001b[1;36m10\u001b[0m\u001b[1;33m)\u001b[0m\u001b[1;33m\u001b[0m\u001b[1;33m\u001b[0m\u001b[0m\n",
      "\u001b[1;32mG:\\Meu Drive\\repos\\Code\\anateldb\\anateldb\\query.py\u001b[0m in \u001b[0;36mconnect_db\u001b[1;34m()\u001b[0m\n\u001b[0;32m     63\u001b[0m \u001b[1;32mdef\u001b[0m \u001b[0mconnect_db\u001b[0m\u001b[1;33m(\u001b[0m\u001b[1;33m)\u001b[0m\u001b[1;33m:\u001b[0m\u001b[1;33m\u001b[0m\u001b[1;33m\u001b[0m\u001b[0m\n\u001b[0;32m     64\u001b[0m     \u001b[1;34m\"\"\"Conecta ao Banco ANATELBDRO01 e retorna o 'cursor' (iterador) do Banco pronto para fazer iterações\"\"\"\u001b[0m\u001b[1;33m\u001b[0m\u001b[1;33m\u001b[0m\u001b[0m\n\u001b[1;32m---> 65\u001b[1;33m     conn = pyodbc.connect(\n\u001b[0m\u001b[0;32m     66\u001b[0m         \u001b[1;34m\"Driver={ODBC Driver 17 for SQL Server};\"\u001b[0m\u001b[1;33m\u001b[0m\u001b[1;33m\u001b[0m\u001b[0m\n\u001b[0;32m     67\u001b[0m         \u001b[1;34m\"Server=ANATELBDRO01;\"\u001b[0m\u001b[1;33m\u001b[0m\u001b[1;33m\u001b[0m\u001b[0m\n",
      "\u001b[1;31mInterfaceError\u001b[0m: ('28000', '[28000] [Microsoft][ODBC Driver 17 for SQL Server][SQL Server]Login failed for user \\'ANATEL\\\\rsilva\\'. (18456) (SQLDriverConnect); [28000] [Microsoft][ODBC Driver 17 for SQL Server][SQL Server]Cannot open database \"SITARWEB\" requested by the login. The login failed. (4060); [28000] [Microsoft][ODBC Driver 17 for SQL Server]Atributo de cadeia de conexão inválido (0); [28000] [Microsoft][ODBC Driver 17 for SQL Server][SQL Server]Login failed for user \\'ANATEL\\\\rsilva\\'. (18456); [28000] [Microsoft][ODBC Driver 17 for SQL Server][SQL Server]Cannot open database \"SITARWEB\" requested by the login. The login failed. (4060); [28000] [Microsoft][ODBC Driver 17 for SQL Server]Atributo de cadeia de conexão inválido (0)')"
     ]
    }
   ],
   "source": [
    "formatar_db(pasta, True, True, True)"
   ]
  },
  {
   "cell_type": "code",
   "execution_count": null,
   "id": "309a234a",
   "metadata": {},
   "outputs": [],
   "source": [
    "from nbdev.export import notebook2script; notebook2script()"
   ]
  },
  {
   "cell_type": "code",
   "execution_count": null,
   "id": "058bdee1-50ee-4c36-9ac6-c5ec9362c004",
   "metadata": {},
   "outputs": [],
   "source": []
  }
 ],
 "metadata": {
  "kernelspec": {
   "display_name": "Python [conda env:db_dev]",
   "language": "python",
   "name": "conda-env-db_dev-py"
  }
 },
 "nbformat": 4,
 "nbformat_minor": 5
}
