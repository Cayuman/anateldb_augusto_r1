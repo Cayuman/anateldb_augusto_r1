{
 "cells": [
  {
   "cell_type": "code",
   "execution_count": null,
   "id": "645c9ef4",
   "metadata": {},
   "outputs": [],
   "source": [
    "#default_exp filter\n",
    "%load_ext autoreload\n",
    "%autoreload 2"
   ]
  },
  {
   "cell_type": "markdown",
   "id": "4e6fa396",
   "metadata": {},
   "source": [
    "# Filtragem\n",
    "> Este módulo concentra funções auxiliares específicas que filtram os dados do banco com campos e formatação de interesse para aplicações específicas como o [appAnalise](https://github.com/EricMagalhaesDelgado/appAnalise) por exemplo."
   ]
  },
  {
   "cell_type": "code",
   "execution_count": null,
   "id": "00ebac1d",
   "metadata": {},
   "outputs": [],
   "source": [
    "#export\n",
    "from pathlib import Path\n",
    "import json\n",
    "import pandas as pd\n",
    "from datetime import datetime\n",
    "from anateldb.query import *\n",
    "from anateldb.constants import console, APP_ANALISE\n",
    "from unidecode import unidecode\n",
    "from fastcore.test import *\n",
    "from fastcore.script import call_parse, Param, store_true, bool_arg\n",
    "from pyarrow import ArrowInvalid\n",
    "from rich import print"
   ]
  },
  {
   "cell_type": "code",
   "execution_count": null,
   "id": "781effc9-f8bf-40e4-8942-859981b95335",
   "metadata": {},
   "outputs": [],
   "source": [
    "#export\n",
    "def bump_version(version, part=2):\n",
    "    version = version.split('.')\n",
    "    version[part] = str(int(version[part]) + 1)\n",
    "    for i in range(part+1, 3): version[i] = '0'\n",
    "    return '.'.join(version)"
   ]
  },
  {
   "cell_type": "code",
   "execution_count": null,
   "id": "709019b9",
   "metadata": {},
   "outputs": [],
   "source": [
    "#export\n",
    "@call_parse\n",
    "def formatar_db(\n",
    "    path: Param(\"Pasta onde salvar os arquivos\", str),\n",
    "    up_stel: Param(\"Atualizar a base do Stel\", store_true) = False, \n",
    "    up_radcom: Param(\"Atualizar a base do Radcom\", store_true) = False,\n",
    "    up_mosaico: Param(\"Atualizar a base do Mosaico\", store_true) = False,\n",
    ") -> None:\n",
    "    dest = Path(path)\n",
    "    dest.mkdir(parents=True, exist_ok=True)\n",
    "    time = datetime.today().strftime(\"%d/%m/%Y %H:%M:%S\")\n",
    "    console.print(\":scroll:[green]Lendo as bases de dados...\")\n",
    "    rd = read_base(path, up_stel, up_radcom, up_mosaico)\n",
    "    rd['Validade_RF'] = rd.Validade_RF.astype('string').fillna('')\n",
    "    rd['Data_Ato'] = rd.Data_Ato.astype('string').fillna('')\n",
    "    rd['Status'] = rd.Status.astype('string')\n",
    "    rd['Classe'] = rd.Classe.astype('string')\n",
    "    rd.loc[rd['Status'] != '', 'Status'] = rd.loc[rd['Status'] != '', 'Status'] + \", \" \\\n",
    "        + rd.loc[rd['Status'] != '', 'Classe']\n",
    "    rd.loc[rd['Status'].isna(), 'Status'] = rd.loc[rd['Status'].isna(), 'Num_Serviço'].astype('string')\n",
    "\n",
    "    rd[\"Descrição\"] = (\n",
    "        rd.Status.astype('string').fillna('-')\n",
    "        + \", \"\n",
    "        + rd.Entidade.astype('string').fillna('-').str.title()\n",
    "        + \" (\"\n",
    "        + rd.Fistel.astype('string').fillna('-')\n",
    "        + \", \"\n",
    "        + rd[\"Número_da_Estação\"].astype('string').fillna('-')\n",
    "        + \"), \"\n",
    "        + rd.Município.astype('string').fillna('-')\n",
    "        + \"/\"\n",
    "        + rd.UF.astype('string').fillna('-')\n",
    "    )\n",
    "\n",
    "    export_columns = [\n",
    "        \"Frequência\",\n",
    "        \"Latitude\",\n",
    "        \"Longitude\",\n",
    "        \"Descrição\",\n",
    "        \"Num_Serviço\",\n",
    "        \"Número_da_Estação\",\n",
    "        \"Classe_Emissão\",\n",
    "        \"Largura_Emissão\",\n",
    "        \"Num_Ato\",\n",
    "        \"Data_Ato\",\n",
    "        \"Validade_RF\",\n",
    "    ]\n",
    "    rd = rd.loc[:, export_columns]\n",
    "    df_optimize(rd, exclude=['Frequência'])\n",
    "    rd.columns = APP_ANALISE\n",
    "    console.print(\":card_file_box:[green]Salvando os arquivos...\")\n",
    "    d = json.loads((dest / 'VersionFile.json').read_text())\n",
    "    try:\n",
    "        cache = pd.read_feather(f\"{dest}/AnatelDB.fth\")\n",
    "    except (ArrowInvalid, FileNotFoundError):\n",
    "        cache = pd.DataFrame()\n",
    "    \n",
    "    if not rd.equals(cache):\n",
    "        console.print(\":new: [green] A base de dados mudou desde a última atualização! Salvando o novo arquivo e atualizando a versão\")\n",
    "        date = pd.DataFrame(columns=[time])\n",
    "        try:\n",
    "            rd.to_feather(Path(f\"{dest}/AnatelDB.fth\").open('bw'))\n",
    "        except ArrowInvalid:\n",
    "            Path(f\"{dest}/AnatelDB.fth\").unlink()\n",
    "        with pd.ExcelWriter(f\"{dest}/AnatelDB.xlsx\") as workbook:\n",
    "            date.to_excel(workbook, sheet_name=\"ExtractDate\", index=False)\n",
    "            rd.to_excel(workbook, sheet_name=\"DataBase\", index=False)\n",
    "        d['anateldb']['Version'] = bump_version(d['anateldb']['Version'])\n",
    "    else:\n",
    "        console.print(\":recycle: [green] A base de dados não mudou desde a última atualização, a versão não será atualizada, somente a data de verificação\")\n",
    "\n",
    "\n",
    "    console.print(\"Sucesso :zap:\")    \n",
    "    d['anateldb']['ReleaseDate'] = datetime.today().strftime('%d/%m/%Y')\n",
    "    json.dump(d, (dest / 'VersionFile.json').open('w'))"
   ]
  },
  {
   "cell_type": "code",
   "execution_count": null,
   "id": "e08f4e26-de85-4ba1-8f96-4ff342c0f2b0",
   "metadata": {},
   "outputs": [],
   "source": [
    "pasta = Path(r'G:\\Meu Drive\\repos\\Code\\AnatelDatabase')"
   ]
  },
  {
   "cell_type": "code",
   "execution_count": null,
   "id": "1425a8b2-604b-40b6-a1ab-56404f53bbb9",
   "metadata": {},
   "outputs": [],
   "source": [
    "if not pasta.exists():\n",
    "    import subprocess\n",
    "    result = subprocess.run(['git', 'clone', 'https://github.com/ronaldokun/AnatelDatabase.git'])\n",
    "    pasta = Path.cwd() / 'AnatelDatabase'"
   ]
  },
  {
   "cell_type": "code",
   "execution_count": null,
   "id": "5f6f8b9f-1556-48a3-8538-981e8ba19ce8",
   "metadata": {},
   "outputs": [],
   "source": [
    "base = read_base(pasta)"
   ]
  },
  {
   "cell_type": "code",
   "execution_count": null,
   "id": "2c999beb-21cd-448a-a24f-c8a7a4a6879d",
   "metadata": {},
   "outputs": [
    {
     "name": "stdout",
     "output_type": "stream",
     "text": [
      "<class 'pandas.core.frame.DataFrame'>\n",
      "RangeIndex: 881393 entries, 0 to 881392\n",
      "Data columns (total 16 columns):\n",
      " #   Column             Non-Null Count   Dtype   \n",
      "---  ------             --------------   -----   \n",
      " 0   Frequência         881393 non-null  float64 \n",
      " 1   Num_Serviço        881393 non-null  int32   \n",
      " 2   Status             881393 non-null  category\n",
      " 3   Classe             881369 non-null  category\n",
      " 4   Entidade           881376 non-null  category\n",
      " 5   Fistel             881393 non-null  category\n",
      " 6   Número_da_Estação  881393 non-null  int32   \n",
      " 7   Município          881388 non-null  category\n",
      " 8   UF                 881391 non-null  category\n",
      " 9   Latitude           881393 non-null  float32 \n",
      " 10  Longitude          881393 non-null  float32 \n",
      " 11  Validade_RF        879054 non-null  category\n",
      " 12  Num_Ato            871992 non-null  category\n",
      " 13  Data_Ato           871002 non-null  category\n",
      " 14  Classe_Emissão     876748 non-null  category\n",
      " 15  Largura_Emissão    876748 non-null  category\n",
      "dtypes: category(11), float32(2), float64(1), int32(2)\n",
      "memory usage: 39.8 MB\n"
     ]
    }
   ],
   "source": [
    "base.info()"
   ]
  },
  {
   "cell_type": "code",
   "execution_count": null,
   "id": "9d2143d7-29bd-4230-aff6-ddf3bd27833a",
   "metadata": {},
   "outputs": [
    {
     "data": {
      "text/plain": [
       "19     638599\n",
       "53     134004\n",
       "46      37912\n",
       "11      13714\n",
       "604     11970\n",
       "800      9444\n",
       "801      8262\n",
       "125      5553\n",
       "231      4645\n",
       "35       4317\n",
       "230      4013\n",
       "507      1987\n",
       "124      1355\n",
       "205      1173\n",
       "17        992\n",
       "78        984\n",
       "247       716\n",
       "79        526\n",
       "33        372\n",
       "64        237\n",
       "12        195\n",
       "108       188\n",
       "248       148\n",
       "27         40\n",
       "167        21\n",
       "29         10\n",
       "26         10\n",
       "132         4\n",
       "15          2\n",
       "Name: Num_Serviço, dtype: int64"
      ]
     },
     "execution_count": null,
     "metadata": {},
     "output_type": "execute_result"
    }
   ],
   "source": [
    "base.Num_Serviço.value_counts()"
   ]
  },
  {
   "cell_type": "code",
   "execution_count": null,
   "id": "1a155178-4fe7-490f-bac9-49b030b31d25",
   "metadata": {},
   "outputs": [
    {
     "data": {
      "text/html": [
       "<pre style=\"white-space:pre;overflow-x:auto;line-height:normal;font-family:Menlo,'DejaVu Sans Mono',consolas,'Courier New',monospace\">📜<span style=\"color: #008000; text-decoration-color: #008000\">Lendo as bases de dados...</span>\n",
       "</pre>\n"
      ],
      "text/plain": [
       "📜\u001b[32mLendo as bases de dados\u001b[0m\u001b[32m...\u001b[0m\n"
      ]
     },
     "metadata": {},
     "output_type": "display_data"
    },
    {
     "data": {
      "text/html": [
       "<pre style=\"white-space:pre;overflow-x:auto;line-height:normal;font-family:Menlo,'DejaVu Sans Mono',consolas,'Courier New',monospace\">🗃<span style=\"color: #008000; text-decoration-color: #008000\">Salvando os arquivos...</span>\n",
       "</pre>\n"
      ],
      "text/plain": [
       "🗃\u001b[32mSalvando os arquivos\u001b[0m\u001b[32m...\u001b[0m\n"
      ]
     },
     "metadata": {},
     "output_type": "display_data"
    },
    {
     "data": {
      "text/html": [
       "<pre style=\"white-space:pre;overflow-x:auto;line-height:normal;font-family:Menlo,'DejaVu Sans Mono',consolas,'Courier New',monospace\">🆕 <span style=\"color: #008000; text-decoration-color: #008000\"> A base de dados mudou desde a última atualização! Salvando o novo arquivo e atualizando a</span>\n",
       "<span style=\"color: #008000; text-decoration-color: #008000\">versão</span>\n",
       "</pre>\n"
      ],
      "text/plain": [
       "🆕 \u001b[32m A base de dados mudou desde a última atualização! Salvando o novo arquivo e atualizando a\u001b[0m\n",
       "\u001b[32mversão\u001b[0m\n"
      ]
     },
     "metadata": {},
     "output_type": "display_data"
    },
    {
     "data": {
      "text/html": [
       "<pre style=\"white-space:pre;overflow-x:auto;line-height:normal;font-family:Menlo,'DejaVu Sans Mono',consolas,'Courier New',monospace\">Sucesso ⚡\n",
       "</pre>\n"
      ],
      "text/plain": [
       "Sucesso ⚡\n"
      ]
     },
     "metadata": {},
     "output_type": "display_data"
    }
   ],
   "source": [
    "d = formatar_db(pasta)"
   ]
  },
  {
   "cell_type": "code",
   "execution_count": null,
   "id": "6ff483ea-925e-4683-ae48-dc234c3ec2ab",
   "metadata": {},
   "outputs": [],
   "source": [
    "d = pd.read_feather(pasta / 'AnatelDB.fth')"
   ]
  },
  {
   "cell_type": "code",
   "execution_count": null,
   "id": "913794d1-965f-4088-b09b-364f0c4e016d",
   "metadata": {},
   "outputs": [
    {
     "name": "stdout",
     "output_type": "stream",
     "text": [
      "<class 'pandas.core.frame.DataFrame'>\n",
      "RangeIndex: 881393 entries, 0 to 881392\n",
      "Data columns (total 11 columns):\n",
      " #   Column       Non-Null Count   Dtype   \n",
      "---  ------       --------------   -----   \n",
      " 0   Frequency    881393 non-null  float64 \n",
      " 1   Latitude     881393 non-null  float32 \n",
      " 2   Longitude    881393 non-null  float32 \n",
      " 3   Description  881393 non-null  string  \n",
      " 4   Service      881393 non-null  int32   \n",
      " 5   Station      881393 non-null  int32   \n",
      " 6   Class        876748 non-null  category\n",
      " 7   BW           876748 non-null  category\n",
      " 8   ActNumber    871992 non-null  category\n",
      " 9   ActDate      881393 non-null  string  \n",
      " 10  ValRF        881393 non-null  string  \n",
      "dtypes: category(3), float32(2), float64(1), int32(2), string(3)\n",
      "memory usage: 44.9 MB\n"
     ]
    }
   ],
   "source": [
    "d.info()"
   ]
  },
  {
   "cell_type": "code",
   "execution_count": null,
   "id": "e68893bc-0a8f-4e1b-8e13-13334fcc3d45",
   "metadata": {},
   "outputs": [],
   "source": [
    "n = d.loc[(d.Description.isna()) & (d.Station != -1), 'Station'].index"
   ]
  },
  {
   "cell_type": "code",
   "execution_count": null,
   "id": "58225a3d-71b3-4b96-8eb3-e5e053178c19",
   "metadata": {},
   "outputs": [
    {
     "data": {
      "text/html": [
       "<div>\n",
       "<style scoped>\n",
       "    .dataframe tbody tr th:only-of-type {\n",
       "        vertical-align: middle;\n",
       "    }\n",
       "\n",
       "    .dataframe tbody tr th {\n",
       "        vertical-align: top;\n",
       "    }\n",
       "\n",
       "    .dataframe thead th {\n",
       "        text-align: right;\n",
       "    }\n",
       "</style>\n",
       "<table border=\"1\" class=\"dataframe\">\n",
       "  <thead>\n",
       "    <tr style=\"text-align: right;\">\n",
       "      <th></th>\n",
       "      <th>Frequency</th>\n",
       "      <th>Latitude</th>\n",
       "      <th>Longitude</th>\n",
       "      <th>Description</th>\n",
       "      <th>Service</th>\n",
       "      <th>Station</th>\n",
       "      <th>Class</th>\n",
       "      <th>BW</th>\n",
       "      <th>ActNumber</th>\n",
       "      <th>ActDate</th>\n",
       "      <th>ValRF</th>\n",
       "    </tr>\n",
       "  </thead>\n",
       "  <tbody>\n",
       "  </tbody>\n",
       "</table>\n",
       "</div>"
      ],
      "text/plain": [
       "Empty DataFrame\n",
       "Columns: [Frequency, Latitude, Longitude, Description, Service, Station, Class, BW, ActNumber, ActDate, ValRF]\n",
       "Index: []"
      ]
     },
     "execution_count": null,
     "metadata": {},
     "output_type": "execute_result"
    }
   ],
   "source": [
    "d.loc[n]"
   ]
  },
  {
   "cell_type": "code",
   "execution_count": null,
   "id": "04e0d8e1-cb93-4b95-ae8e-0f1822b5cd31",
   "metadata": {},
   "outputs": [
    {
     "data": {
      "text/html": [
       "<div>\n",
       "<style scoped>\n",
       "    .dataframe tbody tr th:only-of-type {\n",
       "        vertical-align: middle;\n",
       "    }\n",
       "\n",
       "    .dataframe tbody tr th {\n",
       "        vertical-align: top;\n",
       "    }\n",
       "\n",
       "    .dataframe thead th {\n",
       "        text-align: right;\n",
       "    }\n",
       "</style>\n",
       "<table border=\"1\" class=\"dataframe\">\n",
       "  <thead>\n",
       "    <tr style=\"text-align: right;\">\n",
       "      <th></th>\n",
       "      <th>Frequency</th>\n",
       "      <th>Latitude</th>\n",
       "      <th>Longitude</th>\n",
       "      <th>Description</th>\n",
       "      <th>Service</th>\n",
       "      <th>Station</th>\n",
       "      <th>Class</th>\n",
       "      <th>BW</th>\n",
       "      <th>ActNumber</th>\n",
       "      <th>ActDate</th>\n",
       "      <th>ValRF</th>\n",
       "    </tr>\n",
       "  </thead>\n",
       "  <tbody>\n",
       "    <tr>\n",
       "      <th>2022</th>\n",
       "      <td>1.11</td>\n",
       "      <td>-7.119167</td>\n",
       "      <td>-34.901669</td>\n",
       "      <td>AM-C4, B, - (07008001908, 322687896), João Pes...</td>\n",
       "      <td>205</td>\n",
       "      <td>322687896</td>\n",
       "      <td></td>\n",
       "      <td></td>\n",
       "      <td>5538</td>\n",
       "      <td></td>\n",
       "      <td>2026-02-19</td>\n",
       "    </tr>\n",
       "  </tbody>\n",
       "</table>\n",
       "</div>"
      ],
      "text/plain": [
       "      Frequency  Latitude  Longitude  \\\n",
       "2022       1.11 -7.119167 -34.901669   \n",
       "\n",
       "                                            Description  Service    Station  \\\n",
       "2022  AM-C4, B, - (07008001908, 322687896), João Pes...      205  322687896   \n",
       "\n",
       "     Class BW ActNumber ActDate       ValRF  \n",
       "2022               5538          2026-02-19  "
      ]
     },
     "execution_count": null,
     "metadata": {},
     "output_type": "execute_result"
    }
   ],
   "source": [
    "d.loc[d.Station == 322687896]"
   ]
  },
  {
   "cell_type": "code",
   "execution_count": null,
   "id": "309a234a",
   "metadata": {},
   "outputs": [
    {
     "name": "stdout",
     "output_type": "stream",
     "text": [
      "Converted constants.ipynb.\n",
      "Converted filter.ipynb.\n",
      "Converted index.ipynb.\n",
      "Converted queries.ipynb.\n"
     ]
    }
   ],
   "source": [
    "from nbdev.export import notebook2script; notebook2script()"
   ]
  },
  {
   "cell_type": "code",
   "execution_count": null,
   "id": "058bdee1-50ee-4c36-9ac6-c5ec9362c004",
   "metadata": {},
   "outputs": [],
   "source": []
  }
 ],
 "metadata": {
  "kernelspec": {
   "display_name": "Python [conda env:db_dev]",
   "language": "python",
   "name": "conda-env-db_dev-py"
  }
 },
 "nbformat": 4,
 "nbformat_minor": 5
}
