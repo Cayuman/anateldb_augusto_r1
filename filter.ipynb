{
 "cells": [
  {
   "cell_type": "code",
   "execution_count": 3,
   "id": "higher-maker",
   "metadata": {},
   "outputs": [
    {
     "name": "stdout",
     "output_type": "stream",
     "text": [
      "The autoreload extension is already loaded. To reload it, use:\n",
      "  %reload_ext autoreload\n"
     ]
    }
   ],
   "source": [
    "#default_exp filter\n",
    "%load_ext autoreload\n",
    "%autoreload 2"
   ]
  },
  {
   "cell_type": "code",
   "execution_count": 4,
   "id": "velvet-middle",
   "metadata": {},
   "outputs": [],
   "source": [
    "#export\n",
    "from pathlib import Path\n",
    "from datetime import datetime\n",
    "from anateldb.parser import *"
   ]
  },
  {
   "cell_type": "code",
   "execution_count": 5,
   "id": "trying-bundle",
   "metadata": {},
   "outputs": [],
   "source": [
    "#export \n",
    "def filter_database(path):\n",
    "    path = Path(path)\n",
    "    time = datetime.today().strftime(\"%Y-%m-%d_%H-%M\")\n",
    "    mosaico = read_mosaico()\n",
    "    stel = read_stel().sort_values('Frequência')\n",
    "    radcom = read_radcom()\n",
    "    radcom['Serviço'] = 'RADCOM'\n",
    "    radcom['Classe'] = 'Até 25W'\n",
    "    radcom['Situação'] = radcom.Serviço + '-' + radcom.Situação\n",
    "    radcom.rename({'Numero da Estação': 'Número da Estação'}, axis=1, inplace=True)\n",
    "    radcom = radcom.loc[:, RADIODIFUSAO]\n",
    "    mosaico = mosaico.loc[:, RADIODIFUSAO]\n",
    "    radiodifusao = mosaico.append(radcom).sort_values('Frequência')    \n",
    "    slma = (stel.Frequência >= 108) & (stel.Frequência <= 137)\n",
    "    telecom = stel[~slma].reset_index()\n",
    "    slma = stel[slma].reset_index()\n",
    "    mosaico.to_csv(f'{path}/radiodifusao_{time}.csv', index=False)\n",
    "    slma.to_csv(f'{path}/108-137_{time}.csv', index=False)\n",
    "    telecom.to_csv(f'{path}/telecom_{time}.csv', index=False)\n",
    "    mosaico.to_feather(f'{path}/radiodifusao_{time}.fth')\n",
    "    slma.to_feather(f'{path}/108-137_{time}.fth')\n",
    "    telecom.to_feather(f'{path}/telecom_{time}.fth')    \n",
    "    with pd.ExcelWriter(f'{path}/Base_de_Dados_{time}.xlsx') as workbook:\n",
    "        mosaico.to_excel(workbook, sheet_name='radiodifusão', index=False)\n",
    "        slma.to_excel(workbook, sheet_name='108-137', index=False)\n",
    "        telecom.to_excel(workbook, sheet_name='Telecom', index=False)"
   ]
  },
  {
   "cell_type": "code",
   "execution_count": 6,
   "id": "complicated-religious",
   "metadata": {},
   "outputs": [
    {
     "name": "stdout",
     "output_type": "stream",
     "text": [
      "Converted filter.ipynb.\n",
      "Converted index.ipynb.\n",
      "Converted parser.ipynb.\n",
      "Converted queries.ipynb.\n"
     ]
    }
   ],
   "source": [
    "from nbdev.export import notebook2script; notebook2script()"
   ]
  }
 ],
 "metadata": {
  "kernelspec": {
   "display_name": "Python [conda env:spyder]",
   "language": "python",
   "name": "conda-env-spyder-py"
  },
  "language_info": {
   "codemirror_mode": {
    "name": "ipython",
    "version": 3
   },
   "file_extension": ".py",
   "mimetype": "text/x-python",
   "name": "python",
   "nbconvert_exporter": "python",
   "pygments_lexer": "ipython3",
   "version": "3.8.8"
  }
 },
 "nbformat": 4,
 "nbformat_minor": 5
}
