{
 "cells": [
  {
   "cell_type": "code",
   "execution_count": null,
   "id": "645c9ef4",
   "metadata": {},
   "outputs": [],
   "source": [
    "#default_exp filter\n",
    "%load_ext autoreload\n",
    "%autoreload 2"
   ]
  },
  {
   "cell_type": "markdown",
   "id": "4e6fa396",
   "metadata": {},
   "source": [
    "# Filtragem\n",
    "> Este módulo concentra funções auxiliares específicas que filtram os dados do banco com campos e formatação de interesse para aplicações específicas como o [appAnalise](https://github.com/EricMagalhaesDelgado/appAnalise) por exemplo."
   ]
  },
  {
   "cell_type": "code",
   "execution_count": null,
   "id": "00ebac1d",
   "metadata": {},
   "outputs": [],
   "source": [
    "#export\n",
    "from pathlib import Path\n",
    "import pandas as pd\n",
    "from datetime import datetime\n",
    "from anateldb.query import *\n",
    "from anateldb.constants import console\n",
    "from unidecode import unidecode\n",
    "from fastcore.test import *\n",
    "from fastcore.script import call_parse, Param, store_true, bool_arg"
   ]
  },
  {
   "cell_type": "code",
   "execution_count": null,
   "id": "709019b9",
   "metadata": {},
   "outputs": [],
   "source": [
    "#export\n",
    "@call_parse\n",
    "def formatar_db(\n",
    "    path: Param(\"Pasta onde salvar os arquivos\", str),\n",
    "    atualizar: Param(\"Atualizar as bases de dados?\", bool_arg) = True,\n",
    ") -> None:\n",
    "    dest = Path(path)\n",
    "    dest.mkdir(parents=True, exist_ok=True)\n",
    "    time = datetime.today().strftime(\"%d/%m/%Y %H:%M:%S\")\n",
    "    stel = read_stel(path, atualizar).sort_values(\"Frequência\").loc[:, TELECOM]\n",
    "    stel.rename(\n",
    "        columns={\"Serviço\": \"Num_Serviço\", \"Número da Estação\": \"Número_da_Estação\"},\n",
    "        inplace=True,\n",
    "    )\n",
    "    radcom = read_radcom(path, atualizar)\n",
    "    radcom.rename(columns={\"Número da Estação\": \"Número_da_Estação\"}, inplace=True)\n",
    "    mosaico = read_mosaico(path, atualizar)\n",
    "    with console.status(\n",
    "        \"[blue]Formatação e filtro das diversas colunas ...\", spinner=\"pong\"\n",
    "    ) as status:\n",
    "        radcom[\"Num_Serviço\"] = \"231\"\n",
    "        radcom[\"Status\"] = \"RADCOM\"\n",
    "        radcom[\"Classe\"] = radcom.Fase.str.strip() + \"-\" + radcom.Situação.str.strip()\n",
    "        radcom[\"Entidade\"] = radcom.Entidade.str.rstrip().str.lstrip()\n",
    "        radcom[\"Num_Ato\"] = \"\"\n",
    "        radcom[\"Data_Ato\"] = \"\"\n",
    "        radcom[\"Validade_RF\"] = \"\"\n",
    "        radcom = radcom.loc[:, RADIODIFUSAO]\n",
    "        mosaico = mosaico.loc[:, RADIODIFUSAO]\n",
    "        rd = mosaico.append(radcom)\n",
    "        stel[\"Num_Ato\"] = \"\"\n",
    "        stel[\"Data_Ato\"] = \"\"\n",
    "        stel[\"Validade_RF\"] = \"\"  # FIXME\n",
    "        stel['Entidade'] = stel.Entidade.str.rstrip().str.lstrip()\n",
    "\n",
    "        rd[\"Descrição\"] = (\n",
    "            rd.Status.astype(str)\n",
    "            + \", \"\n",
    "            + rd.Classe.astype(str)\n",
    "            + \", \"\n",
    "            + rd.Entidade.astype(str).str.title()\n",
    "            + \" (\"\n",
    "            + rd.Fistel.astype(str)\n",
    "            + \", \"\n",
    "            + rd[\"Número_da_Estação\"].astype(str)\n",
    "            + \"), \"\n",
    "            + rd.Município.astype(str)\n",
    "            + \"/\"\n",
    "            + rd.UF.astype(str)\n",
    "        )\n",
    "        stel[\"Descrição\"] = (\n",
    "            stel.Num_Serviço.astype(str)\n",
    "            + \", \"\n",
    "            + stel.Entidade.astype(str).str.title()\n",
    "            + \" (\"\n",
    "            + stel.Fistel.astype(str)\n",
    "            + \", \"\n",
    "            + stel[\"Número_da_Estação\"].astype(str)\n",
    "            + \"), \"\n",
    "            + stel[\"Município\"].astype(str)\n",
    "            + \"/\"\n",
    "            + stel.UF.astype(str)\n",
    "        )\n",
    "        export_columns = [\n",
    "            \"Frequência\",\n",
    "            \"Latitude\",\n",
    "            \"Longitude\",\n",
    "            \"Descrição\",\n",
    "            \"Num_Serviço\",\n",
    "            \"Número_da_Estação\",\n",
    "            \"Num_Ato\",\n",
    "            \"Data_Ato\",\n",
    "            \"Validade_RF\",\n",
    "        ]\n",
    "        rd = rd.loc[:, export_columns]\n",
    "        stel = stel.loc[:, export_columns]\n",
    "        rd = rd.append(stel).sort_values(\"Frequência\").reset_index(drop=True)\n",
    "        rd.columns = APP_ANALISE\n",
    "#        rd = rd.fillna('')\n",
    "\n",
    "    with console.status(\"[magenta]Salvando os arquivos ...\", spinner=\"grenade\") as status:\n",
    "\n",
    "        date = pd.DataFrame(columns=[time])\n",
    "        #date[\"Day\"] = [str(datetime.today()]\n",
    "        #date[\"Time\"] = [str(datetime.today().time())]\n",
    "\n",
    "        with pd.ExcelWriter(f\"{dest}/AnatelDB.xlsx\") as workbook:\n",
    "            date.to_excel(workbook, sheet_name=\"ExtractDate\", index=False)\n",
    "            rd.to_excel(workbook, sheet_name=\"DataBase\", index=False)\n",
    "\n",
    "\n",
    "    console.print(\"Sucesso :zap:\")"
   ]
  },
  {
   "cell_type": "code",
   "execution_count": null,
   "id": "9dca7357",
   "metadata": {},
   "outputs": [
    {
     "data": {
      "application/vnd.jupyter.widget-view+json": {
       "model_id": "",
       "version_major": 2,
       "version_minor": 0
      },
      "text/plain": [
       "Output()"
      ]
     },
     "metadata": {},
     "output_type": "display_data"
    },
    {
     "data": {
      "text/html": [
       "<pre style=\"white-space:pre;overflow-x:auto;line-height:normal;font-family:Menlo,'DejaVu Sans Mono',consolas,'Courier New',monospace\"></pre>\n"
      ],
      "text/plain": []
     },
     "metadata": {},
     "output_type": "display_data"
    },
    {
     "data": {
      "application/vnd.jupyter.widget-view+json": {
       "model_id": "",
       "version_major": 2,
       "version_minor": 0
      },
      "text/plain": [
       "Output()"
      ]
     },
     "metadata": {},
     "output_type": "display_data"
    },
    {
     "data": {
      "text/html": [
       "<pre style=\"white-space:pre;overflow-x:auto;line-height:normal;font-family:Menlo,'DejaVu Sans Mono',consolas,'Courier New',monospace\"></pre>\n"
      ],
      "text/plain": []
     },
     "metadata": {},
     "output_type": "display_data"
    },
    {
     "data": {
      "text/html": [
       "<pre style=\"white-space:pre;overflow-x:auto;line-height:normal;font-family:Menlo,'DejaVu Sans Mono',consolas,'Courier New',monospace\">Sucesso ⚡\n",
       "</pre>\n"
      ],
      "text/plain": [
       "Sucesso ⚡\n"
      ]
     },
     "metadata": {},
     "output_type": "display_data"
    }
   ],
   "source": [
    "formatar_db(r'D:\\OneDrive - ANATEL\\BaseDados', atualizar=False)"
   ]
  },
  {
   "cell_type": "code",
   "execution_count": null,
   "id": "473ef446",
   "metadata": {},
   "outputs": [],
   "source": [
    "#pb = read_plano_basico(r'D:\\OneDrive - ANATEL\\BaseDados\\Canais.zip')"
   ]
  },
  {
   "cell_type": "code",
   "execution_count": null,
   "id": "309a234a",
   "metadata": {},
   "outputs": [
    {
     "name": "stdout",
     "output_type": "stream",
     "text": [
      "Converted constants.ipynb.\n",
      "Converted filter.ipynb.\n",
      "Converted index.ipynb.\n",
      "Converted queries.ipynb.\n"
     ]
    }
   ],
   "source": [
    "from nbdev.export import notebook2script; notebook2script()"
   ]
  }
 ],
 "metadata": {
  "kernelspec": {
   "display_name": "Python [conda env:anateldb]",
   "language": "python",
   "name": "conda-env-anateldb-py"
  }
 },
 "nbformat": 4,
 "nbformat_minor": 5
}
