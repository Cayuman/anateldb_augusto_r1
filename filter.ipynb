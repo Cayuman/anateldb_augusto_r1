{
 "cells": [
  {
   "cell_type": "code",
   "execution_count": null,
   "id": "resident-homeless",
   "metadata": {},
   "outputs": [],
   "source": [
    "#default_exp filter\n",
    "%load_ext autoreload\n",
    "%autoreload 2"
   ]
  },
  {
   "cell_type": "markdown",
   "id": "ahead-minister",
   "metadata": {},
   "source": [
    "# Filtragem\n",
    "> Este módulo concentra funções auxiliares específicas que filtram os dados do banco com campos e formatação de interesse para aplicações específicas como o [appAnalise](https://github.com/EricMagalhaesDelgado/appAnalise) por exemplo."
   ]
  },
  {
   "cell_type": "code",
   "execution_count": null,
   "id": "molecular-oracle",
   "metadata": {},
   "outputs": [],
   "source": [
    "#export\n",
    "from pathlib import Path\n",
    "import pandas as pd\n",
    "from datetime import datetime\n",
    "from anateldb.parser import *\n",
    "from anateldb.query import *\n",
    "from fastcore.test import *"
   ]
  },
  {
   "cell_type": "code",
   "execution_count": null,
   "id": "applied-latin",
   "metadata": {},
   "outputs": [],
   "source": [
    "#export \n",
    "def filter_database(path):\n",
    "    path = Path(path)\n",
    "    dest = path / 'FiltroAppAnalise'\n",
    "    dest.mkdir(parents = True, exist_ok=True)\n",
    "    for p in dest.iterdir(): \n",
    "        if p.is_file():\n",
    "            p.unlink()\n",
    "    time = datetime.today().strftime(\"%Y%m%d_%H%M\")\n",
    "    mosaico = read_mosaico(path)\n",
    "    stel = read_stel(path).sort_values('Frequência').loc[:, TELECOM]\n",
    "    radcom = read_radcom(path)\n",
    "    radcom['Serviço'] = '231'\n",
    "    radcom['Status'] = 'RADCOM'\n",
    "    radcom['Classe'] = radcom.Fase + '-' + radcom.Situação \n",
    "    radcom = radcom.loc[:, RADIODIFUSAO]\n",
    "    mosaico = mosaico.loc[:, RADIODIFUSAO]\n",
    "    radiodifusao = mosaico.append(radcom)\n",
    "    radiodifusao['Frequência'] = radiodifusao['Frequência'].str.replace(',','.')\n",
    "    radiodifusao['Frequência'] = radiodifusao.Frequência.astype('float32')\n",
    "    radiodifusao = radiodifusao.sort_values('Frequência').reset_index(drop=True)\n",
    "    slma = (stel.Frequência >= 108) & (stel.Frequência <= 137)\n",
    "    telecom = stel[~slma].reset_index(drop=True)\n",
    "    slma = stel[slma].reset_index(drop=True)\n",
    "    radiodifusao = radiodifusao[(radiodifusao.Latitude != '') & (radiodifusao.Longitude != '')].reset_index(drop=True)\n",
    "    radiodifusao['Latitude'] = radiodifusao.Latitude.str.replace(',', '.').astype('float32')\n",
    "    radiodifusao['Longitude'] = radiodifusao.Longitude.str.replace(',', '.').astype('float32')\n",
    "    \n",
    "    for c in radiodifusao.columns:\n",
    "        if c in ('Latitude', 'Longitude'):\n",
    "            radiodifusao[c] = radiodifusao[c].astype('float32', errors='ignore')\n",
    "        else:\n",
    "            radiodifusao[c] = radiodifusao[c].astype('str')\n",
    "    for c in slma.columns: \n",
    "        if c in ('Latitude', 'Longitude'):\n",
    "            slma[c] = slma[c].astype('float32', errors='ignore')\n",
    "        else:\n",
    "            slma[c] = slma[c].astype('str')\n",
    "    for c in telecom.columns: \n",
    "        if c in ('Latitude', 'Longitude'):\n",
    "            telecom[c] = telecom[c].astype('float32', errors='ignore')\n",
    "        else:\n",
    "            telecom[c] = telecom[c].astype('str')\n",
    "            \n",
    "    radiodifusao['Descrição'] = radiodifusao.Status + ', ' + radiodifusao.Classe + ', ' + radiodifusao.Entidade.str.title() + ' (' + \\\n",
    "                                radiodifusao.Fistel + ', ' + radiodifusao['Número da Estação'] + '), ' + radiodifusao.Município + '/' + \\\n",
    "                                radiodifusao.UF\n",
    "    slma['Descrição'] = slma.Serviço + ', ' + slma.Entidade.str.title() + ' (' + slma.Fistel + ', ' +  slma['Número da Estação'] + '), ' + \\\n",
    "                        slma['Município'] + '/' + slma.UF\n",
    "    telecom['Descrição'] = telecom.Serviço + ', ' + telecom.Entidade.str.title() + ' (' + telecom.Fistel + ', ' + telecom['Número da Estação'] + '), ' + \\\n",
    "                           telecom['Município'] + '/' + telecom.UF\n",
    "    \n",
    "    export_columns = ['Frequência', 'Latitude', 'Longitude', 'Descrição']\n",
    "    radiodifusao = radiodifusao.loc[:, export_columns]\n",
    "    slma = slma.loc[:, export_columns]\n",
    "    telecom = telecom.loc[:, export_columns]\n",
    "    radiodifusao.to_csv(f'{dest}/radiodifusao_{time}.csv', index=False)\n",
    "    slma.to_csv(f'{dest}/108-137_{time}.csv', index=False)\n",
    "    telecom.to_csv(f'{dest}/telecom_{time}.csv', index=False)\n",
    "    radiodifusao.to_feather(f'{dest}/radiodifusao_{time}.fth')\n",
    "    slma.to_feather(f'{dest}/108-137_{time}.fth')\n",
    "    telecom.to_feather(f'{dest}/telecom_{time}.fth')\n",
    "    with pd.ExcelWriter(f'{dest}/Base_de_Dados_{time}.xlsx') as workbook:\n",
    "        radiodifusao.to_excel(workbook, sheet_name='Radiodifusão', index=False)\n",
    "        slma.to_excel(workbook, sheet_name='108-137', index=False)\n",
    "        telecom.to_excel(workbook, sheet_name='Telecom', index=False)"
   ]
  },
  {
   "cell_type": "code",
   "execution_count": null,
   "id": "becoming-newsletter",
   "metadata": {},
   "outputs": [
    {
     "name": "stdout",
     "output_type": "stream",
     "text": [
      "Converted filter.ipynb.\n",
      "Converted index.ipynb.\n",
      "Converted parser.ipynb.\n",
      "Converted queries.ipynb.\n"
     ]
    }
   ],
   "source": [
    "from nbdev.export import notebook2script; notebook2script()"
   ]
  }
 ],
 "metadata": {
  "kernelspec": {
   "display_name": "Python [conda env:anateldb]",
   "language": "python",
   "name": "conda-env-anateldb-py"
  }
 },
 "nbformat": 4,
 "nbformat_minor": 5
}
