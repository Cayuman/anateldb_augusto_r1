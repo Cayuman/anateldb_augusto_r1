{
 "cells": [
  {
   "cell_type": "code",
   "execution_count": null,
   "metadata": {},
   "outputs": [],
   "source": [
    "#default_exp query"
   ]
  },
  {
   "cell_type": "code",
   "execution_count": null,
   "metadata": {},
   "outputs": [],
   "source": [
    "#export\n",
    "import requests\n",
    "from pathlib import Path"
   ]
  },
  {
   "cell_type": "code",
   "execution_count": null,
   "metadata": {},
   "outputs": [],
   "source": [
    "#export\n",
    "MOSAICO = 'http://sistemas.anatel.gov.br/se/public/file/b/srd/estacao_rd.zip'\n",
    "RADCOM = \"\"\"\n",
    "use SITARWEB\n",
    "\n",
    "select f.MedFrequenciaInicial as 'Frequência', \n",
    "       uf.SiglaUnidadeFrequencia as 'Unidade',\n",
    "       es.MedLatitudeDecimal as 'Latitude' ,\n",
    "\t   es.MedLongitudeDecimal as 'Longitude',\n",
    "       Sitarweb.dbo.FN_SRD_RetornaIndFase(PB.NumServico, Pr.idtPedidoRadcom) as 'Fase',\n",
    "       Sitarweb.dbo.FN_SRD_RetornaSiglaSituacao(h.IdtHabilitacao, Es.IdtEstacao) as 'Situação',\n",
    "       es.NumEstacao as 'Numero da Estação',\n",
    "\t   e.NumCnpjCpf as 'CNPJ',\n",
    "\t   e.NomeEntidade as 'Entidade',\n",
    "\t   m.NomeMunicipio as 'Município',\n",
    "\t   pb.SiglaUF as 'UF'\t \n",
    "from ENTIDADE e\n",
    "inner join HABILITACAO h on h.IdtEntidade = e.IdtEntidade\n",
    "inner join SRD_PEDIDORADCOM pr on pr.IdtHabilitacao = h.IdtHabilitacao\n",
    "inner join SRD_PLANOBASICO pb on pb.IdtPlanoBasico = pr.IdtPlanoBasico\n",
    "inner join estacao es on es.IdtHabilitacao = h.IdtHabilitacao\n",
    "inner join FREQUENCIA f on f.IdtEstacao = es.IdtEstacao\n",
    "inner join UnidadeFrequencia uf on uf.IdtUnidadeFrequencia = f.IdtUnidadeFrequencia\n",
    "inner join Municipio m on m.CodMunicipio = pb.CodMunicipio\n",
    "where h.NumServico = '231'\n",
    "\"\"\""
   ]
  },
  {
   "cell_type": "code",
   "execution_count": null,
   "metadata": {},
   "outputs": [],
   "source": [
    "STEL = \"\"\"\n",
    "IF OBJECT_ID('tempDB..##faixas','U') is not null \n",
    "drop table ##faixas \n",
    "create table ##faixas (id int not null, faixa varchar(20), inic float, fim float,); \n",
    "insert into ##faixas values(0,'De 20 MHz - 6 GHz','20000', '6000000'); \n",
    "\n",
    "select distinct \n",
    "f.MedTransmissaoInicial as 'Frequência',\n",
    "uf.SiglaUnidadeFrequencia as 'Unidade',\n",
    "e.MedLatitudeDecimal as 'Latitude',\n",
    "e.MedLongitudeDecimal as 'Longitude',\n",
    "e.NumServico as 'Número do Serviço',\n",
    "e.NumEstacao as 'Número da estação',\n",
    "ent.NomeEntidade as 'Entidade',\n",
    "mu.NomeMunicipio as 'Município', \n",
    "e.SiglaUf as 'UF',\n",
    "ent.NumCnpjCpf as 'CNPJ',\n",
    "h.NumFistel as 'Fistel'\n",
    "from contrato c\n",
    "inner join estacao e on e.IdtContrato = c.Idtcontrato\n",
    "inner join frequencia f on f.IdtEstacao = e.IdtEstacao\n",
    "inner join HABILITACAO h on h.IdtHabilitacao = c.IdtHabilitacao \n",
    "inner join entidade ent on ent.IdtEntidade = h.IdtEntidade \n",
    "inner join endereco en on en.IdtEstacao = e.IdtEstacao \n",
    "inner join Municipio mu on mu.CodMunicipio = en.CodMunicipio \n",
    "inner join Servico s on s.NumServico = h.NumServico and s.IdtServicoAreaAtendimento = 4\n",
    "left join UnidadeFrequencia uf on uf.IdtUnidadeFrequencia = f.IdtUnidadeTransmissao\n",
    "left outer join ##faixas fx on (\n",
    "\t(fx.inic <= f.MedRecepcaoInicialKHz and fx.fim >= f.MedRecepcaoInicialKHz) \n",
    "\tor (fx.inic <= f.MedTransmissaoInicialKHz and fx.fim >= f.medtransmissaoinicialkhz)\n",
    "\tor (fx.inic <= f.MedFrequenciaInicialKHz and fx.fim >= f.MedFrequenciaInicialKHz)\n",
    "\tor (fx.inic <= f.MedFrequenciaFinalKHz and fx.fim >= f.MedFrequenciaFinalKHz)\n",
    "\t) \n",
    "where e.DataExclusao is null and \n",
    "fx.faixa is not null and\n",
    "f.MedTransmissaoInicial is not null\n",
    "and h.NumServico <> '010'\n",
    "\"\"\""
   ]
  },
  {
   "cell_type": "code",
   "execution_count": null,
   "metadata": {},
   "outputs": [],
   "source": [
    "#export\n",
    "def download_mosaico():\n",
    "    file = requests.get(MOSAICO)\n",
    "    with open(Path.cwd() / 'files' / 'mosaico.zip', 'wb') as mosaico:\n",
    "        mosaico.write(file.content)"
   ]
  },
  {
   "cell_type": "code",
   "execution_count": null,
   "metadata": {},
   "outputs": [
    {
     "name": "stdout",
     "output_type": "stream",
     "text": [
      "Converted 00_core.ipynb.\n",
      "Converted index.ipynb.\n",
      "Converted process.ipynb.\n",
      "Converted queries.ipynb.\n"
     ]
    }
   ],
   "source": [
    "from nbdev.export import notebook2script; notebook2script()"
   ]
  },
  {
   "cell_type": "code",
   "execution_count": null,
   "metadata": {},
   "outputs": [],
   "source": []
  }
 ],
 "metadata": {
  "kernelspec": {
   "display_name": "Python [conda env:scraping]",
   "language": "python",
   "name": "conda-env-scraping-py"
  }
 },
 "nbformat": 4,
 "nbformat_minor": 4
}
