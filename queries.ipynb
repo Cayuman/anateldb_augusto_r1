{
 "cells": [
  {
   "cell_type": "code",
   "execution_count": 211,
   "metadata": {},
   "outputs": [
    {
     "name": "stdout",
     "output_type": "stream",
     "text": [
      "The autoreload extension is already loaded. To reload it, use:\n",
      "  %reload_ext autoreload\n"
     ]
    }
   ],
   "source": [
    "#default_exp query\n",
    "%load_ext autoreload\n",
    "%autoreload 2"
   ]
  },
  {
   "cell_type": "markdown",
   "metadata": {},
   "source": [
    "# Queries SQL e MongoDB\n",
    "\n",
    "> Este módulo executa as queries sql / MongoDB necessárias para baixar o Banco do STEL, RADCOM e MOSAICO"
   ]
  },
  {
   "cell_type": "code",
   "execution_count": 212,
   "metadata": {},
   "outputs": [],
   "source": [
    "#export\n",
    "import requests\n",
    "from pathlib import Path\n",
    "import pandas as pd\n",
    "import pyodbc\n",
    "from fastcore.test import * "
   ]
  },
  {
   "cell_type": "code",
   "execution_count": 213,
   "metadata": {},
   "outputs": [],
   "source": [
    "#export\n",
    "ESTACOES = 'http://sistemas.anatel.gov.br/se/public/file/b/srd/estacao_rd.zip'\n",
    "PLANO_BASICO = 'http://sistemas.anatel.gov.br/se/public/file/b/srd/PlanoBasico.zip'\n",
    "COL_ESTACOES = ('@SiglaServico', '@state', '@entidade', '@fistel', '@cnpj', '@municipio', '@uf', '@id')\n",
    "COL_PLANO_BASICO = ('@id', '@Classe', '@Frequencia', '@Latitude', '@Longitude')\n",
    "STEL = ('Frequência', 'Latitude', 'Longitude', 'Serviço', 'Número da Estação', 'Entidade', 'Município', 'UF')\n",
    "RADIODIFUSAO = ('Frequência', 'Latitude', 'Longitude', 'Situação', 'Classe', 'Número da Estação', 'Entidade', 'Município', 'UF')\n",
    "RADCOM = \"\"\"\n",
    "       select f.MedFrequenciaInicial as 'Frequência', \n",
    "       uf.SiglaUnidadeFrequencia as 'Unidade',\n",
    "       es.MedLatitudeDecimal as 'Latitude' ,\n",
    "       es.MedLongitudeDecimal as 'Longitude',\n",
    "       Sitarweb.dbo.FN_SRD_RetornaIndFase(PB.NumServico, Pr.idtPedidoRadcom) as 'Fase',\n",
    "       Sitarweb.dbo.FN_SRD_RetornaSiglaSituacao(h.IdtHabilitacao, Es.IdtEstacao) as 'Situação',\n",
    "       es.NumEstacao as 'Numero da Estação',\n",
    "       e.NumCnpjCpf as 'CNPJ',\n",
    "       e.NomeEntidade as 'Entidade',\n",
    "       m.NomeMunicipio as 'Município',\n",
    "       pb.SiglaUF as 'UF'\n",
    "from ENTIDADE e\n",
    "inner join HABILITACAO h on h.IdtEntidade = e.IdtEntidade\n",
    "inner join SRD_PEDIDORADCOM pr on pr.IdtHabilitacao = h.IdtHabilitacao\n",
    "inner join SRD_PLANOBASICO pb on pb.IdtPlanoBasico = pr.IdtPlanoBasico\n",
    "inner join estacao es on es.IdtHabilitacao = h.IdtHabilitacao\n",
    "inner join FREQUENCIA f on f.IdtEstacao = es.IdtEstacao\n",
    "inner join UnidadeFrequencia uf on uf.IdtUnidadeFrequencia = f.IdtUnidadeFrequencia\n",
    "inner join Municipio m on m.CodMunicipio = pb.CodMunicipio\n",
    "where h.NumServico = '231'\n",
    "\"\"\""
   ]
  },
  {
   "cell_type": "code",
   "execution_count": 214,
   "metadata": {},
   "outputs": [],
   "source": [
    "STEL = \"\"\"\n",
    "IF OBJECT_ID('tempDB..##faixas','U') is not null \n",
    "drop table ##faixas \n",
    "create table ##faixas (id int not null, faixa varchar(20), inic float, fim float,); \n",
    "insert into ##faixas values(0,'De 20 MHz - 6 GHz','20000', '6000000'); \n",
    "\n",
    "select distinct \n",
    "f.MedTransmissaoInicial as 'Frequência',\n",
    "uf.SiglaUnidadeFrequencia as 'Unidade',\n",
    "e.MedLatitudeDecimal as 'Latitude',\n",
    "e.MedLongitudeDecimal as 'Longitude',\n",
    "e.NumServico as 'Número do Serviço',\n",
    "e.NumEstacao as 'Número da estação',\n",
    "ent.NomeEntidade as 'Entidade',\n",
    "mu.NomeMunicipio as 'Município', \n",
    "e.SiglaUf as 'UF',\n",
    "ent.NumCnpjCpf as 'CNPJ',\n",
    "h.NumFistel as 'Fistel'\n",
    "from contrato c\n",
    "inner join estacao e on e.IdtContrato = c.Idtcontrato\n",
    "inner join frequencia f on f.IdtEstacao = e.IdtEstacao\n",
    "inner join HABILITACAO h on h.IdtHabilitacao = c.IdtHabilitacao \n",
    "inner join entidade ent on ent.IdtEntidade = h.IdtEntidade \n",
    "inner join endereco en on en.IdtEstacao = e.IdtEstacao \n",
    "inner join Municipio mu on mu.CodMunicipio = en.CodMunicipio \n",
    "inner join Servico s on s.NumServico = h.NumServico and s.IdtServicoAreaAtendimento = 4\n",
    "left join UnidadeFrequencia uf on uf.IdtUnidadeFrequencia = f.IdtUnidadeTransmissao\n",
    "left outer join ##faixas fx on (\n",
    "(fx.inic <= f.MedRecepcaoInicialKHz and fx.fim >= f.MedRecepcaoInicialKHz) \n",
    "or (fx.inic <= f.MedTransmissaoInicialKHz and fx.fim >= f.medtransmissaoinicialkhz)\n",
    "or (fx.inic <= f.MedFrequenciaInicialKHz and fx.fim >= f.MedFrequenciaInicialKHz)\n",
    "or (fx.inic <= f.MedFrequenciaFinalKHz and fx.fim >= f.MedFrequenciaFinalKHz)\n",
    ") \n",
    "where e.DataExclusao is null and \n",
    "fx.faixa is not null and\n",
    "f.MedTransmissaoInicial is not null\n",
    "and h.NumServico <> '010'\n",
    "\"\"\""
   ]
  },
  {
   "cell_type": "code",
   "execution_count": 215,
   "metadata": {},
   "outputs": [],
   "source": [
    "#export\n",
    "def connect_db():\n",
    "    \"\"\"Conecta ao Banco ANATELBDRO01 e retorna o 'cursor' (iterador) do Banco pronto para fazer iterações\"\"\"\n",
    "    conn = pyodbc.connect(\n",
    "        \"Driver={ODBC Driver 17 for SQL Server};\"\n",
    "        \"Server=ANATELBDRO01;\"\n",
    "        \"Database=SITARWEB;\"\n",
    "        \"Trusted_Connection=yes;\"\n",
    "        \"MultipleActiveResultSets=True;\"\n",
    "    )\n",
    "\n",
    "    return conn"
   ]
  },
  {
   "cell_type": "code",
   "execution_count": 216,
   "metadata": {},
   "outputs": [],
   "source": [
    "#slow\n",
    "def test_connection():\n",
    "    conn = connect_db()\n",
    "    cursor = conn.cursor()\n",
    "    for query in (RADCOM, STEL):\n",
    "        cursor.execute(query)\n",
    "        test_eq(type(cursor.fetchone()), pyodbc.Row)"
   ]
  },
  {
   "cell_type": "code",
   "execution_count": 217,
   "metadata": {},
   "outputs": [],
   "source": [
    "#export\n",
    "def update_radcom():\n",
    "    \"\"\"Update the Radcom File querying the Database\"\"\"\n",
    "    conn = connect_db()\n",
    "    pd.read_sql_query(RADCOM, conn).to_feather('anatelspyder/files/radcom.fth')\n",
    "    \n",
    "def update_stel():\n",
    "    \"\"\"Update the Stel File querying the Database\"\"\"\n",
    "    conn = connect_db()\n",
    "    pd.read_sql_query(STEL, conn).to_feather('anatelspyder/files/stel.fth')\n",
    "    \n",
    "def update_mosaico():\n",
    "    \"\"\"Update the Mosaico File by downloading the zipped xml file from the Spectrum E Web page\"\"\"\n",
    "    file = requests.get(ESTACOES)\n",
    "    with open('anatelspyder/files/estações.zip', 'wb') as estações:\n",
    "        estações.write(file.content)\n",
    "    file = requests.get(PLANO_BASICO)\n",
    "    with open('anatelspyder/files/plano_basico.zip', 'wb') as plano_basico:\n",
    "        plano_basico.write(file.content)"
   ]
  },
  {
   "cell_type": "code",
   "execution_count": 218,
   "metadata": {},
   "outputs": [
    {
     "name": "stdout",
     "output_type": "stream",
     "text": [
      "Converted index.ipynb.\n",
      "Converted process.ipynb.\n",
      "Converted queries.ipynb.\n"
     ]
    }
   ],
   "source": [
    "from nbdev.export import notebook2script; notebook2script()"
   ]
  },
  {
   "cell_type": "code",
   "execution_count": null,
   "metadata": {},
   "outputs": [],
   "source": []
  }
 ],
 "metadata": {
  "kernelspec": {
   "display_name": "Python [conda env:spyder]",
   "language": "python",
   "name": "conda-env-spyder-py"
  },
  "language_info": {
   "codemirror_mode": {
    "name": "ipython",
    "version": 3
   },
   "file_extension": ".py",
   "mimetype": "text/x-python",
   "name": "python",
   "nbconvert_exporter": "python",
   "pygments_lexer": "ipython3",
   "version": "3.8.8"
  }
 },
 "nbformat": 4,
 "nbformat_minor": 4
}
