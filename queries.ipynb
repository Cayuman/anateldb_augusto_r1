{
 "cells": [
  {
   "cell_type": "code",
   "execution_count": null,
   "metadata": {},
   "outputs": [],
   "source": [
    "#default_exp query\n",
    "%load_ext autoreload\n",
    "%autoreload 2"
   ]
  },
  {
   "cell_type": "markdown",
   "metadata": {},
   "source": [
    "# Queries\n",
    "\n",
    "> Este módulo executa as queries sql / MongoDB necessárias para baixar os dados do STEL, RADCOM e MOSAICO"
   ]
  },
  {
   "cell_type": "code",
   "execution_count": null,
   "metadata": {},
   "outputs": [],
   "source": [
    "#export\n",
    "import requests\n",
    "from pathlib import Path\n",
    "import pandas as pd\n",
    "import pyodbc\n",
    "from fastcore.test import *"
   ]
  },
  {
   "cell_type": "code",
   "execution_count": null,
   "metadata": {},
   "outputs": [],
   "source": [
    "#export\n",
    "RELATORIO = 'http://sistemas.anatel.gov.br/se/eApp/reports/b/srd/resumo_sistema.php?id={id}&state={state}'\n",
    "ESTACOES = 'http://sistemas.anatel.gov.br/se/public/file/b/srd/estacao_rd.zip'\n",
    "PLANO_BASICO = 'http://sistemas.anatel.gov.br/se/public/file/b/srd/PlanoBasico.zip'\n",
    "HISTORICO = 'http://sistemas.anatel.gov.br/se/public/file/b/srd/documento_historicos.zip'\n",
    "REJECT_ESTACOES = ['atenuacao', 'historico_documentos', 'estacao_auxiliar', 'rds', 'aprovacao_locais', 'item']\n",
    "COL_ESTACOES = ('@SiglaServico', '@state', '@entidade', '@fistel', '@municipio', '@uf', '@id', '@numero_estacao', '@cnpj')\n",
    "NEW_ESTACOES = ['Serviço', 'Status', 'Entidade', 'Fistel', 'Município', 'UF', 'Id', 'Número da Estação', 'CNPJ']\n",
    "COL_PB = ('@Servico', '@Status', '@Entidade', '@Fistel', '@Municipio', '@UF', '@id', '@CNPJ',\n",
    "          '@Frequência', '@Classe', '@Latitude', '@Longitude', '@Canal', '@País')\n",
    "NEW_PB = ('Serviço', 'Status', 'Entidade', 'Fistel', 'Município', 'UF', 'Id', 'CNPJ',\n",
    "          'Frequência', 'Classe', 'Latitude', 'Longitude', 'Canal', 'País')\n",
    "TELECOM = ('Frequência', 'Serviço', 'Entidade', 'Fistel', 'Número da Estação', 'Município', 'UF', 'Latitude', 'Longitude')\n",
    "RADIODIFUSAO = ('Frequência', 'Status', 'Classe', 'Entidade', 'Fistel', 'Número da Estação', 'Município', 'UF', 'Latitude', 'Longitude')"
   ]
  },
  {
   "cell_type": "code",
   "execution_count": null,
   "metadata": {},
   "outputs": [],
   "source": [
    "#export\n",
    "RADCOM = \"\"\"\n",
    "       select f.MedFrequenciaInicial as 'Frequência',\n",
    "       Sitarweb.dbo.FN_SRD_RetornaIndFase(PB.NumServico, Pr.idtPedidoRadcom) as 'Fase',\n",
    "       Sitarweb.dbo.FN_SRD_RetornaSiglaSituacao(h.IdtHabilitacao, Es.IdtEstacao) as 'Situação',\n",
    "       uf.SiglaUnidadeFrequencia as 'Unidade',\n",
    "       e.NomeEntidade as 'Entidade',\n",
    "       h.NumFistel as 'Fistel',\n",
    "       es.NumEstacao as 'Número da Estação',\n",
    "       m.NomeMunicipio as 'Município',\n",
    "       pb.SiglaUF as 'UF',\n",
    "       es.MedLatitudeDecimal as 'Latitude',\n",
    "       es.MedLongitudeDecimal as 'Longitude',\n",
    "       e.NumCnpjCpf as 'CNPJ'\n",
    "from ENTIDADE e\n",
    "inner join HABILITACAO h on h.IdtEntidade = e.IdtEntidade\n",
    "inner join SRD_PEDIDORADCOM pr on pr.IdtHabilitacao = h.IdtHabilitacao\n",
    "inner join SRD_PLANOBASICO pb on pb.IdtPlanoBasico = pr.IdtPlanoBasico\n",
    "inner join estacao es on es.IdtHabilitacao = h.IdtHabilitacao\n",
    "inner join FREQUENCIA f on f.IdtEstacao = es.IdtEstacao\n",
    "inner join UnidadeFrequencia uf on uf.IdtUnidadeFrequencia = f.IdtUnidadeFrequencia\n",
    "inner join Municipio m on m.CodMunicipio = pb.CodMunicipio\n",
    "where h.NumServico = '231'\n",
    "\"\"\""
   ]
  },
  {
   "cell_type": "code",
   "execution_count": null,
   "metadata": {},
   "outputs": [],
   "source": [
    "#export\n",
    "STEL = \"\"\"IF OBJECT_ID('tempDB..##faixas','U') is not null\n",
    "drop table ##faixas\n",
    "create table ##faixas (id int not null, faixa varchar(20), inic float, fim float,);\n",
    "insert into ##faixas values(0,'De 20 MHz - 6 GHz','20000', '6000000');\n",
    "\n",
    "select distinct f.MedTransmissaoInicial as 'Frequência',\n",
    "uf.SiglaUnidadeFrequencia as 'Unidade',\n",
    "e.NumServico as 'Serviço',\n",
    "ent.NomeEntidade as 'Entidade',\n",
    "h.NumFistel as 'Fistel',\n",
    "e.NumEstacao as 'Número da Estação',\n",
    "mu.NomeMunicipio as 'Município',\n",
    "e.SiglaUf as 'UF',\n",
    "e.MedLatitudeDecimal as 'Latitude',\n",
    "e.MedLongitudeDecimal as 'Longitude',\n",
    "ent.NumCnpjCpf as 'CNPJ'\n",
    "from contrato c\n",
    "inner join estacao e on e.IdtContrato = c.Idtcontrato\n",
    "inner join frequencia f on f.IdtEstacao = e.IdtEstacao\n",
    "inner join HABILITACAO h on h.IdtHabilitacao = c.IdtHabilitacao\n",
    "inner join entidade ent on ent.IdtEntidade = h.IdtEntidade\n",
    "inner join endereco en on en.IdtEstacao = e.IdtEstacao\n",
    "inner join Municipio mu on mu.CodMunicipio = en.CodMunicipio\n",
    "inner join Servico s on s.NumServico = h.NumServico and s.IdtServicoAreaAtendimento = 4\n",
    "left join UnidadeFrequencia uf on uf.IdtUnidadeFrequencia = f.IdtUnidadeTransmissao\n",
    "left outer join ##faixas fx on (\n",
    "(fx.inic <= f.MedRecepcaoInicialKHz and fx.fim >= f.MedRecepcaoInicialKHz)\n",
    "or (fx.inic <= f.MedTransmissaoInicialKHz and fx.fim >= f.medtransmissaoinicialkhz)\n",
    "or (fx.inic <= f.MedFrequenciaInicialKHz and fx.fim >= f.MedFrequenciaInicialKHz)\n",
    "or (fx.inic <= f.MedFrequenciaFinalKHz and fx.fim >= f.MedFrequenciaFinalKHz)\n",
    ")\n",
    "where e.DataExclusao is null and\n",
    "fx.faixa is not null and\n",
    "f.MedTransmissaoInicial is not null\n",
    "and h.NumServico <> '010'\n",
    "\"\"\""
   ]
  },
  {
   "cell_type": "code",
   "execution_count": null,
   "metadata": {},
   "outputs": [],
   "source": [
    "#export\n",
    "def connect_db():\n",
    "    \"\"\"Conecta ao Banco ANATELBDRO01 e retorna o 'cursor' (iterador) do Banco pronto para fazer iterações\"\"\"\n",
    "    conn = pyodbc.connect(\n",
    "        \"Driver={ODBC Driver 17 for SQL Server};\"\n",
    "        \"Server=ANATELBDRO01;\"\n",
    "        \"Database=SITARWEB;\"\n",
    "        \"Trusted_Connection=yes;\"\n",
    "        \"MultipleActiveResultSets=True;\"\n",
    "    )\n",
    "\n",
    "    return conn"
   ]
  },
  {
   "cell_type": "code",
   "execution_count": null,
   "metadata": {},
   "outputs": [],
   "source": [
    "#slow\n",
    "def test_connection():\n",
    "    conn = connect_db()\n",
    "    cursor = conn.cursor()\n",
    "    for query in (RADCOM, STEL):\n",
    "        cursor.execute(query)\n",
    "        test_eq(type(cursor.fetchone()), pyodbc.Row)"
   ]
  },
  {
   "cell_type": "code",
   "execution_count": null,
   "metadata": {},
   "outputs": [],
   "source": [
    "#export\n",
    "def update_radcom(folder):\n",
    "    \"\"\"Update the Radcom File querying the Database\"\"\"\n",
    "    conn = connect_db()\n",
    "    print(\"Lendo o Banco de Dados de Radcom\")\n",
    "    pd.read_sql_query(RADCOM, conn).to_feather(f'{folder}/radcom.fth')\n",
    "\n",
    "def update_stel(folder):\n",
    "    \"\"\"Update the Stel File querying the Database\"\"\"\n",
    "    conn = connect_db()\n",
    "    print(\"Lendo o Banco de Dados do STEL. Processo Lento, aguarde...\")\n",
    "    pd.read_sql_query(STEL, conn).to_feather(f'{folder}/stel.fth')\n",
    "\n",
    "def update_mosaico(pasta):\n",
    "    \"\"\"Update the Mosaico File by downloading the zipped xml file from the Spectrum E Web page\"\"\"\n",
    "    print(\"Baixando as Estações do Mosaico...\")\n",
    "    file = requests.get(ESTACOES)\n",
    "    with open(f'{pasta}/estações.zip', 'wb') as estações:\n",
    "        estações.write(file.content)\n",
    "    print(\"Baixando o Plano Básico das Estações...\")\n",
    "    file = requests.get(PLANO_BASICO)\n",
    "    with open(f'{pasta}/plano_basico.zip', 'wb') as plano_basico:\n",
    "        plano_basico.write(file.content)\n",
    "    print(\"Baixando o Histórico de Atualizações...\")\n",
    "    file = requests.get(HISTORICO)\n",
    "    with open(f'{pasta}/historico.zip', 'wb') as historico:\n",
    "        historico.write(file.content)\n",
    "    print(\"Kbô\")"
   ]
  },
  {
   "cell_type": "code",
   "execution_count": null,
   "metadata": {},
   "outputs": [
    {
     "name": "stdout",
     "output_type": "stream",
     "text": [
      "Converted console.ipynb.\n",
      "Converted constants.ipynb.\n",
      "Converted filter.ipynb.\n",
      "Converted index.ipynb.\n",
      "Converted parser.ipynb.\n",
      "Converted queries.ipynb.\n",
      "Converted redmine.ipynb.\n"
     ]
    }
   ],
   "source": [
    "from nbdev.export import notebook2script; notebook2script()"
   ]
  }
 ],
 "metadata": {
  "kernelspec": {
   "display_name": "Python [conda env:anateldb]",
   "language": "python",
   "name": "conda-env-anateldb-py"
  }
 },
 "nbformat": 4,
 "nbformat_minor": 4
}
