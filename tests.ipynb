{
 "cells": [
  {
   "cell_type": "code",
   "execution_count": null,
   "id": "dimensional-syria",
   "metadata": {},
   "outputs": [],
   "source": [
    "#default_exp tests\n",
    "%load_ext autoreload\n",
    "%autoreload 2"
   ]
  },
  {
   "cell_type": "markdown",
   "id": "champion-rebel",
   "metadata": {},
   "source": [
    "# Tests"
   ]
  },
  {
   "cell_type": "code",
   "execution_count": null,
   "id": "south-password",
   "metadata": {},
   "outputs": [],
   "source": [
    "#export\n",
    "from anateldb.query import *\n",
    "from anateldb.parser import *\n",
    "from anateldb.filter import *"
   ]
  },
  {
   "cell_type": "code",
   "execution_count": null,
   "id": "double-belief",
   "metadata": {},
   "outputs": [],
   "source": [
    "filter_database(Path.cwd())"
   ]
  }
 ],
 "metadata": {
  "kernelspec": {
   "display_name": "Python [conda env:anateldb]",
   "language": "python",
   "name": "conda-env-anateldb-py"
  }
 },
 "nbformat": 4,
 "nbformat_minor": 5
}
