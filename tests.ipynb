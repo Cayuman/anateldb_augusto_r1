{
 "cells": [
  {
   "cell_type": "code",
   "execution_count": 1,
   "id": "dimensional-syria",
   "metadata": {},
   "outputs": [],
   "source": [
    "#default_exp tests\n",
    "%load_ext autoreload\n",
    "%autoreload 2"
   ]
  },
  {
   "cell_type": "markdown",
   "id": "champion-rebel",
   "metadata": {},
   "source": [
    "# Tests"
   ]
  },
  {
   "cell_type": "code",
   "execution_count": 3,
   "id": "south-password",
   "metadata": {},
   "outputs": [],
   "source": [
    "#export\n",
    "from anateldb.query import *\n",
    "from anateldb.parser import *\n",
    "from anateldb.filter import *"
   ]
  },
  {
   "cell_type": "code",
   "execution_count": null,
   "id": "double-belief",
   "metadata": {},
   "outputs": [],
   "source": [
    "filter_database(Path.cwd())"
   ]
  }
 ],
 "metadata": {
  "kernelspec": {
   "display_name": "Python [conda env:anateldb]",
   "language": "python",
   "name": "conda-env-anateldb-py"
  },
  "language_info": {
   "codemirror_mode": {
    "name": "ipython",
    "version": 3
   },
   "file_extension": ".py",
   "mimetype": "text/x-python",
   "name": "python",
   "nbconvert_exporter": "python",
   "pygments_lexer": "ipython3",
   "version": "3.8.8"
  }
 },
 "nbformat": 4,
 "nbformat_minor": 5
}
