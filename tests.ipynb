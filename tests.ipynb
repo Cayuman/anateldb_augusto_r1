{
 "cells": [
  {
   "cell_type": "code",
   "execution_count": null,
   "id": "corrected-commitment",
   "metadata": {},
   "outputs": [],
   "source": [
    "#default_exp tests\n",
    "%load_ext autoreload\n",
    "%autoreload 2"
   ]
  },
  {
   "cell_type": "markdown",
   "id": "furnished-sierra",
   "metadata": {},
   "source": [
    "# Tests\n",
    "> Rotinas para testes simples da biblioteca"
   ]
  },
  {
   "cell_type": "code",
   "execution_count": null,
   "id": "competent-rating",
   "metadata": {},
   "outputs": [],
   "source": [
    "#export\n",
    "from anateldb.query import *\n",
    "from anateldb.parser import *\n",
    "from anateldb.filter import *\n",
    "from pathlib import Path"
   ]
  },
  {
   "cell_type": "code",
   "execution_count": null,
   "id": "foreign-flour",
   "metadata": {},
   "outputs": [],
   "source": [
    "filter_database(Path.cwd())"
   ]
  }
 ],
 "metadata": {
  "kernelspec": {
   "display_name": "Python [conda env:anateldb]",
   "language": "python",
   "name": "conda-env-anateldb-py"
  }
 },
 "nbformat": 4,
 "nbformat_minor": 5
}
