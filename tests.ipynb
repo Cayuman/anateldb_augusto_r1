{
 "cells": [
  {
   "cell_type": "code",
   "execution_count": null,
   "id": "opposite-reasoning",
   "metadata": {},
   "outputs": [],
   "source": [
    "#default_exp tests\n",
    "%load_ext autoreload\n",
    "%autoreload 2"
   ]
  },
  {
   "cell_type": "markdown",
   "id": "material-automation",
   "metadata": {},
   "source": [
    "# Tests"
   ]
  },
  {
   "cell_type": "code",
   "execution_count": null,
   "id": "interested-resource",
   "metadata": {},
   "outputs": [],
   "source": [
    "#export\n",
    "from anateldb.query import *\n",
    "from anateldb.parser import *\n",
    "from anateldb.filter import *\n",
    "from pathlib import Path"
   ]
  },
  {
   "cell_type": "code",
   "execution_count": null,
   "id": "animated-software",
   "metadata": {},
   "outputs": [],
   "source": [
    "filter_database(Path.cwd())"
   ]
  }
 ],
 "metadata": {
  "kernelspec": {
   "display_name": "Python [conda env:anateldb]",
   "language": "python",
   "name": "conda-env-anateldb-py"
  }
 },
 "nbformat": 4,
 "nbformat_minor": 5
}
