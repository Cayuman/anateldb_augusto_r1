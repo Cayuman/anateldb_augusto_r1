{
 "cells": [
  {
   "cell_type": "code",
   "execution_count": null,
   "id": "b1ef1db5",
   "metadata": {},
   "outputs": [],
   "source": [
    "#default_exp console"
   ]
  },
  {
   "cell_type": "markdown",
   "id": "1fe3c250",
   "metadata": {},
   "source": [
    "# Console \n",
    "> Formatação das informações de execução dos diversos scripts utilizados nos módulos"
   ]
  },
  {
   "cell_type": "code",
   "execution_count": null,
   "id": "2671f6c2",
   "metadata": {},
   "outputs": [],
   "source": [
    "#export\n",
    "from rich.console import Console\n",
    "console = Console()"
   ]
  },
  {
   "cell_type": "code",
   "execution_count": null,
   "id": "29dca8f4",
   "metadata": {},
   "outputs": [
    {
     "data": {
      "text/html": [
       "<pre style=\"white-space:pre;overflow-x:auto;line-height:normal;font-family:Menlo,'DejaVu Sans Mono',consolas,'Courier New',monospace\"><span style=\"font-weight: bold\">[</span><span style=\"color: #008080; text-decoration-color: #008080; font-weight: bold\">1</span>, <span style=\"color: #008080; text-decoration-color: #008080; font-weight: bold\">2</span>, <span style=\"color: #008080; text-decoration-color: #008080; font-weight: bold\">3</span><span style=\"font-weight: bold\">]</span>\n",
       "</pre>\n"
      ],
      "text/plain": [
       "\u001b[1m[\u001b[0m\u001b[1;36m1\u001b[0m, \u001b[1;36m2\u001b[0m, \u001b[1;36m3\u001b[0m\u001b[1m]\u001b[0m\n"
      ]
     },
     "metadata": {},
     "output_type": "display_data"
    },
    {
     "data": {
      "text/html": [
       "<pre style=\"white-space:pre;overflow-x:auto;line-height:normal;font-family:Menlo,'DejaVu Sans Mono',consolas,'Courier New',monospace\"><span style=\"color: #000080; text-decoration-color: #000080; text-decoration: underline\">Looks like a link</span>\n",
       "</pre>\n"
      ],
      "text/plain": [
       "\u001b[4;34mLooks like a link\u001b[0m\n"
      ]
     },
     "metadata": {},
     "output_type": "display_data"
    },
    {
     "data": {
      "text/html": [
       "<pre style=\"white-space:pre;overflow-x:auto;line-height:normal;font-family:Menlo,'DejaVu Sans Mono',consolas,'Courier New',monospace\"><span style=\"font-weight: bold\">{</span>\n",
       "    <span style=\"color: #008000; text-decoration-color: #008000\">'__name__'</span>: <span style=\"color: #008000; text-decoration-color: #008000\">'__main__'</span>,\n",
       "    <span style=\"color: #008000; text-decoration-color: #008000\">'__doc__'</span>: <span style=\"color: #008000; text-decoration-color: #008000\">'Automatically created module for IPython interactive environment'</span>,\n",
       "    <span style=\"color: #008000; text-decoration-color: #008000\">'__package__'</span>: <span style=\"color: #800080; text-decoration-color: #800080; font-style: italic\">None</span>,\n",
       "    <span style=\"color: #008000; text-decoration-color: #008000\">'__loader__'</span>: <span style=\"color: #800080; text-decoration-color: #800080; font-style: italic\">None</span>,\n",
       "    <span style=\"color: #008000; text-decoration-color: #008000\">'__spec__'</span>: <span style=\"color: #800080; text-decoration-color: #800080; font-style: italic\">None</span>,\n",
       "    <span style=\"color: #008000; text-decoration-color: #008000\">'__builtin__'</span>: <span style=\"font-weight: bold\">&lt;</span><span style=\"color: #ff00ff; text-decoration-color: #ff00ff; font-weight: bold\">module</span><span style=\"color: #000000; text-decoration-color: #000000\"> </span><span style=\"color: #008000; text-decoration-color: #008000\">'builtins'</span><span style=\"color: #000000; text-decoration-color: #000000\"> </span><span style=\"color: #000000; text-decoration-color: #000000; font-weight: bold\">(</span><span style=\"color: #000000; text-decoration-color: #000000\">built-in</span><span style=\"color: #000000; text-decoration-color: #000000; font-weight: bold\">)</span><span style=\"font-weight: bold\">&gt;</span>,\n",
       "    <span style=\"color: #008000; text-decoration-color: #008000\">'__builtins__'</span>: <span style=\"font-weight: bold\">&lt;</span><span style=\"color: #ff00ff; text-decoration-color: #ff00ff; font-weight: bold\">module</span><span style=\"color: #000000; text-decoration-color: #000000\"> </span><span style=\"color: #008000; text-decoration-color: #008000\">'builtins'</span><span style=\"color: #000000; text-decoration-color: #000000\"> </span><span style=\"color: #000000; text-decoration-color: #000000; font-weight: bold\">(</span><span style=\"color: #000000; text-decoration-color: #000000\">built-in</span><span style=\"color: #000000; text-decoration-color: #000000; font-weight: bold\">)</span><span style=\"font-weight: bold\">&gt;</span>,\n",
       "    <span style=\"color: #008000; text-decoration-color: #008000\">'_ih'</span>: <span style=\"font-weight: bold\">[</span>\n",
       "        <span style=\"color: #008000; text-decoration-color: #008000\">''</span>,\n",
       "        <span style=\"color: #008000; text-decoration-color: #008000\">'from rich import Console'</span>,\n",
       "        <span style=\"color: #008000; text-decoration-color: #008000\">'from rich.console import Console'</span>,\n",
       "        <span style=\"color: #008000; text-decoration-color: #008000\">'#export\\nfrom rich.console import Console'</span>,\n",
       "        <span style=\"color: #008000; text-decoration-color: #008000\">'console = Console()'</span>,\n",
       "        <span style=\"color: #008000; text-decoration-color: #008000\">'console.print([1, 2, 3])\\nconsole.print(\"[blue underline]Looks like a </span>\n",
       "<span style=\"color: #008000; text-decoration-color: #008000\">link\")\\nconsole.print(locals())\\nconsole.print(\"FOO\", style=\"white on blue\")'</span>\n",
       "    <span style=\"font-weight: bold\">]</span>,\n",
       "    <span style=\"color: #008000; text-decoration-color: #008000\">'_oh'</span>: <span style=\"font-weight: bold\">{}</span>,\n",
       "    <span style=\"color: #008000; text-decoration-color: #008000\">'_dh'</span>: <span style=\"font-weight: bold\">[</span><span style=\"color: #008000; text-decoration-color: #008000\">'C:\\\\Users\\\\rsilva\\\\code\\\\anateldb'</span><span style=\"font-weight: bold\">]</span>,\n",
       "    <span style=\"color: #008000; text-decoration-color: #008000\">'In'</span>: <span style=\"font-weight: bold\">[</span>\n",
       "        <span style=\"color: #008000; text-decoration-color: #008000\">''</span>,\n",
       "        <span style=\"color: #008000; text-decoration-color: #008000\">'from rich import Console'</span>,\n",
       "        <span style=\"color: #008000; text-decoration-color: #008000\">'from rich.console import Console'</span>,\n",
       "        <span style=\"color: #008000; text-decoration-color: #008000\">'#export\\nfrom rich.console import Console'</span>,\n",
       "        <span style=\"color: #008000; text-decoration-color: #008000\">'console = Console()'</span>,\n",
       "        <span style=\"color: #008000; text-decoration-color: #008000\">'console.print([1, 2, 3])\\nconsole.print(\"[blue underline]Looks like a </span>\n",
       "<span style=\"color: #008000; text-decoration-color: #008000\">link\")\\nconsole.print(locals())\\nconsole.print(\"FOO\", style=\"white on blue\")'</span>\n",
       "    <span style=\"font-weight: bold\">]</span>,\n",
       "    <span style=\"color: #008000; text-decoration-color: #008000\">'Out'</span>: <span style=\"font-weight: bold\">{}</span>,\n",
       "    <span style=\"color: #008000; text-decoration-color: #008000\">'get_ipython'</span>: <span style=\"font-weight: bold\">&lt;</span><span style=\"color: #ff00ff; text-decoration-color: #ff00ff; font-weight: bold\">bound</span><span style=\"color: #000000; text-decoration-color: #000000\"> method InteractiveShell.get_ipython of </span>\n",
       "<span style=\"color: #000000; text-decoration-color: #000000\">&lt;ipykernel.zmqshell.ZMQInteractiveShell object at </span><span style=\"color: #008080; text-decoration-color: #008080; font-weight: bold\">0x0000018B25B4B670</span><span style=\"font-weight: bold\">&gt;</span>&gt;,\n",
       "    <span style=\"color: #008000; text-decoration-color: #008000\">'exit'</span>: <span style=\"font-weight: bold\">&lt;</span><span style=\"color: #ff00ff; text-decoration-color: #ff00ff; font-weight: bold\">IPython.core.autocall.ZMQExitAutocall</span><span style=\"color: #000000; text-decoration-color: #000000\"> object at </span><span style=\"color: #008080; text-decoration-color: #008080; font-weight: bold\">0x0000018B25B60400</span><span style=\"font-weight: bold\">&gt;</span>,\n",
       "    <span style=\"color: #008000; text-decoration-color: #008000\">'quit'</span>: <span style=\"font-weight: bold\">&lt;</span><span style=\"color: #ff00ff; text-decoration-color: #ff00ff; font-weight: bold\">IPython.core.autocall.ZMQExitAutocall</span><span style=\"color: #000000; text-decoration-color: #000000\"> object at </span><span style=\"color: #008080; text-decoration-color: #008080; font-weight: bold\">0x0000018B25B60400</span><span style=\"font-weight: bold\">&gt;</span>,\n",
       "    <span style=\"color: #008000; text-decoration-color: #008000\">'_'</span>: <span style=\"color: #008000; text-decoration-color: #008000\">''</span>,\n",
       "    <span style=\"color: #008000; text-decoration-color: #008000\">'__'</span>: <span style=\"color: #008000; text-decoration-color: #008000\">''</span>,\n",
       "    <span style=\"color: #008000; text-decoration-color: #008000\">'___'</span>: <span style=\"color: #008000; text-decoration-color: #008000\">''</span>,\n",
       "    <span style=\"color: #008000; text-decoration-color: #008000\">'_i'</span>: <span style=\"color: #008000; text-decoration-color: #008000\">'console = Console()'</span>,\n",
       "    <span style=\"color: #008000; text-decoration-color: #008000\">'_ii'</span>: <span style=\"color: #008000; text-decoration-color: #008000\">'#export\\nfrom rich.console import Console'</span>,\n",
       "    <span style=\"color: #008000; text-decoration-color: #008000\">'_iii'</span>: <span style=\"color: #008000; text-decoration-color: #008000\">'from rich.console import Console'</span>,\n",
       "    <span style=\"color: #008000; text-decoration-color: #008000\">'_i1'</span>: <span style=\"color: #008000; text-decoration-color: #008000\">'from rich import Console'</span>,\n",
       "    <span style=\"color: #008000; text-decoration-color: #008000\">'_i2'</span>: <span style=\"color: #008000; text-decoration-color: #008000\">'from rich.console import Console'</span>,\n",
       "    <span style=\"color: #008000; text-decoration-color: #008000\">'Console'</span>: <span style=\"font-weight: bold\">&lt;</span><span style=\"color: #ff00ff; text-decoration-color: #ff00ff; font-weight: bold\">class</span><span style=\"color: #000000; text-decoration-color: #000000\"> </span><span style=\"color: #008000; text-decoration-color: #008000\">'rich.console.Console'</span><span style=\"font-weight: bold\">&gt;</span>,\n",
       "    <span style=\"color: #008000; text-decoration-color: #008000\">'_i3'</span>: <span style=\"color: #008000; text-decoration-color: #008000\">'#export\\nfrom rich.console import Console'</span>,\n",
       "    <span style=\"color: #008000; text-decoration-color: #008000\">'_i4'</span>: <span style=\"color: #008000; text-decoration-color: #008000\">'console = Console()'</span>,\n",
       "    <span style=\"color: #008000; text-decoration-color: #008000\">'console'</span>: <span style=\"font-weight: bold\">&lt;</span><span style=\"color: #ff00ff; text-decoration-color: #ff00ff; font-weight: bold\">console</span><span style=\"color: #000000; text-decoration-color: #000000\"> </span><span style=\"color: #808000; text-decoration-color: #808000\">width</span><span style=\"color: #000000; text-decoration-color: #000000\">=</span><span style=\"color: #008080; text-decoration-color: #008080; font-weight: bold\">93</span><span style=\"color: #000000; text-decoration-color: #000000\"> ColorSystem.TRUECOLOR</span><span style=\"font-weight: bold\">&gt;</span>,\n",
       "    <span style=\"color: #008000; text-decoration-color: #008000\">'_i5'</span>: <span style=\"color: #008000; text-decoration-color: #008000\">'console.print([1, 2, 3])\\nconsole.print(\"[blue underline]Looks like a </span>\n",
       "<span style=\"color: #008000; text-decoration-color: #008000\">link\")\\nconsole.print(locals())\\nconsole.print(\"FOO\", style=\"white on blue\")'</span>\n",
       "<span style=\"font-weight: bold\">}</span>\n",
       "</pre>\n"
      ],
      "text/plain": [
       "\u001b[1m{\u001b[0m\n",
       "    \u001b[32m'__name__'\u001b[0m: \u001b[32m'__main__'\u001b[0m,\n",
       "    \u001b[32m'__doc__'\u001b[0m: \u001b[32m'Automatically created module for IPython interactive environment'\u001b[0m,\n",
       "    \u001b[32m'__package__'\u001b[0m: \u001b[3;35mNone\u001b[0m,\n",
       "    \u001b[32m'__loader__'\u001b[0m: \u001b[3;35mNone\u001b[0m,\n",
       "    \u001b[32m'__spec__'\u001b[0m: \u001b[3;35mNone\u001b[0m,\n",
       "    \u001b[32m'__builtin__'\u001b[0m: \u001b[1m<\u001b[0m\u001b[1;95mmodule\u001b[0m\u001b[39m \u001b[0m\u001b[32m'builtins'\u001b[0m\u001b[39m \u001b[0m\u001b[1;39m(\u001b[0m\u001b[39mbuilt-in\u001b[0m\u001b[1;39m)\u001b[0m\u001b[1m>\u001b[0m,\n",
       "    \u001b[32m'__builtins__'\u001b[0m: \u001b[1m<\u001b[0m\u001b[1;95mmodule\u001b[0m\u001b[39m \u001b[0m\u001b[32m'builtins'\u001b[0m\u001b[39m \u001b[0m\u001b[1;39m(\u001b[0m\u001b[39mbuilt-in\u001b[0m\u001b[1;39m)\u001b[0m\u001b[1m>\u001b[0m,\n",
       "    \u001b[32m'_ih'\u001b[0m: \u001b[1m[\u001b[0m\n",
       "        \u001b[32m''\u001b[0m,\n",
       "        \u001b[32m'from rich import Console'\u001b[0m,\n",
       "        \u001b[32m'from rich.console import Console'\u001b[0m,\n",
       "        \u001b[32m'#export\\nfrom rich.console import Console'\u001b[0m,\n",
       "        \u001b[32m'console = Console()'\u001b[0m,\n",
       "        \u001b[32m'console.print([1, 2, 3])\\nconsole.print(\"[blue underline]Looks like a \u001b[0m\n",
       "\u001b[32mlink\")\\nconsole.print(locals())\\nconsole.print(\"FOO\", \u001b[0m\u001b[32mstyle\u001b[0m\u001b[32m=\u001b[0m\u001b[32m\"white\u001b[0m\u001b[32m on blue\")'\u001b[0m\n",
       "    \u001b[1m]\u001b[0m,\n",
       "    \u001b[32m'_oh'\u001b[0m: \u001b[1m{\u001b[0m\u001b[1m}\u001b[0m,\n",
       "    \u001b[32m'_dh'\u001b[0m: \u001b[1m[\u001b[0m\u001b[32m'C:\\\\Users\\\\rsilva\\\\code\\\\anateldb'\u001b[0m\u001b[1m]\u001b[0m,\n",
       "    \u001b[32m'In'\u001b[0m: \u001b[1m[\u001b[0m\n",
       "        \u001b[32m''\u001b[0m,\n",
       "        \u001b[32m'from rich import Console'\u001b[0m,\n",
       "        \u001b[32m'from rich.console import Console'\u001b[0m,\n",
       "        \u001b[32m'#export\\nfrom rich.console import Console'\u001b[0m,\n",
       "        \u001b[32m'console = Console()'\u001b[0m,\n",
       "        \u001b[32m'console.print([1, 2, 3])\\nconsole.print(\"[blue underline]Looks like a \u001b[0m\n",
       "\u001b[32mlink\")\\nconsole.print(locals())\\nconsole.print(\"FOO\", \u001b[0m\u001b[32mstyle\u001b[0m\u001b[32m=\u001b[0m\u001b[32m\"white\u001b[0m\u001b[32m on blue\")'\u001b[0m\n",
       "    \u001b[1m]\u001b[0m,\n",
       "    \u001b[32m'Out'\u001b[0m: \u001b[1m{\u001b[0m\u001b[1m}\u001b[0m,\n",
       "    \u001b[32m'get_ipython'\u001b[0m: \u001b[1m<\u001b[0m\u001b[1;95mbound\u001b[0m\u001b[39m method InteractiveShell.get_ipython of \u001b[0m\n",
       "\u001b[39m<ipykernel.zmqshell.ZMQInteractiveShell object at \u001b[0m\u001b[1;36m0x0000018B25B4B670\u001b[0m\u001b[1m>\u001b[0m>,\n",
       "    \u001b[32m'exit'\u001b[0m: \u001b[1m<\u001b[0m\u001b[1;95mIPython.core.autocall.ZMQExitAutocall\u001b[0m\u001b[39m object at \u001b[0m\u001b[1;36m0x0000018B25B60400\u001b[0m\u001b[1m>\u001b[0m,\n",
       "    \u001b[32m'quit'\u001b[0m: \u001b[1m<\u001b[0m\u001b[1;95mIPython.core.autocall.ZMQExitAutocall\u001b[0m\u001b[39m object at \u001b[0m\u001b[1;36m0x0000018B25B60400\u001b[0m\u001b[1m>\u001b[0m,\n",
       "    \u001b[32m'_'\u001b[0m: \u001b[32m''\u001b[0m,\n",
       "    \u001b[32m'__'\u001b[0m: \u001b[32m''\u001b[0m,\n",
       "    \u001b[32m'___'\u001b[0m: \u001b[32m''\u001b[0m,\n",
       "    \u001b[32m'_i'\u001b[0m: \u001b[32m'console = Console()'\u001b[0m,\n",
       "    \u001b[32m'_ii'\u001b[0m: \u001b[32m'#export\\nfrom rich.console import Console'\u001b[0m,\n",
       "    \u001b[32m'_iii'\u001b[0m: \u001b[32m'from rich.console import Console'\u001b[0m,\n",
       "    \u001b[32m'_i1'\u001b[0m: \u001b[32m'from rich import Console'\u001b[0m,\n",
       "    \u001b[32m'_i2'\u001b[0m: \u001b[32m'from rich.console import Console'\u001b[0m,\n",
       "    \u001b[32m'Console'\u001b[0m: \u001b[1m<\u001b[0m\u001b[1;95mclass\u001b[0m\u001b[39m \u001b[0m\u001b[32m'rich.console.Console'\u001b[0m\u001b[1m>\u001b[0m,\n",
       "    \u001b[32m'_i3'\u001b[0m: \u001b[32m'#export\\nfrom rich.console import Console'\u001b[0m,\n",
       "    \u001b[32m'_i4'\u001b[0m: \u001b[32m'console = Console()'\u001b[0m,\n",
       "    \u001b[32m'console'\u001b[0m: \u001b[1m<\u001b[0m\u001b[1;95mconsole\u001b[0m\u001b[39m \u001b[0m\u001b[33mwidth\u001b[0m\u001b[39m=\u001b[0m\u001b[1;36m93\u001b[0m\u001b[39m ColorSystem.TRUECOLOR\u001b[0m\u001b[1m>\u001b[0m,\n",
       "    \u001b[32m'_i5'\u001b[0m: \u001b[32m'console.print([1, 2, 3])\\nconsole.print(\"[blue underline]Looks like a \u001b[0m\n",
       "\u001b[32mlink\")\\nconsole.print(locals())\\nconsole.print(\"FOO\", \u001b[0m\u001b[32mstyle\u001b[0m\u001b[32m=\u001b[0m\u001b[32m\"white\u001b[0m\u001b[32m on blue\")'\u001b[0m\n",
       "\u001b[1m}\u001b[0m\n"
      ]
     },
     "metadata": {},
     "output_type": "display_data"
    },
    {
     "data": {
      "text/html": [
       "<pre style=\"white-space:pre;overflow-x:auto;line-height:normal;font-family:Menlo,'DejaVu Sans Mono',consolas,'Courier New',monospace\"><span style=\"color: #c0c0c0; text-decoration-color: #c0c0c0; background-color: #000080\">FOO</span>\n",
       "</pre>\n"
      ],
      "text/plain": [
       "\u001b[37;44mFOO\u001b[0m\n"
      ]
     },
     "metadata": {},
     "output_type": "display_data"
    }
   ],
   "source": [
    "console.print([1, 2, 3])\n",
    "console.print(\"[blue underline]Looks like a link\")\n",
    "console.print(locals())\n",
    "console.print(\"FOO\", style=\"white on blue\")"
   ]
  },
  {
   "cell_type": "code",
   "execution_count": null,
   "id": "32e241a3",
   "metadata": {},
   "outputs": [
    {
     "name": "stdout",
     "output_type": "stream",
     "text": [
      "Converted console.ipynb.\n",
      "Converted constants.ipynb.\n",
      "Converted filter.ipynb.\n",
      "Converted index.ipynb.\n",
      "Converted parser.ipynb.\n",
      "Converted queries.ipynb.\n",
      "Converted redmine.ipynb.\n",
      "Converted tests.ipynb.\n"
     ]
    }
   ],
   "source": [
    "from nbdev.export import notebook2script\n",
    "notebook2script()"
   ]
  },
  {
   "cell_type": "code",
   "execution_count": null,
   "id": "9efec3bb",
   "metadata": {},
   "outputs": [],
   "source": []
  }
 ],
 "metadata": {
  "kernelspec": {
   "display_name": "Python [conda env:anateldb]",
   "language": "python",
   "name": "conda-env-anateldb-py"
  }
 },
 "nbformat": 4,
 "nbformat_minor": 5
}
