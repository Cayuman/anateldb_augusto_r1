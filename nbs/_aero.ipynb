{
 "cells": [
  {
   "cell_type": "code",
   "execution_count": 1,
   "metadata": {
    "ExecuteTime": {
     "end_time": "2022-07-26T19:19:18.762261Z",
     "start_time": "2022-07-26T19:19:18.562129Z"
    }
   },
   "outputs": [],
   "source": [
    "#| default_exp read\n",
    "%load_ext autoreload\n",
    "%autoreload 2\n",
    "import sys\n",
    "from fastcore.xtras import Path\n",
    "\n",
    "# Insert in Path Project Directory\n",
    "sys.path.insert(0, str(Path().cwd().parent))"
   ]
  },
  {
   "cell_type": "code",
   "execution_count": 2,
   "metadata": {
    "ExecuteTime": {
     "end_time": "2022-07-26T19:19:25.742398Z",
     "start_time": "2022-07-26T19:19:18.762261Z"
    }
   },
   "outputs": [],
   "source": [
    "from itertools import product\n",
    "from tqdm.auto import tqdm\n",
    "import pandas as pd\n",
    "from geopy.distance import geodesic\n",
    "from anateldb.read import *\n",
    "from anateldb.merge import *\n",
    "P = Path.cwd().parent / 'dados'"
   ]
  },
  {
   "cell_type": "code",
   "execution_count": 3,
   "metadata": {
    "ExecuteTime": {
     "end_time": "2022-07-26T19:19:28.572223Z",
     "start_time": "2022-07-26T19:19:25.744733Z"
    }
   },
   "outputs": [
    {
     "data": {
      "text/html": [
       "<div>\n",
       "<style scoped>\n",
       "    .dataframe tbody tr th:only-of-type {\n",
       "        vertical-align: middle;\n",
       "    }\n",
       "\n",
       "    .dataframe tbody tr th {\n",
       "        vertical-align: top;\n",
       "    }\n",
       "\n",
       "    .dataframe thead th {\n",
       "        text-align: right;\n",
       "    }\n",
       "</style>\n",
       "<table border=\"1\" class=\"dataframe\">\n",
       "  <thead>\n",
       "    <tr style=\"text-align: right;\">\n",
       "      <th></th>\n",
       "      <th>Frequency</th>\n",
       "      <th>Latitude</th>\n",
       "      <th>Longitude</th>\n",
       "      <th>Description</th>\n",
       "    </tr>\n",
       "  </thead>\n",
       "  <tbody>\n",
       "    <tr>\n",
       "      <th>0</th>\n",
       "      <td>109.1</td>\n",
       "      <td>-25.600000</td>\n",
       "      <td>-54.466667</td>\n",
       "      <td>[ICAO] ILS, FOZ DO IGUACU CATARATAS</td>\n",
       "    </tr>\n",
       "    <tr>\n",
       "      <th>1</th>\n",
       "      <td>109.1</td>\n",
       "      <td>-21.783333</td>\n",
       "      <td>-43.383335</td>\n",
       "      <td>[ICAO] ILS/DME, JUIZ DE FORA</td>\n",
       "    </tr>\n",
       "    <tr>\n",
       "      <th>2</th>\n",
       "      <td>109.3</td>\n",
       "      <td>-1.366667</td>\n",
       "      <td>-48.466667</td>\n",
       "      <td>[ICAO] ILS/DME, BELEM VAL DE CAES</td>\n",
       "    </tr>\n",
       "    <tr>\n",
       "      <th>3</th>\n",
       "      <td>109.3</td>\n",
       "      <td>-15.866667</td>\n",
       "      <td>-47.933334</td>\n",
       "      <td>[ICAO] ILS/DME, BRASILIA INTL.</td>\n",
       "    </tr>\n",
       "    <tr>\n",
       "      <th>4</th>\n",
       "      <td>109.3</td>\n",
       "      <td>-25.533333</td>\n",
       "      <td>-49.166668</td>\n",
       "      <td>[ICAO] ILS, CURITIBA AFONSO PEÑA</td>\n",
       "    </tr>\n",
       "  </tbody>\n",
       "</table>\n",
       "</div>"
      ],
      "text/plain": [
       "   Frequency   Latitude  Longitude                          Description\n",
       "0      109.1 -25.600000 -54.466667  [ICAO] ILS, FOZ DO IGUACU CATARATAS\n",
       "1      109.1 -21.783333 -43.383335         [ICAO] ILS/DME, JUIZ DE FORA\n",
       "2      109.3  -1.366667 -48.466667    [ICAO] ILS/DME, BELEM VAL DE CAES\n",
       "3      109.3 -15.866667 -47.933334       [ICAO] ILS/DME, BRASILIA INTL.\n",
       "4      109.3 -25.533333 -49.166668     [ICAO] ILS, CURITIBA AFONSO PEÑA"
      ]
     },
     "execution_count": 3,
     "metadata": {},
     "output_type": "execute_result"
    }
   ],
   "source": [
    "icao = read_icao(P).drop(columns=['Service', 'Station'])\n",
    "icao.head()"
   ]
  },
  {
   "cell_type": "code",
   "execution_count": 4,
   "metadata": {
    "ExecuteTime": {
     "end_time": "2022-07-26T19:19:28.912412Z",
     "start_time": "2022-07-26T19:19:28.572223Z"
    }
   },
   "outputs": [
    {
     "data": {
      "text/html": [
       "<div>\n",
       "<style scoped>\n",
       "    .dataframe tbody tr th:only-of-type {\n",
       "        vertical-align: middle;\n",
       "    }\n",
       "\n",
       "    .dataframe tbody tr th {\n",
       "        vertical-align: top;\n",
       "    }\n",
       "\n",
       "    .dataframe thead th {\n",
       "        text-align: right;\n",
       "    }\n",
       "</style>\n",
       "<table border=\"1\" class=\"dataframe\">\n",
       "  <thead>\n",
       "    <tr style=\"text-align: right;\">\n",
       "      <th></th>\n",
       "      <th>Frequency</th>\n",
       "      <th>Latitude</th>\n",
       "      <th>Longitude</th>\n",
       "      <th>Description</th>\n",
       "    </tr>\n",
       "  </thead>\n",
       "  <tbody>\n",
       "    <tr>\n",
       "      <th>0</th>\n",
       "      <td>0.200</td>\n",
       "      <td>-22.923334</td>\n",
       "      <td>-42.071499</td>\n",
       "      <td>[AISW] SBCB-RDONAV, NDB BFR, Cabo Frio</td>\n",
       "    </tr>\n",
       "    <tr>\n",
       "      <th>1</th>\n",
       "      <td>0.205</td>\n",
       "      <td>-1.486333</td>\n",
       "      <td>-56.397835</td>\n",
       "      <td>[AISW] SBTB-RDONAV, NDB PTT, Trombetas</td>\n",
       "    </tr>\n",
       "    <tr>\n",
       "      <th>2</th>\n",
       "      <td>0.205</td>\n",
       "      <td>-5.386167</td>\n",
       "      <td>-35.530998</td>\n",
       "      <td>[AISW] SNXX-RDONAV, NDB MXN, Maxaranguape</td>\n",
       "    </tr>\n",
       "    <tr>\n",
       "      <th>3</th>\n",
       "      <td>0.205</td>\n",
       "      <td>-5.386167</td>\n",
       "      <td>-35.530998</td>\n",
       "      <td>[AISW] SBNT-RDONAV, NDB MXN, CAMPO AUGUSTO SEVERO</td>\n",
       "    </tr>\n",
       "    <tr>\n",
       "      <th>4</th>\n",
       "      <td>0.210</td>\n",
       "      <td>-19.561001</td>\n",
       "      <td>-46.964668</td>\n",
       "      <td>[AISW] SBAX-RDONAV, NDB ARX, Romeu Zema</td>\n",
       "    </tr>\n",
       "  </tbody>\n",
       "</table>\n",
       "</div>"
      ],
      "text/plain": [
       "   Frequency   Latitude  Longitude  \\\n",
       "0      0.200 -22.923334 -42.071499   \n",
       "1      0.205  -1.486333 -56.397835   \n",
       "2      0.205  -5.386167 -35.530998   \n",
       "3      0.205  -5.386167 -35.530998   \n",
       "4      0.210 -19.561001 -46.964668   \n",
       "\n",
       "                                         Description  \n",
       "0             [AISW] SBCB-RDONAV, NDB BFR, Cabo Frio  \n",
       "1             [AISW] SBTB-RDONAV, NDB PTT, Trombetas  \n",
       "2          [AISW] SNXX-RDONAV, NDB MXN, Maxaranguape  \n",
       "3  [AISW] SBNT-RDONAV, NDB MXN, CAMPO AUGUSTO SEVERO  \n",
       "4            [AISW] SBAX-RDONAV, NDB ARX, Romeu Zema  "
      ]
     },
     "execution_count": 4,
     "metadata": {},
     "output_type": "execute_result"
    }
   ],
   "source": [
    "aisw = read_aisw(P).drop(columns=['Service', 'Station'])\n",
    "aisw.head()"
   ]
  },
  {
   "cell_type": "code",
   "execution_count": 5,
   "metadata": {
    "ExecuteTime": {
     "end_time": "2022-07-26T19:19:29.152079Z",
     "start_time": "2022-07-26T19:19:28.912412Z"
    }
   },
   "outputs": [
    {
     "data": {
      "text/html": [
       "<div>\n",
       "<style scoped>\n",
       "    .dataframe tbody tr th:only-of-type {\n",
       "        vertical-align: middle;\n",
       "    }\n",
       "\n",
       "    .dataframe tbody tr th {\n",
       "        vertical-align: top;\n",
       "    }\n",
       "\n",
       "    .dataframe thead th {\n",
       "        text-align: right;\n",
       "    }\n",
       "</style>\n",
       "<table border=\"1\" class=\"dataframe\">\n",
       "  <thead>\n",
       "    <tr style=\"text-align: right;\">\n",
       "      <th></th>\n",
       "      <th>Frequency</th>\n",
       "      <th>Latitude</th>\n",
       "      <th>Longitude</th>\n",
       "      <th>Description</th>\n",
       "    </tr>\n",
       "  </thead>\n",
       "  <tbody>\n",
       "    <tr>\n",
       "      <th>0</th>\n",
       "      <td>0.114</td>\n",
       "      <td>-32.340057</td>\n",
       "      <td>-54.223888</td>\n",
       "      <td>[AISG] NDB - MELO</td>\n",
       "    </tr>\n",
       "    <tr>\n",
       "      <th>1</th>\n",
       "      <td>0.200</td>\n",
       "      <td>-22.923334</td>\n",
       "      <td>-42.071499</td>\n",
       "      <td>[AISG] NDB - CABO FRIO OPR COSTA DO SOL OPERAD...</td>\n",
       "    </tr>\n",
       "    <tr>\n",
       "      <th>2</th>\n",
       "      <td>0.205</td>\n",
       "      <td>-1.486333</td>\n",
       "      <td>-56.397835</td>\n",
       "      <td>[AISG] NDB - TROMBETAS COVERAGE 100NM; OPR MIN...</td>\n",
       "    </tr>\n",
       "    <tr>\n",
       "      <th>3</th>\n",
       "      <td>0.205</td>\n",
       "      <td>-5.386167</td>\n",
       "      <td>-35.530998</td>\n",
       "      <td>[AISG] NDB - MAXARANGUAPE</td>\n",
       "    </tr>\n",
       "    <tr>\n",
       "      <th>4</th>\n",
       "      <td>0.210</td>\n",
       "      <td>-19.561001</td>\n",
       "      <td>-46.964668</td>\n",
       "      <td>[AISG] NDB - ARAXÁ COVERAGE 50NM</td>\n",
       "    </tr>\n",
       "  </tbody>\n",
       "</table>\n",
       "</div>"
      ],
      "text/plain": [
       "   Frequency   Latitude  Longitude  \\\n",
       "0      0.114 -32.340057 -54.223888   \n",
       "1      0.200 -22.923334 -42.071499   \n",
       "2      0.205  -1.486333 -56.397835   \n",
       "3      0.205  -5.386167 -35.530998   \n",
       "4      0.210 -19.561001 -46.964668   \n",
       "\n",
       "                                         Description  \n",
       "0                                  [AISG] NDB - MELO  \n",
       "1  [AISG] NDB - CABO FRIO OPR COSTA DO SOL OPERAD...  \n",
       "2  [AISG] NDB - TROMBETAS COVERAGE 100NM; OPR MIN...  \n",
       "3                          [AISG] NDB - MAXARANGUAPE  \n",
       "4                   [AISG] NDB - ARAXÁ COVERAGE 50NM  "
      ]
     },
     "execution_count": 5,
     "metadata": {},
     "output_type": "execute_result"
    }
   ],
   "source": [
    "aisg = read_aisg(P).drop(columns=['Service', 'Station'])\n",
    "aisg.head()"
   ]
  },
  {
   "cell_type": "code",
   "execution_count": 6,
   "metadata": {
    "ExecuteTime": {
     "end_time": "2022-07-26T19:19:29.352514Z",
     "start_time": "2022-07-26T19:19:29.152079Z"
    }
   },
   "outputs": [],
   "source": [
    "f1 = set(icao.Frequency.tolist())\n",
    "f2 = set(aisw.Frequency.tolist())\n",
    "f3 = set(aisg.Frequency.tolist())"
   ]
  },
  {
   "cell_type": "code",
   "execution_count": 7,
   "metadata": {
    "ExecuteTime": {
     "end_time": "2022-07-26T19:19:29.512341Z",
     "start_time": "2022-07-26T19:19:29.352514Z"
    }
   },
   "outputs": [],
   "source": [
    "A = f1.intersection(f2).intersection(f3)\n",
    "B = f1.intersection(f2).difference(A)\n",
    "C = f2.intersection(f3).difference(A)\n",
    "D = f1.intersection(f3).difference(A)"
   ]
  },
  {
   "cell_type": "code",
   "execution_count": 8,
   "metadata": {
    "ExecuteTime": {
     "end_time": "2022-07-26T19:19:29.692300Z",
     "start_time": "2022-07-26T19:19:29.512341Z"
    }
   },
   "outputs": [
    {
     "name": "stdout",
     "output_type": "stream",
     "text": [
      "len(A) = 74 len(B) = 174 len(C) = 46 len(D) = 8\n"
     ]
    }
   ],
   "source": [
    "print(f'{len(A) = }', \n",
    "      f'{len(B) = }', \n",
    "      f'{len(C) = }', \n",
    "      f'{len(D) = }')"
   ]
  },
  {
   "cell_type": "code",
   "execution_count": 9,
   "metadata": {
    "ExecuteTime": {
     "end_time": "2022-07-26T19:19:33.322488Z",
     "start_time": "2022-07-26T19:19:29.692300Z"
    }
   },
   "outputs": [
    {
     "data": {
      "application/vnd.jupyter.widget-view+json": {
       "model_id": "537377b8a723481383b77bdf708f913e",
       "version_major": 2,
       "version_minor": 0
      },
      "text/plain": [
       "  0%|          | 0/74 [00:00<?, ?it/s]"
      ]
     },
     "metadata": {},
     "output_type": "display_data"
    }
   ],
   "source": [
    "COLS = ['Latitude', 'Longitude', 'Description']\n",
    "df = pd.DataFrame(columns=['Frequency', 'Latitude', 'Longitude', 'Description'])\n",
    "DIST = 0.5\n",
    "\n",
    "def check_add_row(df, f, f1, f2, sa, sb):\n",
    "    if (f1.Index in sa) and (f2.Index in sb):\n",
    "        lat = (f1.Latitude + f2.Latitude) / 2\n",
    "        long = (f1.Longitude + f2.Longitude) / 2\n",
    "        desc = f'{f1.Description} | {f2.Description}'\n",
    "        d = {'Frequency': f, 'Latitude': lat, 'Longitude': long, 'Description': desc}\n",
    "        sa.pop(f1.Index)\n",
    "        sb.pop(f2.Index)\n",
    "        return pd.concat([df, pd.DataFrame(d, index=[0])], ignore_index=True)\n",
    "    return df\n",
    "\n",
    "def get_subsets(f, *args):\n",
    "    return [{s.Index: s for s in df[df.Frequency == f, COLS].itertuples()} for df in args]\n",
    "\n",
    "total = 0\n",
    "for f in tqdm(A):\n",
    "    sa, sb, sc = get_subsets(f, icao, aisw, aisg)\n",
    "    total += len(sa) + len(sb) + len(sc)\n",
    "    if all([sa, sb, sc]):\n",
    "        for fa, fb, fc in list(product(sa.copy().values(), sb.copy().values(), sc.copy().values())):\n",
    "            ca = (fa.Latitude, fa.Longitude)\n",
    "            cb = (fb.Latitude, fb.Longitude)\n",
    "            cc = (fc.Latitude, fc.Longitude)\n",
    "            dab = geodesic(ca, cb).km\n",
    "            dac = geodesic(ca, cc).km\n",
    "            dbc = geodesic(cb, cc).km\n",
    "            if all(d <= DIST for d in [dab, dac, dbc]):\n",
    "                if (fa.Index in sa) and (fb.Index in sb) and (fc.Index in sc):\n",
    "                    lat = (ca[0] + cb[0] + cc[0]) / 3\n",
    "                    long = (ca[1] + cb[1] + cc[1]) / 3\n",
    "                    desc = ' | '.join([fa.Description, fb.Description, fc.Description])\n",
    "                    d = {'Frequency': f, 'Latitude': lat, 'Longitude': long, 'Description': desc}\n",
    "                    df = pd.concat([df, pd.DataFrame(d, index=[0])], ignore_index=True)\n",
    "                    sa.pop(fa.Index)\n",
    "                    sb.pop(fb.Index)\n",
    "                    sc.pop(fc.Index)\n",
    "            elif all(d > DIST for d in [dac, dbc]):\n",
    "                df = check_add_row(df, f, fa, fb, sa, sb)\n",
    "            elif all(d > DIST for d in [dab, dac]):\n",
    "                df = check_add_row(df, f, fa, fc, sb, sc)\n",
    "            elif all(d > DIST for d in [dab, dbc]):\n",
    "                df = check_add_row(df, f, fa, fc, sa, sc)\n",
    "    for reg in [sa, sb, sc]:\n",
    "        for r in reg.values():\n",
    "            r = {'Frequency': f, \n",
    "                    'Latitude': r.Latitude, \n",
    "                    'Longitude': r.Longitude, \n",
    "                    'Description': r.Description}\n",
    "            df = pd.concat([df, pd.DataFrame(r, index=[0])], ignore_index=True)\n",
    "                    \n"
   ]
  },
  {
   "cell_type": "code",
   "execution_count": 10,
   "metadata": {
    "ExecuteTime": {
     "end_time": "2022-07-26T19:19:33.522176Z",
     "start_time": "2022-07-26T19:19:33.322488Z"
    }
   },
   "outputs": [
    {
     "data": {
      "text/html": [
       "<div>\n",
       "<style scoped>\n",
       "    .dataframe tbody tr th:only-of-type {\n",
       "        vertical-align: middle;\n",
       "    }\n",
       "\n",
       "    .dataframe tbody tr th {\n",
       "        vertical-align: top;\n",
       "    }\n",
       "\n",
       "    .dataframe thead th {\n",
       "        text-align: right;\n",
       "    }\n",
       "</style>\n",
       "<table border=\"1\" class=\"dataframe\">\n",
       "  <thead>\n",
       "    <tr style=\"text-align: right;\">\n",
       "      <th></th>\n",
       "      <th>Frequency</th>\n",
       "      <th>Latitude</th>\n",
       "      <th>Longitude</th>\n",
       "      <th>Description</th>\n",
       "    </tr>\n",
       "  </thead>\n",
       "  <tbody>\n",
       "    <tr>\n",
       "      <th>279</th>\n",
       "      <td>112.0</td>\n",
       "      <td>-29.709797</td>\n",
       "      <td>-53.712704</td>\n",
       "      <td>[AISW] SBSM-RDONAV, VOR/DME SMA, Santa Maria |...</td>\n",
       "    </tr>\n",
       "    <tr>\n",
       "      <th>282</th>\n",
       "      <td>112.0</td>\n",
       "      <td>-0.05</td>\n",
       "      <td>-51.066666</td>\n",
       "      <td>[ICAO] VOR/DME, MACAPA INTL.</td>\n",
       "    </tr>\n",
       "    <tr>\n",
       "      <th>281</th>\n",
       "      <td>112.0</td>\n",
       "      <td>-7.6</td>\n",
       "      <td>-72.76667</td>\n",
       "      <td>[ICAO] VOR/DME, CRUZEIRO DO SUL INTL.</td>\n",
       "    </tr>\n",
       "    <tr>\n",
       "      <th>280</th>\n",
       "      <td>112.0</td>\n",
       "      <td>-23.0</td>\n",
       "      <td>-47.133335</td>\n",
       "      <td>[ICAO] VOR/DME, CAMPINAS VIRACOPOS, SP</td>\n",
       "    </tr>\n",
       "    <tr>\n",
       "      <th>285</th>\n",
       "      <td>112.0</td>\n",
       "      <td>0.052246</td>\n",
       "      <td>-51.073112</td>\n",
       "      <td>[AISG] VOR - MACAPÁ OPR INFRAERO</td>\n",
       "    </tr>\n",
       "    <tr>\n",
       "      <th>...</th>\n",
       "      <td>...</td>\n",
       "      <td>...</td>\n",
       "      <td>...</td>\n",
       "      <td>...</td>\n",
       "    </tr>\n",
       "    <tr>\n",
       "      <th>162</th>\n",
       "      <td>1209.0</td>\n",
       "      <td>-15.865013</td>\n",
       "      <td>-47.900188</td>\n",
       "      <td>[AISG] DME - KUBITSCHEK 122X</td>\n",
       "    </tr>\n",
       "    <tr>\n",
       "      <th>180</th>\n",
       "      <td>1211.0</td>\n",
       "      <td>-19.834583</td>\n",
       "      <td>-44.001751</td>\n",
       "      <td>[DOC] VOR/DME, BELO HORIZONTE PAMPULHA (Ground...</td>\n",
       "    </tr>\n",
       "    <tr>\n",
       "      <th>181</th>\n",
       "      <td>1211.0</td>\n",
       "      <td>4.693</td>\n",
       "      <td>-61.028831</td>\n",
       "      <td>[AISG] DME - LA DIVINA PASTORA 124X</td>\n",
       "    </tr>\n",
       "    <tr>\n",
       "      <th>182</th>\n",
       "      <td>1211.0</td>\n",
       "      <td>-25.778656</td>\n",
       "      <td>-49.763241</td>\n",
       "      <td>[AISG] DME - LAPA-PR 124X</td>\n",
       "    </tr>\n",
       "    <tr>\n",
       "      <th>183</th>\n",
       "      <td>1211.0</td>\n",
       "      <td>-19.83577</td>\n",
       "      <td>-44.003563</td>\n",
       "      <td>[AISG] DME - BELO HORIZONTE 124X</td>\n",
       "    </tr>\n",
       "  </tbody>\n",
       "</table>\n",
       "<p>342 rows × 4 columns</p>\n",
       "</div>"
      ],
      "text/plain": [
       "    Frequency   Latitude  Longitude  \\\n",
       "279     112.0 -29.709797 -53.712704   \n",
       "282     112.0      -0.05 -51.066666   \n",
       "281     112.0       -7.6  -72.76667   \n",
       "280     112.0      -23.0 -47.133335   \n",
       "285     112.0   0.052246 -51.073112   \n",
       "..        ...        ...        ...   \n",
       "162    1209.0 -15.865013 -47.900188   \n",
       "180    1211.0 -19.834583 -44.001751   \n",
       "181    1211.0      4.693 -61.028831   \n",
       "182    1211.0 -25.778656 -49.763241   \n",
       "183    1211.0  -19.83577 -44.003563   \n",
       "\n",
       "                                           Description  \n",
       "279  [AISW] SBSM-RDONAV, VOR/DME SMA, Santa Maria |...  \n",
       "282                       [ICAO] VOR/DME, MACAPA INTL.  \n",
       "281              [ICAO] VOR/DME, CRUZEIRO DO SUL INTL.  \n",
       "280             [ICAO] VOR/DME, CAMPINAS VIRACOPOS, SP  \n",
       "285                   [AISG] VOR - MACAPÁ OPR INFRAERO  \n",
       "..                                                 ...  \n",
       "162                       [AISG] DME - KUBITSCHEK 122X  \n",
       "180  [DOC] VOR/DME, BELO HORIZONTE PAMPULHA (Ground...  \n",
       "181                [AISG] DME - LA DIVINA PASTORA 124X  \n",
       "182                          [AISG] DME - LAPA-PR 124X  \n",
       "183                   [AISG] DME - BELO HORIZONTE 124X  \n",
       "\n",
       "[342 rows x 4 columns]"
      ]
     },
     "execution_count": 10,
     "metadata": {},
     "output_type": "execute_result"
    }
   ],
   "source": [
    "df = df.sort_values('Frequency')\n",
    "df"
   ]
  },
  {
   "cell_type": "code",
   "execution_count": 11,
   "metadata": {
    "ExecuteTime": {
     "end_time": "2022-07-26T19:19:36.332443Z",
     "start_time": "2022-07-26T19:19:33.522176Z"
    }
   },
   "outputs": [
    {
     "data": {
      "application/vnd.jupyter.widget-view+json": {
       "model_id": "ceac51c306f94592be98dab87f8d3057",
       "version_major": 2,
       "version_minor": 0
      },
      "text/plain": [
       "  0%|          | 0/174 [00:00<?, ?it/s]"
      ]
     },
     "metadata": {},
     "output_type": "display_data"
    }
   ],
   "source": [
    "for f in tqdm(B):\n",
    "    sa, sb = get_subsets(f, icao, aisw)\n",
    "    total += len(sa) + len(sb)\n",
    "    if all([sa, sb]):\n",
    "        for fa, fb in list(product(sa.copy().values(), sb.copy().values())):\n",
    "            ca = (fa.Latitude, fa.Longitude)\n",
    "            cb = (fb.Latitude, fb.Longitude)\n",
    "            dab = geodesic(ca, cb).km\n",
    "            if dab <= DIST:\n",
    "                df = check_add_row(df, f, fa, fb, sa, sb)\n",
    "                sa.pop(fa.Index)\n",
    "                sb.pop(fb.Index)\n",
    "    for reg in [sa, sb]:\n",
    "        for r in reg.values():\n",
    "            r = {'Frequency': f, \n",
    "                    'Latitude': r.Latitude, \n",
    "                    'Longitude': r.Longitude, \n",
    "                    'Description': r.Description}\n",
    "            df = pd.concat([df, pd.DataFrame(r, index=[0])], ignore_index=True)                   \n"
   ]
  },
  {
   "cell_type": "code",
   "execution_count": 12,
   "metadata": {
    "ExecuteTime": {
     "end_time": "2022-07-26T19:19:36.512081Z",
     "start_time": "2022-07-26T19:19:36.332443Z"
    }
   },
   "outputs": [
    {
     "data": {
      "text/html": [
       "<div>\n",
       "<style scoped>\n",
       "    .dataframe tbody tr th:only-of-type {\n",
       "        vertical-align: middle;\n",
       "    }\n",
       "\n",
       "    .dataframe tbody tr th {\n",
       "        vertical-align: top;\n",
       "    }\n",
       "\n",
       "    .dataframe thead th {\n",
       "        text-align: right;\n",
       "    }\n",
       "</style>\n",
       "<table border=\"1\" class=\"dataframe\">\n",
       "  <thead>\n",
       "    <tr style=\"text-align: right;\">\n",
       "      <th></th>\n",
       "      <th>Frequency</th>\n",
       "      <th>Latitude</th>\n",
       "      <th>Longitude</th>\n",
       "      <th>Description</th>\n",
       "    </tr>\n",
       "  </thead>\n",
       "  <tbody>\n",
       "    <tr>\n",
       "      <th>386</th>\n",
       "      <td>109.1</td>\n",
       "      <td>-25.6</td>\n",
       "      <td>-54.466667</td>\n",
       "      <td>[ICAO] ILS, FOZ DO IGUACU CATARATAS</td>\n",
       "    </tr>\n",
       "    <tr>\n",
       "      <th>389</th>\n",
       "      <td>109.1</td>\n",
       "      <td>-25.602833</td>\n",
       "      <td>-54.4785</td>\n",
       "      <td>[AISW] SBFI-RDONAV, ILS/DME 14 IFI, Cataratas</td>\n",
       "    </tr>\n",
       "    <tr>\n",
       "      <th>387</th>\n",
       "      <td>109.1</td>\n",
       "      <td>-21.783333</td>\n",
       "      <td>-43.383335</td>\n",
       "      <td>[ICAO] ILS/DME, JUIZ DE FORA</td>\n",
       "    </tr>\n",
       "    <tr>\n",
       "      <th>388</th>\n",
       "      <td>109.1</td>\n",
       "      <td>-7.2745</td>\n",
       "      <td>-35.889</td>\n",
       "      <td>[AISW] SBKG-RDONAV, LOC/DME 15 IKG, Presidente...</td>\n",
       "    </tr>\n",
       "    <tr>\n",
       "      <th>630</th>\n",
       "      <td>109.3</td>\n",
       "      <td>-8.722333</td>\n",
       "      <td>-63.901669</td>\n",
       "      <td>[AISW] SBPV-RDONAV, ILS/DME 19 IPV, Governador...</td>\n",
       "    </tr>\n",
       "    <tr>\n",
       "      <th>...</th>\n",
       "      <td>...</td>\n",
       "      <td>...</td>\n",
       "      <td>...</td>\n",
       "      <td>...</td>\n",
       "    </tr>\n",
       "    <tr>\n",
       "      <th>335</th>\n",
       "      <td>1209.0</td>\n",
       "      <td>-10.024174</td>\n",
       "      <td>-58.916761</td>\n",
       "      <td>[DOC] VOR/DME, AMAZONICA (Ground-based DME) | ...</td>\n",
       "    </tr>\n",
       "    <tr>\n",
       "      <th>338</th>\n",
       "      <td>1211.0</td>\n",
       "      <td>-19.834583</td>\n",
       "      <td>-44.001751</td>\n",
       "      <td>[DOC] VOR/DME, BELO HORIZONTE PAMPULHA (Ground...</td>\n",
       "    </tr>\n",
       "    <tr>\n",
       "      <th>339</th>\n",
       "      <td>1211.0</td>\n",
       "      <td>4.693</td>\n",
       "      <td>-61.028831</td>\n",
       "      <td>[AISG] DME - LA DIVINA PASTORA 124X</td>\n",
       "    </tr>\n",
       "    <tr>\n",
       "      <th>340</th>\n",
       "      <td>1211.0</td>\n",
       "      <td>-25.778656</td>\n",
       "      <td>-49.763241</td>\n",
       "      <td>[AISG] DME - LAPA-PR 124X</td>\n",
       "    </tr>\n",
       "    <tr>\n",
       "      <th>341</th>\n",
       "      <td>1211.0</td>\n",
       "      <td>-19.83577</td>\n",
       "      <td>-44.003563</td>\n",
       "      <td>[AISG] DME - BELO HORIZONTE 124X</td>\n",
       "    </tr>\n",
       "  </tbody>\n",
       "</table>\n",
       "<p>1469 rows × 4 columns</p>\n",
       "</div>"
      ],
      "text/plain": [
       "    Frequency   Latitude  Longitude  \\\n",
       "386     109.1      -25.6 -54.466667   \n",
       "389     109.1 -25.602833   -54.4785   \n",
       "387     109.1 -21.783333 -43.383335   \n",
       "388     109.1    -7.2745    -35.889   \n",
       "630     109.3  -8.722333 -63.901669   \n",
       "..        ...        ...        ...   \n",
       "335    1209.0 -10.024174 -58.916761   \n",
       "338    1211.0 -19.834583 -44.001751   \n",
       "339    1211.0      4.693 -61.028831   \n",
       "340    1211.0 -25.778656 -49.763241   \n",
       "341    1211.0  -19.83577 -44.003563   \n",
       "\n",
       "                                           Description  \n",
       "386                [ICAO] ILS, FOZ DO IGUACU CATARATAS  \n",
       "389      [AISW] SBFI-RDONAV, ILS/DME 14 IFI, Cataratas  \n",
       "387                       [ICAO] ILS/DME, JUIZ DE FORA  \n",
       "388  [AISW] SBKG-RDONAV, LOC/DME 15 IKG, Presidente...  \n",
       "630  [AISW] SBPV-RDONAV, ILS/DME 19 IPV, Governador...  \n",
       "..                                                 ...  \n",
       "335  [DOC] VOR/DME, AMAZONICA (Ground-based DME) | ...  \n",
       "338  [DOC] VOR/DME, BELO HORIZONTE PAMPULHA (Ground...  \n",
       "339                [AISG] DME - LA DIVINA PASTORA 124X  \n",
       "340                          [AISG] DME - LAPA-PR 124X  \n",
       "341                   [AISG] DME - BELO HORIZONTE 124X  \n",
       "\n",
       "[1469 rows x 4 columns]"
      ]
     },
     "execution_count": 12,
     "metadata": {},
     "output_type": "execute_result"
    }
   ],
   "source": [
    "df = df.sort_values('Frequency')\n",
    "df"
   ]
  },
  {
   "cell_type": "code",
   "execution_count": 13,
   "metadata": {
    "ExecuteTime": {
     "end_time": "2022-07-26T19:19:36.912047Z",
     "start_time": "2022-07-26T19:19:36.512081Z"
    }
   },
   "outputs": [
    {
     "data": {
      "application/vnd.jupyter.widget-view+json": {
       "model_id": "4100b4c68a964650b2d5d188a15a28f1",
       "version_major": 2,
       "version_minor": 0
      },
      "text/plain": [
       "  0%|          | 0/46 [00:00<?, ?it/s]"
      ]
     },
     "metadata": {},
     "output_type": "display_data"
    }
   ],
   "source": [
    "for f in tqdm(C):\n",
    "    sb = list(aisw.loc[aisw.Frequency == f, cols].itertuples())\n",
    "    sb = {s.Index: s for s in sb}\n",
    "    sc = list(aisg.loc[aisg.Frequency == f, cols].itertuples())\n",
    "    sc = {s.Index: s for s in sc}\n",
    "    total += len(sb) + len(sc)\n",
    "    if all([sb, sc]):\n",
    "        for fb, fc in list(product(sb.copy().values(), sc.copy().values())):\n",
    "            cb = (fb.Latitude, fb.Longitude)\n",
    "            cc = (fc.Latitude, fc.Longitude)\n",
    "            dbc = geodesic(cb, cc).km\n",
    "            if (fb.Index in sb) and (fc.Index in sc) and (dbc <= DIST):\n",
    "                df = add_row(df, f, fb, fc)\n",
    "                sb.pop(fb.Index)\n",
    "                sc.pop(fc.Index)\n",
    "    for reg in [sb, sc]:\n",
    "        for r in reg.values():\n",
    "            r = {'Frequency': f, \n",
    "                    'Latitude': r.Latitude, \n",
    "                    'Longitude': r.Longitude, \n",
    "                    'Description': r.Description}\n",
    "            df = pd.concat([df, pd.DataFrame(r, index=[0])], ignore_index=True)                   \n"
   ]
  },
  {
   "cell_type": "code",
   "execution_count": 14,
   "metadata": {
    "ExecuteTime": {
     "end_time": "2022-07-26T19:19:37.092495Z",
     "start_time": "2022-07-26T19:19:36.912047Z"
    }
   },
   "outputs": [
    {
     "data": {
      "text/html": [
       "<div>\n",
       "<style scoped>\n",
       "    .dataframe tbody tr th:only-of-type {\n",
       "        vertical-align: middle;\n",
       "    }\n",
       "\n",
       "    .dataframe tbody tr th {\n",
       "        vertical-align: top;\n",
       "    }\n",
       "\n",
       "    .dataframe thead th {\n",
       "        text-align: right;\n",
       "    }\n",
       "</style>\n",
       "<table border=\"1\" class=\"dataframe\">\n",
       "  <thead>\n",
       "    <tr style=\"text-align: right;\">\n",
       "      <th></th>\n",
       "      <th>Frequency</th>\n",
       "      <th>Latitude</th>\n",
       "      <th>Longitude</th>\n",
       "      <th>Description</th>\n",
       "    </tr>\n",
       "  </thead>\n",
       "  <tbody>\n",
       "    <tr>\n",
       "      <th>1477</th>\n",
       "      <td>0.2</td>\n",
       "      <td>-22.923334</td>\n",
       "      <td>-42.071499</td>\n",
       "      <td>[AISW] SBCB-RDONAV, NDB BFR, Cabo Frio | [AISG...</td>\n",
       "    </tr>\n",
       "    <tr>\n",
       "      <th>1508</th>\n",
       "      <td>0.205</td>\n",
       "      <td>-5.386167</td>\n",
       "      <td>-35.530998</td>\n",
       "      <td>[AISW] SNXX-RDONAV, NDB MXN, Maxaranguape | [A...</td>\n",
       "    </tr>\n",
       "    <tr>\n",
       "      <th>1509</th>\n",
       "      <td>0.205</td>\n",
       "      <td>-5.386167</td>\n",
       "      <td>-35.530998</td>\n",
       "      <td>[AISW] SBNT-RDONAV, NDB MXN, CAMPO AUGUSTO SEVERO</td>\n",
       "    </tr>\n",
       "    <tr>\n",
       "      <th>1507</th>\n",
       "      <td>0.205</td>\n",
       "      <td>-1.486333</td>\n",
       "      <td>-56.397835</td>\n",
       "      <td>[AISW] SBTB-RDONAV, NDB PTT, Trombetas | [AISG...</td>\n",
       "    </tr>\n",
       "    <tr>\n",
       "      <th>1504</th>\n",
       "      <td>0.21</td>\n",
       "      <td>-19.561001</td>\n",
       "      <td>-46.964668</td>\n",
       "      <td>[AISW] SBAX-RDONAV, NDB ARX, Romeu Zema | [AIS...</td>\n",
       "    </tr>\n",
       "    <tr>\n",
       "      <th>...</th>\n",
       "      <td>...</td>\n",
       "      <td>...</td>\n",
       "      <td>...</td>\n",
       "      <td>...</td>\n",
       "    </tr>\n",
       "    <tr>\n",
       "      <th>1464</th>\n",
       "      <td>1209.0</td>\n",
       "      <td>-10.024174</td>\n",
       "      <td>-58.916761</td>\n",
       "      <td>[DOC] VOR/DME, AMAZONICA (Ground-based DME) | ...</td>\n",
       "    </tr>\n",
       "    <tr>\n",
       "      <th>1468</th>\n",
       "      <td>1211.0</td>\n",
       "      <td>-19.83577</td>\n",
       "      <td>-44.003563</td>\n",
       "      <td>[AISG] DME - BELO HORIZONTE 124X</td>\n",
       "    </tr>\n",
       "    <tr>\n",
       "      <th>1467</th>\n",
       "      <td>1211.0</td>\n",
       "      <td>-25.778656</td>\n",
       "      <td>-49.763241</td>\n",
       "      <td>[AISG] DME - LAPA-PR 124X</td>\n",
       "    </tr>\n",
       "    <tr>\n",
       "      <th>1466</th>\n",
       "      <td>1211.0</td>\n",
       "      <td>4.693</td>\n",
       "      <td>-61.028831</td>\n",
       "      <td>[AISG] DME - LA DIVINA PASTORA 124X</td>\n",
       "    </tr>\n",
       "    <tr>\n",
       "      <th>1465</th>\n",
       "      <td>1211.0</td>\n",
       "      <td>-19.834583</td>\n",
       "      <td>-44.001751</td>\n",
       "      <td>[DOC] VOR/DME, BELO HORIZONTE PAMPULHA (Ground...</td>\n",
       "    </tr>\n",
       "  </tbody>\n",
       "</table>\n",
       "<p>1545 rows × 4 columns</p>\n",
       "</div>"
      ],
      "text/plain": [
       "     Frequency   Latitude  Longitude  \\\n",
       "1477       0.2 -22.923334 -42.071499   \n",
       "1508     0.205  -5.386167 -35.530998   \n",
       "1509     0.205  -5.386167 -35.530998   \n",
       "1507     0.205  -1.486333 -56.397835   \n",
       "1504      0.21 -19.561001 -46.964668   \n",
       "...        ...        ...        ...   \n",
       "1464    1209.0 -10.024174 -58.916761   \n",
       "1468    1211.0  -19.83577 -44.003563   \n",
       "1467    1211.0 -25.778656 -49.763241   \n",
       "1466    1211.0      4.693 -61.028831   \n",
       "1465    1211.0 -19.834583 -44.001751   \n",
       "\n",
       "                                            Description  \n",
       "1477  [AISW] SBCB-RDONAV, NDB BFR, Cabo Frio | [AISG...  \n",
       "1508  [AISW] SNXX-RDONAV, NDB MXN, Maxaranguape | [A...  \n",
       "1509  [AISW] SBNT-RDONAV, NDB MXN, CAMPO AUGUSTO SEVERO  \n",
       "1507  [AISW] SBTB-RDONAV, NDB PTT, Trombetas | [AISG...  \n",
       "1504  [AISW] SBAX-RDONAV, NDB ARX, Romeu Zema | [AIS...  \n",
       "...                                                 ...  \n",
       "1464  [DOC] VOR/DME, AMAZONICA (Ground-based DME) | ...  \n",
       "1468                   [AISG] DME - BELO HORIZONTE 124X  \n",
       "1467                          [AISG] DME - LAPA-PR 124X  \n",
       "1466                [AISG] DME - LA DIVINA PASTORA 124X  \n",
       "1465  [DOC] VOR/DME, BELO HORIZONTE PAMPULHA (Ground...  \n",
       "\n",
       "[1545 rows x 4 columns]"
      ]
     },
     "execution_count": 14,
     "metadata": {},
     "output_type": "execute_result"
    }
   ],
   "source": [
    "df = df.sort_values('Frequency')\n",
    "df"
   ]
  },
  {
   "cell_type": "code",
   "execution_count": 15,
   "metadata": {
    "ExecuteTime": {
     "end_time": "2022-07-26T19:19:37.332280Z",
     "start_time": "2022-07-26T19:19:37.092495Z"
    }
   },
   "outputs": [
    {
     "data": {
      "application/vnd.jupyter.widget-view+json": {
       "model_id": "8c14f734030e4c8993457cd153170b18",
       "version_major": 2,
       "version_minor": 0
      },
      "text/plain": [
       "  0%|          | 0/8 [00:00<?, ?it/s]"
      ]
     },
     "metadata": {},
     "output_type": "display_data"
    }
   ],
   "source": [
    "for f in tqdm(D):\n",
    "    sa = list(icao.loc[icao.Frequency == f, cols].itertuples())\n",
    "    sa = {s.Index: s for s in sa}\n",
    "    sc = list(aisg.loc[aisg.Frequency == f, cols].itertuples())\n",
    "    sc = {s.Index: s for s in sc}\n",
    "    total += len(sa) + len(sc)\n",
    "    if all([sa, sc]):\n",
    "        for fa, fc in list(product(sa.copy().values(), sc.copy().values())):\n",
    "            ca = (fa.Latitude, fa.Longitude)\n",
    "            cc = (fc.Latitude, fc.Longitude)\n",
    "            dac = geodesic(ca, cc).km\n",
    "            if (fa.Index in sa) and (fc.Index in sc) and (dac <= DIST):\n",
    "                df = add_row(df, f, fa, fc)\n",
    "                sa.pop(fa.Index)\n",
    "                sc.pop(fc.Index)\n",
    "    for reg in [sa, sc]:\n",
    "        for r in reg.values():\n",
    "            r = {'Frequency': f, \n",
    "                    'Latitude': r.Latitude, \n",
    "                    'Longitude': r.Longitude, \n",
    "                    'Description': r.Description}\n",
    "            df = pd.concat([df, pd.DataFrame(r, index=[0])], ignore_index=True)                   \n"
   ]
  },
  {
   "cell_type": "code",
   "execution_count": 16,
   "metadata": {
    "ExecuteTime": {
     "end_time": "2022-07-26T19:19:37.512221Z",
     "start_time": "2022-07-26T19:19:37.332280Z"
    }
   },
   "outputs": [
    {
     "data": {
      "text/html": [
       "<div>\n",
       "<style scoped>\n",
       "    .dataframe tbody tr th:only-of-type {\n",
       "        vertical-align: middle;\n",
       "    }\n",
       "\n",
       "    .dataframe tbody tr th {\n",
       "        vertical-align: top;\n",
       "    }\n",
       "\n",
       "    .dataframe thead th {\n",
       "        text-align: right;\n",
       "    }\n",
       "</style>\n",
       "<table border=\"1\" class=\"dataframe\">\n",
       "  <thead>\n",
       "    <tr style=\"text-align: right;\">\n",
       "      <th></th>\n",
       "      <th>Frequency</th>\n",
       "      <th>Latitude</th>\n",
       "      <th>Longitude</th>\n",
       "      <th>Description</th>\n",
       "    </tr>\n",
       "  </thead>\n",
       "  <tbody>\n",
       "    <tr>\n",
       "      <th>0</th>\n",
       "      <td>0.2</td>\n",
       "      <td>-22.923334</td>\n",
       "      <td>-42.071499</td>\n",
       "      <td>[AISW] SBCB-RDONAV, NDB BFR, Cabo Frio | [AISG...</td>\n",
       "    </tr>\n",
       "    <tr>\n",
       "      <th>1</th>\n",
       "      <td>0.205</td>\n",
       "      <td>-5.386167</td>\n",
       "      <td>-35.530998</td>\n",
       "      <td>[AISW] SNXX-RDONAV, NDB MXN, Maxaranguape | [A...</td>\n",
       "    </tr>\n",
       "    <tr>\n",
       "      <th>2</th>\n",
       "      <td>0.205</td>\n",
       "      <td>-5.386167</td>\n",
       "      <td>-35.530998</td>\n",
       "      <td>[AISW] SBNT-RDONAV, NDB MXN, CAMPO AUGUSTO SEVERO</td>\n",
       "    </tr>\n",
       "    <tr>\n",
       "      <th>3</th>\n",
       "      <td>0.205</td>\n",
       "      <td>-1.486333</td>\n",
       "      <td>-56.397835</td>\n",
       "      <td>[AISW] SBTB-RDONAV, NDB PTT, Trombetas | [AISG...</td>\n",
       "    </tr>\n",
       "    <tr>\n",
       "      <th>4</th>\n",
       "      <td>0.21</td>\n",
       "      <td>-19.561001</td>\n",
       "      <td>-46.964668</td>\n",
       "      <td>[AISW] SBAX-RDONAV, NDB ARX, Romeu Zema | [AIS...</td>\n",
       "    </tr>\n",
       "    <tr>\n",
       "      <th>...</th>\n",
       "      <td>...</td>\n",
       "      <td>...</td>\n",
       "      <td>...</td>\n",
       "      <td>...</td>\n",
       "    </tr>\n",
       "    <tr>\n",
       "      <th>1539</th>\n",
       "      <td>1209.0</td>\n",
       "      <td>-4.195</td>\n",
       "      <td>-69.940552</td>\n",
       "      <td>[AISG] DME - LETÍCIA 122X</td>\n",
       "    </tr>\n",
       "    <tr>\n",
       "      <th>1544</th>\n",
       "      <td>1211.0</td>\n",
       "      <td>-19.834583</td>\n",
       "      <td>-44.001751</td>\n",
       "      <td>[DOC] VOR/DME, BELO HORIZONTE PAMPULHA (Ground...</td>\n",
       "    </tr>\n",
       "    <tr>\n",
       "      <th>1543</th>\n",
       "      <td>1211.0</td>\n",
       "      <td>4.693</td>\n",
       "      <td>-61.028831</td>\n",
       "      <td>[AISG] DME - LA DIVINA PASTORA 124X</td>\n",
       "    </tr>\n",
       "    <tr>\n",
       "      <th>1542</th>\n",
       "      <td>1211.0</td>\n",
       "      <td>-25.778656</td>\n",
       "      <td>-49.763241</td>\n",
       "      <td>[AISG] DME - LAPA-PR 124X</td>\n",
       "    </tr>\n",
       "    <tr>\n",
       "      <th>1541</th>\n",
       "      <td>1211.0</td>\n",
       "      <td>-19.83577</td>\n",
       "      <td>-44.003563</td>\n",
       "      <td>[AISG] DME - BELO HORIZONTE 124X</td>\n",
       "    </tr>\n",
       "  </tbody>\n",
       "</table>\n",
       "<p>1565 rows × 4 columns</p>\n",
       "</div>"
      ],
      "text/plain": [
       "     Frequency   Latitude  Longitude  \\\n",
       "0          0.2 -22.923334 -42.071499   \n",
       "1        0.205  -5.386167 -35.530998   \n",
       "2        0.205  -5.386167 -35.530998   \n",
       "3        0.205  -1.486333 -56.397835   \n",
       "4         0.21 -19.561001 -46.964668   \n",
       "...        ...        ...        ...   \n",
       "1539    1209.0     -4.195 -69.940552   \n",
       "1544    1211.0 -19.834583 -44.001751   \n",
       "1543    1211.0      4.693 -61.028831   \n",
       "1542    1211.0 -25.778656 -49.763241   \n",
       "1541    1211.0  -19.83577 -44.003563   \n",
       "\n",
       "                                            Description  \n",
       "0     [AISW] SBCB-RDONAV, NDB BFR, Cabo Frio | [AISG...  \n",
       "1     [AISW] SNXX-RDONAV, NDB MXN, Maxaranguape | [A...  \n",
       "2     [AISW] SBNT-RDONAV, NDB MXN, CAMPO AUGUSTO SEVERO  \n",
       "3     [AISW] SBTB-RDONAV, NDB PTT, Trombetas | [AISG...  \n",
       "4     [AISW] SBAX-RDONAV, NDB ARX, Romeu Zema | [AIS...  \n",
       "...                                                 ...  \n",
       "1539                          [AISG] DME - LETÍCIA 122X  \n",
       "1544  [DOC] VOR/DME, BELO HORIZONTE PAMPULHA (Ground...  \n",
       "1543                [AISG] DME - LA DIVINA PASTORA 124X  \n",
       "1542                          [AISG] DME - LAPA-PR 124X  \n",
       "1541                   [AISG] DME - BELO HORIZONTE 124X  \n",
       "\n",
       "[1565 rows x 4 columns]"
      ]
     },
     "execution_count": 16,
     "metadata": {},
     "output_type": "execute_result"
    }
   ],
   "source": [
    "df = df.sort_values('Frequency')\n",
    "df"
   ]
  },
  {
   "cell_type": "code",
   "execution_count": 17,
   "metadata": {
    "ExecuteTime": {
     "end_time": "2022-07-26T19:19:37.702359Z",
     "start_time": "2022-07-26T19:19:37.512221Z"
    }
   },
   "outputs": [
    {
     "data": {
      "text/plain": [
       "2000"
      ]
     },
     "execution_count": 17,
     "metadata": {},
     "output_type": "execute_result"
    }
   ],
   "source": [
    "total"
   ]
  },
  {
   "cell_type": "code",
   "execution_count": 18,
   "metadata": {
    "ExecuteTime": {
     "end_time": "2022-07-26T19:19:37.892636Z",
     "start_time": "2022-07-26T19:19:37.702359Z"
    }
   },
   "outputs": [
    {
     "data": {
      "text/html": [
       "<div>\n",
       "<style scoped>\n",
       "    .dataframe tbody tr th:only-of-type {\n",
       "        vertical-align: middle;\n",
       "    }\n",
       "\n",
       "    .dataframe tbody tr th {\n",
       "        vertical-align: top;\n",
       "    }\n",
       "\n",
       "    .dataframe thead th {\n",
       "        text-align: right;\n",
       "    }\n",
       "</style>\n",
       "<table border=\"1\" class=\"dataframe\">\n",
       "  <thead>\n",
       "    <tr style=\"text-align: right;\">\n",
       "      <th></th>\n",
       "      <th>Frequency</th>\n",
       "      <th>Latitude</th>\n",
       "      <th>Longitude</th>\n",
       "      <th>Description</th>\n",
       "    </tr>\n",
       "  </thead>\n",
       "  <tbody>\n",
       "    <tr>\n",
       "      <th>159</th>\n",
       "      <td>113.2</td>\n",
       "      <td>-3.249568</td>\n",
       "      <td>-52.248437</td>\n",
       "      <td>[ICAO] VOR/DME, ALTAMIRA | [AISW] SBHT-RDONAV,...</td>\n",
       "    </tr>\n",
       "    <tr>\n",
       "      <th>233</th>\n",
       "      <td>116.2</td>\n",
       "      <td>-22.950984</td>\n",
       "      <td>-46.568768</td>\n",
       "      <td>[ICAO] VOR/DME, BRAGANCA | [AISW] SBBP-RDONAV,...</td>\n",
       "    </tr>\n",
       "    <tr>\n",
       "      <th>1517</th>\n",
       "      <td>1196.0</td>\n",
       "      <td>-22.950953</td>\n",
       "      <td>-46.568799</td>\n",
       "      <td>[DOC] VOR/DME, BRAGANCA (Ground-based DME) | [...</td>\n",
       "    </tr>\n",
       "  </tbody>\n",
       "</table>\n",
       "</div>"
      ],
      "text/plain": [
       "     Frequency   Latitude  Longitude  \\\n",
       "159      113.2  -3.249568 -52.248437   \n",
       "233      116.2 -22.950984 -46.568768   \n",
       "1517    1196.0 -22.950953 -46.568799   \n",
       "\n",
       "                                            Description  \n",
       "159   [ICAO] VOR/DME, ALTAMIRA | [AISW] SBHT-RDONAV,...  \n",
       "233   [ICAO] VOR/DME, BRAGANCA | [AISW] SBBP-RDONAV,...  \n",
       "1517  [DOC] VOR/DME, BRAGANCA (Ground-based DME) | [...  "
      ]
     },
     "execution_count": 18,
     "metadata": {},
     "output_type": "execute_result"
    }
   ],
   "source": [
    "three_merges = df[df.Description.str.contains('\\|.*\\|')]\n",
    "three_merges"
   ]
  },
  {
   "cell_type": "code",
   "execution_count": 19,
   "metadata": {
    "ExecuteTime": {
     "end_time": "2022-07-26T19:19:38.092104Z",
     "start_time": "2022-07-26T19:19:37.892636Z"
    }
   },
   "outputs": [
    {
     "data": {
      "text/html": [
       "<div>\n",
       "<style scoped>\n",
       "    .dataframe tbody tr th:only-of-type {\n",
       "        vertical-align: middle;\n",
       "    }\n",
       "\n",
       "    .dataframe tbody tr th {\n",
       "        vertical-align: top;\n",
       "    }\n",
       "\n",
       "    .dataframe thead th {\n",
       "        text-align: right;\n",
       "    }\n",
       "</style>\n",
       "<table border=\"1\" class=\"dataframe\">\n",
       "  <thead>\n",
       "    <tr style=\"text-align: right;\">\n",
       "      <th></th>\n",
       "      <th>Frequency</th>\n",
       "      <th>Latitude</th>\n",
       "      <th>Longitude</th>\n",
       "      <th>Description</th>\n",
       "    </tr>\n",
       "  </thead>\n",
       "  <tbody>\n",
       "    <tr>\n",
       "      <th>0</th>\n",
       "      <td>0.2</td>\n",
       "      <td>-22.923334</td>\n",
       "      <td>-42.071499</td>\n",
       "      <td>[AISW] SBCB-RDONAV, NDB BFR, Cabo Frio | [AISG...</td>\n",
       "    </tr>\n",
       "    <tr>\n",
       "      <th>1</th>\n",
       "      <td>0.205</td>\n",
       "      <td>-5.386167</td>\n",
       "      <td>-35.530998</td>\n",
       "      <td>[AISW] SNXX-RDONAV, NDB MXN, Maxaranguape | [A...</td>\n",
       "    </tr>\n",
       "    <tr>\n",
       "      <th>3</th>\n",
       "      <td>0.205</td>\n",
       "      <td>-1.486333</td>\n",
       "      <td>-56.397835</td>\n",
       "      <td>[AISW] SBTB-RDONAV, NDB PTT, Trombetas | [AISG...</td>\n",
       "    </tr>\n",
       "    <tr>\n",
       "      <th>4</th>\n",
       "      <td>0.21</td>\n",
       "      <td>-19.561001</td>\n",
       "      <td>-46.964668</td>\n",
       "      <td>[AISW] SBAX-RDONAV, NDB ARX, Romeu Zema | [AIS...</td>\n",
       "    </tr>\n",
       "    <tr>\n",
       "      <th>5</th>\n",
       "      <td>0.23</td>\n",
       "      <td>-7.266</td>\n",
       "      <td>-35.892666</td>\n",
       "      <td>[AISW] SBKG-RDONAV, NDB CPG, Presidente João S...</td>\n",
       "    </tr>\n",
       "    <tr>\n",
       "      <th>...</th>\n",
       "      <td>...</td>\n",
       "      <td>...</td>\n",
       "      <td>...</td>\n",
       "      <td>...</td>\n",
       "    </tr>\n",
       "    <tr>\n",
       "      <th>1533</th>\n",
       "      <td>1203.0</td>\n",
       "      <td>-8.134917</td>\n",
       "      <td>-34.930334</td>\n",
       "      <td>[DOC] VOR/DME, RECIFE GUARARAPES (Ground-based...</td>\n",
       "    </tr>\n",
       "    <tr>\n",
       "      <th>1535</th>\n",
       "      <td>1204.0</td>\n",
       "      <td>-19.689023</td>\n",
       "      <td>-47.060537</td>\n",
       "      <td>[DOC] SBAX-RDONAV, VOR/DME ARX, Romeu Zema (Gr...</td>\n",
       "    </tr>\n",
       "    <tr>\n",
       "      <th>1536</th>\n",
       "      <td>1207.0</td>\n",
       "      <td>-1.384344</td>\n",
       "      <td>-48.478533</td>\n",
       "      <td>[DOC] SBBE-RDONAV, VOR/DME BEL, Val de Cans - ...</td>\n",
       "    </tr>\n",
       "    <tr>\n",
       "      <th>1540</th>\n",
       "      <td>1209.0</td>\n",
       "      <td>-10.024174</td>\n",
       "      <td>-58.916761</td>\n",
       "      <td>[DOC] VOR/DME, AMAZONICA (Ground-based DME) | ...</td>\n",
       "    </tr>\n",
       "    <tr>\n",
       "      <th>1544</th>\n",
       "      <td>1211.0</td>\n",
       "      <td>-19.834583</td>\n",
       "      <td>-44.001751</td>\n",
       "      <td>[DOC] VOR/DME, BELO HORIZONTE PAMPULHA (Ground...</td>\n",
       "    </tr>\n",
       "  </tbody>\n",
       "</table>\n",
       "<p>429 rows × 4 columns</p>\n",
       "</div>"
      ],
      "text/plain": [
       "     Frequency   Latitude  Longitude  \\\n",
       "0          0.2 -22.923334 -42.071499   \n",
       "1        0.205  -5.386167 -35.530998   \n",
       "3        0.205  -1.486333 -56.397835   \n",
       "4         0.21 -19.561001 -46.964668   \n",
       "5         0.23     -7.266 -35.892666   \n",
       "...        ...        ...        ...   \n",
       "1533    1203.0  -8.134917 -34.930334   \n",
       "1535    1204.0 -19.689023 -47.060537   \n",
       "1536    1207.0  -1.384344 -48.478533   \n",
       "1540    1209.0 -10.024174 -58.916761   \n",
       "1544    1211.0 -19.834583 -44.001751   \n",
       "\n",
       "                                            Description  \n",
       "0     [AISW] SBCB-RDONAV, NDB BFR, Cabo Frio | [AISG...  \n",
       "1     [AISW] SNXX-RDONAV, NDB MXN, Maxaranguape | [A...  \n",
       "3     [AISW] SBTB-RDONAV, NDB PTT, Trombetas | [AISG...  \n",
       "4     [AISW] SBAX-RDONAV, NDB ARX, Romeu Zema | [AIS...  \n",
       "5     [AISW] SBKG-RDONAV, NDB CPG, Presidente João S...  \n",
       "...                                                 ...  \n",
       "1533  [DOC] VOR/DME, RECIFE GUARARAPES (Ground-based...  \n",
       "1535  [DOC] SBAX-RDONAV, VOR/DME ARX, Romeu Zema (Gr...  \n",
       "1536  [DOC] SBBE-RDONAV, VOR/DME BEL, Val de Cans - ...  \n",
       "1540  [DOC] VOR/DME, AMAZONICA (Ground-based DME) | ...  \n",
       "1544  [DOC] VOR/DME, BELO HORIZONTE PAMPULHA (Ground...  \n",
       "\n",
       "[429 rows x 4 columns]"
      ]
     },
     "execution_count": 19,
     "metadata": {},
     "output_type": "execute_result"
    }
   ],
   "source": [
    "two_merges = df[(df.Description.str.contains('[\\|]{1}')) & (~df.index.isin(three_merges.index))]\n",
    "two_merges\n"
   ]
  },
  {
   "cell_type": "code",
   "execution_count": 20,
   "metadata": {
    "ExecuteTime": {
     "end_time": "2022-07-26T19:19:38.270261Z",
     "start_time": "2022-07-26T19:19:38.092104Z"
    }
   },
   "outputs": [
    {
     "data": {
      "text/html": [
       "<div>\n",
       "<style scoped>\n",
       "    .dataframe tbody tr th:only-of-type {\n",
       "        vertical-align: middle;\n",
       "    }\n",
       "\n",
       "    .dataframe tbody tr th {\n",
       "        vertical-align: top;\n",
       "    }\n",
       "\n",
       "    .dataframe thead th {\n",
       "        text-align: right;\n",
       "    }\n",
       "</style>\n",
       "<table border=\"1\" class=\"dataframe\">\n",
       "  <thead>\n",
       "    <tr style=\"text-align: right;\">\n",
       "      <th></th>\n",
       "      <th>Frequency</th>\n",
       "      <th>Latitude</th>\n",
       "      <th>Longitude</th>\n",
       "      <th>Description</th>\n",
       "    </tr>\n",
       "  </thead>\n",
       "  <tbody>\n",
       "    <tr>\n",
       "      <th>2</th>\n",
       "      <td>0.205</td>\n",
       "      <td>-5.386167</td>\n",
       "      <td>-35.530998</td>\n",
       "      <td>[AISW] SBNT-RDONAV, NDB MXN, CAMPO AUGUSTO SEVERO</td>\n",
       "    </tr>\n",
       "    <tr>\n",
       "      <th>9</th>\n",
       "      <td>0.25</td>\n",
       "      <td>-29.694723</td>\n",
       "      <td>-57.148056</td>\n",
       "      <td>[AISG] NDB - PASO DE LOS LIBRES OPR ARGENTINA</td>\n",
       "    </tr>\n",
       "    <tr>\n",
       "      <th>14</th>\n",
       "      <td>0.275</td>\n",
       "      <td>2.068833</td>\n",
       "      <td>-50.8605</td>\n",
       "      <td>[AISG] NDB - AMAPÁ COVERAGE 100NM.</td>\n",
       "    </tr>\n",
       "    <tr>\n",
       "      <th>23</th>\n",
       "      <td>0.3</td>\n",
       "      <td>-29.996307</td>\n",
       "      <td>-50.145004</td>\n",
       "      <td>[AISG] NDB - TRAMANDAÍ OPR MAR</td>\n",
       "    </tr>\n",
       "    <tr>\n",
       "      <th>29</th>\n",
       "      <td>0.33</td>\n",
       "      <td>-16.335333</td>\n",
       "      <td>-58.387165</td>\n",
       "      <td>[AISG] NDB - SAN MATIAS</td>\n",
       "    </tr>\n",
       "    <tr>\n",
       "      <th>...</th>\n",
       "      <td>...</td>\n",
       "      <td>...</td>\n",
       "      <td>...</td>\n",
       "      <td>...</td>\n",
       "    </tr>\n",
       "    <tr>\n",
       "      <th>1538</th>\n",
       "      <td>1209.0</td>\n",
       "      <td>-15.865013</td>\n",
       "      <td>-47.900188</td>\n",
       "      <td>[AISG] DME - KUBITSCHEK 122X</td>\n",
       "    </tr>\n",
       "    <tr>\n",
       "      <th>1539</th>\n",
       "      <td>1209.0</td>\n",
       "      <td>-4.195</td>\n",
       "      <td>-69.940552</td>\n",
       "      <td>[AISG] DME - LETÍCIA 122X</td>\n",
       "    </tr>\n",
       "    <tr>\n",
       "      <th>1543</th>\n",
       "      <td>1211.0</td>\n",
       "      <td>4.693</td>\n",
       "      <td>-61.028831</td>\n",
       "      <td>[AISG] DME - LA DIVINA PASTORA 124X</td>\n",
       "    </tr>\n",
       "    <tr>\n",
       "      <th>1542</th>\n",
       "      <td>1211.0</td>\n",
       "      <td>-25.778656</td>\n",
       "      <td>-49.763241</td>\n",
       "      <td>[AISG] DME - LAPA-PR 124X</td>\n",
       "    </tr>\n",
       "    <tr>\n",
       "      <th>1541</th>\n",
       "      <td>1211.0</td>\n",
       "      <td>-19.83577</td>\n",
       "      <td>-44.003563</td>\n",
       "      <td>[AISG] DME - BELO HORIZONTE 124X</td>\n",
       "    </tr>\n",
       "  </tbody>\n",
       "</table>\n",
       "<p>1133 rows × 4 columns</p>\n",
       "</div>"
      ],
      "text/plain": [
       "     Frequency   Latitude  Longitude  \\\n",
       "2        0.205  -5.386167 -35.530998   \n",
       "9         0.25 -29.694723 -57.148056   \n",
       "14       0.275   2.068833   -50.8605   \n",
       "23         0.3 -29.996307 -50.145004   \n",
       "29        0.33 -16.335333 -58.387165   \n",
       "...        ...        ...        ...   \n",
       "1538    1209.0 -15.865013 -47.900188   \n",
       "1539    1209.0     -4.195 -69.940552   \n",
       "1543    1211.0      4.693 -61.028831   \n",
       "1542    1211.0 -25.778656 -49.763241   \n",
       "1541    1211.0  -19.83577 -44.003563   \n",
       "\n",
       "                                            Description  \n",
       "2     [AISW] SBNT-RDONAV, NDB MXN, CAMPO AUGUSTO SEVERO  \n",
       "9         [AISG] NDB - PASO DE LOS LIBRES OPR ARGENTINA  \n",
       "14                   [AISG] NDB - AMAPÁ COVERAGE 100NM.  \n",
       "23                       [AISG] NDB - TRAMANDAÍ OPR MAR  \n",
       "29                              [AISG] NDB - SAN MATIAS  \n",
       "...                                                 ...  \n",
       "1538                       [AISG] DME - KUBITSCHEK 122X  \n",
       "1539                          [AISG] DME - LETÍCIA 122X  \n",
       "1543                [AISG] DME - LA DIVINA PASTORA 124X  \n",
       "1542                          [AISG] DME - LAPA-PR 124X  \n",
       "1541                   [AISG] DME - BELO HORIZONTE 124X  \n",
       "\n",
       "[1133 rows x 4 columns]"
      ]
     },
     "execution_count": 20,
     "metadata": {},
     "output_type": "execute_result"
    }
   ],
   "source": [
    "no_merge = df[~df.Description.str.contains('[\\|]{1}')]\n",
    "no_merge"
   ]
  },
  {
   "cell_type": "markdown",
   "metadata": {},
   "source": [
    "## Sanity Check"
   ]
  },
  {
   "cell_type": "code",
   "execution_count": 21,
   "metadata": {
    "ExecuteTime": {
     "end_time": "2022-07-26T19:19:38.452512Z",
     "start_time": "2022-07-26T19:19:38.272277Z"
    }
   },
   "outputs": [],
   "source": [
    "assert no_merge.shape[0] + two_merges.shape[0] * 2 + three_merges.shape[0] * 3 == total, \"Verifique a mesclagem das bases da aeronáutica\""
   ]
  },
  {
   "cell_type": "code",
   "execution_count": 22,
   "metadata": {
    "ExecuteTime": {
     "end_time": "2022-07-26T19:19:38.652506Z",
     "start_time": "2022-07-26T19:19:38.452512Z"
    }
   },
   "outputs": [
    {
     "data": {
      "text/html": [
       "<div>\n",
       "<style scoped>\n",
       "    .dataframe tbody tr th:only-of-type {\n",
       "        vertical-align: middle;\n",
       "    }\n",
       "\n",
       "    .dataframe tbody tr th {\n",
       "        vertical-align: top;\n",
       "    }\n",
       "\n",
       "    .dataframe thead th {\n",
       "        text-align: right;\n",
       "    }\n",
       "</style>\n",
       "<table border=\"1\" class=\"dataframe\">\n",
       "  <thead>\n",
       "    <tr style=\"text-align: right;\">\n",
       "      <th></th>\n",
       "      <th>Frequency</th>\n",
       "      <th>Latitude</th>\n",
       "      <th>Longitude</th>\n",
       "      <th>Description</th>\n",
       "    </tr>\n",
       "  </thead>\n",
       "  <tbody>\n",
       "    <tr>\n",
       "      <th>0</th>\n",
       "      <td>0.2</td>\n",
       "      <td>-22.923334</td>\n",
       "      <td>-42.071499</td>\n",
       "      <td>[AISW] SBCB-RDONAV, NDB BFR, Cabo Frio | [AISG...</td>\n",
       "    </tr>\n",
       "    <tr>\n",
       "      <th>1</th>\n",
       "      <td>0.205</td>\n",
       "      <td>-5.386167</td>\n",
       "      <td>-35.530998</td>\n",
       "      <td>[AISW] SNXX-RDONAV, NDB MXN, Maxaranguape | [A...</td>\n",
       "    </tr>\n",
       "    <tr>\n",
       "      <th>2</th>\n",
       "      <td>0.205</td>\n",
       "      <td>-5.386167</td>\n",
       "      <td>-35.530998</td>\n",
       "      <td>[AISW] SBNT-RDONAV, NDB MXN, CAMPO AUGUSTO SEVERO</td>\n",
       "    </tr>\n",
       "    <tr>\n",
       "      <th>3</th>\n",
       "      <td>0.205</td>\n",
       "      <td>-1.486333</td>\n",
       "      <td>-56.397835</td>\n",
       "      <td>[AISW] SBTB-RDONAV, NDB PTT, Trombetas | [AISG...</td>\n",
       "    </tr>\n",
       "    <tr>\n",
       "      <th>4</th>\n",
       "      <td>0.21</td>\n",
       "      <td>-19.561001</td>\n",
       "      <td>-46.964668</td>\n",
       "      <td>[AISW] SBAX-RDONAV, NDB ARX, Romeu Zema | [AIS...</td>\n",
       "    </tr>\n",
       "    <tr>\n",
       "      <th>...</th>\n",
       "      <td>...</td>\n",
       "      <td>...</td>\n",
       "      <td>...</td>\n",
       "      <td>...</td>\n",
       "    </tr>\n",
       "    <tr>\n",
       "      <th>1539</th>\n",
       "      <td>1209.0</td>\n",
       "      <td>-4.195</td>\n",
       "      <td>-69.940552</td>\n",
       "      <td>[AISG] DME - LETÍCIA 122X</td>\n",
       "    </tr>\n",
       "    <tr>\n",
       "      <th>1544</th>\n",
       "      <td>1211.0</td>\n",
       "      <td>-19.834583</td>\n",
       "      <td>-44.001751</td>\n",
       "      <td>[DOC] VOR/DME, BELO HORIZONTE PAMPULHA (Ground...</td>\n",
       "    </tr>\n",
       "    <tr>\n",
       "      <th>1543</th>\n",
       "      <td>1211.0</td>\n",
       "      <td>4.693</td>\n",
       "      <td>-61.028831</td>\n",
       "      <td>[AISG] DME - LA DIVINA PASTORA 124X</td>\n",
       "    </tr>\n",
       "    <tr>\n",
       "      <th>1542</th>\n",
       "      <td>1211.0</td>\n",
       "      <td>-25.778656</td>\n",
       "      <td>-49.763241</td>\n",
       "      <td>[AISG] DME - LAPA-PR 124X</td>\n",
       "    </tr>\n",
       "    <tr>\n",
       "      <th>1541</th>\n",
       "      <td>1211.0</td>\n",
       "      <td>-19.83577</td>\n",
       "      <td>-44.003563</td>\n",
       "      <td>[AISG] DME - BELO HORIZONTE 124X</td>\n",
       "    </tr>\n",
       "  </tbody>\n",
       "</table>\n",
       "<p>1565 rows × 4 columns</p>\n",
       "</div>"
      ],
      "text/plain": [
       "     Frequency   Latitude  Longitude  \\\n",
       "0          0.2 -22.923334 -42.071499   \n",
       "1        0.205  -5.386167 -35.530998   \n",
       "2        0.205  -5.386167 -35.530998   \n",
       "3        0.205  -1.486333 -56.397835   \n",
       "4         0.21 -19.561001 -46.964668   \n",
       "...        ...        ...        ...   \n",
       "1539    1209.0     -4.195 -69.940552   \n",
       "1544    1211.0 -19.834583 -44.001751   \n",
       "1543    1211.0      4.693 -61.028831   \n",
       "1542    1211.0 -25.778656 -49.763241   \n",
       "1541    1211.0  -19.83577 -44.003563   \n",
       "\n",
       "                                            Description  \n",
       "0     [AISW] SBCB-RDONAV, NDB BFR, Cabo Frio | [AISG...  \n",
       "1     [AISW] SNXX-RDONAV, NDB MXN, Maxaranguape | [A...  \n",
       "2     [AISW] SBNT-RDONAV, NDB MXN, CAMPO AUGUSTO SEVERO  \n",
       "3     [AISW] SBTB-RDONAV, NDB PTT, Trombetas | [AISG...  \n",
       "4     [AISW] SBAX-RDONAV, NDB ARX, Romeu Zema | [AIS...  \n",
       "...                                                 ...  \n",
       "1539                          [AISG] DME - LETÍCIA 122X  \n",
       "1544  [DOC] VOR/DME, BELO HORIZONTE PAMPULHA (Ground...  \n",
       "1543                [AISG] DME - LA DIVINA PASTORA 124X  \n",
       "1542                          [AISG] DME - LAPA-PR 124X  \n",
       "1541                   [AISG] DME - BELO HORIZONTE 124X  \n",
       "\n",
       "[1565 rows x 4 columns]"
      ]
     },
     "execution_count": 22,
     "metadata": {},
     "output_type": "execute_result"
    }
   ],
   "source": [
    "df"
   ]
  },
  {
   "cell_type": "code",
   "execution_count": 29,
   "metadata": {
    "ExecuteTime": {
     "end_time": "2022-07-26T19:29:19.920387Z",
     "start_time": "2022-07-26T19:29:19.713757Z"
    }
   },
   "outputs": [],
   "source": [
    "df.to_parquet(P / 'aero.parquet.gzip', compression = 'gzip')"
   ]
  },
  {
   "cell_type": "code",
   "execution_count": 23,
   "metadata": {
    "ExecuteTime": {
     "end_time": "2022-07-26T19:20:53.572378Z",
     "start_time": "2022-07-26T19:20:52.212612Z"
    }
   },
   "outputs": [],
   "source": [
    "base = read_base(P)"
   ]
  },
  {
   "cell_type": "code",
   "execution_count": 26,
   "metadata": {
    "ExecuteTime": {
     "end_time": "2022-07-26T19:27:04.543258Z",
     "start_time": "2022-07-26T19:27:04.293340Z"
    }
   },
   "outputs": [
    {
     "data": {
      "text/plain": [
       "(914754, 17)"
      ]
     },
     "execution_count": 26,
     "metadata": {},
     "output_type": "execute_result"
    }
   ],
   "source": [
    "base.shape"
   ]
  },
  {
   "cell_type": "code",
   "execution_count": 25,
   "metadata": {
    "ExecuteTime": {
     "end_time": "2022-07-26T19:22:10.652529Z",
     "start_time": "2022-07-26T19:22:10.322807Z"
    }
   },
   "outputs": [
    {
     "data": {
      "text/plain": [
       "190"
      ]
     },
     "execution_count": 25,
     "metadata": {},
     "output_type": "execute_result"
    }
   ],
   "source": [
    "F = set(base.Frequência).intersection(df.Frequency)\n",
    "len(F)"
   ]
  },
  {
   "cell_type": "code",
   "execution_count": 27,
   "metadata": {
    "ExecuteTime": {
     "end_time": "2022-07-26T19:27:10.749770Z",
     "start_time": "2022-07-26T19:27:08.674041Z"
    }
   },
   "outputs": [
    {
     "data": {
      "application/vnd.jupyter.widget-view+json": {
       "model_id": "a41d873eaaa14705ac3b168d69dc2300",
       "version_major": 2,
       "version_minor": 0
      },
      "text/plain": [
       "  0%|          | 0/190 [00:00<?, ?it/s]"
      ]
     },
     "metadata": {},
     "output_type": "display_data"
    },
    {
     "ename": "KeyError",
     "evalue": "\"['Description'] not in index\"",
     "output_type": "error",
     "traceback": [
      "\u001b[1;31m---------------------------------------------------------------------------\u001b[0m",
      "\u001b[1;31mKeyError\u001b[0m                                  Traceback (most recent call last)",
      "Input \u001b[1;32mIn [27]\u001b[0m, in \u001b[0;36m<cell line: 1>\u001b[1;34m()\u001b[0m\n\u001b[0;32m      1\u001b[0m \u001b[38;5;28;01mfor\u001b[39;00m f \u001b[38;5;129;01min\u001b[39;00m tqdm(F):\n\u001b[1;32m----> 2\u001b[0m     sa \u001b[38;5;241m=\u001b[39m \u001b[38;5;28mlist\u001b[39m(\u001b[43mbase\u001b[49m\u001b[38;5;241;43m.\u001b[39;49m\u001b[43mloc\u001b[49m\u001b[43m[\u001b[49m\u001b[43mbase\u001b[49m\u001b[38;5;241;43m.\u001b[39;49m\u001b[43mFrequência\u001b[49m\u001b[43m \u001b[49m\u001b[38;5;241;43m==\u001b[39;49m\u001b[43m \u001b[49m\u001b[43mf\u001b[49m\u001b[43m,\u001b[49m\u001b[43m \u001b[49m\u001b[43mcols\u001b[49m\u001b[43m]\u001b[49m\u001b[38;5;241m.\u001b[39mitertuples())\n\u001b[0;32m      3\u001b[0m     sa \u001b[38;5;241m=\u001b[39m {s\u001b[38;5;241m.\u001b[39mIndex: s \u001b[38;5;28;01mfor\u001b[39;00m s \u001b[38;5;129;01min\u001b[39;00m sa}\n\u001b[0;32m      4\u001b[0m     sb \u001b[38;5;241m=\u001b[39m \u001b[38;5;28mlist\u001b[39m(df\u001b[38;5;241m.\u001b[39mloc[df\u001b[38;5;241m.\u001b[39mFrequency \u001b[38;5;241m==\u001b[39m f, cols]\u001b[38;5;241m.\u001b[39mitertuples())\n",
      "File \u001b[1;32m~\\Miniconda3\\envs\\db\\lib\\site-packages\\pandas\\core\\indexing.py:961\u001b[0m, in \u001b[0;36m_LocationIndexer.__getitem__\u001b[1;34m(self, key)\u001b[0m\n\u001b[0;32m    959\u001b[0m     \u001b[38;5;28;01mif\u001b[39;00m \u001b[38;5;28mself\u001b[39m\u001b[38;5;241m.\u001b[39m_is_scalar_access(key):\n\u001b[0;32m    960\u001b[0m         \u001b[38;5;28;01mreturn\u001b[39;00m \u001b[38;5;28mself\u001b[39m\u001b[38;5;241m.\u001b[39mobj\u001b[38;5;241m.\u001b[39m_get_value(\u001b[38;5;241m*\u001b[39mkey, takeable\u001b[38;5;241m=\u001b[39m\u001b[38;5;28mself\u001b[39m\u001b[38;5;241m.\u001b[39m_takeable)\n\u001b[1;32m--> 961\u001b[0m     \u001b[38;5;28;01mreturn\u001b[39;00m \u001b[38;5;28;43mself\u001b[39;49m\u001b[38;5;241;43m.\u001b[39;49m\u001b[43m_getitem_tuple\u001b[49m\u001b[43m(\u001b[49m\u001b[43mkey\u001b[49m\u001b[43m)\u001b[49m\n\u001b[0;32m    962\u001b[0m \u001b[38;5;28;01melse\u001b[39;00m:\n\u001b[0;32m    963\u001b[0m     \u001b[38;5;66;03m# we by definition only have the 0th axis\u001b[39;00m\n\u001b[0;32m    964\u001b[0m     axis \u001b[38;5;241m=\u001b[39m \u001b[38;5;28mself\u001b[39m\u001b[38;5;241m.\u001b[39maxis \u001b[38;5;129;01mor\u001b[39;00m \u001b[38;5;241m0\u001b[39m\n",
      "File \u001b[1;32m~\\Miniconda3\\envs\\db\\lib\\site-packages\\pandas\\core\\indexing.py:1149\u001b[0m, in \u001b[0;36m_LocIndexer._getitem_tuple\u001b[1;34m(self, tup)\u001b[0m\n\u001b[0;32m   1146\u001b[0m \u001b[38;5;28;01mif\u001b[39;00m \u001b[38;5;28mself\u001b[39m\u001b[38;5;241m.\u001b[39m_multi_take_opportunity(tup):\n\u001b[0;32m   1147\u001b[0m     \u001b[38;5;28;01mreturn\u001b[39;00m \u001b[38;5;28mself\u001b[39m\u001b[38;5;241m.\u001b[39m_multi_take(tup)\n\u001b[1;32m-> 1149\u001b[0m \u001b[38;5;28;01mreturn\u001b[39;00m \u001b[38;5;28;43mself\u001b[39;49m\u001b[38;5;241;43m.\u001b[39;49m\u001b[43m_getitem_tuple_same_dim\u001b[49m\u001b[43m(\u001b[49m\u001b[43mtup\u001b[49m\u001b[43m)\u001b[49m\n",
      "File \u001b[1;32m~\\Miniconda3\\envs\\db\\lib\\site-packages\\pandas\\core\\indexing.py:827\u001b[0m, in \u001b[0;36m_LocationIndexer._getitem_tuple_same_dim\u001b[1;34m(self, tup)\u001b[0m\n\u001b[0;32m    824\u001b[0m \u001b[38;5;28;01mif\u001b[39;00m com\u001b[38;5;241m.\u001b[39mis_null_slice(key):\n\u001b[0;32m    825\u001b[0m     \u001b[38;5;28;01mcontinue\u001b[39;00m\n\u001b[1;32m--> 827\u001b[0m retval \u001b[38;5;241m=\u001b[39m \u001b[38;5;28;43mgetattr\u001b[39;49m\u001b[43m(\u001b[49m\u001b[43mretval\u001b[49m\u001b[43m,\u001b[49m\u001b[43m \u001b[49m\u001b[38;5;28;43mself\u001b[39;49m\u001b[38;5;241;43m.\u001b[39;49m\u001b[43mname\u001b[49m\u001b[43m)\u001b[49m\u001b[38;5;241;43m.\u001b[39;49m\u001b[43m_getitem_axis\u001b[49m\u001b[43m(\u001b[49m\u001b[43mkey\u001b[49m\u001b[43m,\u001b[49m\u001b[43m \u001b[49m\u001b[43maxis\u001b[49m\u001b[38;5;241;43m=\u001b[39;49m\u001b[43mi\u001b[49m\u001b[43m)\u001b[49m\n\u001b[0;32m    828\u001b[0m \u001b[38;5;66;03m# We should never have retval.ndim < self.ndim, as that should\u001b[39;00m\n\u001b[0;32m    829\u001b[0m \u001b[38;5;66;03m#  be handled by the _getitem_lowerdim call above.\u001b[39;00m\n\u001b[0;32m    830\u001b[0m \u001b[38;5;28;01massert\u001b[39;00m retval\u001b[38;5;241m.\u001b[39mndim \u001b[38;5;241m==\u001b[39m \u001b[38;5;28mself\u001b[39m\u001b[38;5;241m.\u001b[39mndim\n",
      "File \u001b[1;32m~\\Miniconda3\\envs\\db\\lib\\site-packages\\pandas\\core\\indexing.py:1191\u001b[0m, in \u001b[0;36m_LocIndexer._getitem_axis\u001b[1;34m(self, key, axis)\u001b[0m\n\u001b[0;32m   1188\u001b[0m     \u001b[38;5;28;01mif\u001b[39;00m \u001b[38;5;28mhasattr\u001b[39m(key, \u001b[38;5;124m\"\u001b[39m\u001b[38;5;124mndim\u001b[39m\u001b[38;5;124m\"\u001b[39m) \u001b[38;5;129;01mand\u001b[39;00m key\u001b[38;5;241m.\u001b[39mndim \u001b[38;5;241m>\u001b[39m \u001b[38;5;241m1\u001b[39m:\n\u001b[0;32m   1189\u001b[0m         \u001b[38;5;28;01mraise\u001b[39;00m \u001b[38;5;167;01mValueError\u001b[39;00m(\u001b[38;5;124m\"\u001b[39m\u001b[38;5;124mCannot index with multidimensional key\u001b[39m\u001b[38;5;124m\"\u001b[39m)\n\u001b[1;32m-> 1191\u001b[0m     \u001b[38;5;28;01mreturn\u001b[39;00m \u001b[38;5;28;43mself\u001b[39;49m\u001b[38;5;241;43m.\u001b[39;49m\u001b[43m_getitem_iterable\u001b[49m\u001b[43m(\u001b[49m\u001b[43mkey\u001b[49m\u001b[43m,\u001b[49m\u001b[43m \u001b[49m\u001b[43maxis\u001b[49m\u001b[38;5;241;43m=\u001b[39;49m\u001b[43maxis\u001b[49m\u001b[43m)\u001b[49m\n\u001b[0;32m   1193\u001b[0m \u001b[38;5;66;03m# nested tuple slicing\u001b[39;00m\n\u001b[0;32m   1194\u001b[0m \u001b[38;5;28;01mif\u001b[39;00m is_nested_tuple(key, labels):\n",
      "File \u001b[1;32m~\\Miniconda3\\envs\\db\\lib\\site-packages\\pandas\\core\\indexing.py:1132\u001b[0m, in \u001b[0;36m_LocIndexer._getitem_iterable\u001b[1;34m(self, key, axis)\u001b[0m\n\u001b[0;32m   1129\u001b[0m \u001b[38;5;28mself\u001b[39m\u001b[38;5;241m.\u001b[39m_validate_key(key, axis)\n\u001b[0;32m   1131\u001b[0m \u001b[38;5;66;03m# A collection of keys\u001b[39;00m\n\u001b[1;32m-> 1132\u001b[0m keyarr, indexer \u001b[38;5;241m=\u001b[39m \u001b[38;5;28;43mself\u001b[39;49m\u001b[38;5;241;43m.\u001b[39;49m\u001b[43m_get_listlike_indexer\u001b[49m\u001b[43m(\u001b[49m\u001b[43mkey\u001b[49m\u001b[43m,\u001b[49m\u001b[43m \u001b[49m\u001b[43maxis\u001b[49m\u001b[43m)\u001b[49m\n\u001b[0;32m   1133\u001b[0m \u001b[38;5;28;01mreturn\u001b[39;00m \u001b[38;5;28mself\u001b[39m\u001b[38;5;241m.\u001b[39mobj\u001b[38;5;241m.\u001b[39m_reindex_with_indexers(\n\u001b[0;32m   1134\u001b[0m     {axis: [keyarr, indexer]}, copy\u001b[38;5;241m=\u001b[39m\u001b[38;5;28;01mTrue\u001b[39;00m, allow_dups\u001b[38;5;241m=\u001b[39m\u001b[38;5;28;01mTrue\u001b[39;00m\n\u001b[0;32m   1135\u001b[0m )\n",
      "File \u001b[1;32m~\\Miniconda3\\envs\\db\\lib\\site-packages\\pandas\\core\\indexing.py:1327\u001b[0m, in \u001b[0;36m_LocIndexer._get_listlike_indexer\u001b[1;34m(self, key, axis)\u001b[0m\n\u001b[0;32m   1324\u001b[0m ax \u001b[38;5;241m=\u001b[39m \u001b[38;5;28mself\u001b[39m\u001b[38;5;241m.\u001b[39mobj\u001b[38;5;241m.\u001b[39m_get_axis(axis)\n\u001b[0;32m   1325\u001b[0m axis_name \u001b[38;5;241m=\u001b[39m \u001b[38;5;28mself\u001b[39m\u001b[38;5;241m.\u001b[39mobj\u001b[38;5;241m.\u001b[39m_get_axis_name(axis)\n\u001b[1;32m-> 1327\u001b[0m keyarr, indexer \u001b[38;5;241m=\u001b[39m \u001b[43max\u001b[49m\u001b[38;5;241;43m.\u001b[39;49m\u001b[43m_get_indexer_strict\u001b[49m\u001b[43m(\u001b[49m\u001b[43mkey\u001b[49m\u001b[43m,\u001b[49m\u001b[43m \u001b[49m\u001b[43maxis_name\u001b[49m\u001b[43m)\u001b[49m\n\u001b[0;32m   1329\u001b[0m \u001b[38;5;28;01mreturn\u001b[39;00m keyarr, indexer\n",
      "File \u001b[1;32m~\\Miniconda3\\envs\\db\\lib\\site-packages\\pandas\\core\\indexes\\base.py:5782\u001b[0m, in \u001b[0;36mIndex._get_indexer_strict\u001b[1;34m(self, key, axis_name)\u001b[0m\n\u001b[0;32m   5779\u001b[0m \u001b[38;5;28;01melse\u001b[39;00m:\n\u001b[0;32m   5780\u001b[0m     keyarr, indexer, new_indexer \u001b[38;5;241m=\u001b[39m \u001b[38;5;28mself\u001b[39m\u001b[38;5;241m.\u001b[39m_reindex_non_unique(keyarr)\n\u001b[1;32m-> 5782\u001b[0m \u001b[38;5;28;43mself\u001b[39;49m\u001b[38;5;241;43m.\u001b[39;49m\u001b[43m_raise_if_missing\u001b[49m\u001b[43m(\u001b[49m\u001b[43mkeyarr\u001b[49m\u001b[43m,\u001b[49m\u001b[43m \u001b[49m\u001b[43mindexer\u001b[49m\u001b[43m,\u001b[49m\u001b[43m \u001b[49m\u001b[43maxis_name\u001b[49m\u001b[43m)\u001b[49m\n\u001b[0;32m   5784\u001b[0m keyarr \u001b[38;5;241m=\u001b[39m \u001b[38;5;28mself\u001b[39m\u001b[38;5;241m.\u001b[39mtake(indexer)\n\u001b[0;32m   5785\u001b[0m \u001b[38;5;28;01mif\u001b[39;00m \u001b[38;5;28misinstance\u001b[39m(key, Index):\n\u001b[0;32m   5786\u001b[0m     \u001b[38;5;66;03m# GH 42790 - Preserve name from an Index\u001b[39;00m\n",
      "File \u001b[1;32m~\\Miniconda3\\envs\\db\\lib\\site-packages\\pandas\\core\\indexes\\base.py:5845\u001b[0m, in \u001b[0;36mIndex._raise_if_missing\u001b[1;34m(self, key, indexer, axis_name)\u001b[0m\n\u001b[0;32m   5842\u001b[0m     \u001b[38;5;28;01mraise\u001b[39;00m \u001b[38;5;167;01mKeyError\u001b[39;00m(\u001b[38;5;124mf\u001b[39m\u001b[38;5;124m\"\u001b[39m\u001b[38;5;124mNone of [\u001b[39m\u001b[38;5;132;01m{\u001b[39;00mkey\u001b[38;5;132;01m}\u001b[39;00m\u001b[38;5;124m] are in the [\u001b[39m\u001b[38;5;132;01m{\u001b[39;00maxis_name\u001b[38;5;132;01m}\u001b[39;00m\u001b[38;5;124m]\u001b[39m\u001b[38;5;124m\"\u001b[39m)\n\u001b[0;32m   5844\u001b[0m not_found \u001b[38;5;241m=\u001b[39m \u001b[38;5;28mlist\u001b[39m(ensure_index(key)[missing_mask\u001b[38;5;241m.\u001b[39mnonzero()[\u001b[38;5;241m0\u001b[39m]]\u001b[38;5;241m.\u001b[39munique())\n\u001b[1;32m-> 5845\u001b[0m \u001b[38;5;28;01mraise\u001b[39;00m \u001b[38;5;167;01mKeyError\u001b[39;00m(\u001b[38;5;124mf\u001b[39m\u001b[38;5;124m\"\u001b[39m\u001b[38;5;132;01m{\u001b[39;00mnot_found\u001b[38;5;132;01m}\u001b[39;00m\u001b[38;5;124m not in index\u001b[39m\u001b[38;5;124m\"\u001b[39m)\n",
      "\u001b[1;31mKeyError\u001b[0m: \"['Description'] not in index\""
     ]
    }
   ],
   "source": [
    "for f in tqdm(F):\n",
    "    sa = list(base.loc[base.Frequência == f, cols].itertuples())\n",
    "    sa = {s.Index: s for s in sa}\n",
    "    sb = list(df.loc[df.Frequency == f, cols].itertuples())\n",
    "    sb = {s.Index: s for s in sb}\n",
    "    total += len(sa) + len(sc)\n",
    "    if all([sa, sb]):\n",
    "        for fa, fb in list(product(sa.copy().values(), sb.copy().values())):\n",
    "            ca = (fa.Latitude, fa.Longitude)\n",
    "            cb = (fb.Latitude, fb.Longitude)\n",
    "            dab = geodesic(ca, cb).km\n",
    "            if (fa.Index in sa) and (fb.Index in sb) and (dab <= DIST):\n",
    "                df = add_row(df, f, fa, fb)\n",
    "                sa.pop(fa.Index)\n",
    "                sb.pop(fb.Index)\n",
    "    for reg in [sa, sb]:\n",
    "        for r in reg.values():\n",
    "            r = {'Frequency': f, \n",
    "                    'Latitude': r.Latitude, \n",
    "                    'Longitude': r.Longitude, \n",
    "                    'Description': r.Description}\n",
    "            base = pd.concat([base, pd.DataFrame(r, index=[0])], ignore_index=True)                   \n"
   ]
  },
  {
   "cell_type": "code",
   "execution_count": null,
   "metadata": {},
   "outputs": [],
   "source": []
  }
 ],
 "metadata": {
  "kernelspec": {
   "display_name": "Python 3.8.13 ('anateldb')",
   "language": "python",
   "name": "python3"
  },
  "language_info": {
   "codemirror_mode": {
    "name": "ipython",
    "version": 3
   },
   "file_extension": ".py",
   "mimetype": "text/x-python",
   "name": "python",
   "nbconvert_exporter": "python",
   "pygments_lexer": "ipython3",
   "version": "3.8.13"
  },
  "vscode": {
   "interpreter": {
    "hash": "37a0fa21125bc68b41a424f43d92a26fa97b5ebccfac6eecdcaf85c09668024f"
   }
  }
 },
 "nbformat": 4,
 "nbformat_minor": 2
}
