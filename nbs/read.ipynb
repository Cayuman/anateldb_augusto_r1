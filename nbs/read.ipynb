{
 "cells": [
  {
   "cell_type": "code",
   "execution_count": 1,
   "metadata": {},
   "outputs": [],
   "source": [
    "#default_exp read\n",
    "%load_ext autoreload\n",
    "%autoreload 2"
   ]
  },
  {
   "cell_type": "code",
   "execution_count": 2,
   "metadata": {},
   "outputs": [],
   "source": [
    "import sys\n",
    "from fastcore.xtras import Path\n",
    "\n",
    "# Insert in Path Project Directory\n",
    "sys.path.insert(0, str(Path().cwd().parent))"
   ]
  },
  {
   "cell_type": "markdown",
   "metadata": {},
   "source": [
    "# Reading\n",
    "> Este módulo concentra funções para a leitura dos diversos arquivos que compões a base de dados\n",
    "\n",
    "* `STEL` - Serviços Privados de Telecomunicações\n",
    "* `RADCOM` - Serviço de Radiodifusão Comunitária\n",
    "* `MOSAICO` - Demais serviços de Radiodifusão, e.g. TV, RTV, FM, AM, etc."
   ]
  },
  {
   "cell_type": "code",
   "execution_count": 3,
   "metadata": {},
   "outputs": [],
   "source": [
    "#export\n",
    "from typing import Union, Tuple\n",
    "from pathlib import Path\n",
    "\n",
    "import pandas as pd\n",
    "from pyarrow import ArrowInvalid\n",
    "\n",
    "\n",
    "from anateldb.query import update_mosaico, update_stel, update_radcom, update_base\n",
    "from anateldb.merge import aero_common, aero_new"
   ]
  },
  {
   "cell_type": "markdown",
   "metadata": {},
   "source": [
    "## MOSAICO\n",
    "> O mosaico atualmente é composto por 3 bases complementares originárias de um banco `MongoDB`: `Estações, Plano Básico e Histórico`. Os módulos aqui leem, processam e mesclam as duas primeiras."
   ]
  },
  {
   "cell_type": "code",
   "execution_count": 4,
   "metadata": {},
   "outputs": [],
   "source": [
    "#export\n",
    "def read_df(folder: Union[str, Path], stem: str) -> pd.DataFrame:\n",
    "    \"\"\"Lê o dataframe formado por folder / stem.[parquet.gzip | fth | xslx]\"\"\"\n",
    "    file = Path(f\"{folder}/{stem}.parquet.gzip\")\n",
    "    try:\n",
    "        df = pd.read_parquet(file)\n",
    "    except (ArrowInvalid, FileNotFoundError):\n",
    "        file = Path(f\"{folder}/{stem}.fth\")\n",
    "        try:\n",
    "            df = pd.read_feather(file)\n",
    "        except (ArrowInvalid, FileNotFoundError):\n",
    "            file = Path(f\"{folder}/{stem}.xlsx\")\n",
    "            try:\n",
    "                df = pd.read_excel(file, engine=\"openpyxl\", sheet_name=\"DataBase\")\n",
    "            except Exception as e:\n",
    "                raise ValueError(f\"Error when reading {file}\") from e\n",
    "    return df\n",
    "\n",
    "\n",
    "def read_mosaico(folder: Union[str, Path], update: bool = False) -> pd.DataFrame:\n",
    "    \"\"\"Lê o banco de dados salvo localmente do MOSAICO e opcionalmente o atualiza.\"\"\"\n",
    "    return update_mosaico(folder) if update else read_df(folder, \"mosaico\")"
   ]
  },
  {
   "cell_type": "code",
   "execution_count": 5,
   "metadata": {},
   "outputs": [],
   "source": [
    "folder = Path.cwd().parent / 'dados' / 'tabular'"
   ]
  },
  {
   "cell_type": "code",
   "execution_count": null,
   "metadata": {},
   "outputs": [],
   "source": [
    "import pandas_read_xml as pdx\n",
    "df = pdx.read_xml(f'{folder})"
   ]
  },
  {
   "cell_type": "code",
   "execution_count": 17,
   "metadata": {},
   "outputs": [
    {
     "data": {
      "text/html": [
       "<pre style=\"white-space:pre;overflow-x:auto;line-height:normal;font-family:Menlo,'DejaVu Sans Mono',consolas,'Courier New',monospace\"><span style=\"color: #008000; text-decoration-color: #008000\">🕛 </span> <span style=\"color: #000080; text-decoration-color: #000080\">Baixando e consolidando os dados do Mosaico...</span>\n",
       "</pre>\n"
      ],
      "text/plain": [
       "\u001b[32m🕛 \u001b[0m \u001b[34mBaixando e consolidando os dados do Mosaico...\u001b[0m\n"
      ]
     },
     "metadata": {},
     "output_type": "display_data"
    },
    {
     "data": {
      "text/html": [
       "<pre style=\"white-space:pre;overflow-x:auto;line-height:normal;font-family:Menlo,'DejaVu Sans Mono',consolas,'Courier New',monospace\"></pre>\n"
      ],
      "text/plain": []
     },
     "metadata": {},
     "output_type": "display_data"
    },
    {
     "ename": "KeyError",
     "evalue": "'Id'",
     "output_type": "error",
     "traceback": [
      "\u001b[1;31m---------------------------------------------------------------------------\u001b[0m",
      "\u001b[1;31mKeyError\u001b[0m                                  Traceback (most recent call last)",
      "\u001b[1;32md:\\OneDrive - ANATEL\\anateldb\\nbs\\read.ipynb Cell 8'\u001b[0m in \u001b[0;36m<cell line: 1>\u001b[1;34m()\u001b[0m\n\u001b[1;32m----> <a href='vscode-notebook-cell:/d%3A/OneDrive%20-%20ANATEL/anateldb/nbs/read.ipynb#ch0000007?line=0'>1</a>\u001b[0m mos \u001b[39m=\u001b[39m read_mosaico(folder, \u001b[39mTrue\u001b[39;49;00m)\n\u001b[0;32m      <a href='vscode-notebook-cell:/d%3A/OneDrive%20-%20ANATEL/anateldb/nbs/read.ipynb#ch0000007?line=1'>2</a>\u001b[0m mos\u001b[39m.\u001b[39minfo()\n",
      "\u001b[1;32md:\\OneDrive - ANATEL\\anateldb\\nbs\\read.ipynb Cell 6'\u001b[0m in \u001b[0;36mread_mosaico\u001b[1;34m(folder, update)\u001b[0m\n\u001b[0;32m     <a href='vscode-notebook-cell:/d%3A/OneDrive%20-%20ANATEL/anateldb/nbs/read.ipynb#ch0000005?line=19'>20</a>\u001b[0m \u001b[39mdef\u001b[39;00m \u001b[39mread_mosaico\u001b[39m(folder: Union[\u001b[39mstr\u001b[39m, Path], update: \u001b[39mbool\u001b[39m \u001b[39m=\u001b[39m \u001b[39mFalse\u001b[39;00m) \u001b[39m-\u001b[39m\u001b[39m>\u001b[39m pd\u001b[39m.\u001b[39mDataFrame:\n\u001b[0;32m     <a href='vscode-notebook-cell:/d%3A/OneDrive%20-%20ANATEL/anateldb/nbs/read.ipynb#ch0000005?line=20'>21</a>\u001b[0m     \u001b[39m\"\"\"Lê o banco de dados salvo localmente do MOSAICO e opcionalmente o atualiza.\"\"\"\u001b[39;00m\n\u001b[1;32m---> <a href='vscode-notebook-cell:/d%3A/OneDrive%20-%20ANATEL/anateldb/nbs/read.ipynb#ch0000005?line=21'>22</a>\u001b[0m     \u001b[39mreturn\u001b[39;00m update_mosaico(folder) \u001b[39mif\u001b[39;00m update \u001b[39melse\u001b[39;00m read_df(folder, \u001b[39m\"\u001b[39m\u001b[39mmosaico\u001b[39m\u001b[39m\"\u001b[39m)\n",
      "File \u001b[1;32md:\\OneDrive - ANATEL\\anateldb\\anateldb\\query.py:221\u001b[0m, in \u001b[0;36mupdate_mosaico\u001b[1;34m(folder)\u001b[0m\n\u001b[0;32m    219\u001b[0m estações \u001b[39m=\u001b[39m _read_estações(stations)\n\u001b[0;32m    220\u001b[0m plano_basico \u001b[39m=\u001b[39m _read_plano_basico(pb)\n\u001b[1;32m--> 221\u001b[0m df \u001b[39m=\u001b[39m estações\u001b[39m.\u001b[39;49mmerge(plano_basico, on\u001b[39m=\u001b[39;49m\u001b[39m\"\u001b[39;49m\u001b[39mId\u001b[39;49m\u001b[39m\"\u001b[39;49m, how\u001b[39m=\u001b[39;49m\u001b[39m\"\u001b[39;49m\u001b[39mleft\u001b[39;49m\u001b[39m\"\u001b[39;49m)\n\u001b[0;32m    222\u001b[0m df\u001b[39m.\u001b[39mdrop(\u001b[39m\"\u001b[39m\u001b[39mId\u001b[39m\u001b[39m\"\u001b[39m, axis\u001b[39m=\u001b[39m\u001b[39m1\u001b[39m, inplace\u001b[39m=\u001b[39m\u001b[39mTrue\u001b[39;00m)\n\u001b[0;32m    223\u001b[0m df \u001b[39m=\u001b[39m clean_mosaico(folder, df)\n",
      "File \u001b[1;32mc:\\Users\\rsilva\\Miniconda3\\envs\\anateldb\\lib\\site-packages\\pandas\\core\\frame.py:9345\u001b[0m, in \u001b[0;36mDataFrame.merge\u001b[1;34m(self, right, how, on, left_on, right_on, left_index, right_index, sort, suffixes, copy, indicator, validate)\u001b[0m\n\u001b[0;32m   9326\u001b[0m \u001b[39m@Substitution\u001b[39m(\u001b[39m\"\u001b[39m\u001b[39m\"\u001b[39m)\n\u001b[0;32m   9327\u001b[0m \u001b[39m@Appender\u001b[39m(_merge_doc, indents\u001b[39m=\u001b[39m\u001b[39m2\u001b[39m)\n\u001b[0;32m   9328\u001b[0m \u001b[39mdef\u001b[39;00m \u001b[39mmerge\u001b[39m(\n\u001b[1;32m   (...)\u001b[0m\n\u001b[0;32m   9341\u001b[0m     validate: \u001b[39mstr\u001b[39m \u001b[39m|\u001b[39m \u001b[39mNone\u001b[39;00m \u001b[39m=\u001b[39m \u001b[39mNone\u001b[39;00m,\n\u001b[0;32m   9342\u001b[0m ) \u001b[39m-\u001b[39m\u001b[39m>\u001b[39m DataFrame:\n\u001b[0;32m   9343\u001b[0m     \u001b[39mfrom\u001b[39;00m \u001b[39mpandas\u001b[39;00m\u001b[39m.\u001b[39;00m\u001b[39mcore\u001b[39;00m\u001b[39m.\u001b[39;00m\u001b[39mreshape\u001b[39;00m\u001b[39m.\u001b[39;00m\u001b[39mmerge\u001b[39;00m \u001b[39mimport\u001b[39;00m merge\n\u001b[1;32m-> 9345\u001b[0m     \u001b[39mreturn\u001b[39;00m merge(\n\u001b[0;32m   9346\u001b[0m         \u001b[39mself\u001b[39;49m,\n\u001b[0;32m   9347\u001b[0m         right,\n\u001b[0;32m   9348\u001b[0m         how\u001b[39m=\u001b[39;49mhow,\n\u001b[0;32m   9349\u001b[0m         on\u001b[39m=\u001b[39;49mon,\n\u001b[0;32m   9350\u001b[0m         left_on\u001b[39m=\u001b[39;49mleft_on,\n\u001b[0;32m   9351\u001b[0m         right_on\u001b[39m=\u001b[39;49mright_on,\n\u001b[0;32m   9352\u001b[0m         left_index\u001b[39m=\u001b[39;49mleft_index,\n\u001b[0;32m   9353\u001b[0m         right_index\u001b[39m=\u001b[39;49mright_index,\n\u001b[0;32m   9354\u001b[0m         sort\u001b[39m=\u001b[39;49msort,\n\u001b[0;32m   9355\u001b[0m         suffixes\u001b[39m=\u001b[39;49msuffixes,\n\u001b[0;32m   9356\u001b[0m         copy\u001b[39m=\u001b[39;49mcopy,\n\u001b[0;32m   9357\u001b[0m         indicator\u001b[39m=\u001b[39;49mindicator,\n\u001b[0;32m   9358\u001b[0m         validate\u001b[39m=\u001b[39;49mvalidate,\n\u001b[0;32m   9359\u001b[0m     )\n",
      "File \u001b[1;32mc:\\Users\\rsilva\\Miniconda3\\envs\\anateldb\\lib\\site-packages\\pandas\\core\\reshape\\merge.py:107\u001b[0m, in \u001b[0;36mmerge\u001b[1;34m(left, right, how, on, left_on, right_on, left_index, right_index, sort, suffixes, copy, indicator, validate)\u001b[0m\n\u001b[0;32m     90\u001b[0m \u001b[39m@Substitution\u001b[39m(\u001b[39m\"\u001b[39m\u001b[39m\\n\u001b[39;00m\u001b[39mleft : DataFrame or named Series\u001b[39m\u001b[39m\"\u001b[39m)\n\u001b[0;32m     91\u001b[0m \u001b[39m@Appender\u001b[39m(_merge_doc, indents\u001b[39m=\u001b[39m\u001b[39m0\u001b[39m)\n\u001b[0;32m     92\u001b[0m \u001b[39mdef\u001b[39;00m \u001b[39mmerge\u001b[39m(\n\u001b[1;32m   (...)\u001b[0m\n\u001b[0;32m    105\u001b[0m     validate: \u001b[39mstr\u001b[39m \u001b[39m|\u001b[39m \u001b[39mNone\u001b[39;00m \u001b[39m=\u001b[39m \u001b[39mNone\u001b[39;00m,\n\u001b[0;32m    106\u001b[0m ) \u001b[39m-\u001b[39m\u001b[39m>\u001b[39m DataFrame:\n\u001b[1;32m--> 107\u001b[0m     op \u001b[39m=\u001b[39m _MergeOperation(\n\u001b[0;32m    108\u001b[0m         left,\n\u001b[0;32m    109\u001b[0m         right,\n\u001b[0;32m    110\u001b[0m         how\u001b[39m=\u001b[39;49mhow,\n\u001b[0;32m    111\u001b[0m         on\u001b[39m=\u001b[39;49mon,\n\u001b[0;32m    112\u001b[0m         left_on\u001b[39m=\u001b[39;49mleft_on,\n\u001b[0;32m    113\u001b[0m         right_on\u001b[39m=\u001b[39;49mright_on,\n\u001b[0;32m    114\u001b[0m         left_index\u001b[39m=\u001b[39;49mleft_index,\n\u001b[0;32m    115\u001b[0m         right_index\u001b[39m=\u001b[39;49mright_index,\n\u001b[0;32m    116\u001b[0m         sort\u001b[39m=\u001b[39;49msort,\n\u001b[0;32m    117\u001b[0m         suffixes\u001b[39m=\u001b[39;49msuffixes,\n\u001b[0;32m    118\u001b[0m         copy\u001b[39m=\u001b[39;49mcopy,\n\u001b[0;32m    119\u001b[0m         indicator\u001b[39m=\u001b[39;49mindicator,\n\u001b[0;32m    120\u001b[0m         validate\u001b[39m=\u001b[39;49mvalidate,\n\u001b[0;32m    121\u001b[0m     )\n\u001b[0;32m    122\u001b[0m     \u001b[39mreturn\u001b[39;00m op\u001b[39m.\u001b[39mget_result()\n",
      "File \u001b[1;32mc:\\Users\\rsilva\\Miniconda3\\envs\\anateldb\\lib\\site-packages\\pandas\\core\\reshape\\merge.py:700\u001b[0m, in \u001b[0;36m_MergeOperation.__init__\u001b[1;34m(self, left, right, how, on, left_on, right_on, axis, left_index, right_index, sort, suffixes, copy, indicator, validate)\u001b[0m\n\u001b[0;32m    693\u001b[0m \u001b[39mself\u001b[39m\u001b[39m.\u001b[39m_cross \u001b[39m=\u001b[39m cross_col\n\u001b[0;32m    695\u001b[0m \u001b[39m# note this function has side effects\u001b[39;00m\n\u001b[0;32m    696\u001b[0m (\n\u001b[0;32m    697\u001b[0m     \u001b[39mself\u001b[39m\u001b[39m.\u001b[39mleft_join_keys,\n\u001b[0;32m    698\u001b[0m     \u001b[39mself\u001b[39m\u001b[39m.\u001b[39mright_join_keys,\n\u001b[0;32m    699\u001b[0m     \u001b[39mself\u001b[39m\u001b[39m.\u001b[39mjoin_names,\n\u001b[1;32m--> 700\u001b[0m ) \u001b[39m=\u001b[39m \u001b[39mself\u001b[39;49m\u001b[39m.\u001b[39;49m_get_merge_keys()\n\u001b[0;32m    702\u001b[0m \u001b[39m# validate the merge keys dtypes. We may need to coerce\u001b[39;00m\n\u001b[0;32m    703\u001b[0m \u001b[39m# to avoid incompatible dtypes\u001b[39;00m\n\u001b[0;32m    704\u001b[0m \u001b[39mself\u001b[39m\u001b[39m.\u001b[39m_maybe_coerce_merge_keys()\n",
      "File \u001b[1;32mc:\\Users\\rsilva\\Miniconda3\\envs\\anateldb\\lib\\site-packages\\pandas\\core\\reshape\\merge.py:1110\u001b[0m, in \u001b[0;36m_MergeOperation._get_merge_keys\u001b[1;34m(self)\u001b[0m\n\u001b[0;32m   1108\u001b[0m     right_keys\u001b[39m.\u001b[39mappend(rk)\n\u001b[0;32m   1109\u001b[0m \u001b[39mif\u001b[39;00m lk \u001b[39mis\u001b[39;00m \u001b[39mnot\u001b[39;00m \u001b[39mNone\u001b[39;00m:\n\u001b[1;32m-> 1110\u001b[0m     left_keys\u001b[39m.\u001b[39mappend(left\u001b[39m.\u001b[39;49m_get_label_or_level_values(lk))\n\u001b[0;32m   1111\u001b[0m     join_names\u001b[39m.\u001b[39mappend(lk)\n\u001b[0;32m   1112\u001b[0m \u001b[39melse\u001b[39;00m:\n\u001b[0;32m   1113\u001b[0m     \u001b[39m# work-around for merge_asof(left_index=True)\u001b[39;00m\n",
      "File \u001b[1;32mc:\\Users\\rsilva\\Miniconda3\\envs\\anateldb\\lib\\site-packages\\pandas\\core\\generic.py:1840\u001b[0m, in \u001b[0;36mNDFrame._get_label_or_level_values\u001b[1;34m(self, key, axis)\u001b[0m\n\u001b[0;32m   1838\u001b[0m     values \u001b[39m=\u001b[39m \u001b[39mself\u001b[39m\u001b[39m.\u001b[39maxes[axis]\u001b[39m.\u001b[39mget_level_values(key)\u001b[39m.\u001b[39m_values\n\u001b[0;32m   1839\u001b[0m \u001b[39melse\u001b[39;00m:\n\u001b[1;32m-> 1840\u001b[0m     \u001b[39mraise\u001b[39;00m \u001b[39mKeyError\u001b[39;00m(key)\n\u001b[0;32m   1842\u001b[0m \u001b[39m# Check for duplicates\u001b[39;00m\n\u001b[0;32m   1843\u001b[0m \u001b[39mif\u001b[39;00m values\u001b[39m.\u001b[39mndim \u001b[39m>\u001b[39m \u001b[39m1\u001b[39m:\n",
      "\u001b[1;31mKeyError\u001b[0m: 'Id'"
     ]
    }
   ],
   "source": [
    "mos = read_mosaico(folder, True)\n",
    "mos.info()"
   ]
  },
  {
   "cell_type": "code",
   "execution_count": null,
   "metadata": {},
   "outputs": [],
   "source": [
    "import pandas_read_xml as pdx\n",
    "from unidecode import unidecode\n",
    "from anateldb.format import *\n",
    "from anateldb.query import _read_estações\n",
    "df = _read_estações (f'{folder}/estações.zip')"
   ]
  },
  {
   "cell_type": "code",
   "execution_count": null,
   "metadata": {},
   "outputs": [
    {
     "data": {
      "text/plain": [
       "Index(['item', 'siglaservico', 'id', 'state', 'entidade', 'fistel', 'cnpj',\n",
       "       'codmunicipio', 'municipio', 'uf', 'entidade', 'administrativo',\n",
       "       'enderecos', 'estacao_principal', 'estacao_auxiliar',\n",
       "       'transmissor_auxiliar', 'transmissor_auxiliar2', 'linha_auxiliar',\n",
       "       'antena_auxiliar', 'horario_funcionamento', 'rds'],\n",
       "      dtype='object')"
      ]
     },
     "execution_count": 11,
     "metadata": {},
     "output_type": "execute_result"
    }
   ],
   "source": [
    "df.columns"
   ]
  },
  {
   "cell_type": "markdown",
   "metadata": {},
   "source": [
    "## STEL & RADCOM"
   ]
  },
  {
   "cell_type": "code",
   "execution_count": null,
   "metadata": {},
   "outputs": [],
   "source": [
    "#export\n",
    "def read_stel(folder: Union[str, Path], update: bool = False) -> pd.DataFrame:\n",
    "    \"\"\"Lê o banco de dados salvo localmente do STEL. Opcionalmente o atualiza pelo Banco de Dados ANATELBDRO01 caso `update = True` ou não exista o arquivo local\"\"\"\n",
    "    return update_stel(folder) if update else read_df(folder, \"stel\")\n",
    "\n",
    "\n",
    "def read_radcom(folder: Union[str, Path], update: bool = False) -> pd.DataFrame:\n",
    "    \"\"\"Lê o banco de dados salvo localmente de RADCOM. Opcionalmente o atualiza pelo Banco de Dados ANATELBDRO01 caso `update = True` ou não exista o arquivo local\"\"\"\n",
    "    return update_radcom(folder) if update else read_df(folder, \"radcom\")"
   ]
  },
  {
   "cell_type": "markdown",
   "metadata": {},
   "source": [
    "## Bases Externas da Aeronáutica"
   ]
  },
  {
   "cell_type": "code",
   "execution_count": null,
   "metadata": {},
   "outputs": [],
   "source": [
    "#export\n",
    "def read_icao(folder: Union[str, Path], update: bool = False) -> pd.DataFrame:\n",
    "    \"\"\"Lê a base de dados do Frequency Finder e Canalização VOR/ILS/DME\"\"\"\n",
    "    if update:\n",
    "        # TODO: atualizar a base de dados do Frequency Finder e Canalização VOR/ILS/DME\n",
    "        # update_icao(folder)\n",
    "        raise NotImplementedError(\n",
    "            \"Atualizar da base de dados do Frequency Finder e Canalização VOR/ILS/DME não implementado\"\n",
    "        )\n",
    "    return read_df(folder, \"icao\")\n",
    "\n",
    "\n",
    "def read_aisw(folder: Union[str, Path], update: bool = False) -> pd.DataFrame:\n",
    "    \"\"\"Fontes da informação: AISWEB, REDEMET, Ofício nº 2/SSARP/14410 e Canalização VOR/ILS/DME.\"\"\"\n",
    "    if update:\n",
    "        # TODO: Atualizar a base de dados do AISWEB, REDEMET, Ofício nº 2/SSARP/14410 e Canalização VOR/ILS/DME\n",
    "        # update_pmec(folder)\n",
    "        raise NotImplementedError(\n",
    "            \"Atualizar da base de dados do Frequency Finder e Canalização VOR/ILS/DME não implementado\"\n",
    "        )\n",
    "    return read_df(folder, \"aisw\")\n",
    "\n",
    "\n",
    "def read_aisg(folder: Union[str, Path], update: bool = False) -> pd.DataFrame:\n",
    "    \"\"\"Fontes da informação: AISWEB, REDEMET, Ofício nº 2/SSARP/14410 e Canalização VOR/ILS/DME.\"\"\"\n",
    "    if update:\n",
    "        # TODO: Atualizar a base de dados do GEOAISWEB\n",
    "        # update_geo(folder)\n",
    "        raise NotImplementedError(\n",
    "            \"Atualizar da base de dados do Frequency Finder e Canalização VOR/ILS/DME não implementado\"\n",
    "        )\n",
    "    return read_df(folder, \"aisg\")\n",
    "\n",
    "\n",
    "def read_aero(\n",
    "    folder: Union[str, Path],\n",
    "    up_icao: bool = False,\n",
    "    up_aisw: bool = False,\n",
    "    up_aisg: bool = False,\n",
    ") -> Tuple[pd.DataFrame, pd.DataFrame]:\n",
    "    \"\"\"Lê os arquivos de dados da aeronáutico e retorna os registros comuns e únicos\"\"\"\n",
    "    icao = read_icao(folder, up_icao)\n",
    "    pmec = read_aisw(folder, up_aisw)\n",
    "    geo = read_aisg(folder, up_aisg)\n",
    "    icao[\"Description\"] = icao.Description.astype(\"string\")\n",
    "    pmec[\"Description\"] = pmec.Description.astype(\"string\")\n",
    "    geo[\"Description\"] = geo.Description.astype(\"string\")\n",
    "    common = aero_common(icao, pmec, geo)\n",
    "    new = aero_new(icao, pmec, geo)\n",
    "    return common, new"
   ]
  },
  {
   "cell_type": "markdown",
   "metadata": {},
   "source": [
    "## Base Consolidada"
   ]
  },
  {
   "cell_type": "code",
   "execution_count": null,
   "metadata": {},
   "outputs": [],
   "source": [
    "#export\n",
    "def read_base(folder: Union[str, Path], update: bool = False) -> pd.DataFrame:\n",
    "    \"\"\"Lê a base de dados e opcionalmente a atualiza antes da leitura\"\"\"\n",
    "    return update_base(folder) if update else read_df(folder, \"base\")"
   ]
  }
 ],
 "metadata": {
  "kernelspec": {
   "display_name": "Python 3",
   "language": "python",
   "name": "python3"
  },
  "language_info": {
   "codemirror_mode": {
    "name": "ipython",
    "version": 3
   },
   "file_extension": ".py",
   "mimetype": "text/x-python",
   "name": "python",
   "nbconvert_exporter": "python",
   "pygments_lexer": "ipython3",
   "version": "3.8.5"
  },
  "vscode": {
   "interpreter": {
    "hash": "37a0fa21125bc68b41a424f43d92a26fa97b5ebccfac6eecdcaf85c09668024f"
   }
  }
 },
 "nbformat": 4,
 "nbformat_minor": 2
}
