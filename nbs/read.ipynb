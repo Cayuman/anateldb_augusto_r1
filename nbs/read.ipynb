{
 "cells": [
  {
   "cell_type": "code",
   "execution_count": 1,
   "metadata": {},
   "outputs": [],
   "source": [
    "#default_exp read\n",
    "%load_ext autoreload\n",
    "%autoreload 2"
   ]
  },
  {
   "cell_type": "markdown",
   "metadata": {},
   "source": [
    "# Reading\n",
    "> Este módulo concentra funções para a leitura dos diversos arquivos que compões a base de dados\n",
    "\n",
    "* `STEL` - Serviços Privados de Telecomunicações\n",
    "* `RADCOM` - Serviço de Radiodifusão Comunitária\n",
    "* `MOSAICO` - Demais serviços de Radiodifusão, e.g. TV, RTV, FM, AM, etc."
   ]
  },
  {
   "cell_type": "code",
   "execution_count": null,
   "metadata": {},
   "outputs": [],
   "source": [
    "#export\n",
    "from typing import Union\n",
    "from pathlib import Path\n",
    "\n",
    "import pandas as pd\n",
    "from pyarrow import ArrowInvalid\n",
    "\n",
    "\n",
    "from anateldb.format import df_optimize\n",
    "from anateldb.query import update_mosaico, update_stel, update_radcom, update_base\n",
    "from anateldb.merge import aero_common, aero_new\n"
   ]
  },
  {
   "cell_type": "markdown",
   "metadata": {},
   "source": [
    "## MOSAICO\n",
    "> O mosaico atualmente é composto por duas bases complementares: Estações e Plano Básico. Os módulos aqui leem, processam e mesclam essas bases para formar a base do Mosaico."
   ]
  },
  {
   "cell_type": "code",
   "execution_count": null,
   "metadata": {},
   "outputs": [],
   "source": [
    "#export\n",
    "def read_mosaico(pasta: Union[str, Path], update: bool=False)->pd.DataFrame:\n",
    "    \"\"\"Lê o banco de dados salvo localmente do MOSAICO. \n",
    "    Opcionalmente o atualiza antes da leitura baixando os diversos arquivos disponíveis na interface web pública\"\"\"\n",
    "    if update:\n",
    "        update_mosaico(pasta)\n",
    "    file = Path(f\"{pasta}/mosaico.fth\")\n",
    "    try:\n",
    "        df = pd.read_feather(file)\n",
    "    except (ArrowInvalid, FileNotFoundError):\n",
    "        file = Path(f\"{pasta}/mosaico.xlsx\")\n",
    "        try:\n",
    "            df = pd.read_excel(file)\n",
    "        except FileNotFoundError:\n",
    "            return read_mosaico(pasta, update=True)\n",
    "    return df"
   ]
  },
  {
   "cell_type": "markdown",
   "metadata": {},
   "source": [
    "## STEL & RADCOM"
   ]
  },
  {
   "cell_type": "code",
   "execution_count": null,
   "metadata": {},
   "outputs": [],
   "source": [
    "#export\n",
    "def read_stel(pasta, update=False):\n",
    "    \"\"\"Lê o banco de dados salvo localmente do STEL. Opcionalmente o atualiza pelo Banco de Dados ANATELBDRO01 caso `update = True` ou não exista o arquivo local\"\"\"\n",
    "    if update:\n",
    "        update_stel(pasta)\n",
    "    file = Path(f\"{pasta}/stel.fth\")\n",
    "    try:\n",
    "        stel = pd.read_feather(file)\n",
    "    except (ArrowInvalid, FileNotFoundError):\n",
    "        file = Path(f\"{pasta}/stel.xlsx\")\n",
    "        try:\n",
    "            stel = pd.read_excel(file, engine=\"openpyxl\")\n",
    "        except FileNotFoundError:\n",
    "            read_stel(pasta, True)\n",
    "\n",
    "    return stel\n",
    "\n",
    "\n",
    "def read_radcom(pasta, update=False):\n",
    "    \"\"\"Lê o banco de dados salvo localmente de RADCOM. Opcionalmente o atualiza pelo Banco de Dados ANATELBDRO01 caso `update = True` ou não exista o arquivo local\"\"\"\n",
    "    if update:\n",
    "        update_radcom(pasta)\n",
    "    file = Path(f\"{pasta}/radcom.fth\")\n",
    "    try:\n",
    "        radcom = pd.read_feather(file)\n",
    "    except (ArrowInvalid, FileNotFoundError):\n",
    "        file = Path(f\"{pasta}/radcom.xlsx\")\n",
    "        try:\n",
    "            radcom = pd.read_excel(file, engine=\"openpyxl\")\n",
    "        except FileNotFoundError:\n",
    "            read_radcom(pasta, True)\n",
    "    return radcom"
   ]
  },
  {
   "cell_type": "markdown",
   "metadata": {},
   "source": [
    "## Bases Externas da Aeronáutica"
   ]
  },
  {
   "cell_type": "code",
   "execution_count": null,
   "metadata": {},
   "outputs": [],
   "source": [
    "#export\n",
    "def read_icao(pasta, update=False):\n",
    "    \"\"\"Lê a base de dados do Frequency Finder e Canalização VOR/ILS/DME\"\"\"\n",
    "    if update:\n",
    "        # TODO: atualizar a base de dados do Frequency Finder e Canalização VOR/ILS/DME\n",
    "        # update_icao(pasta)\n",
    "        raise NotImplementedError(\n",
    "            \"Atualizar da base de dados do Frequency Finder e Canalização VOR/ILS/DME não implementado\"\n",
    "        )\n",
    "    file = Path(f\"{pasta}/icao.fth\")\n",
    "    try:\n",
    "        icao = pd.read_feather(file)\n",
    "    except (ArrowInvalid, FileNotFoundError):\n",
    "        file = Path(f\"{pasta}/icao.xlsx\")\n",
    "        try:\n",
    "            icao = pd.read_excel(file, sheet_name=\"DataBase\", engine=\"openpyxl\")\n",
    "        except FileNotFoundError:\n",
    "            return read_icao(pasta, update=True)\n",
    "    return icao\n",
    "\n",
    "\n",
    "def read_aisw(pasta, update=False):\n",
    "    \"\"\"Fontes da informação: AISWEB, REDEMET, Ofício nº 2/SSARP/14410 e Canalização VOR/ILS/DME.\"\"\"\n",
    "    if update:\n",
    "        # TODO: Atualizar a base de dados do AISWEB, REDEMET, Ofício nº 2/SSARP/14410 e Canalização VOR/ILS/DME\n",
    "        # update_pmec(pasta)\n",
    "        raise NotImplementedError(\n",
    "            \"Atualizar da base de dados do Frequency Finder e Canalização VOR/ILS/DME não implementado\"\n",
    "        )\n",
    "    file = Path(f\"{pasta}/aisw.fth\")\n",
    "    try:\n",
    "        df = pd.read_feather(file)\n",
    "    except (ArrowInvalid, FileNotFoundError):\n",
    "        file = Path(f\"{pasta}/aisw.xlsx\")\n",
    "        try:\n",
    "            df = pd.read_excel(file, sheet_name=\"DataBase\", engine=\"openpyxl\")\n",
    "        except FileNotFoundError:\n",
    "            return read_icao(pasta, update=True)\n",
    "    return df\n",
    "\n",
    "\n",
    "def read_aisg(pasta, update=False):\n",
    "    \"\"\"Fontes da informação: AISWEB, REDEMET, Ofício nº 2/SSARP/14410 e Canalização VOR/ILS/DME.\"\"\"\n",
    "    if update:\n",
    "        # TODO: Atualizar a base de dados do GEOAISWEB\n",
    "        # update_geo(pasta)\n",
    "        raise NotImplementedError(\n",
    "            \"Atualizar da base de dados do Frequency Finder e Canalização VOR/ILS/DME não implementado\"\n",
    "        )\n",
    "    file = Path(f\"{pasta}/aisg.fth\")\n",
    "    try:\n",
    "        df = pd.read_feather(file)\n",
    "    except (ArrowInvalid, FileNotFoundError):\n",
    "        file = Path(f\"{pasta}/aisg.xlsx\")\n",
    "        try:\n",
    "            df = pd.read_excel(file, sheet_name=\"DataBase\", engine=\"openpyxl\")\n",
    "        except FileNotFoundError:\n",
    "            return read_icao(pasta, update=True)\n",
    "    return df\n",
    "\n",
    "def read_aero(pasta, up_icao=False, up_pmec=False, up_geo=False):\n",
    "    icao = read_icao(pasta, up_icao)\n",
    "    pmec = read_aisw(pasta, up_pmec)\n",
    "    geo = read_aisg(pasta, up_geo)\n",
    "    icao[\"Description\"] = icao.Description.astype(\"string\")\n",
    "    pmec[\"Description\"] = pmec.Description.astype(\"string\")\n",
    "    geo[\"Description\"] = geo.Description.astype(\"string\")\n",
    "    common = aero_common(icao, pmec, geo)\n",
    "    new = aero_new(icao, pmec, geo)\n",
    "    return common, new\n"
   ]
  },
  {
   "cell_type": "markdown",
   "metadata": {},
   "source": [
    "## Base Consolidada"
   ]
  },
  {
   "cell_type": "code",
   "execution_count": 1,
   "metadata": {},
   "outputs": [],
   "source": [
    "#export\n",
    "def read_base(pasta, update=False):\n",
    "    \"\"\"Lê a base de dados e opcionalmente a atualiza antes da leitura\"\"\"\n",
    "    if update:\n",
    "        update_base(pasta)\n",
    "    file = Path(f\"{pasta}/base.fth\")\n",
    "    try:\n",
    "        df = pd.read_feather(file)\n",
    "    except (ArrowInvalid, FileNotFoundError):\n",
    "        file = Path(f\"{pasta}/base.xlsx\")\n",
    "        try:\n",
    "            df = pd.read_excel(file, engine=\"openpyxl\")\n",
    "        except FileNotFoundError:\n",
    "            df = update_base(pasta, True)\n",
    "    return df"
   ]
  }
 ],
 "metadata": {
  "interpreter": {
   "hash": "737b3e0e8750f89ce31674571febe5a5a08e902b32bb8cbee589bdf91ca77e61"
  },
  "kernelspec": {
   "display_name": "Python 3.8.12 ('db')",
   "language": "python",
   "name": "python3"
  },
  "language_info": {
   "codemirror_mode": {
    "name": "ipython",
    "version": 3
   },
   "file_extension": ".py",
   "mimetype": "text/x-python",
   "name": "python",
   "nbconvert_exporter": "python",
   "pygments_lexer": "ipython3",
   "version": "3.8.12"
  },
  "orig_nbformat": 4
 },
 "nbformat": 4,
 "nbformat_minor": 2
}
