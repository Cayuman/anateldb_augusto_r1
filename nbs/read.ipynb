{
 "cells": [
  {
   "cell_type": "code",
   "execution_count": 1,
   "metadata": {},
   "outputs": [],
   "source": [
    "#default_exp read\n",
    "%load_ext autoreload\n",
    "%autoreload 2"
   ]
  },
  {
   "cell_type": "markdown",
   "metadata": {},
   "source": [
    "# Reading\n",
    "> Este módulo concentra funções para a leitura dos diversos arquivos que compões a base de dados\n",
    "\n",
    "* `STEL` - Serviços Privados de Telecomunicações\n",
    "* `RADCOM` - Serviço de Radiodifusão Comunitária\n",
    "* `MOSAICO` - Demais serviços de Radiodifusão, e.g. TV, RTV, FM, AM, etc."
   ]
  },
  {
   "cell_type": "code",
   "execution_count": 1,
   "metadata": {},
   "outputs": [],
   "source": [
    "#export\n",
    "from typing import Union, Tuple\n",
    "from pathlib import Path\n",
    "\n",
    "import pandas as pd\n",
    "from pyarrow import ArrowInvalid\n",
    "\n",
    "\n",
    "from anateldb.query import update_mosaico, update_stel, update_radcom, update_base\n",
    "from anateldb.merge import aero_common, aero_new"
   ]
  },
  {
   "cell_type": "markdown",
   "metadata": {},
   "source": [
    "## MOSAICO\n",
    "> O mosaico atualmente é composto por duas bases complementares: Estações e Plano Básico. Os módulos aqui leem, processam e mesclam essas bases para formar a base do Mosaico."
   ]
  },
  {
   "cell_type": "code",
   "execution_count": 2,
   "metadata": {},
   "outputs": [],
   "source": [
    "#export\n",
    "def read_df(folder: Union[str, Path], stem: str) -> pd.DataFrame:\n",
    "    \"\"\"Lê o dataframe formado por folder / stem.[parquet.gzip | fth | xslx]\"\"\"\n",
    "    file = Path(f\"{folder}/{stem}.parquet.gzip\")\n",
    "    try:\n",
    "        df = pd.read_parquet(file)\n",
    "    except (ArrowInvalid, FileNotFoundError):\n",
    "        file = Path(f\"{folder}/{stem}.fth\")\n",
    "        try:\n",
    "            df = pd.read_feather(file)\n",
    "        except (ArrowInvalid, FileNotFoundError):\n",
    "            file = Path(f\"{folder}/{stem}.xlsx\")\n",
    "            try:\n",
    "                df = pd.read_excel(file, engine=\"openpyxl\", sheet_name=\"DataBase\")\n",
    "            except Exception as e:\n",
    "                raise ValueError(f\"Error when reading {file}\") from e\n",
    "    return df\n",
    "\n",
    "\n",
    "def read_mosaico(folder: Union[str, Path], update: bool = False) -> pd.DataFrame:\n",
    "    \"\"\"Lê o banco de dados salvo localmente do MOSAICO e opcionalmente o atualiza.\"\"\"\n",
    "    return update_mosaico(folder) if update else read_df(folder, \"mosaico\")"
   ]
  },
  {
   "cell_type": "markdown",
   "metadata": {},
   "source": [
    "## STEL & RADCOM"
   ]
  },
  {
   "cell_type": "code",
   "execution_count": 3,
   "metadata": {},
   "outputs": [],
   "source": [
    "#export\n",
    "def read_stel(folder: Union[str, Path], update: bool = False) -> pd.DataFrame:\n",
    "    \"\"\"Lê o banco de dados salvo localmente do STEL. Opcionalmente o atualiza pelo Banco de Dados ANATELBDRO01 caso `update = True` ou não exista o arquivo local\"\"\"\n",
    "    return update_stel(folder) if update else read_df(folder, \"stel\")\n",
    "\n",
    "\n",
    "def read_radcom(folder: Union[str, Path], update: bool = False) -> pd.DataFrame:\n",
    "    \"\"\"Lê o banco de dados salvo localmente de RADCOM. Opcionalmente o atualiza pelo Banco de Dados ANATELBDRO01 caso `update = True` ou não exista o arquivo local\"\"\"\n",
    "    return update_radcom(folder) if update else read_df(folder, \"radcom\")"
   ]
  },
  {
   "cell_type": "markdown",
   "metadata": {},
   "source": [
    "## Bases Externas da Aeronáutica"
   ]
  },
  {
   "cell_type": "code",
   "execution_count": 4,
   "metadata": {},
   "outputs": [],
   "source": [
    "#export\n",
    "def read_icao(folder: Union[str, Path], update: bool = False) -> pd.DataFrame:\n",
    "    \"\"\"Lê a base de dados do Frequency Finder e Canalização VOR/ILS/DME\"\"\"\n",
    "    if update:\n",
    "        # TODO: atualizar a base de dados do Frequency Finder e Canalização VOR/ILS/DME\n",
    "        # update_icao(folder)\n",
    "        raise NotImplementedError(\n",
    "            \"Atualizar da base de dados do Frequency Finder e Canalização VOR/ILS/DME não implementado\"\n",
    "        )\n",
    "    return read_df(folder, \"icao\")\n",
    "\n",
    "\n",
    "def read_aisw(folder: Union[str, Path], update: bool = False) -> pd.DataFrame:\n",
    "    \"\"\"Fontes da informação: AISWEB, REDEMET, Ofício nº 2/SSARP/14410 e Canalização VOR/ILS/DME.\"\"\"\n",
    "    if update:\n",
    "        # TODO: Atualizar a base de dados do AISWEB, REDEMET, Ofício nº 2/SSARP/14410 e Canalização VOR/ILS/DME\n",
    "        # update_pmec(folder)\n",
    "        raise NotImplementedError(\n",
    "            \"Atualizar da base de dados do Frequency Finder e Canalização VOR/ILS/DME não implementado\"\n",
    "        )\n",
    "    return read_df(folder, \"aisw\")\n",
    "\n",
    "\n",
    "def read_aisg(folder: Union[str, Path], update: bool = False) -> pd.DataFrame:\n",
    "    \"\"\"Fontes da informação: AISWEB, REDEMET, Ofício nº 2/SSARP/14410 e Canalização VOR/ILS/DME.\"\"\"\n",
    "    if update:\n",
    "        # TODO: Atualizar a base de dados do GEOAISWEB\n",
    "        # update_geo(folder)\n",
    "        raise NotImplementedError(\n",
    "            \"Atualizar da base de dados do Frequency Finder e Canalização VOR/ILS/DME não implementado\"\n",
    "        )\n",
    "    return read_df(folder, \"aisg\")\n",
    "\n",
    "\n",
    "def read_aero(\n",
    "    folder: Union[str, Path],\n",
    "    up_icao: bool = False,\n",
    "    up_aisw: bool = False,\n",
    "    up_aisg: bool = False,\n",
    ") -> Tuple[pd.DataFrame, pd.DataFrame]:\n",
    "    \"\"\"Lê os arquivos de dados da aeronáutico e retorna os registros comuns e únicos\"\"\"\n",
    "    icao = read_icao(folder, up_icao)\n",
    "    pmec = read_aisw(folder, up_aisw)\n",
    "    geo = read_aisg(folder, up_aisg)\n",
    "    icao[\"Description\"] = icao.Description.astype(\"string\")\n",
    "    pmec[\"Description\"] = pmec.Description.astype(\"string\")\n",
    "    geo[\"Description\"] = geo.Description.astype(\"string\")\n",
    "    common = aero_common(icao, pmec, geo)\n",
    "    new = aero_new(icao, pmec, geo)\n",
    "    return common, new"
   ]
  },
  {
   "cell_type": "markdown",
   "metadata": {},
   "source": [
    "## Base Consolidada"
   ]
  },
  {
   "cell_type": "code",
   "execution_count": 5,
   "metadata": {},
   "outputs": [],
   "source": [
    "#export\n",
    "def read_base(folder: Union[str, Path], update: bool = False) -> pd.DataFrame:\n",
    "    \"\"\"Lê a base de dados e opcionalmente a atualiza antes da leitura\"\"\"\n",
    "    return update_base(folder) if update else read_df(folder, \"base\")"
   ]
  }
 ],
 "metadata": {
  "interpreter": {
   "hash": "737b3e0e8750f89ce31674571febe5a5a08e902b32bb8cbee589bdf91ca77e61"
  },
  "kernelspec": {
   "display_name": "Python 3.8.12 ('db')",
   "language": "python",
   "name": "python3"
  },
  "language_info": {
   "codemirror_mode": {
    "name": "ipython",
    "version": 3
   },
   "file_extension": ".py",
   "mimetype": "text/x-python",
   "name": "python",
   "nbconvert_exporter": "python",
   "pygments_lexer": "ipython3",
   "version": "3.8.12"
  }
 },
 "nbformat": 4,
 "nbformat_minor": 2
}
