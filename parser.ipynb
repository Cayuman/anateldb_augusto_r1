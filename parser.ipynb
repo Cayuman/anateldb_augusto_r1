{
 "cells": [
  {
   "cell_type": "code",
   "execution_count": 1,
   "metadata": {},
   "outputs": [],
   "source": [
    "#default_exp process\n",
    "%load_ext autoreload\n",
    "%autoreload 2"
   ]
  },
  {
   "cell_type": "code",
   "execution_count": 2,
   "metadata": {},
   "outputs": [
    {
     "ename": "ModuleNotFoundError",
     "evalue": "No module named 'anatelspyder'",
     "output_type": "error",
     "traceback": [
      "\u001b[1;31m---------------------------------------------------------------------------\u001b[0m",
      "\u001b[1;31mModuleNotFoundError\u001b[0m                       Traceback (most recent call last)",
      "\u001b[1;32m<ipython-input-2-078270fd3bec>\u001b[0m in \u001b[0;36m<module>\u001b[1;34m\u001b[0m\n\u001b[0;32m      4\u001b[0m \u001b[1;32mimport\u001b[0m \u001b[0mpandas\u001b[0m \u001b[1;32mas\u001b[0m \u001b[0mpd\u001b[0m\u001b[1;33m\u001b[0m\u001b[1;33m\u001b[0m\u001b[0m\n\u001b[0;32m      5\u001b[0m \u001b[1;32mimport\u001b[0m \u001b[0mpandas_read_xml\u001b[0m \u001b[1;32mas\u001b[0m \u001b[0mpdx\u001b[0m\u001b[1;33m\u001b[0m\u001b[1;33m\u001b[0m\u001b[0m\n\u001b[1;32m----> 6\u001b[1;33m \u001b[1;32mfrom\u001b[0m \u001b[0manatelspyder\u001b[0m\u001b[1;33m.\u001b[0m\u001b[0mquery\u001b[0m \u001b[1;32mimport\u001b[0m \u001b[1;33m*\u001b[0m\u001b[1;33m\u001b[0m\u001b[1;33m\u001b[0m\u001b[0m\n\u001b[0m",
      "\u001b[1;31mModuleNotFoundError\u001b[0m: No module named 'anatelspyder'"
     ]
    }
   ],
   "source": [
    "#export\n",
    "from pathlib import Path\n",
    "from datetime import datetime\n",
    "import pandas as pd\n",
    "import pandas_read_xml as pdx\n",
    "from anatelspyder.query import *"
   ]
  },
  {
   "cell_type": "code",
   "execution_count": null,
   "metadata": {},
   "outputs": [],
   "source": [
    "#export\n",
    "def read_stel(update=False):\n",
    "    \"\"\"Read the local Stel Database file and optionally update it.\"\"\"\n",
    "    if update:\n",
    "        update_stel()\n",
    "    if (file := Path('anatelspyder/files/stel.fth')).exists():\n",
    "        stel = pd.read_feather(file)\n",
    "    elif (file := Path('anatelspyder/files/stel.csv')).exists():\n",
    "        stel = pd.read_csv(file)\n",
    "    elif (file := Path('anatelspyder/files/Base_de_Dados.xlsx')).exists():\n",
    "        stel = pd.read_excel(file, sheet_name='Stel', engine='openpyxl')\n",
    "    else:\n",
    "        update_stel()\n",
    "        try:\n",
    "            stel = pd.read_feather(Path('anatelspyder/files/stel.fth'))        \n",
    "        except FileNotFoundError as e:\n",
    "            raise ConnectionError(\"Base de Dados do Stel inexistente e não foi possível atualizá-la\" ) from e\n",
    "    return stel"
   ]
  },
  {
   "cell_type": "code",
   "execution_count": null,
   "metadata": {},
   "outputs": [],
   "source": [
    "#export\n",
    "def read_radcom(update=False):\n",
    "    \"\"\"Read the local Radcom Database file and optionally update it.\"\"\"\n",
    "    if update:\n",
    "        update_radcom()\n",
    "    if (file := Path('anatelspyder/files/radcom.fth')).exists():\n",
    "        radcom = pd.read_feather(file)\n",
    "    elif (file := Path('anatelspyder/files/radcom.csv')).exists():\n",
    "        radcom = pd.read_csv(file)\n",
    "    elif (file := Path('anatelspyder/files/Base_de_Dados.xlsx')).exists():\n",
    "         radcom = pd.read_excel(file, sheet_name='Radcom', engine='openpyxl')\n",
    "    else:\n",
    "        update_radcom()\n",
    "        try:\n",
    "            radcom = pd.read_feather(Path('anatelspyder/files/radcom.fth'))        \n",
    "        except FileNotFoundError as e:\n",
    "            raise ConnectionError(\"Base de Dados do Stel inexistente e não foi possível atualizá-la\" ) from e\n",
    "    return radcom"
   ]
  },
  {
   "cell_type": "code",
   "execution_count": null,
   "metadata": {},
   "outputs": [],
   "source": [
    "#export\n",
    "def parse_estações(row, cols=COL_ESTACOES):\n",
    "    \"\"\"Receives a json row and filter the column in `cols`\"\"\"\n",
    "    dict_result = {k: row[k] for k in cols}\n",
    "    dict_result['Número da Estação'] = row['administrativo']['@numero_estacao']\n",
    "    return dict_result\n",
    "\n",
    "def parse_plano_basico(row, cols=COL_PLANO_BASICO):\n",
    "    \"\"\"Receives a json row and filter the column in `cols`\"\"\"\n",
    "    if '@Frequencia' not in row:\n",
    "        cols = list(cols)\n",
    "        cols[cols.index('@Frequencia')] = '@Frequência'\n",
    "    return {k: row[k] for k in cols}\n",
    "\n",
    "def read_estações(path, cols):\n",
    "    df = pdx.read_xml(path, cols)\n",
    "    columns = ['Serviço', 'Situação', 'Entidade', 'Fistel', 'CNPJ', 'Município', 'UF', 'Id', 'Número da Estação']\n",
    "    dtypes = ['category', 'category', 'str', 'str', 'str', 'str', 'category', 'str', 'str']\n",
    "    df = pd.DataFrame(df['row'].apply(parse_estações).tolist())\n",
    "    df.columns = columns\n",
    "    for col, dtype in zip(columns, dtypes):\n",
    "        df[col] = df[col].astype(dtype)\n",
    "    return df\n",
    "\n",
    "def read_plano_basico(path, cols):\n",
    "    df = pdx.read_xml(path, cols)\n",
    "    columns = ['Id', 'Classe', 'Frequência', 'Latitude', 'Longitude']\n",
    "    dtypes = ['str', 'category', 'str', 'str', 'str']\n",
    "    df = pd.DataFrame(df['row'].apply(parse_plano_basico).tolist())\n",
    "    df.loc[df['@Frequencia'].isna(), '@Frequencia'] = df.loc[df['@Frequência'].notna(), '@Frequência']\n",
    "    df.drop('@Frequência', axis=1, inplace=True)\n",
    "    df.columns = columns\n",
    "    for col, dtype in zip(columns, dtypes):\n",
    "        df[col] = df[col].astype(dtype)\n",
    "    return df"
   ]
  },
  {
   "cell_type": "code",
   "execution_count": null,
   "metadata": {},
   "outputs": [],
   "source": [
    "#export\n",
    "def read_mosaico(update=False):\n",
    "    if update: \n",
    "        update_mosaico()\n",
    "        estações = read_estações('anatelspyder/files/estações.zip', ['estacao_rd'])\n",
    "        plano_basico = read_plano_basico('anatelspyder/files/plano_basico.zip', ['plano_basico'])\n",
    "        df = pd.merge(estações, plano_basico, on='Id')\n",
    "        df.to_feather('anatelspyder/files/mosaico.fth')\n",
    "        return df\n",
    "    if not (file := Path('anatelspyder/files/mosaico.fth')).exists():\n",
    "            return read_mosaico(update=True)\n",
    "    return pd.read_feather('anatelspyder/files/mosaico.fth')"
   ]
  },
  {
   "cell_type": "code",
   "execution_count": null,
   "metadata": {},
   "outputs": [],
   "source": [
    "from nbdev.export import notebook2script; notebook2script()"
   ]
  }
 ],
 "metadata": {
  "kernelspec": {
   "display_name": "Python [conda env:spyder]",
   "language": "python",
   "name": "conda-env-spyder-py"
  },
  "language_info": {
   "codemirror_mode": {
    "name": "ipython",
    "version": 3
   },
   "file_extension": ".py",
   "mimetype": "text/x-python",
   "name": "python",
   "nbconvert_exporter": "python",
   "pygments_lexer": "ipython3",
   "version": "3.8.8"
  }
 },
 "nbformat": 4,
 "nbformat_minor": 4
}
